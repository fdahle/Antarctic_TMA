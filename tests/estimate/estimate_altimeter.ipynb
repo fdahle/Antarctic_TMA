{
 "cells": [
  {
   "cell_type": "code",
   "execution_count": 2,
   "metadata": {
    "collapsed": true
   },
   "outputs": [],
   "source": [
    "%load_ext autoreload\n",
    "%autoreload 2"
   ]
  },
  {
   "cell_type": "code",
   "execution_count": 71,
   "outputs": [],
   "source": [
    "import src.base.connect_to_database as ctd\n",
    "\n",
    "image_ids = [\"CA180132V0080\", \"CA180132V0081\", \"CA180132V0082\", \"CA180132V0083\", \"CA180132V0084\", \"CA180132V0085\", \"CA180132V0086\", \"CA180132V0087\", \"CA180132V0088\", \"CA180132V0089\", \"CA180132V0090\", \"CA180132V0091\", \"CA180132V0092\", \"CA180132V0093\", \"CA180132V0094\", \"CA180132V0095\"]\n",
    "image_ids = []\n",
    "\n",
    "if len(image_ids) == 0:\n",
    "\n",
    "    conn = ctd.establish_connection()\n",
    "\n",
    "    sql_string = \"SELECT image_id FROM images\"\n",
    "    data = ctd.execute_sql(sql_string, conn)\n",
    "    image_ids = data['image_id'].tolist()\n"
   ],
   "metadata": {
    "collapsed": false
   }
  },
  {
   "cell_type": "code",
   "execution_count": 73,
   "outputs": [
    {
     "name": "stdout",
     "output_type": "stream",
     "text": [
      "CA213733R0009\n",
      "Estimate altimeter for image\n",
      "Altimeter detected successfully\n",
      "Circle located at 151 284 with radius 267\n",
      "Found 39 lines in the altimeter subset\n",
      "29 lines left after deletion of short lines\n",
      "Lines separated into 6 center and 21 non-center lines\n",
      "Found 6 center lines and 0 tip lines\n",
      "No tip or correct parallel lines found\n",
      "None\n",
      "CA135831L0086\n",
      "Estimate altimeter for image\n",
      "Altimeter detected successfully\n",
      "Circle located at 123 276 with radius 267\n",
      "Found 39 lines in the altimeter subset\n",
      "32 lines left after deletion of short lines\n",
      "Lines separated into 6 center and 22 non-center lines\n",
      "Found 6 center lines and 2 tip lines\n",
      "Too many lines tip found\n",
      "None\n",
      "CA168433R0165\n",
      "Estimate altimeter for image\n",
      "None\n",
      "CA194731L0165\n",
      "Estimate altimeter for image\n",
      "None\n",
      "CA207432V0233\n",
      "Estimate altimeter for image\n",
      "None\n",
      "CA194733R0159\n",
      "Estimate altimeter for image\n",
      "Altimeter detected successfully\n",
      "Circle located at 32 243 with radius 267\n",
      "Found 29 lines in the altimeter subset\n",
      "26 lines left after deletion of short lines\n",
      "Lines separated into 5 center and 21 non-center lines\n",
      "Found 5 center lines and 0 tip lines\n",
      "No tip or correct parallel lines found\n",
      "None\n",
      "CA195232V0146\n",
      "Estimate altimeter for image\n",
      "None\n",
      "CA182133R0183\n",
      "Estimate altimeter for image\n",
      "Altimeter detected successfully\n",
      "Circle located at 122 248 with radius 267\n",
      "Found 41 lines in the altimeter subset\n",
      "28 lines left after deletion of short lines\n",
      "Lines separated into 3 center and 22 non-center lines\n",
      "Found 3 center lines and 0 tip lines\n",
      "No tip or correct parallel lines found\n",
      "None\n",
      "CA173931L0323\n",
      "Estimate altimeter for image\n",
      "Altimeter detected successfully\n",
      "Circle located at 88 260 with radius 267\n",
      "Found 41 lines in the altimeter subset\n",
      "29 lines left after deletion of short lines\n",
      "Lines separated into 6 center and 23 non-center lines\n",
      "Found 6 center lines and 0 tip lines\n",
      "No tip or correct parallel lines found\n",
      "None\n",
      "CA182433R0099\n"
     ]
    },
    {
     "name": "stderr",
     "output_type": "stream",
     "text": [
      "/home/fdahle/Documents/GitHub/Antarctic_TMA/src/estimate/altimeter_snippets.py:26: RuntimeWarning: divide by zero encountered in scalar divide\n",
      "  \n",
      "/home/fdahle/Documents/GitHub/Antarctic_TMA/src/estimate/altimeter_snippets.py:25: RuntimeWarning: divide by zero encountered in scalar divide\n",
      "  slope2 = (y4 - y3) / (x4 - x3)\n"
     ]
    },
    {
     "name": "stdout",
     "output_type": "stream",
     "text": [
      "Estimate altimeter for image\n",
      "Altimeter detected successfully\n",
      "Circle located at 46 257 with radius 267\n",
      "Found 26 lines in the altimeter subset\n",
      "19 lines left after deletion of short lines\n",
      "Lines separated into 6 center and 12 non-center lines\n",
      "Found 6 center lines and 0 tip lines\n",
      "No tip or correct parallel lines found\n",
      "None\n",
      "CA195332V0240\n",
      "Estimate altimeter for image\n",
      "None\n",
      "CA212131L0055\n",
      "Estimate altimeter for image\n",
      "Altimeter detected successfully\n",
      "Circle located at 196 332 with radius 267\n",
      "Found 66 lines in the altimeter subset\n",
      "48 lines left after deletion of short lines\n",
      "Lines separated into 7 center and 38 non-center lines\n",
      "Found 7 center lines and 0 tip lines\n",
      "No tip or correct parallel lines found\n",
      "None\n",
      "CA215131L0284\n",
      "Estimate altimeter for image\n",
      "Altimeter detected successfully\n",
      "Circle located at 6 271 with radius 267\n",
      "Found 24 lines in the altimeter subset\n",
      "13 lines left after deletion of short lines\n",
      "Lines separated into 2 center and 11 non-center lines\n",
      "Found 2 center lines and 0 tip lines\n",
      "No tip or correct parallel lines found\n",
      "None\n",
      "CA215931L0159\n",
      "Estimate altimeter for image\n",
      "Altimeter detected successfully\n",
      "Circle located at 159 255 with radius 267\n",
      "Found 33 lines in the altimeter subset\n",
      "19 lines left after deletion of short lines\n",
      "Lines separated into 6 center and 13 non-center lines\n",
      "Found 6 center lines and 0 tip lines\n",
      "No tip or correct parallel lines found\n",
      "None\n",
      "CA196233R0054\n",
      "Estimate altimeter for image\n",
      "Altimeter detected successfully\n",
      "Circle located at 188 266 with radius 267\n",
      "Found 60 lines in the altimeter subset\n",
      "44 lines left after deletion of short lines\n",
      "Lines separated into 6 center and 30 non-center lines\n",
      "Found 6 center lines and 1 tip lines\n",
      "19300\n"
     ]
    }
   ],
   "source": [
    "import src.load.load_image as li\n",
    "import src.estimate.estimate_altimeter as ea\n",
    "\n",
    "# shuffle the image ids\n",
    "import random\n",
    "random.shuffle(image_ids)\n",
    "\n",
    "#image_ids = [\"CA181532V0010\"]\n",
    "#image_ids = [\"CA180132V0083\"]\n",
    "\n",
    "for image_id in image_ids:\n",
    "\n",
    "    print(image_id)\n",
    "\n",
    "    image = li.load_image(image_id)\n",
    "\n",
    "    altimeter_height = ea.estimate_altimeter(image)\n",
    "\n",
    "    print(altimeter_height)\n",
    "\n",
    "    if altimeter_height is not None:\n",
    "        break\n"
   ],
   "metadata": {
    "collapsed": false
   }
  },
  {
   "cell_type": "markdown",
   "source": [],
   "metadata": {
    "collapsed": false
   }
  },
  {
   "cell_type": "code",
   "execution_count": null,
   "outputs": [],
   "source": [],
   "metadata": {
    "collapsed": false,
    "pycharm": {
     "is_executing": true
    }
   }
  },
  {
   "cell_type": "code",
   "execution_count": 67,
   "outputs": [],
   "source": [],
   "metadata": {
    "collapsed": false
   }
  }
 ],
 "metadata": {
  "kernelspec": {
   "display_name": "Python 3",
   "language": "python",
   "name": "python3"
  },
  "language_info": {
   "codemirror_mode": {
    "name": "ipython",
    "version": 2
   },
   "file_extension": ".py",
   "mimetype": "text/x-python",
   "name": "python",
   "nbconvert_exporter": "python",
   "pygments_lexer": "ipython2",
   "version": "2.7.6"
  }
 },
 "nbformat": 4,
 "nbformat_minor": 0
}
