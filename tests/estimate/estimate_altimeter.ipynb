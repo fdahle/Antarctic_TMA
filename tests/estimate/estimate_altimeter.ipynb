{
 "cells": [
  {
   "cell_type": "code",
   "execution_count": 23,
   "metadata": {
    "collapsed": true
   },
   "outputs": [
    {
     "name": "stdout",
     "output_type": "stream",
     "text": [
      "The autoreload extension is already loaded. To reload it, use:\n",
      "  %reload_ext autoreload\n"
     ]
    }
   ],
   "source": [
    "%load_ext autoreload\n",
    "%autoreload 2"
   ]
  },
  {
   "cell_type": "code",
   "execution_count": 24,
   "outputs": [],
   "source": [
    "image_ids = [\"CA180132V0080\", \"CA180132V0081\", \"CA180132V0082\", \"CA180132V0083\", \"CA180132V0084\", \"CA180132V0085\", \"CA180132V0086\", \"CA180132V0087\", \"CA180132V0088\", \"CA180132V0089\", \"CA180132V0090\", \"CA180132V0091\", \"CA180132V0092\", \"CA180132V0093\", \"CA180132V0094\", \"CA180132V0095\"]\n",
    "\n",
    "# shuffle the image ids\n",
    "import random\n",
    "random.shuffle(image_ids)\n"
   ],
   "metadata": {
    "collapsed": false
   }
  },
  {
   "cell_type": "code",
   "execution_count": 36,
   "outputs": [
    {
     "name": "stdout",
     "output_type": "stream",
     "text": [
      "Estimate altimeter for image\n",
      "Altimeter detected successfully\n",
      "Circle located at 245 347 with radius 267\n",
      "Found 2772 lines in the altimeter subset\n",
      "Lines separated into 350 center and 2422 non-center lines\n",
      "223 center and 1461 non-center lines left after deletion of short lines\n",
      "[[328, 453, 362, 498], [35, 589, 63, 561], [392, 224, 424, 192], [310, 278, 376, 207], [257, 362, 314, 316], [0, 589, 28, 561], [311, 190, 361, 107], [182, 413, 268, 294], [163, 426, 276, 265], [0, 672, 73, 585], [84, 243, 117, 262], [186, 293, 260, 416], [84, 522, 125, 478], [288, 457, 343, 552], [160, 471, 185, 436], [236, 320, 250, 294], [89, 156, 131, 200], [43, 2, 61, 34], [0, 89, 74, 169], [163, 202, 189, 242], [227, 325, 363, 403], [189, 131, 204, 223], [179, 140, 201, 229], [35, 656, 52, 632], [385, 489, 410, 514], [201, 415, 220, 397], [182, 298, 267, 332], [191, 319, 275, 375], [21, 675, 65, 608], [144, 299, 187, 325], [274, 376, 298, 411], [30, 68, 80, 137], [151, 307, 186, 328], [288, 219, 328, 145], [53, 85, 113, 171], [249, 448, 256, 500], [180, 429, 253, 356], [261, 317, 291, 290], [316, 234, 348, 178], [205, 321, 248, 373], [318, 261, 359, 215], [329, 401, 381, 434], [267, 402, 269, 344], [138, 474, 172, 431], [35, 610, 56, 583], [174, 108, 191, 150], [95, 467, 120, 441], [0, 695, 69, 592], [142, 417, 178, 381], [366, 213, 403, 172], [201, 254, 240, 439], [241, 191, 243, 151], [262, 476, 265, 542], [387, 221, 426, 178], [270, 340, 323, 365], [148, 478, 168, 452], [195, 94, 222, 203], [366, 187, 381, 161], [296, 379, 413, 434], [48, 524, 73, 498], [245, 176, 248, 151], [227, 254, 235, 286], [408, 360, 488, 377], [169, 179, 202, 244], [91, 245, 118, 260], [92, 121, 131, 184], [267, 463, 271, 530], [125, 221, 179, 271], [229, 382, 321, 333], [91, 493, 146, 444], [273, 386, 301, 424], [222, 325, 240, 363], [289, 264, 301, 239], [294, 410, 324, 446], [13, 558, 73, 502], [230, 402, 255, 356], [286, 447, 292, 477], [238, 375, 253, 318], [13, 95, 64, 144], [282, 292, 308, 271], [173, 510, 191, 480], [203, 92, 209, 140], [157, 512, 194, 453], [246, 154, 247, 82], [241, 335, 250, 422], [342, 278, 413, 209], [270, 344, 284, 384], [258, 289, 277, 251], [245, 164, 245, 129], [218, 303, 276, 342], [180, 364, 263, 318], [188, 185, 199, 233], [213, 606, 219, 570], [193, 94, 216, 189], [446, 324, 487, 320], [121, 433, 205, 390], [250, 509, 254, 541], [232, 387, 335, 264], [93, 563, 119, 526], [172, 155, 187, 188], [224, 348, 256, 383], [81, 277, 163, 303], [281, 287, 352, 231], [234, 137, 236, 162], [261, 377, 273, 401], [1, 68, 23, 93], [232, 368, 237, 397], [109, 531, 126, 505], [10, 32, 46, 82], [256, 320, 280, 353], [204, 340, 258, 318], [309, 391, 351, 416], [164, 145, 179, 183], [118, 199, 163, 249], [226, 140, 229, 172], [255, 353, 290, 296], [235, 343, 267, 314], [55, 671, 71, 644], [273, 242, 281, 205], [179, 89, 188, 115], [124, 114, 152, 166], [328, 238, 363, 194], [81, 284, 118, 301], [67, 292, 105, 304], [126, 224, 147, 249], [230, 322, 237, 364], [276, 483, 279, 509], [183, 262, 204, 292], [455, 390, 483, 399], [408, 448, 445, 471], [171, 243, 196, 279], [41, 569, 63, 546], [174, 211, 196, 250], [405, 345, 430, 341], [230, 432, 243, 382], [243, 244, 245, 295], [153, 216, 168, 236], [38, 623, 58, 597], [340, 216, 359, 186], [264, 322, 292, 288], [189, 194, 198, 233], [171, 289, 201, 320], [188, 275, 203, 296], [250, 155, 250, 130], [289, 377, 312, 407], [268, 225, 278, 194], [316, 483, 328, 505], [192, 342, 229, 361], [329, 215, 342, 193], [237, 359, 275, 319], [309, 474, 317, 499], [308, 405, 333, 434], [252, 334, 273, 320], [0, 389, 25, 385], [243, 363, 253, 325], [260, 331, 261, 380], [158, 507, 172, 472], [363, 396, 395, 415], [154, 530, 175, 482], [82, 565, 98, 541], [331, 282, 376, 237], [273, 249, 284, 217], [210, 141, 212, 175], [150, 512, 161, 488], [289, 114, 294, 87], [53, 36, 70, 64], [134, 363, 164, 363], [211, 504, 213, 469], [144, 214, 167, 248], [19, 33, 39, 62], [255, 329, 273, 371], [28, 11, 58, 52], [5, 528, 37, 506], [206, 527, 209, 490], [310, 424, 348, 476], [267, 451, 272, 482], [270, 146, 272, 118], [233, 246, 237, 285], [192, 170, 198, 198], [243, 389, 246, 432], [364, 149, 379, 127], [232, 394, 234, 421], [307, 124, 313, 94], [150, 245, 166, 265], [133, 240, 151, 258], [266, 358, 306, 331], [17, 79, 36, 102], [88, 163, 104, 183], [248, 366, 264, 390], [198, 370, 221, 355], [31, 124, 59, 154], [248, 457, 249, 493], [310, 457, 333, 484], [197, 531, 205, 495], [264, 376, 266, 338], [262, 356, 293, 319], [156, 227, 180, 261], [45, 571, 67, 544], [61, 70, 74, 92], [202, 394, 223, 379], [323, 423, 341, 447], [230, 312, 247, 333], [314, 169, 324, 142], [259, 337, 260, 371], [257, 521, 259, 491], [68, 550, 86, 529], [13, 547, 54, 508], [199, 129, 205, 158], [251, 357, 252, 330], [308, 251, 321, 228], [182, 210, 195, 233], [1, 488, 33, 473], [164, 265, 183, 290], [213, 323, 227, 345], [297, 414, 313, 436], [219, 347, 242, 373], [211, 195, 220, 219], [249, 95, 251, 121], [285, 262, 298, 237], [166, 380, 194, 362], [45, 27, 63, 57], [377, 172, 396, 152], [72, 187, 91, 206]]\n",
      "Found 47 center lines and 43 tip lines\n"
     ]
    },
    {
     "ename": "ValueError",
     "evalue": "x and y can be no greater than 2D, but have shapes (2, 2, 4) and (2, 2, 4)",
     "output_type": "error",
     "traceback": [
      "\u001B[0;31m---------------------------------------------------------------------------\u001B[0m",
      "\u001B[0;31mValueError\u001B[0m                                Traceback (most recent call last)",
      "Cell \u001B[0;32mIn[36], line 7\u001B[0m\n\u001B[1;32m      4\u001B[0m \u001B[38;5;28;01mfor\u001B[39;00m image_id \u001B[38;5;129;01min\u001B[39;00m image_ids:\n\u001B[1;32m      5\u001B[0m     image \u001B[38;5;241m=\u001B[39m li\u001B[38;5;241m.\u001B[39mload_image(image_id)\n\u001B[0;32m----> 7\u001B[0m     altimeter_height \u001B[38;5;241m=\u001B[39m \u001B[43mea\u001B[49m\u001B[38;5;241;43m.\u001B[39;49m\u001B[43mestimate_altimeter\u001B[49m\u001B[43m(\u001B[49m\u001B[43mimage\u001B[49m\u001B[43m)\u001B[49m\n\u001B[1;32m      9\u001B[0m     \u001B[38;5;28;01mif\u001B[39;00m altimeter_height \u001B[38;5;129;01mis\u001B[39;00m \u001B[38;5;129;01mnot\u001B[39;00m \u001B[38;5;28;01mNone\u001B[39;00m:\n\u001B[1;32m     10\u001B[0m         \u001B[38;5;28;01mbreak\u001B[39;00m\n",
      "File \u001B[0;32m~/Documents/GitHub/Antarctic_TMA/src/estimate/estimate_altimeter.py:82\u001B[0m, in \u001B[0;36mestimate_altimeter\u001B[0;34m(image)\u001B[0m\n\u001B[1;32m     79\u001B[0m \u001B[38;5;28;01mif\u001B[39;00m debug_show_selected_lines:\n\u001B[1;32m     80\u001B[0m     style_config \u001B[38;5;241m=\u001B[39m {\u001B[38;5;124m'\u001B[39m\u001B[38;5;124mtitle\u001B[39m\u001B[38;5;124m'\u001B[39m: \u001B[38;5;124m'\u001B[39m\u001B[38;5;124mCenter Lines (red) & Tip Lines (green)\u001B[39m\u001B[38;5;124m'\u001B[39m,\n\u001B[1;32m     81\u001B[0m                     \u001B[38;5;124m'\u001B[39m\u001B[38;5;124mline_color\u001B[39m\u001B[38;5;124m'\u001B[39m: [\u001B[38;5;124m'\u001B[39m\u001B[38;5;124mred\u001B[39m\u001B[38;5;124m'\u001B[39m, \u001B[38;5;124m'\u001B[39m\u001B[38;5;124mgreen\u001B[39m\u001B[38;5;124m'\u001B[39m]}\n\u001B[0;32m---> 82\u001B[0m     \u001B[43mdi\u001B[49m\u001B[38;5;241;43m.\u001B[39;49m\u001B[43mdisplay_images\u001B[49m\u001B[43m(\u001B[49m\u001B[43maltimeter\u001B[49m\u001B[43m,\u001B[49m\u001B[43m \u001B[49m\u001B[43mlines\u001B[49m\u001B[38;5;241;43m=\u001B[39;49m\u001B[43m[\u001B[49m\u001B[43m[\u001B[49m\u001B[43mcenter_lines\u001B[49m\u001B[43m,\u001B[49m\u001B[43m \u001B[49m\u001B[43mtip_lines\u001B[49m\u001B[43m]\u001B[49m\u001B[43m]\u001B[49m\u001B[43m,\u001B[49m\n\u001B[1;32m     83\u001B[0m \u001B[43m                      \u001B[49m\u001B[43mstyle_config\u001B[49m\u001B[38;5;241;43m=\u001B[39;49m\u001B[43mstyle_config\u001B[49m\u001B[43m)\u001B[49m\n\u001B[1;32m     85\u001B[0m \u001B[38;5;66;03m# for altimeter detection we need both center and tip lines\u001B[39;00m\n\u001B[1;32m     86\u001B[0m \u001B[38;5;28;01mif\u001B[39;00m center_lines \u001B[38;5;129;01mis\u001B[39;00m \u001B[38;5;28;01mNone\u001B[39;00m \u001B[38;5;129;01mor\u001B[39;00m tip_lines \u001B[38;5;129;01mis\u001B[39;00m \u001B[38;5;28;01mNone\u001B[39;00m:\n",
      "File \u001B[0;32m~/Documents/GitHub/Antarctic_TMA/src/display/display_images.py:168\u001B[0m, in \u001B[0;36mdisplay_images\u001B[0;34m(images, points, lines, bounding_boxes, polygons, tie_points, tie_points_conf, reduce_tie_points, num_reduced_tie_points, style_config, save_path, save_type)\u001B[0m\n\u001B[1;32m    166\u001B[0m     \u001B[38;5;66;03m# plot each line with its corresponding color\u001B[39;00m\n\u001B[1;32m    167\u001B[0m     \u001B[38;5;28;01mfor\u001B[39;00m line, color \u001B[38;5;129;01min\u001B[39;00m \u001B[38;5;28mzip\u001B[39m(lines[idx], line_colors):\n\u001B[0;32m--> 168\u001B[0m         \u001B[43max\u001B[49m\u001B[38;5;241;43m.\u001B[39;49m\u001B[43mplot\u001B[49m\u001B[43m(\u001B[49m\u001B[43m[\u001B[49m\u001B[43mline\u001B[49m\u001B[43m[\u001B[49m\u001B[38;5;241;43m0\u001B[39;49m\u001B[43m]\u001B[49m\u001B[43m,\u001B[49m\u001B[43m \u001B[49m\u001B[43mline\u001B[49m\u001B[43m[\u001B[49m\u001B[38;5;241;43m2\u001B[39;49m\u001B[43m]\u001B[49m\u001B[43m]\u001B[49m\u001B[43m,\u001B[49m\u001B[43m \u001B[49m\u001B[43m[\u001B[49m\u001B[43mline\u001B[49m\u001B[43m[\u001B[49m\u001B[38;5;241;43m1\u001B[39;49m\u001B[43m]\u001B[49m\u001B[43m,\u001B[49m\u001B[43m \u001B[49m\u001B[43mline\u001B[49m\u001B[43m[\u001B[49m\u001B[38;5;241;43m3\u001B[39;49m\u001B[43m]\u001B[49m\u001B[43m]\u001B[49m\u001B[43m,\u001B[49m\n\u001B[1;32m    169\u001B[0m \u001B[43m                \u001B[49m\u001B[43mcolor\u001B[49m\u001B[38;5;241;43m=\u001B[39;49m\u001B[43m_normalize_color\u001B[49m\u001B[43m(\u001B[49m\u001B[43mcolor\u001B[49m\u001B[43m)\u001B[49m\u001B[43m,\u001B[49m\n\u001B[1;32m    170\u001B[0m \u001B[43m                \u001B[49m\u001B[43mlinewidth\u001B[49m\u001B[38;5;241;43m=\u001B[39;49m\u001B[43mstyle_config\u001B[49m\u001B[43m[\u001B[49m\u001B[38;5;124;43m'\u001B[39;49m\u001B[38;5;124;43mline_width\u001B[39;49m\u001B[38;5;124;43m'\u001B[39;49m\u001B[43m]\u001B[49m\u001B[43m)\u001B[49m\n\u001B[1;32m    172\u001B[0m \u001B[38;5;66;03m# Optionally draw bounding boxes on the image\u001B[39;00m\n\u001B[1;32m    173\u001B[0m \u001B[38;5;28;01mif\u001B[39;00m bounding_boxes \u001B[38;5;129;01mand\u001B[39;00m idx \u001B[38;5;241m<\u001B[39m \u001B[38;5;28mlen\u001B[39m(bounding_boxes):\n",
      "File \u001B[0;32m~/miniconda3/envs/tma_env/lib/python3.11/site-packages/matplotlib/axes/_axes.py:1721\u001B[0m, in \u001B[0;36mAxes.plot\u001B[0;34m(self, scalex, scaley, data, *args, **kwargs)\u001B[0m\n\u001B[1;32m   1478\u001B[0m \u001B[38;5;250m\u001B[39m\u001B[38;5;124;03m\"\"\"\u001B[39;00m\n\u001B[1;32m   1479\u001B[0m \u001B[38;5;124;03mPlot y versus x as lines and/or markers.\u001B[39;00m\n\u001B[1;32m   1480\u001B[0m \n\u001B[0;32m   (...)\u001B[0m\n\u001B[1;32m   1718\u001B[0m \u001B[38;5;124;03m(``'green'``) or hex strings (``'#008000'``).\u001B[39;00m\n\u001B[1;32m   1719\u001B[0m \u001B[38;5;124;03m\"\"\"\u001B[39;00m\n\u001B[1;32m   1720\u001B[0m kwargs \u001B[38;5;241m=\u001B[39m cbook\u001B[38;5;241m.\u001B[39mnormalize_kwargs(kwargs, mlines\u001B[38;5;241m.\u001B[39mLine2D)\n\u001B[0;32m-> 1721\u001B[0m lines \u001B[38;5;241m=\u001B[39m [\u001B[38;5;241m*\u001B[39m\u001B[38;5;28mself\u001B[39m\u001B[38;5;241m.\u001B[39m_get_lines(\u001B[38;5;28mself\u001B[39m, \u001B[38;5;241m*\u001B[39margs, data\u001B[38;5;241m=\u001B[39mdata, \u001B[38;5;241m*\u001B[39m\u001B[38;5;241m*\u001B[39mkwargs)]\n\u001B[1;32m   1722\u001B[0m \u001B[38;5;28;01mfor\u001B[39;00m line \u001B[38;5;129;01min\u001B[39;00m lines:\n\u001B[1;32m   1723\u001B[0m     \u001B[38;5;28mself\u001B[39m\u001B[38;5;241m.\u001B[39madd_line(line)\n",
      "File \u001B[0;32m~/miniconda3/envs/tma_env/lib/python3.11/site-packages/matplotlib/axes/_base.py:303\u001B[0m, in \u001B[0;36m_process_plot_var_args.__call__\u001B[0;34m(self, axes, data, *args, **kwargs)\u001B[0m\n\u001B[1;32m    301\u001B[0m     this \u001B[38;5;241m+\u001B[39m\u001B[38;5;241m=\u001B[39m args[\u001B[38;5;241m0\u001B[39m],\n\u001B[1;32m    302\u001B[0m     args \u001B[38;5;241m=\u001B[39m args[\u001B[38;5;241m1\u001B[39m:]\n\u001B[0;32m--> 303\u001B[0m \u001B[38;5;28;01myield from\u001B[39;00m \u001B[38;5;28;43mself\u001B[39;49m\u001B[38;5;241;43m.\u001B[39;49m\u001B[43m_plot_args\u001B[49m\u001B[43m(\u001B[49m\n\u001B[1;32m    304\u001B[0m \u001B[43m    \u001B[49m\u001B[43maxes\u001B[49m\u001B[43m,\u001B[49m\u001B[43m \u001B[49m\u001B[43mthis\u001B[49m\u001B[43m,\u001B[49m\u001B[43m \u001B[49m\u001B[43mkwargs\u001B[49m\u001B[43m,\u001B[49m\u001B[43m \u001B[49m\u001B[43mambiguous_fmt_datakey\u001B[49m\u001B[38;5;241;43m=\u001B[39;49m\u001B[43mambiguous_fmt_datakey\u001B[49m\u001B[43m)\u001B[49m\n",
      "File \u001B[0;32m~/miniconda3/envs/tma_env/lib/python3.11/site-packages/matplotlib/axes/_base.py:502\u001B[0m, in \u001B[0;36m_process_plot_var_args._plot_args\u001B[0;34m(self, axes, tup, kwargs, return_kwargs, ambiguous_fmt_datakey)\u001B[0m\n\u001B[1;32m    499\u001B[0m     \u001B[38;5;28;01mraise\u001B[39;00m \u001B[38;5;167;01mValueError\u001B[39;00m(\u001B[38;5;124mf\u001B[39m\u001B[38;5;124m\"\u001B[39m\u001B[38;5;124mx and y must have same first dimension, but \u001B[39m\u001B[38;5;124m\"\u001B[39m\n\u001B[1;32m    500\u001B[0m                      \u001B[38;5;124mf\u001B[39m\u001B[38;5;124m\"\u001B[39m\u001B[38;5;124mhave shapes \u001B[39m\u001B[38;5;132;01m{\u001B[39;00mx\u001B[38;5;241m.\u001B[39mshape\u001B[38;5;132;01m}\u001B[39;00m\u001B[38;5;124m and \u001B[39m\u001B[38;5;132;01m{\u001B[39;00my\u001B[38;5;241m.\u001B[39mshape\u001B[38;5;132;01m}\u001B[39;00m\u001B[38;5;124m\"\u001B[39m)\n\u001B[1;32m    501\u001B[0m \u001B[38;5;28;01mif\u001B[39;00m x\u001B[38;5;241m.\u001B[39mndim \u001B[38;5;241m>\u001B[39m \u001B[38;5;241m2\u001B[39m \u001B[38;5;129;01mor\u001B[39;00m y\u001B[38;5;241m.\u001B[39mndim \u001B[38;5;241m>\u001B[39m \u001B[38;5;241m2\u001B[39m:\n\u001B[0;32m--> 502\u001B[0m     \u001B[38;5;28;01mraise\u001B[39;00m \u001B[38;5;167;01mValueError\u001B[39;00m(\u001B[38;5;124mf\u001B[39m\u001B[38;5;124m\"\u001B[39m\u001B[38;5;124mx and y can be no greater than 2D, but have \u001B[39m\u001B[38;5;124m\"\u001B[39m\n\u001B[1;32m    503\u001B[0m                      \u001B[38;5;124mf\u001B[39m\u001B[38;5;124m\"\u001B[39m\u001B[38;5;124mshapes \u001B[39m\u001B[38;5;132;01m{\u001B[39;00mx\u001B[38;5;241m.\u001B[39mshape\u001B[38;5;132;01m}\u001B[39;00m\u001B[38;5;124m and \u001B[39m\u001B[38;5;132;01m{\u001B[39;00my\u001B[38;5;241m.\u001B[39mshape\u001B[38;5;132;01m}\u001B[39;00m\u001B[38;5;124m\"\u001B[39m)\n\u001B[1;32m    504\u001B[0m \u001B[38;5;28;01mif\u001B[39;00m x\u001B[38;5;241m.\u001B[39mndim \u001B[38;5;241m==\u001B[39m \u001B[38;5;241m1\u001B[39m:\n\u001B[1;32m    505\u001B[0m     x \u001B[38;5;241m=\u001B[39m x[:, np\u001B[38;5;241m.\u001B[39mnewaxis]\n",
      "\u001B[0;31mValueError\u001B[0m: x and y can be no greater than 2D, but have shapes (2, 2, 4) and (2, 2, 4)"
     ]
    }
   ],
   "source": [
    "import src.load.load_image as li\n",
    "import src.estimate.estimate_altimeter as ea\n",
    "\n",
    "for image_id in image_ids:\n",
    "    image = li.load_image(image_id)\n",
    "\n",
    "    altimeter_height = ea.estimate_altimeter(image)\n",
    "\n",
    "    if altimeter_height is not None:\n",
    "        break\n",
    "\n",
    "    print(altimeter_height)\n"
   ],
   "metadata": {
    "collapsed": false
   }
  },
  {
   "cell_type": "code",
   "execution_count": null,
   "outputs": [],
   "source": [],
   "metadata": {
    "collapsed": false
   }
  }
 ],
 "metadata": {
  "kernelspec": {
   "display_name": "Python 3",
   "language": "python",
   "name": "python3"
  },
  "language_info": {
   "codemirror_mode": {
    "name": "ipython",
    "version": 2
   },
   "file_extension": ".py",
   "mimetype": "text/x-python",
   "name": "python",
   "nbconvert_exporter": "python",
   "pygments_lexer": "ipython2",
   "version": "2.7.6"
  }
 },
 "nbformat": 4,
 "nbformat_minor": 0
}
