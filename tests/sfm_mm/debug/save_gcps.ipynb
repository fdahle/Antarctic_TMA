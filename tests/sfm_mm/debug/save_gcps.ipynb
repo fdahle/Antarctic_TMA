{
 "cells": [
  {
   "cell_type": "code",
   "execution_count": 1,
   "metadata": {
    "collapsed": true
   },
   "outputs": [],
   "source": [
    "project_folder = \"/data/ATM/data_1/sfm/projects/EGU2\""
   ]
  },
  {
   "cell_type": "code",
   "execution_count": 2,
   "outputs": [],
   "source": [
    "import pandas as pd\n",
    "import xml.etree.ElementTree as ET\n",
    "\n",
    "def parse_gcp_xml(xml_file, type):\n",
    "    tree = ET.parse(xml_file)\n",
    "    root = tree.getroot()\n",
    "\n",
    "    # Create a list to store the data\n",
    "    data = []\n",
    "\n",
    "    if type == \"image\":\n",
    "        # Iterate through each 'MesureAppuiFlottant1Im' in the XML\n",
    "        for measure in root.findall('MesureAppuiFlottant1Im'):\n",
    "            image_id = measure.find('NameIm').text\n",
    "            # Iterate through each 'OneMesureAF1I' within the current 'MesureAppuiFlottant1Im'\n",
    "            for pt in measure.findall('OneMesureAF1I'):\n",
    "                gcp = pt.find('NamePt').text\n",
    "                xy = pt.find('PtIm').text.split()\n",
    "                x = int(xy[0])\n",
    "                y = int(xy[1])\n",
    "\n",
    "                # Append the extracted information to the data list\n",
    "                data.append({'image_id': image_id, 'gcp': gcp, 'x': x, 'y': y})\n",
    "\n",
    "        # Create a DataFrame\n",
    "        df = pd.DataFrame(data, columns=['image_id', 'gcp', 'x', 'y'])\n",
    "\n",
    "    elif type == \"world\":\n",
    "        # Iterate through each 'OneAppuisDAF' in the XML\n",
    "        for point in root.findall('OneAppuisDAF'):\n",
    "            gcp = point.find('NamePt').text\n",
    "            xy = point.find('Pt').text.split()\n",
    "            x = float(xy[0])\n",
    "            y = float(xy[1])\n",
    "            incertitude = point.find('Incertitude').text.split()\n",
    "            x_quality = float(incertitude[0])\n",
    "            y_quality = float(incertitude[1])\n",
    "\n",
    "            # Append the extracted information to the data list\n",
    "            data.append({'gcp': gcp, 'x': x, 'y': y, 'x_quality': x_quality, 'y_quality': y_quality})\n",
    "\n",
    "        # Create a DataFrame\n",
    "        df = pd.DataFrame(data, columns=['gcp', 'x', 'y', 'x_quality', 'y_quality'])\n",
    "\n",
    "    else:\n",
    "        raise ValueError(\"Invalid type argument. Use 'image' or 'world'.\")\n",
    "\n",
    "    return df\n"
   ],
   "metadata": {
    "collapsed": false
   }
  },
  {
   "cell_type": "code",
   "execution_count": 10,
   "outputs": [
    {
     "name": "stdout",
     "output_type": "stream",
     "text": [
      "geo_gcps saved at /data/ATM/data_1/sfm/projects/EGU2/debug/gcps.shp\n"
     ]
    }
   ],
   "source": [
    "import os\n",
    "import geopandas as gpd\n",
    "from shapely.geometry import Point\n",
    "\n",
    "path_gcp_files_image = os.path.join(project_folder, \"Measures-S2D.xml\")\n",
    "path_gcp_files_real = os.path.join(project_folder, \"Measures.xml\")\n",
    "\n",
    "gcps_image = parse_gcp_xml(path_gcp_files_image, \"image\")\n",
    "gcps_real = parse_gcp_xml(path_gcp_files_real, \"world\")\n",
    "\n",
    "gcps_image.columns=['image_id', 'gcp', 'x_img', 'y_img']\n",
    "gcps_real.columns=['gcp', 'x_real', 'y_real', 'x_quality', 'y_quality']\n",
    "\n",
    "gcps = gcps_image.merge(gcps_real, on='gcp', how='inner')\n",
    "\n",
    "# convert to geodataframe\n",
    "geometry = [Point(x, y) for x, y in zip(gcps['x_real'], gcps['y_real'])]\n",
    "geo_gcps = gpd.GeoDataFrame(gcps, geometry=geometry)\n",
    "geo_gcps.set_crs(epsg=3031, inplace=True)\n",
    "\n",
    "os.mkdir(os.path.join(project_folder, \"debug\"))\n",
    "\n",
    "# save geo_cps as shapefile\n",
    "geo_gcps.to_file(os.path.join(project_folder, \"debug\", \"gcps.shp\"))\n",
    "\n",
    "print(\"geo_gcps saved at\", os.path.join(project_folder, \"debug\", \"gcps.shp\"))"
   ],
   "metadata": {
    "collapsed": false
   }
  },
  {
   "cell_type": "code",
   "execution_count": null,
   "outputs": [],
   "source": [],
   "metadata": {
    "collapsed": false
   }
  }
 ],
 "metadata": {
  "kernelspec": {
   "display_name": "Python 3",
   "language": "python",
   "name": "python3"
  },
  "language_info": {
   "codemirror_mode": {
    "name": "ipython",
    "version": 2
   },
   "file_extension": ".py",
   "mimetype": "text/x-python",
   "name": "python",
   "nbconvert_exporter": "python",
   "pygments_lexer": "ipython2",
   "version": "2.7.6"
  }
 },
 "nbformat": 4,
 "nbformat_minor": 0
}
