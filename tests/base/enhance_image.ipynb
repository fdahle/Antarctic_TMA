{
 "cells": [
  {
   "cell_type": "code",
   "id": "initial_id",
   "metadata": {
    "collapsed": true,
    "ExecuteTime": {
     "end_time": "2024-08-14T09:22:42.982893Z",
     "start_time": "2024-08-14T09:22:42.961736Z"
    }
   },
   "source": [
    "import numpy as np\n",
    "%load_ext autoreload\n",
    "%autoreload 2"
   ],
   "outputs": [],
   "execution_count": 1
  },
  {
   "metadata": {
    "ExecuteTime": {
     "end_time": "2024-08-14T10:02:44.739001Z",
     "start_time": "2024-08-14T10:02:10.024354Z"
    }
   },
   "cell_type": "code",
   "source": [
    "import numpy as np\n",
    "import src.base.enhance_image as ei\n",
    "import src.display.display_images as di\n",
    "import src.load.load_image as li\n",
    "\n",
    "image_id = \"CA215132V0293\"\n",
    "image = li.load_image(image_id)\n",
    "enhanced_image = ei.enhance_image(image)\n",
    "\n",
    "print(np.array_equal(image, enhanced_image))\n",
    "\n",
    "di.display_images([image, enhanced_image])\n"
   ],
   "id": "3597f3ce810ede33",
   "outputs": [
    {
     "name": "stdout",
     "output_type": "stream",
     "text": [
      "False\n"
     ]
    }
   ],
   "execution_count": 6
  },
  {
   "metadata": {},
   "cell_type": "code",
   "outputs": [],
   "execution_count": null,
   "source": "",
   "id": "ba8ef6eebfe43f2"
  }
 ],
 "metadata": {
  "kernelspec": {
   "display_name": "Python 3",
   "language": "python",
   "name": "python3"
  },
  "language_info": {
   "codemirror_mode": {
    "name": "ipython",
    "version": 2
   },
   "file_extension": ".py",
   "mimetype": "text/x-python",
   "name": "python",
   "nbconvert_exporter": "python",
   "pygments_lexer": "ipython2",
   "version": "2.7.6"
  }
 },
 "nbformat": 4,
 "nbformat_minor": 5
}
