{
 "cells": [
  {
   "cell_type": "code",
   "metadata": {
    "collapsed": true,
    "ExecuteTime": {
     "end_time": "2024-07-01T12:17:20.715244Z",
     "start_time": "2024-07-01T12:17:20.694657Z"
    }
   },
   "source": [
    "%load_ext autoreload\n",
    "%autoreload 2"
   ],
   "outputs": [],
   "execution_count": 1
  },
  {
   "cell_type": "code",
   "source": [
    "import numpy as np\n",
    "import src.dem.find_peaks_in_DEM as fp\n",
    "import src.load.load_image as li\n",
    "\n",
    "path_dem = \"/home/fdahle/Desktop/agi_test/output/dem_relative.tif\"\n",
    "no_data_val = -32767\n",
    "\n",
    "# load a dem\n",
    "dem = li.load_image(path_dem)\n",
    "\n",
    "# set no data values to nan\n",
    "dem[dem == no_data_val] = np.nan\n",
    "\n",
    "# find the peaks of a dem\n",
    "peaks = fp.find_peaks(dem, no_data_value=no_data_val)\n",
    "\n",
    "#print(dem)\n",
    "\n",
    "#print(np.amin(dem), np.amax(dem))\n",
    "\n",
    "# switch x and y for displaying peaks\n",
    "peaks = [(y, x) for x, y in peaks]\n",
    "\n",
    "import src.display.display_images as di\n",
    "di.display_images([dem], points=[peaks])\n"
   ],
   "metadata": {
    "collapsed": false,
    "ExecuteTime": {
     "end_time": "2024-07-01T13:05:26.181558Z",
     "start_time": "2024-07-01T13:05:08.368972Z"
    }
   },
   "outputs": [],
   "execution_count": 15
  },
  {
   "cell_type": "code",
   "source": [],
   "metadata": {
    "collapsed": false
   },
   "outputs": [],
   "execution_count": null
  }
 ],
 "metadata": {
  "kernelspec": {
   "display_name": "Python 3",
   "language": "python",
   "name": "python3"
  },
  "language_info": {
   "codemirror_mode": {
    "name": "ipython",
    "version": 2
   },
   "file_extension": ".py",
   "mimetype": "text/x-python",
   "name": "python",
   "nbconvert_exporter": "python",
   "pygments_lexer": "ipython2",
   "version": "2.7.6"
  }
 },
 "nbformat": 4,
 "nbformat_minor": 0
}
