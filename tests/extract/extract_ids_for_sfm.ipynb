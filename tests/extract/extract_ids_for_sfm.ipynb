{
 "cells": [
  {
   "cell_type": "code",
   "execution_count": 1,
   "outputs": [],
   "source": [
    "%load_ext autoreload\n",
    "%autoreload 2"
   ],
   "metadata": {
    "collapsed": false
   }
  },
  {
   "cell_type": "code",
   "execution_count": 2,
   "metadata": {
    "collapsed": true
   },
   "outputs": [
    {
     "name": "stdout",
     "output_type": "stream",
     "text": [
      "Original images:  28174\n",
      "Images with position:  3867\n",
      "Images with height:  493\n",
      "Images with focal length:  479\n"
     ]
    }
   ],
   "source": [
    "import src.other.extract.extract_ids_for_sfm as eifs\n",
    "import src.other.agisoft.create_agisoft_fld as caf\n",
    "id_dict = eifs.extract_ids_for_sfm(10, resampled=False)\n",
    "\n",
    "id_dict = {'1801': ['CA180132V0094', 'CA180132V0095', 'CA180132V0096', 'CA180132V0097', 'CA180132V0098', 'CA180132V0099', 'CA180132V0100', 'CA180132V0101']}\n",
    "\n",
    "# iterate over the id_dict and create the agisoft folders\n",
    "for lst_ids in id_dict.values():\n",
    "\n",
    "    caf.create_agisoft_fld(lst_ids)\n"
   ]
  },
  {
   "cell_type": "code",
   "execution_count": null,
   "outputs": [],
   "source": [],
   "metadata": {
    "collapsed": false,
    "pycharm": {
     "is_executing": true
    }
   }
  },
  {
   "cell_type": "code",
   "execution_count": 27,
   "outputs": [],
   "source": [],
   "metadata": {
    "collapsed": false
   }
  }
 ],
 "metadata": {
  "kernelspec": {
   "display_name": "Python 3",
   "language": "python",
   "name": "python3"
  },
  "language_info": {
   "codemirror_mode": {
    "name": "ipython",
    "version": 2
   },
   "file_extension": ".py",
   "mimetype": "text/x-python",
   "name": "python",
   "nbconvert_exporter": "python",
   "pygments_lexer": "ipython2",
   "version": "2.7.6"
  }
 },
 "nbformat": 4,
 "nbformat_minor": 0
}
