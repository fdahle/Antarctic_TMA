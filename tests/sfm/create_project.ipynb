{
 "cells": [
  {
   "cell_type": "code",
   "execution_count": 1,
   "id": "initial_id",
   "metadata": {
    "collapsed": true
   },
   "outputs": [],
   "source": [
    "%load_ext autoreload\n",
    "%autoreload 2"
   ]
  },
  {
   "cell_type": "code",
   "execution_count": 2,
   "outputs": [],
   "source": [
    "project_name = \"src_test2\"\n",
    "project_folder = \"/data_1/ATM/data_1/sfm/projects\"\n",
    "\n",
    "image_ids = [\"CA214732V0030\", \"CA214732V0031\", \"CA214732V0032\", \"CA214732V0033\", \"CA214732V0034\", \"CA214732V0035\"]\n",
    "#image_ids = [\"CA184632V0341\",\"CA184632V0342\", \"CA184632V0343\", \"CA184632V0344\"]\n"
   ],
   "metadata": {
    "collapsed": false
   }
  },
  {
   "cell_type": "code",
   "execution_count": 3,
   "outputs": [
    {
     "name": "stdout",
     "output_type": "stream",
     "text": [
      "Resume: True ; Overwrite: False\n",
      "Resuming project at /data_1/ATM/data_1/sfm/projects/src_test2\n",
      "Copy ['CA214732V0030', 'CA214732V0031', 'CA214732V0032', 'CA214732V0033', 'CA214732V0034', 'CA214732V0035']\n",
      "No resampled image found at /data_1/ATM/data_1/aerial/TMA/downloaded_resampled/OIS-Reech_CA214732V0032.tif\n"
     ]
    }
   ],
   "source": [
    "import src.sfm.SFMProject as Sfmp\n",
    "\n",
    "sfmp = Sfmp.SFMProject(project_name, project_folder, micmac_path=\"/home/fdahle/micmac/bin/mm3d\",\n",
    "                       resume=True, debug=True)\n",
    "\n",
    "sfmp.set_images(image_ids, copy_masks=True, copy_resampled=True, copy_xml=True, skip_missing=True)\n",
    "sfmp.set_camera(\"1983\")"
   ],
   "metadata": {
    "collapsed": false
   }
  },
  {
   "cell_type": "code",
   "execution_count": 9,
   "outputs": [
    {
     "name": "stdout",
     "output_type": "stream",
     "text": [
      "AperiCloud finished successfully.\n"
     ]
    }
   ],
   "source": [
    "import json\n",
    "\n",
    "json_path = \"/home/fdahle/Documents/GitHub/Antarctic_TMA/tests/sfm/project_args.json\"\n",
    "with open(json_path, 'r') as file:\n",
    "    micmac_args = json.load(file)\n",
    "\n",
    "\n",
    "print_all_output = False\n",
    "stat_folder = project_folder + \"/\" + project_name + \"/stats\"\n",
    "raw_folder = project_folder + \"/\" + project_name + \"/stats\"\n",
    "\n",
    "sfmp.start(\"manual\", [\"AperiCloud\"],\n",
    "           micmac_args,\n",
    "           print_all_output=print_all_output,\n",
    "           stat_folder=stat_folder,\n",
    "           raw_folder=raw_folder)"
   ],
   "metadata": {
    "collapsed": false
   }
  },
  {
   "cell_type": "markdown",
   "source": [],
   "metadata": {
    "collapsed": false
   }
  },
  {
   "cell_type": "code",
   "execution_count": null,
   "outputs": [],
   "source": [],
   "metadata": {
    "collapsed": false
   }
  }
 ],
 "metadata": {
  "kernelspec": {
   "display_name": "Python 3",
   "language": "python",
   "name": "python3"
  },
  "language_info": {
   "codemirror_mode": {
    "name": "ipython",
    "version": 2
   },
   "file_extension": ".py",
   "mimetype": "text/x-python",
   "name": "python",
   "nbconvert_exporter": "python",
   "pygments_lexer": "ipython2",
   "version": "2.7.6"
  }
 },
 "nbformat": 4,
 "nbformat_minor": 5
}
