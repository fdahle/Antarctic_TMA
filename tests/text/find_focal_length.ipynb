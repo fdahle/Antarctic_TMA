{
 "cells": [
  {
   "cell_type": "code",
   "metadata": {
    "collapsed": true,
    "ExecuteTime": {
     "end_time": "2024-06-27T15:06:10.637179Z",
     "start_time": "2024-06-27T15:06:10.615983Z"
    }
   },
   "source": [
    "%load_ext autoreload\n",
    "%autoreload 2"
   ],
   "outputs": [],
   "execution_count": 1
  },
  {
   "cell_type": "code",
   "source": [
    "mode = \"random\"  # can be 'random' or 'id'\n",
    "image_id = \"\""
   ],
   "metadata": {
    "collapsed": false,
    "ExecuteTime": {
     "end_time": "2024-06-27T15:06:11.285652Z",
     "start_time": "2024-06-27T15:06:11.269060Z"
    }
   },
   "outputs": [],
   "execution_count": 2
  },
  {
   "cell_type": "code",
   "source": [
    "import src.base.connect_to_database as ctd\n",
    "import src.text.find_focal_length as ffl\n",
    "\n",
    "# create connection to database\n",
    "conn = ctd.establish_connection()\n",
    "\n",
    "max_tries = 100\n",
    "\n",
    "# if random mode, get random image id\n",
    "if mode == \"random\":\n",
    "    sql_string = \"SELECT image_id FROM images_extracted \" \\\n",
    "                 \"WHERE text_content is NOT NULL \" \\\n",
    "                 f\"ORDER BY RANDOM() LIMIT {max_tries}\"\n",
    "    image_ids = ctd.execute_sql(sql_string, conn)['image_id']\n",
    "\n",
    "print(image_ids)\n",
    "\n",
    "for image_id in image_ids:\n",
    "\n",
    "    # get the text content\n",
    "    sql_string = f\"SELECT text_content FROM images_extracted \" \\\n",
    "                 f\"WHERE image_id='{image_id}'\"\n",
    "    text_content = ctd.execute_sql(sql_string, conn)['text_content'].iloc[0]\n",
    "\n",
    "    print(f\"Find Focal length for {image_id} with following text:\")\n",
    "    print(text_content)\n",
    "\n",
    "    focal_length = ffl.find_focal_length(text_content)\n",
    "    print(\"Focal length:\", focal_length)\n",
    "    print(\"\")\n",
    "\n",
    "    if focal_length is not None:\n",
    "        break"
   ],
   "metadata": {
    "collapsed": false,
    "ExecuteTime": {
     "end_time": "2024-06-27T15:06:25.339877Z",
     "start_time": "2024-06-27T15:06:25.279170Z"
    }
   },
   "outputs": [
    {
     "name": "stdout",
     "output_type": "stream",
     "text": [
      "Series([], Name: image_id, dtype: object)\n"
     ]
    }
   ],
   "execution_count": 4
  },
  {
   "cell_type": "code",
   "source": [],
   "metadata": {
    "collapsed": false,
    "pycharm": {
     "is_executing": true
    },
    "ExecuteTime": {
     "end_time": "2024-06-27T15:06:13.390795Z",
     "start_time": "2024-06-27T15:06:13.385828Z"
    }
   },
   "outputs": [],
   "execution_count": 3
  },
  {
   "cell_type": "code",
   "execution_count": 4,
   "outputs": [],
   "source": [],
   "metadata": {
    "collapsed": false
   }
  }
 ],
 "metadata": {
  "kernelspec": {
   "display_name": "Python 3",
   "language": "python",
   "name": "python3"
  },
  "language_info": {
   "codemirror_mode": {
    "name": "ipython",
    "version": 2
   },
   "file_extension": ".py",
   "mimetype": "text/x-python",
   "name": "python",
   "nbconvert_exporter": "python",
   "pygments_lexer": "ipython2",
   "version": "2.7.6"
  }
 },
 "nbformat": 4,
 "nbformat_minor": 0
}
