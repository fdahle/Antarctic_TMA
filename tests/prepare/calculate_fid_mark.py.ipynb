{
 "cells": [
  {
   "cell_type": "code",
   "execution_count": 1,
   "metadata": {
    "collapsed": true
   },
   "outputs": [],
   "source": [
    "%load_ext autoreload\n",
    "%autoreload 2"
   ]
  },
  {
   "cell_type": "code",
   "execution_count": 16,
   "outputs": [],
   "source": [
    "mode = \"random\"  # can be 'random' or 'id'\n",
    "image_id = \"CA214331L0344\"\n",
    "fid_marks = [1, 2, 3, 4]"
   ],
   "metadata": {
    "collapsed": false
   }
  },
  {
   "cell_type": "code",
   "execution_count": 17,
   "outputs": [],
   "source": [
    "import src.base.connect_to_database as ctd\n",
    "import src.load.load_image as li\n",
    "\n",
    "# create connection to database\n",
    "conn = ctd.establish_connection()\n",
    "\n",
    "# if random mode, get a random image id\n",
    "if mode == \"random\":\n",
    "    sql_string = \"SELECT image_id FROM images_fid_points \"\"WHERE subset_n_x IS NOT NULL OR subset_e_x IS NOT NULL OR \"\"subset_s_x IS NOT NULL OR subset_w_x IS NOT NULL \"\"ORDER BY RANDOM() LIMIT 1\"\n",
    "    image_id = ctd.execute_sql(sql_string, conn)['image_id'].iloc[0]\n",
    "\n",
    "# get subset information from data\n",
    "sql_string = f\"SELECT * FROM images_fid_points WHERE image_id='{image_id}'\"\n",
    "data = ctd.execute_sql(sql_string, conn).iloc[0]\n",
    "\n",
    "# load image\n",
    "image = li.load_image(image_id)"
   ],
   "metadata": {
    "collapsed": false
   }
  },
  {
   "cell_type": "code",
   "execution_count": 18,
   "outputs": [],
   "source": [
    "# Position of fid marks:\n",
    "# 3 7 2\n",
    "# 5   6\n",
    "# 1 8 4"
   ],
   "metadata": {
    "collapsed": false
   }
  },
  {
   "cell_type": "code",
   "execution_count": 19,
   "outputs": [
    {
     "name": "stdout",
     "output_type": "stream",
     "text": [
      "[(9764, 157), (695, 204), (9742, 9290), (650, 9249)]\n"
     ]
    }
   ],
   "source": [
    "import src.fid_marks.calculate_fid_mark as cfm\n",
    "import src.display.display_images as di\n",
    "\n",
    "fid_marks = []\n",
    "\n",
    "for key in [\"ne\", \"nw\", \"se\", \"sw\"]:\n",
    "\n",
    "    # split the key in the two directions\n",
    "    direction1 = list(key)[0]\n",
    "    direction2 = list(key)[1]\n",
    "\n",
    "    subset_width = data[\"subset_width\"]\n",
    "    subset_height = data[\"subset_height\"]\n",
    "\n",
    "    # get the subset bounds for both directions\n",
    "    subset1_x = data[f\"subset_{direction1}_x\"]\n",
    "    subset1_y = data[f\"subset_{direction1}_y\"]\n",
    "    subset2_x = data[f\"subset_{direction2}_x\"]\n",
    "    subset2_y = data[f\"subset_{direction2}_y\"]\n",
    "\n",
    "    # create bounds for the subsets\n",
    "    subset1 = (subset1_x, subset1_y, subset1_x + subset_width, subset1_y + subset_height)\n",
    "    subset2 = (subset2_x, subset2_y, subset2_x + subset_width, subset2_y + subset_height)\n",
    "\n",
    "    # create a list of subsets\n",
    "    subsets = [subset1, subset2]\n",
    "\n",
    "\n",
    "    # calculate the fid mark\n",
    "    fid_mark = cfm.calculate_fid_mark(image, key, subsets, display=True)\n",
    "\n",
    "    if fid_mark is not None:\n",
    "        fid_marks.append(fid_mark)\n",
    "\n",
    "print(fid_marks)\n",
    "\n",
    "di.display_images(image, points=[fid_marks])\n"
   ],
   "metadata": {
    "collapsed": false
   }
  },
  {
   "cell_type": "code",
   "execution_count": null,
   "outputs": [],
   "source": [],
   "metadata": {
    "collapsed": false
   }
  }
 ],
 "metadata": {
  "kernelspec": {
   "display_name": "Python 3",
   "language": "python",
   "name": "python3"
  },
  "language_info": {
   "codemirror_mode": {
    "name": "ipython",
    "version": 2
   },
   "file_extension": ".py",
   "mimetype": "text/x-python",
   "name": "python",
   "nbconvert_exporter": "python",
   "pygments_lexer": "ipython2",
   "version": "2.7.6"
  }
 },
 "nbformat": 4,
 "nbformat_minor": 0
}
