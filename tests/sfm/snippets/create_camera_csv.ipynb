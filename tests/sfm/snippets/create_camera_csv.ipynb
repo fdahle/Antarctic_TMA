{
 "cells": [
  {
   "cell_type": "code",
   "execution_count": 1,
   "metadata": {
    "collapsed": true
   },
   "outputs": [],
   "source": [
    "%load_ext autoreload\n",
    "%autoreload 2"
   ]
  },
  {
   "cell_type": "code",
   "execution_count": 2,
   "outputs": [],
   "source": [
    "image_ids = [\"CA180132V0094\", \"CA180132V0095\", \"CA180132V0096\", \"CA180132V0097\",\n",
    "                 \"CA180132V0098\", \"CA180132V0099\", \"CA180132V0100\", \"CA180132V0101\"]"
   ],
   "metadata": {
    "collapsed": false
   }
  },
  {
   "cell_type": "code",
   "execution_count": 7,
   "outputs": [
    {
     "name": "stdout",
     "output_type": "stream",
     "text": [
      "        image_id  azimuth_exact height                    x                  y\n",
      "0  CA180132V0098         337.76   None  -1974661.4752021625  763912.0185233294\n",
      "1  CA180132V0096         337.76   None      -1978697.203185  765505.1888299999\n",
      "2  CA180132V0100         337.76   None  -1970107.0496049996  762186.6388399999\n",
      "3  CA180132V0095         337.76   None       -1980875.56802  766291.2122950002\n",
      "4  CA180132V0097         337.76   None      -1976522.647455  764807.7391950001\n",
      "5  CA180132V0101         337.76   None  -1967743.8896650004      761003.816185\n",
      "6  CA180132V0094         337.76   None  -1983157.6784949997  767386.5698899999\n",
      "7  CA180132V0099         337.76   None  -1972393.4767699998  763018.8966750001\n"
     ]
    },
    {
     "ename": "NameError",
     "evalue": "name 'exit' is not defined",
     "output_type": "error",
     "traceback": [
      "\u001B[0;31m---------------------------------------------------------------------------\u001B[0m",
      "\u001B[0;31mNameError\u001B[0m                                 Traceback (most recent call last)",
      "Cell \u001B[0;32mIn[7], line 3\u001B[0m\n\u001B[1;32m      1\u001B[0m \u001B[38;5;28;01mimport\u001B[39;00m \u001B[38;5;21;01msrc\u001B[39;00m\u001B[38;5;21;01m.\u001B[39;00m\u001B[38;5;21;01msfm\u001B[39;00m\u001B[38;5;21;01m.\u001B[39;00m\u001B[38;5;21;01msnippets\u001B[39;00m\u001B[38;5;21;01m.\u001B[39;00m\u001B[38;5;21;01mcreate_camera_csv\u001B[39;00m \u001B[38;5;28;01mas\u001B[39;00m \u001B[38;5;21;01mccc\u001B[39;00m\n\u001B[0;32m----> 3\u001B[0m \u001B[43mccc\u001B[49m\u001B[38;5;241;43m.\u001B[39;49m\u001B[43mcreate_camera_csv\u001B[49m\u001B[43m(\u001B[49m\u001B[43mimage_ids\u001B[49m\u001B[43m)\u001B[49m\n",
      "File \u001B[0;32m~/Documents/GitHub/Antarctic_TMA/src/sfm/snippets/create_camera_csv.py:36\u001B[0m, in \u001B[0;36mcreate_camera_csv\u001B[0;34m(image_ids, prefix, skip_missing)\u001B[0m\n\u001B[1;32m     32\u001B[0m data \u001B[38;5;241m=\u001B[39m data\u001B[38;5;241m.\u001B[39mdrop(columns\u001B[38;5;241m=\u001B[39m[\u001B[38;5;124m'\u001B[39m\u001B[38;5;124mposition_exact\u001B[39m\u001B[38;5;124m'\u001B[39m])\n\u001B[1;32m     34\u001B[0m \u001B[38;5;28mprint\u001B[39m(data)\n\u001B[0;32m---> 36\u001B[0m \u001B[43mexit\u001B[49m()\n\u001B[1;32m     40\u001B[0m cameras \u001B[38;5;241m=\u001B[39m []\n\u001B[1;32m     43\u001B[0m \u001B[38;5;28;01mwith\u001B[39;00m \u001B[38;5;28mopen\u001B[39m(csv_path, \u001B[38;5;124m'\u001B[39m\u001B[38;5;124mw\u001B[39m\u001B[38;5;124m'\u001B[39m, newline\u001B[38;5;241m=\u001B[39m\u001B[38;5;124m'\u001B[39m\u001B[38;5;124m'\u001B[39m) \u001B[38;5;28;01mas\u001B[39;00m file:\n",
      "\u001B[0;31mNameError\u001B[0m: name 'exit' is not defined"
     ]
    }
   ],
   "source": [
    "import src.sfm.snippets.create_camera_csv as ccc\n",
    "\n",
    "ccc.create_camera_csv(image_ids)"
   ],
   "metadata": {
    "collapsed": false
   }
  },
  {
   "cell_type": "code",
   "execution_count": null,
   "outputs": [],
   "source": [],
   "metadata": {
    "collapsed": false
   }
  }
 ],
 "metadata": {
  "kernelspec": {
   "display_name": "Python 3",
   "language": "python",
   "name": "python3"
  },
  "language_info": {
   "codemirror_mode": {
    "name": "ipython",
    "version": 2
   },
   "file_extension": ".py",
   "mimetype": "text/x-python",
   "name": "python",
   "nbconvert_exporter": "python",
   "pygments_lexer": "ipython2",
   "version": "2.7.6"
  }
 },
 "nbformat": 4,
 "nbformat_minor": 0
}
