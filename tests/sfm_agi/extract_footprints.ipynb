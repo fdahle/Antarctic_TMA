{
 "cells": [
  {
   "cell_type": "code",
   "execution_count": 11,
   "metadata": {
    "collapsed": true
   },
   "outputs": [
    {
     "name": "stdout",
     "output_type": "stream",
     "text": [
      "LoadProject: path = /data/ATM/data_1/sfm/agi_projects/CA1848/CA1848.psx\n",
      "loaded project in 0.000857 sec\n"
     ]
    },
    {
     "name": "stderr",
     "output_type": "stream",
     "text": [
      "/home/fdahle/miniconda3/envs/tma_env/lib/python3.11/site-packages/geopandas/io/file.py:633: UserWarning: You are attempting to write an empty DataFrame to file. For some drivers, this operation may fail.\n",
      "  _to_file_fiona(df, filename, driver, schema, crs, mode, **kwargs)\n"
     ]
    }
   ],
   "source": [
    "import Metashape\n",
    "import geopandas as gpd\n",
    "import os\n",
    "from shapely.geometry import Polygon\n",
    "\n",
    "project_fld = \"/data/ATM/data_1/sfm/agi_projects/CA1848/\"\n",
    "project_path = os.path.join(project_fld, \"CA1848.psx\")\n",
    "save_path = os.path.join(project_fld, \"shapes\", \"footprints.shp\")\n",
    "doc = Metashape.Document()\n",
    "doc.open(project_path)\n",
    "chunk = doc.chunks[0]\n",
    "# Collect camera footprints\n",
    "footprints = []\n",
    "\n",
    "T = chunk.transform.matrix\n",
    "\n",
    "chunk_crs = chunk.crs.geoccs\n",
    "if chunk_crs is None:\n",
    "    chunk_crs = Metashape.CoordinateSystem('LOCAL')\n",
    "\n",
    "if chunk.elevation:\n",
    "    surface = chunk.elevation\n",
    "elif chunk.model:\n",
    "    surface = chunk.model\n",
    "elif chunk.point_cloud:\n",
    "    surface = chunk.point_cloud\n",
    "else:\n",
    "    surface = chunk.tie_points\n",
    "\n",
    "for camera in chunk.cameras:\n",
    "    if not camera.transform:\n",
    "        continue  # Skip cameras without valid transformation\n",
    "\n",
    "    sensor = camera.sensor\n",
    "    corners = list()\n",
    "    for (x, y) in [[0, 0], [sensor.width - 1, 0], [sensor.width - 1, sensor.height - 1], [0, sensor.height - 1]]:\n",
    "        ray_origin = camera.unproject(Metashape.Vector([x, y, 0]))\n",
    "        ray_target = camera.unproject(Metashape.Vector([x, y, 1]))\n",
    "        if type(surface) == Metashape.Elevation:\n",
    "            dem_origin = T.mulp(ray_origin)\n",
    "            dem_target = T.mulp(ray_target)\n",
    "            dem_origin = Metashape.OrthoProjection.transform(dem_origin, chunk_crs, surface.projection)\n",
    "            dem_target = Metashape.OrthoProjection.transform(dem_target, chunk_crs, surface.projection)\n",
    "            corner = surface.pickPoint(dem_origin, dem_target)\n",
    "            if corner:\n",
    "                corner = Metashape.OrthoProjection.transform(corner, surface.projection, chunk_crs)\n",
    "                corner = T.inv().mulp(corner)\n",
    "        else:\n",
    "            corner = surface.pickPoint(ray_origin, ray_target)\n",
    "        if not corner:\n",
    "            corner = chunk.tie_points.pickPoint(ray_origin, ray_target)\n",
    "        if not corner:\n",
    "            break\n",
    "        corner = chunk.crs.project(T.mulp(corner))\n",
    "        corners.append(corner)\n",
    "\n",
    "# Create a GeoDataFrame\n",
    "gdf = gpd.GeoDataFrame(geometry=footprints, crs=\"EPSG:3031\")  # Adjust CRS as necessary\n",
    "\n",
    "# Save to shapefile\n",
    "gdf.to_file(save_path, driver='ESRI Shapefile')"
   ]
  },
  {
   "cell_type": "code",
   "execution_count": null,
   "outputs": [],
   "source": [],
   "metadata": {
    "collapsed": false
   }
  }
 ],
 "metadata": {
  "kernelspec": {
   "display_name": "Python 3",
   "language": "python",
   "name": "python3"
  },
  "language_info": {
   "codemirror_mode": {
    "name": "ipython",
    "version": 2
   },
   "file_extension": ".py",
   "mimetype": "text/x-python",
   "name": "python",
   "nbconvert_exporter": "python",
   "pygments_lexer": "ipython2",
   "version": "2.7.6"
  }
 },
 "nbformat": 4,
 "nbformat_minor": 0
}
