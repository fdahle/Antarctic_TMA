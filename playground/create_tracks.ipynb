{
 "cells": [
  {
   "metadata": {
    "ExecuteTime": {
     "end_time": "2024-10-01T14:16:57.689455Z",
     "start_time": "2024-10-01T14:15:58.058279Z"
    }
   },
   "cell_type": "code",
   "source": [
    "import os\n",
    "import src.sfm_agi.snippets.find_tie_points_for_sfm as ftpfs\n",
    "\n",
    "project_fld = \"/data/ATM/data_1/sfm/agi_projects/\"\n",
    "project_name = \"another_matching_try_agi\"\n",
    "\n",
    "# create the path to the project\n",
    "project_path = os.path.join(project_fld, project_name, project_name + \".psx\")\n",
    "\n",
    "img_folder = os.path.join(project_fld, project_name, 'data', 'images')\n",
    "mask_folder = os.path.join(project_fld, project_name, 'data', 'masks_adapted')\n",
    "\n",
    "tp_dict, conf_dict = ftpfs.find_tie_points_for_sfm(img_folder, mask_folder, \"sequential\")\n",
    "print(tp_dict)\n",
    "print(conf_dict)"
   ],
   "id": "92e7512024c172e3",
   "outputs": [
    {
     "name": "stdout",
     "output_type": "stream",
     "text": [
      "  Iterate combinations\n"
     ]
    },
    {
     "name": "stderr",
     "output_type": "stream",
     "text": [
      "100%|██████████| 10/10 [00:57<00:00,  5.71s/it, 2 tie points between CA214832V0077 and CA214832V0075]   "
     ]
    },
    {
     "name": "stdout",
     "output_type": "stream",
     "text": [
      "{('CA214832V0076', 'CA214832V0077'): array([[4594.        , 8942.        ,  652.49996331, 8713.        ],\n",
      "       [9122.        , 7883.        , 4750.        , 7619.50000326],\n",
      "       [4699.        , 7145.        ,  750.49998249, 6923.        ],\n",
      "       ...,\n",
      "       [8825.        , 8327.        , 4403.        , 8063.        ],\n",
      "       [7946.        , 8606.        , 3773.        , 8350.        ],\n",
      "       [8581.        , 8452.        , 4201.        , 8187.        ]]), ('CA214832V0076', 'CA214832V0075'): array([[ 955.        , 8616.        , 5001.        , 8912.        ],\n",
      "       [1328.        , 8688.        , 5282.49992315, 8977.49992315],\n",
      "       [3379.        , 8372.        , 7562.        , 8656.49993434],\n",
      "       ...,\n",
      "       [1156.        , 4147.        , 5357.        , 4392.        ],\n",
      "       [4760.        , 6092.        , 8722.50196498, 6344.49803502],\n",
      "       [3453.        , 6586.        , 7725.50582942, 6863.49417058]]), ('CA214832V0078', 'CA214832V0077'): array([[3854.        , 3207.        , 7826.        , 3444.        ],\n",
      "       [4561.        , 4295.        , 8458.49999262, 4536.        ],\n",
      "       [4578.        , 4301.        , 8476.49997763, 4539.50002237],\n",
      "       ...,\n",
      "       [4955.        , 8164.        , 8893.49565345, 8431.        ],\n",
      "       [4405.        , 6057.        , 8224.        , 6303.        ],\n",
      "       [3320.        , 7155.        , 7129.        , 7413.        ]]), ('CA214832V0074', 'CA214832V0075'): array([[4737.        , 8731.        ,  818.00004376, 8501.49997812],\n",
      "       [4565.        , 8624.        ,  624.50009991, 8390.99980019],\n",
      "       [6647.        , 6559.        , 2809.        , 6353.        ],\n",
      "       ...,\n",
      "       [9071.        , 5727.        , 4807.        , 5509.        ],\n",
      "       [8903.        , 9131.        , 4665.        , 8902.        ],\n",
      "       [8288.        , 9030.        , 4333.        , 8818.        ]])}\n",
      "{('CA214832V0076', 'CA214832V0077'): array([0.9997825 , 0.99977133, 0.99975672, ..., 0.96024132, 0.96023172,\n",
      "       0.96023035]), ('CA214832V0076', 'CA214832V0075'): array([0.99979216, 0.99974114, 0.99966434, ..., 0.97167891, 0.97167817,\n",
      "       0.97166041]), ('CA214832V0078', 'CA214832V0077'): array([0.99986303, 0.99986193, 0.99973592, ..., 0.97467226, 0.97465962,\n",
      "       0.97465092]), ('CA214832V0074', 'CA214832V0075'): array([0.99965638, 0.99961764, 0.99955004, ..., 0.95664322, 0.95663851,\n",
      "       0.95663697])}\n"
     ]
    },
    {
     "name": "stderr",
     "output_type": "stream",
     "text": [
      "\n"
     ]
    }
   ],
   "execution_count": 2
  },
  {
   "metadata": {
    "ExecuteTime": {
     "end_time": "2024-10-01T14:29:15.296362Z",
     "start_time": "2024-10-01T14:29:15.278665Z"
    }
   },
   "cell_type": "code",
   "source": [
    "import numpy as np\n",
    "\n",
    "def create_tracks(tp_dict, conf_dict):\n",
    "    \"\"\"\n",
    "    Create tracks from tie-points and confidence values.\n",
    "\n",
    "    Parameters:\n",
    "    - tp_dict: A dictionary where keys are tuples (img1id, img2id), and values are numpy arrays of shape (N, 4),\n",
    "               containing x1, y1, x2, y2 coordinates.\n",
    "    - conf_dict: A dictionary with the same keys as tp_dict, where values are numpy arrays of confidence values.\n",
    "\n",
    "    Returns:\n",
    "    - tracks_array: A numpy array of shape (M, 5), where each row is [x1, y1, x2, y2, track_id].\n",
    "    \"\"\"\n",
    "    # Initialize data structures\n",
    "    keypoint_to_track = {}  # Map from key-point (image ID, quantized (x, y)) to track ID\n",
    "    track_id_counter = 0    # Counter for assigning unique track IDs\n",
    "    tracks = {}             # Map from track ID to set of key-points\n",
    "\n",
    "    # Function to quantize coordinates to handle floating-point precision\n",
    "    def quantize_coord(x, y, precision=1e-3):\n",
    "        return (int(round(x / precision)), int(round(y / precision)))\n",
    "\n",
    "    # Process each pair of images\n",
    "    for key in tp_dict:\n",
    "        # Unpack image IDs from the key\n",
    "        img1id, img2id = key  # Both img1id and img2id are strings\n",
    "\n",
    "        # Extract tie-points\n",
    "        x1y1x2y2 = tp_dict[key]  # Shape: (N, 4)\n",
    "        x1 = x1y1x2y2[:, 0]\n",
    "        y1 = x1y1x2y2[:, 1]\n",
    "        x2 = x1y1x2y2[:, 2]\n",
    "        y2 = x1y1x2y2[:, 3]\n",
    "        N = x1.shape[0]\n",
    "\n",
    "        # Process each matched pair of key-points\n",
    "        for k in range(N):\n",
    "            x1k, y1k = x1[k], y1[k]\n",
    "            x2k, y2k = x2[k], y2[k]\n",
    "\n",
    "            # Quantize coordinates\n",
    "            qx1k, qy1k = quantize_coord(x1k, y1k)\n",
    "            qx2k, qy2k = quantize_coord(x2k, y2k)\n",
    "\n",
    "            kp1 = (img1id, qx1k, qy1k)\n",
    "            kp2 = (img2id, qx2k, qy2k)\n",
    "\n",
    "            # Check if key-points are already associated with a track\n",
    "            track1 = keypoint_to_track.get(kp1)\n",
    "            track2 = keypoint_to_track.get(kp2)\n",
    "\n",
    "            if track1 is not None and track2 is not None:\n",
    "                if track1 != track2:\n",
    "                    # Merge tracks\n",
    "                    tracks[track1]['keypoints'].update(tracks[track2]['keypoints'])\n",
    "                    for kp in tracks[track2]['keypoints']:\n",
    "                        keypoint_to_track[kp] = track1\n",
    "                    # Merge matches\n",
    "                    tracks[track1]['matches'].extend(tracks[track2]['matches'])\n",
    "                    del tracks[track2]\n",
    "                current_track = track1\n",
    "            elif track1 is not None:\n",
    "                # Assign kp2 to track1\n",
    "                keypoint_to_track[kp2] = track1\n",
    "                tracks[track1]['keypoints'].add(kp2)\n",
    "                tracks[track1]['matches'].append((img1id, x1k, y1k, img2id, x2k, y2k))\n",
    "                current_track = track1\n",
    "            elif track2 is not None:\n",
    "                # Assign kp1 to track2\n",
    "                keypoint_to_track[kp1] = track2\n",
    "                tracks[track2]['keypoints'].add(kp1)\n",
    "                tracks[track2]['matches'].append((img1id, x1k, y1k, img2id, x2k, y2k))\n",
    "                current_track = track2\n",
    "            else:\n",
    "                # Create new track\n",
    "                current_track = track_id_counter\n",
    "                track_id_counter += 1\n",
    "                keypoint_to_track[kp1] = current_track\n",
    "                keypoint_to_track[kp2] = current_track\n",
    "                tracks[current_track] = {\n",
    "                    'keypoints': set([kp1, kp2]),\n",
    "                    'matches': [(img1id, x1k, y1k, img2id, x2k, y2k)]\n",
    "                }\n",
    "    \n",
    "    # Prepare the output array\n",
    "    tracks_list = []\n",
    "    for track_id, data in tracks.items():\n",
    "        for match in data['matches']:\n",
    "            img1id, x1k, y1k, img2id, x2k, y2k = match\n",
    "            tracks_list.append([x1k, y1k, x2k, y2k, track_id])\n",
    "\n",
    "    # Convert to numpy array\n",
    "    tracks_array = np.array(tracks_list)\n",
    "\n",
    "    print(\"HI\")\n",
    "\n",
    "    return tracks_array"
   ],
   "id": "63ac45972736455f",
   "outputs": [],
   "execution_count": 16
  },
  {
   "metadata": {
    "ExecuteTime": {
     "end_time": "2024-10-01T14:29:16.063554Z",
     "start_time": "2024-10-01T14:29:15.735172Z"
    }
   },
   "cell_type": "code",
   "source": [
    "tracks = create_tracks(tp_dict, conf_dict)\n",
    "print(tracks)"
   ],
   "id": "59098e4c081705cb",
   "outputs": [
    {
     "name": "stdout",
     "output_type": "stream",
     "text": [
      "HI\n",
      "[[4.59400000e+03 8.94200000e+03 6.52499963e+02 8.71300000e+03\n",
      "  0.00000000e+00]\n",
      " [4.59400000e+03 8.94200000e+03 8.47050806e+03 9.20599463e+03\n",
      "  0.00000000e+00]\n",
      " [9.12200000e+03 7.88300000e+03 4.75000000e+03 7.61950000e+03\n",
      "  1.00000000e+00]\n",
      " ...\n",
      " [9.07100000e+03 5.72700000e+03 4.80700000e+03 5.50900000e+03\n",
      "  1.57340000e+04]\n",
      " [8.90300000e+03 9.13100000e+03 4.66500000e+03 8.90200000e+03\n",
      "  1.57350000e+04]\n",
      " [8.28800000e+03 9.03000000e+03 4.33300000e+03 8.81800000e+03\n",
      "  1.57360000e+04]]\n"
     ]
    }
   ],
   "execution_count": 17
  },
  {
   "metadata": {
    "ExecuteTime": {
     "end_time": "2024-10-01T14:30:10.079259Z",
     "start_time": "2024-10-01T14:30:10.024311Z"
    }
   },
   "cell_type": "code",
   "source": [
    "# save np as csv\n",
    "tracks_fld = os.path.join(project_fld, project_name)\n",
    "tracks_path = os.path.join(tracks_fld, 'tracks.csv')\n",
    "np.savetxt(tracks_path, tracks, delimiter=\",\")"
   ],
   "id": "41ba5a3fbe7fb3dd",
   "outputs": [],
   "execution_count": 18
  },
  {
   "metadata": {},
   "cell_type": "code",
   "outputs": [],
   "execution_count": null,
   "source": "",
   "id": "8de0b9ccbfdbfdae"
  },
  {
   "metadata": {
    "ExecuteTime": {
     "end_time": "2024-10-01T15:16:59.515374Z",
     "start_time": "2024-10-01T15:16:59.443686Z"
    }
   },
   "cell_type": "code",
   "source": [
    "# load the tracks csv as pandas\n",
    "import pandas as pd\n",
    "import os\n",
    "import src.sfm_agi.snippets.convert_ply_files as cpf\n",
    "project_fld = \"/data/ATM/data_1/sfm/agi_projects/\"\n",
    "project_name = \"tracking_test\"\n",
    "\n",
    "\n",
    "# create the path to the project\n",
    "project_path = os.path.join(project_fld, project_name, project_name + \".files\")\n",
    "tracks_fld = os.path.join(project_path, '0', '0', 'point_cloud', 'point_cloud')\n",
    "\n",
    "cpf.convert_ply_files(tracks_fld)\n",
    "exit()\n",
    "\n",
    "tracks_path = os.path.join(tracks_fld, 'tracks.txt')\n",
    "tracks_path_new = os.path.join(tracks_fld, 'tracks.ply')\n",
    "tracks_pd = pd.read_csv(tracks_path, header=None)\n",
    "\n",
    "# replace all values in the first column with 1\n",
    "tracks_pd.iloc[:, 0] = 1\n",
    "tracks_pd.columns=['color']\n",
    "print(tracks_pd)\n",
    "\n",
    "import src.export.export_ply as ep\n",
    "ep.export_ply(tracks_pd, tracks_path_new)\n"
   ],
   "id": "e32eaf3a5fd1d398",
   "outputs": [
    {
     "name": "stdout",
     "output_type": "stream",
     "text": [
      "Converted /data/ATM/data_1/sfm/agi_projects/tracking_test/tracking_test.files/0/0/point_cloud/point_cloud/p2.ply to /data/ATM/data_1/sfm/agi_projects/tracking_test/tracking_test.files/0/0/point_cloud/point_cloud/p2.txt\n",
      "Converted /data/ATM/data_1/sfm/agi_projects/tracking_test/tracking_test.files/0/0/point_cloud/point_cloud/p3.ply to /data/ATM/data_1/sfm/agi_projects/tracking_test/tracking_test.files/0/0/point_cloud/point_cloud/p3.txt\n",
      "Converted /data/ATM/data_1/sfm/agi_projects/tracking_test/tracking_test.files/0/0/point_cloud/point_cloud/points0.ply to /data/ATM/data_1/sfm/agi_projects/tracking_test/tracking_test.files/0/0/point_cloud/point_cloud/points0.txt\n",
      "Converted /data/ATM/data_1/sfm/agi_projects/tracking_test/tracking_test.files/0/0/point_cloud/point_cloud/tracks.ply to /data/ATM/data_1/sfm/agi_projects/tracking_test/tracking_test.files/0/0/point_cloud/point_cloud/tracks.txt\n",
      "Converted /data/ATM/data_1/sfm/agi_projects/tracking_test/tracking_test.files/0/0/point_cloud/point_cloud/p0.ply to /data/ATM/data_1/sfm/agi_projects/tracking_test/tracking_test.files/0/0/point_cloud/point_cloud/p0.txt\n",
      "Converted /data/ATM/data_1/sfm/agi_projects/tracking_test/tracking_test.files/0/0/point_cloud/point_cloud/p1.ply to /data/ATM/data_1/sfm/agi_projects/tracking_test/tracking_test.files/0/0/point_cloud/point_cloud/p1.txt\n",
      "      color\n",
      "0         1\n",
      "1         1\n",
      "2         1\n",
      "3         1\n",
      "4         1\n",
      "...     ...\n",
      "1349      1\n",
      "1350      1\n",
      "1351      1\n",
      "1352      1\n",
      "1353      1\n",
      "\n",
      "[1354 rows x 1 columns]\n"
     ]
    }
   ],
   "execution_count": 2
  },
  {
   "metadata": {
    "ExecuteTime": {
     "end_time": "2024-10-01T15:15:06.036388Z",
     "start_time": "2024-10-01T15:15:06.027158Z"
    }
   },
   "cell_type": "code",
   "source": [
    "import src.sfm_agi.snippets.zip_folder as zp\n",
    "project_path = os.path.join(project_fld, project_name, project_name + \".files\")\n",
    "path_pc_fld = os.path.join(project_path, \"0\", \"0\", \"point_cloud\", \"point_cloud\")\n",
    "                          \n",
    "output_zip_path = os.path.join(path_pc_fld, 'point_cloud.zip')\n",
    "zp.zip_folder(path_pc_fld, output_zip_path, delete_files=False)\n"
   ],
   "id": "2ad8d4f3236316b5",
   "outputs": [
    {
     "name": "stdout",
     "output_type": "stream",
     "text": [
      "Zipping folder...\n",
      "/data/ATM/data_1/sfm/agi_projects/tracking_test/tracking_test.files/0/0/point_cloud/point_cloud\n",
      "/data/ATM/data_1/sfm/agi_projects/tracking_test/tracking_test.files/0/0/point_cloud/point_cloud/point_cloud.zip\n",
      "<?xml version=\"1.0\" encoding=\"UTF-8\"?>\n",
      "<point_cloud version=\"1.2.0\">\n",
      "  <params>\n",
      "    <dataType>uint8</dataType>\n",
      "    <bands>\n",
      "      <band/>\n",
      "    </bands>\n",
      "  </params>\n",
      "  <tracks path=\"tracks.ply\" count=\"1354\"/>\n",
      "  <projections camera_id=\"0\" path=\"p0.ply\" count=\"430\"/>\n",
      "  <projections camera_id=\"1\" path=\"p1.ply\" count=\"677\"/>\n",
      "  <projections camera_id=\"2\" path=\"p2.ply\" count=\"933\"/>\n",
      "  <projections camera_id=\"3\" path=\"p3.ply\" count=\"678\"/>\n",
      "  <keypoints>\n",
      "    <block path=\"points0.zip\"/>\n",
      "    <block path=\"points1.zip\"/>\n",
      "  </keypoints>\n",
      "  <meta>\n",
      "    <property name=\"Info/LastSavedDateTime\" value=\"2024:10:01 15:05:25\"/>\n",
      "    <property name=\"Info/LastSavedSoftwareVersion\" value=\"2.1.2.18358\"/>\n",
      "    <property name=\"Info/OriginalDateTime\" value=\"2024:10:01 15:05:24\"/>\n",
      "    <property name=\"Info/OriginalSoftwareVersion\" value=\"2.1.2.18358\"/>\n",
      "    <property name=\"MatchPhotos/cameras\" value=\"\"/>\n",
      "    <property name=\"MatchPhotos/descriptor_type\" value=\"binary\"/>\n",
      "    <property name=\"MatchPhotos/descriptor_version\" value=\"1.1.0\"/>\n",
      "    <property name=\"MatchPhotos/downscale\" value=\"1\"/>\n",
      "    <property name=\"MatchPhotos/downscale_3d\" value=\"1\"/>\n",
      "    <property name=\"MatchPhotos/duration\" value=\"3.239923\"/>\n",
      "    <property name=\"MatchPhotos/filter_mask\" value=\"true\"/>\n",
      "    <property name=\"MatchPhotos/filter_stationary_points\" value=\"true\"/>\n",
      "    <property name=\"MatchPhotos/generic_preselection\" value=\"true\"/>\n",
      "    <property name=\"MatchPhotos/guided_matching\" value=\"false\"/>\n",
      "    <property name=\"MatchPhotos/keep_keypoints\" value=\"true\"/>\n",
      "    <property name=\"MatchPhotos/keypoint_limit\" value=\"40000\"/>\n",
      "    <property name=\"MatchPhotos/keypoint_limit_3d\" value=\"100000\"/>\n",
      "    <property name=\"MatchPhotos/keypoint_limit_per_mpx\" value=\"1000\"/>\n",
      "    <property name=\"MatchPhotos/laser_scans_vertical_axis\" value=\"0\"/>\n",
      "    <property name=\"MatchPhotos/mask_tiepoints\" value=\"true\"/>\n",
      "    <property name=\"MatchPhotos/match_laser_scans\" value=\"false\"/>\n",
      "    <property name=\"MatchPhotos/max_workgroup_size\" value=\"100\"/>\n",
      "    <property name=\"MatchPhotos/ram_used\" value=\"382623744\"/>\n",
      "    <property name=\"MatchPhotos/reference_preselection\" value=\"true\"/>\n",
      "    <property name=\"MatchPhotos/reference_preselection_mode\" value=\"0\"/>\n",
      "    <property name=\"MatchPhotos/reset_matches\" value=\"true\"/>\n",
      "    <property name=\"MatchPhotos/subdivide_task\" value=\"true\"/>\n",
      "    <property name=\"MatchPhotos/tiepoint_limit\" value=\"4000\"/>\n",
      "    <property name=\"MatchPhotos/workitem_size_cameras\" value=\"20\"/>\n",
      "    <property name=\"MatchPhotos/workitem_size_pairs\" value=\"80\"/>\n",
      "  </meta>\n",
      "</point_cloud>\n",
      "\n"
     ]
    }
   ],
   "execution_count": 38
  },
  {
   "metadata": {},
   "cell_type": "code",
   "outputs": [],
   "execution_count": null,
   "source": "",
   "id": "2053cb3907a0c44"
  }
 ],
 "metadata": {
  "kernelspec": {
   "display_name": "Python 3",
   "language": "python",
   "name": "python3"
  },
  "language_info": {
   "codemirror_mode": {
    "name": "ipython",
    "version": 2
   },
   "file_extension": ".py",
   "mimetype": "text/x-python",
   "name": "python",
   "nbconvert_exporter": "python",
   "pygments_lexer": "ipython2",
   "version": "2.7.6"
  }
 },
 "nbformat": 4,
 "nbformat_minor": 5
}
