{
 "cells": [
  {
   "cell_type": "code",
   "execution_count": 8,
   "metadata": {
    "collapsed": true
   },
   "outputs": [
    {
     "name": "stdout",
     "output_type": "stream",
     "text": [
      "The autoreload extension is already loaded. To reload it, use:\n",
      "  %reload_ext autoreload\n"
     ]
    }
   ],
   "source": [
    "%load_ext autoreload\n",
    "%autoreload 2"
   ]
  },
  {
   "cell_type": "code",
   "execution_count": 12,
   "outputs": [
    {
     "name": "stdout",
     "output_type": "stream",
     "text": [
      "Original images:  434\n",
      "Images with xml:  371\n",
      "Images with position:  371\n",
      "Images with height:  371\n",
      "Images with focal length:  368\n",
      "Images with complexity:  38\n",
      "1846_1 4\n",
      "1848_1 7\n",
      "1848_2 5\n"
     ]
    }
   ],
   "source": [
    "import src.other.extract.extract_ids_for_sfm as eifs\n",
    "\n",
    "grouped_ids = eifs.extract_ids_for_sfm(min_nr=4, min_complexity=0.5, image_xml=True, resampled=False)\n",
    "\n",
    "for key, value in grouped_ids.items():\n",
    "    print(key, len(value))"
   ],
   "metadata": {
    "collapsed": false
   }
  },
  {
   "cell_type": "code",
   "execution_count": 14,
   "outputs": [
    {
     "name": "stdout",
     "output_type": "stream",
     "text": [
      "['CA184832V0146', 'CA184832V0147', 'CA184832V0148', 'CA184832V0149', 'CA184832V0150']\n"
     ]
    }
   ],
   "source": [
    "print(grouped_ids[\"1848_2\"])"
   ],
   "metadata": {
    "collapsed": false
   }
  },
  {
   "cell_type": "code",
   "execution_count": null,
   "outputs": [],
   "source": [],
   "metadata": {
    "collapsed": false
   }
  }
 ],
 "metadata": {
  "kernelspec": {
   "display_name": "Python 3",
   "language": "python",
   "name": "python3"
  },
  "language_info": {
   "codemirror_mode": {
    "name": "ipython",
    "version": 2
   },
   "file_extension": ".py",
   "mimetype": "text/x-python",
   "name": "python",
   "nbconvert_exporter": "python",
   "pygments_lexer": "ipython2",
   "version": "2.7.6"
  }
 },
 "nbformat": 4,
 "nbformat_minor": 0
}
