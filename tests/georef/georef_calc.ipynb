{
 "cells": [
  {
   "cell_type": "code",
   "execution_count": null,
   "outputs": [],
   "source": [
    "%load_ext autoreload\n",
    "%autoreload 2"
   ],
   "metadata": {
    "collapsed": false
   }
  },
  {
   "cell_type": "code",
   "execution_count": null,
   "outputs": [],
   "source": [
    "img_id = \"CA184632V0344\""
   ],
   "metadata": {
    "collapsed": false
   }
  },
  {
   "cell_type": "code",
   "execution_count": 2,
   "id": "initial_id",
   "metadata": {
    "collapsed": true
   },
   "outputs": [
    {
     "name": "stdout",
     "output_type": "stream",
     "text": [
      "   FID                                           geometry\n",
      "0  0.0  POLYGON ((-1928216.548 754552.786, -1920582.54...\n",
      "1  NaN  POLYGON ((-1930626.799 755375.804, -1923431.57...\n"
     ]
    },
    {
     "name": "stderr",
     "output_type": "stream",
     "text": [
      "ERROR 1: PROJ: proj_create_from_database: Open of /home/fdahle/miniconda3/envs/conda_antarctic/share/proj failed\n"
     ]
    }
   ],
   "source": [
    "import src.load.load_shape_data as lsd\n",
    "\n",
    "path_sat_shapefile = \"/data_1/ATM/data_1/georef/sat.shp\"\n",
    "\n",
    "# load the shapefile with the images\n",
    "georef_shapes = lsd.load_shape_data(path_sat_shapefile)\n",
    "\n",
    "# filter the shapefile to only include the image of the same TMA line\n",
    "\n",
    "\n",
    "print(georef_shapes)"
   ]
  },
  {
   "cell_type": "code",
   "execution_count": null,
   "outputs": [],
   "source": [],
   "metadata": {
    "collapsed": false
   }
  }
 ],
 "metadata": {
  "kernelspec": {
   "display_name": "Python 3",
   "language": "python",
   "name": "python3"
  },
  "language_info": {
   "codemirror_mode": {
    "name": "ipython",
    "version": 2
   },
   "file_extension": ".py",
   "mimetype": "text/x-python",
   "name": "python",
   "nbconvert_exporter": "python",
   "pygments_lexer": "ipython2",
   "version": "2.7.6"
  }
 },
 "nbformat": 4,
 "nbformat_minor": 5
}
