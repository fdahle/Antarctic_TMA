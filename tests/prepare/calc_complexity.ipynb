{
 "cells": [
  {
   "cell_type": "code",
   "execution_count": 1,
   "metadata": {
    "collapsed": true
   },
   "outputs": [],
   "source": [
    "%load_ext autoreload\n",
    "%autoreload 2"
   ]
  },
  {
   "cell_type": "code",
   "execution_count": 2,
   "outputs": [],
   "source": [
    "mode = \"random\"  # can be 'random' or 'id'\n",
    "image_id = \"CA214331L0344\""
   ],
   "metadata": {
    "collapsed": false
   }
  },
  {
   "cell_type": "code",
   "execution_count": 19,
   "outputs": [],
   "source": [
    "import src.base.connect_to_database as ctd\n",
    "import src.base.create_mask as cm\n",
    "import src.load.load_image as li\n",
    "\n",
    "# create connection to database\n",
    "conn = ctd.establish_connection()\n",
    "\n",
    "# if mode is 'random', get random image id\n",
    "if mode == \"random\":\n",
    "    sql_string = \"SELECT image_id FROM images ORDER BY RANDOM() LIMIT 1\"\n",
    "    image_id = ctd.execute_sql(sql_string, conn)['image_id'].iloc[0]\n",
    "\n",
    "# load image\n",
    "image = li.load_image(image_id)\n",
    "\n",
    "mask = cm.create_mask(image, use_default_fiducials=True)"
   ],
   "metadata": {
    "collapsed": false
   }
  },
  {
   "cell_type": "code",
   "execution_count": 21,
   "outputs": [],
   "source": [
    "import src.display.display_images as di\n",
    "import src.prepare.calc_complexity as cc\n",
    "\n",
    "complexity = cc.calc_complexity(image, mask=mask)\n",
    "\n",
    "style_config = {\"title\": f\"Complexity: {complexity:.2f}\"}\n",
    "di.display_images([image], style_config=style_config)"
   ],
   "metadata": {
    "collapsed": false
   }
  },
  {
   "cell_type": "code",
   "execution_count": null,
   "outputs": [],
   "source": [],
   "metadata": {
    "collapsed": false
   }
  }
 ],
 "metadata": {
  "kernelspec": {
   "display_name": "Python 3",
   "language": "python",
   "name": "python3"
  },
  "language_info": {
   "codemirror_mode": {
    "name": "ipython",
    "version": 2
   },
   "file_extension": ".py",
   "mimetype": "text/x-python",
   "name": "python",
   "nbconvert_exporter": "python",
   "pygments_lexer": "ipython2",
   "version": "2.7.6"
  }
 },
 "nbformat": 4,
 "nbformat_minor": 0
}
