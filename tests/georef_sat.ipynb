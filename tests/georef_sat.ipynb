{
 "cells": [
  {
   "cell_type": "code",
   "execution_count": null,
   "id": "initial_id",
   "metadata": {
    "collapsed": true
   },
   "outputs": [],
   "source": [
    "img_id = \"CA184632V0341\""
   ]
  },
  {
   "cell_type": "code",
   "outputs": [],
   "source": [
    "import src.load.load_image as ld\n",
    "\n",
    "path_data_fld = \"C:/Users/Felix/Documents/GitHub/Antarctic_TMA/data\"\n",
    "\n",
    "# load image to geo-reference\n",
    "image1 = ld.load_image(path_data_fld + \"/images/CA184632V0341.tif\")\n",
    "\n"
   ],
   "metadata": {
    "collapsed": false
   },
   "id": "9b318989a3fd394d"
  }
 ],
 "metadata": {
  "kernelspec": {
   "display_name": "Python 3",
   "language": "python",
   "name": "python3"
  },
  "language_info": {
   "codemirror_mode": {
    "name": "ipython",
    "version": 2
   },
   "file_extension": ".py",
   "mimetype": "text/x-python",
   "name": "python",
   "nbconvert_exporter": "python",
   "pygments_lexer": "ipython2",
   "version": "2.7.6"
  }
 },
 "nbformat": 4,
 "nbformat_minor": 5
}
