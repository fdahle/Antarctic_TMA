{
 "cells": [
  {
   "cell_type": "code",
   "execution_count": 1,
   "metadata": {
    "collapsed": true
   },
   "outputs": [],
   "source": [
    "%load_ext autoreload\n",
    "%autoreload 2"
   ]
  },
  {
   "cell_type": "code",
   "execution_count": 2,
   "outputs": [],
   "source": [
    "mode = \"random\"  # can 'random' or 'id'\n",
    "image_id = None"
   ],
   "metadata": {
    "collapsed": false
   }
  },
  {
   "cell_type": "code",
   "execution_count": 3,
   "outputs": [
    {
     "name": "stdout",
     "output_type": "stream",
     "text": [
      "Estimate cam id for CA215032V0229\n",
      "54-655\n"
     ]
    }
   ],
   "source": [
    "import src.base.connect_to_database as ctd\n",
    "import src.estimate.estimate_cam_id as eci\n",
    "\n",
    "\n",
    "# create a connection to the database\n",
    "conn = ctd.establish_connection()\n",
    "\n",
    "# if mode is 'random', get a random image id\n",
    "if mode == \"random\":\n",
    "    sql_string = \"SELECT image_id FROM images_extracted WHERE cam_id is NULL \" \\\n",
    "                 \"ORDER BY RANDOM() LIMIT 1\"\n",
    "    image_id = ctd.execute_sql(sql_string, conn).iloc[0]['image_id']\n",
    "\n",
    "print(f\"Estimate cam id for {image_id}\")\n",
    "\n",
    "# estimate the focal length\n",
    "cam_id = eci.estimate_cam_id(image_id, conn)\n",
    "\n",
    "print(cam_id)\n"
   ],
   "metadata": {
    "collapsed": false
   }
  },
  {
   "cell_type": "code",
   "execution_count": null,
   "outputs": [],
   "source": [],
   "metadata": {
    "collapsed": false
   }
  }
 ],
 "metadata": {
  "kernelspec": {
   "display_name": "Python 3",
   "language": "python",
   "name": "python3"
  },
  "language_info": {
   "codemirror_mode": {
    "name": "ipython",
    "version": 2
   },
   "file_extension": ".py",
   "mimetype": "text/x-python",
   "name": "python",
   "nbconvert_exporter": "python",
   "pygments_lexer": "ipython2",
   "version": "2.7.6"
  }
 },
 "nbformat": 4,
 "nbformat_minor": 0
}
