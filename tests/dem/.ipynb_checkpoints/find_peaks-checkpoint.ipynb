{
 "cells": [
  {
   "cell_type": "code",
   "metadata": {
    "collapsed": true
   },
   "source": [
    "%load_ext autoreload\n",
    "%autoreload 2"
   ],
   "outputs": [],
   "execution_count": null
  },
  {
   "metadata": {
    "ExecuteTime": {
     "end_time": "2024-07-01T11:57:41.166326Z",
     "start_time": "2024-07-01T11:57:41.159336Z"
    }
   },
   "cell_type": "code",
   "source": "print(\"TEST\")",
   "outputs": [
    {
     "name": "stdout",
     "output_type": "stream",
     "text": [
      "TEST\n"
     ]
    }
   ],
   "execution_count": 1
  },
  {
   "cell_type": "code",
   "source": [
    "import numpy as np\n",
    "import src.dem.find_peaks as fp\n",
    "import src.load.load_image as li\n",
    "\n",
    "path_dem = \"/home/fdahle/Desktop/agi_test/output/dem_relative.tif\"\n",
    "\n",
    "# load a dem\n",
    "dem = li.load_image(path_dem)\n",
    "\n",
    "print(dem.shape)\n",
    "exit()\n",
    "\n",
    "# find the peaks of a dem\n",
    "peaks = fp.find_peaks(dem)\n",
    "\n",
    "# set no data to nan\n",
    "dem[dem == -99999] = np.nan\n",
    "\n",
    "print(np.amin(dem), np.amax(dem))\n",
    "\n",
    "import src.display.display_images as di\n",
    "#di.display_images([dem])\n"
   ],
   "metadata": {
    "collapsed": false,
    "ExecuteTime": {
     "end_time": "2024-07-01T11:58:12.207133Z",
     "start_time": "2024-07-01T11:58:11.263259Z"
    }
   },
   "outputs": [
    {
     "name": "stdout",
     "output_type": "stream",
     "text": [
      "HI\n",
      "(2292, 4338)\n",
      "-32767.0 -1.5389673\n"
     ]
    }
   ],
   "execution_count": 1
  },
  {
   "cell_type": "code",
   "source": [],
   "metadata": {
    "collapsed": false
   },
   "outputs": [],
   "execution_count": null
  }
 ],
 "metadata": {
  "kernelspec": {
   "display_name": "Python 3",
   "language": "python",
   "name": "python3"
  },
  "language_info": {
   "codemirror_mode": {
    "name": "ipython",
    "version": 2
   },
   "file_extension": ".py",
   "mimetype": "text/x-python",
   "name": "python",
   "nbconvert_exporter": "python",
   "pygments_lexer": "ipython2",
   "version": "2.7.6"
  }
 },
 "nbformat": 4,
 "nbformat_minor": 0
}
