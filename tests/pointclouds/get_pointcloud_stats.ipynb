{
 "cells": [
  {
   "cell_type": "code",
   "execution_count": 1,
   "outputs": [],
   "source": [
    "%load_ext autoreload\n",
    "%autoreload 2"
   ],
   "metadata": {
    "collapsed": false
   }
  },
  {
   "cell_type": "code",
   "execution_count": 2,
   "metadata": {
    "collapsed": true
   },
   "outputs": [],
   "source": [
    "pc_path = \"/home/fdahle/Desktop/pointclouds/AperiCloud_Relative__mini.ply\""
   ]
  },
  {
   "cell_type": "code",
   "execution_count": 7,
   "outputs": [
    {
     "name": "stdout",
     "output_type": "stream",
     "text": [
      "There are 21094 points in the pointcloud\n",
      "(X) min: -23.856842041015625 max: 26.470783233642578, extent: 50.3276252746582\n",
      "(Y) min: -0.9540908336639404 max: 16.306608200073242, extent: 17.260699033737183\n",
      "(Z) min: -13.923935890197754 max: 0.7604328989982605, extent: 14.684368789196014\n"
     ]
    }
   ],
   "source": [
    "import src.load.load_pointcloud as lp\n",
    "\n",
    "points = lp.load_pointcloud(pc_path)\n",
    "\n",
    "print(f\"There are {points.shape[0]} points in the pointcloud\")\n",
    "print(f\"(X) min: {points[:,0].min()} max: {points[:,0].max()}, extent: {points[:,0].max() - points[:,0].min()}\")\n",
    "print(f\"(Y) min: {points[:,1].min()} max: {points[:,1].max()}, extent: {points[:,1].max() - points[:,1].min()}\")\n",
    "print(f\"(Z) min: {points[:,2].min()} max: {points[:,2].max()}, extent: {points[:,2].max() - points[:,2].min()}\")"
   ],
   "metadata": {
    "collapsed": false
   }
  },
  {
   "cell_type": "code",
   "execution_count": null,
   "outputs": [],
   "source": [],
   "metadata": {
    "collapsed": false
   }
  }
 ],
 "metadata": {
  "kernelspec": {
   "display_name": "Python 3",
   "language": "python",
   "name": "python3"
  },
  "language_info": {
   "codemirror_mode": {
    "name": "ipython",
    "version": 2
   },
   "file_extension": ".py",
   "mimetype": "text/x-python",
   "name": "python",
   "nbconvert_exporter": "python",
   "pygments_lexer": "ipython2",
   "version": "2.7.6"
  }
 },
 "nbformat": 4,
 "nbformat_minor": 0
}
