{
 "cells": [
  {
   "cell_type": "code",
   "id": "initial_id",
   "metadata": {
    "collapsed": true,
    "ExecuteTime": {
     "end_time": "2024-07-31T08:44:47.042046Z",
     "start_time": "2024-07-31T08:44:47.019774Z"
    }
   },
   "source": [
    "%load_ext autoreload\n",
    "%autoreload 2"
   ],
   "outputs": [],
   "execution_count": 1
  },
  {
   "metadata": {
    "ExecuteTime": {
     "end_time": "2024-07-31T08:44:47.174597Z",
     "start_time": "2024-07-31T08:44:47.159028Z"
    }
   },
   "cell_type": "code",
   "source": "project_name = \"diff_flight_paths2\"",
   "id": "b540231c98501ec4",
   "outputs": [],
   "execution_count": 2
  },
  {
   "metadata": {
    "ExecuteTime": {
     "end_time": "2024-07-31T08:44:47.988793Z",
     "start_time": "2024-07-31T08:44:47.315923Z"
    }
   },
   "cell_type": "code",
   "source": [
    "import os\n",
    "import numpy as np\n",
    "import shapely\n",
    "import src.base.connect_to_database as ctd\n",
    "import src.load.load_image as li\n",
    "\n",
    "conn = ctd.establish_connection()\n",
    "\n",
    "# define project paths\n",
    "PATH_PROJECT_FOLDERS = \"/data/ATM/data_1/sfm/agi_projects\"\n",
    "project_fld = os.path.join(PATH_PROJECT_FOLDERS, project_name)\n",
    "data_fld = os.path.join(project_fld, \"data\")\n",
    "output_fld = os.path.join(project_fld, \"output\")\n",
    "\n",
    "# get all image ids\n",
    "image_fld = os.path.join(data_fld, \"images\")\n",
    "images = [image.split(\".\")[0] for image in os.listdir(image_fld)]\n",
    "\n",
    "# get all footprints\n",
    "sql_string = \"SELECT st_astext(footprint_exact) AS footprint_exact, azimuth_exact FROM images_georef WHERE image_id in ('{}')\".format(\n",
    "    \"', '\".join(images)\n",
    ")\n",
    "data = ctd.execute_sql(sql_string, conn)\n",
    "# extract footprints \n",
    "footprints = [shapely.from_wkt(footprint) for footprint in data[\"footprint_exact\"].tolist()]\n",
    "# extract average azimuth\n",
    "azimuth = np.mean(data['azimuth_exact'])\n",
    "\n",
    "# create list with only TRUE values based on footprints\n",
    "aligned = [False] * len(footprints)\n",
    "for i in range(8):\n",
    "    aligned[i] = True\n",
    "\n",
    "# load ortho\n",
    "ortho_path = os.path.join(output_fld, project_name + \"_ortho_relative.tif\")\n",
    "ortho = li.load_image(ortho_path)\n",
    "\n",
    "# get first band of ortho if it has more than one band\n",
    "if len(ortho.shape) == 3:\n",
    "    ortho = ortho[0]\n"
   ],
   "id": "fe789193933b8def",
   "outputs": [],
   "execution_count": 3
  },
  {
   "metadata": {
    "ExecuteTime": {
     "end_time": "2024-07-31T09:15:44.030185Z",
     "start_time": "2024-07-31T09:15:35.818630Z"
    }
   },
   "cell_type": "code",
   "source": [
    "import src.sfm_agi.snippets.georef_ortho as go\n",
    "\n",
    "transform = go.georef_ortho(ortho, footprints, aligned, azimuth=azimuth)"
   ],
   "id": "af3177f1243b2dc5",
   "outputs": [
    {
     "name": "stdout",
     "output_type": "stream",
     "text": [
      "(1042, 2)\n",
      "(2, 3)\n",
      "[-1698100.           892270.             6449.79638672     2545.83911133]\n"
     ]
    }
   ],
   "execution_count": 8
  },
  {
   "metadata": {
    "ExecuteTime": {
     "end_time": "2024-07-31T09:15:46.927574Z",
     "start_time": "2024-07-31T09:15:46.843821Z"
    }
   },
   "cell_type": "code",
   "source": [
    "import src.georef.snippets.apply_transform as at\n",
    "\n",
    "output_path = \"/home/fdahle/Desktop/test_ortho.tif\"\n",
    "\n",
    "print(transform)\n",
    "\n",
    "at.apply_transform(ortho, transform=transform, save_path=output_path)"
   ],
   "id": "e0557919ce5cb66b",
   "outputs": [
    {
     "name": "stdout",
     "output_type": "stream",
     "text": [
      "[[      -2.26029098       -4.50566822 -1672097.37602715]\n",
      " [      -4.50543852        2.25634231   915671.87958412]\n",
      " [       0.                0.                1.        ]]\n"
     ]
    }
   ],
   "execution_count": 9
  },
  {
   "metadata": {},
   "cell_type": "code",
   "source": "",
   "id": "736776e119424118",
   "outputs": [],
   "execution_count": null
  }
 ],
 "metadata": {
  "kernelspec": {
   "display_name": "Python 3",
   "language": "python",
   "name": "python3"
  },
  "language_info": {
   "codemirror_mode": {
    "name": "ipython",
    "version": 2
   },
   "file_extension": ".py",
   "mimetype": "text/x-python",
   "name": "python",
   "nbconvert_exporter": "python",
   "pygments_lexer": "ipython2",
   "version": "2.7.6"
  }
 },
 "nbformat": 4,
 "nbformat_minor": 5
}
