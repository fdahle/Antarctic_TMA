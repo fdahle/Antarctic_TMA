{
 "cells": [
  {
   "cell_type": "code",
   "execution_count": 1,
   "id": "initial_id",
   "metadata": {
    "collapsed": true
   },
   "outputs": [],
   "source": [
    "%load_ext autoreload\n",
    "%autoreload 2"
   ]
  },
  {
   "cell_type": "code",
   "execution_count": 2,
   "outputs": [],
   "source": [
    "project_name = \"EGU2\"\n",
    "project_folder = \"/data_1/ATM/data_1/sfm/projects\"\n",
    "\n",
    "image_ids=[\"CA180132V0094\", \"CA180132V0095\", \"CA180132V0096\", \"CA180132V0097\",\n",
    "           \"CA180132V0098\", \"CA180132V0099\", \"CA180132V0100\", \"CA180132V0101\"]\n",
    "\n",
    "#image_ids = [\"CA214232V0160\", \"CA214232V0161\", \"CA214232V0162\", \"CA214232V0163\", \"CA214232V0164\", \"CA214232V0165\", \"CA214232V0166\"]\n",
    "\n",
    "#image_ids = [\"CA216432V0214\", \"CA216432V0215\", \"CA216432V0216\", \"CA216432V0217\", \"CA216432V0218\", \"CA216432V0219\"]\n",
    "#image_ids = [\"CA184632V0341\",\"CA184632V0342\", \"CA184632V0343\", \"CA184632V0344\"]\n",
    "#image_ids = [\"CA214732V0027\", \"CA214732V0028\", \"CA214732V0029\", \"CA214732V0030\", #\"CA214732V0031\", \"CA214732V0032\", \"CA214732V0033\", \"CA214732V0034\",\"CA214732V0035\"]"
   ],
   "metadata": {
    "collapsed": false
   }
  },
  {
   "cell_type": "code",
   "execution_count": 3,
   "outputs": [
    {
     "name": "stdout",
     "output_type": "stream",
     "text": [
      "Resume: True ; Overwrite: False\n",
      "Resuming project at /data_1/ATM/data_1/sfm/projects/EGU2\n"
     ]
    }
   ],
   "source": [
    "import src.sfm.SFMProject as sfmp\n",
    "\n",
    "sfmp = sfmp.SFMProject(project_name, project_folder, micmac_path=\"/home/fdahle/micmac/bin/mm3d\",\n",
    "                       resume=True, debug=True)"
   ],
   "metadata": {
    "collapsed": false
   }
  },
  {
   "cell_type": "code",
   "execution_count": null,
   "outputs": [],
   "source": [
    "sfmp.prepare_files(image_ids,\n",
    "                copy_masks=True,\n",
    "                copy_resampled=False,\n",
    "                copy_resampled_masks=False,\n",
    "                copy_xml=True,\n",
    "                copy_transform=True,\n",
    "                ignore_missing=True)\n",
    "sfmp.set_camera(\"1983\")"
   ],
   "metadata": {
    "collapsed": false
   }
  },
  {
   "cell_type": "code",
   "execution_count": 13,
   "outputs": [
    {
     "name": "stdout",
     "output_type": "stream",
     "text": [
      "/home/fdahle/micmac/bin/mm3d CenterBascule OIS-.*tif Relative Nav-Brut-RTL Adjusted\n",
      "********\n",
      "BEGIN Pre-compile\n",
      "NEW CALIB TheKeyCalib__Foc-152274_Cam-1983\n",
      "BEGIN Load Observation\n",
      "\"NKS-Set-Orient@-Relative\": 8 matches.\n",
      "Pack Obs NKS-Set-Orient@-Relative NB 8\n",
      "\"NKS-Set-Orient@-Nav-Brut-RTL\": 8 matches.\n",
      "Pack Obs NKS-Set-Orient@-Nav-Brut-RTL NB 8\n",
      "BEGIN Init Inconnues\n",
      "NUM 0 FOR OIS-Reech_CA180132V0094.tif\n",
      "NO GUIMBAL OIS-Reech_CA180132V0094.tif 0.999895\n",
      "NUM 1 FOR OIS-Reech_CA180132V0095.tif\n",
      "NO GUIMBAL OIS-Reech_CA180132V0095.tif 0.999997\n",
      "NUM 2 FOR OIS-Reech_CA180132V0096.tif\n",
      "NO GUIMBAL OIS-Reech_CA180132V0096.tif 1\n",
      "NUM 3 FOR OIS-Reech_CA180132V0097.tif\n",
      "NO GUIMBAL OIS-Reech_CA180132V0097.tif 0.999975\n",
      "NUM 4 FOR OIS-Reech_CA180132V0098.tif\n",
      "NO GUIMBAL OIS-Reech_CA180132V0098.tif 1\n",
      "NUM 5 FOR OIS-Reech_CA180132V0099.tif\n",
      "NO GUIMBAL OIS-Reech_CA180132V0099.tif 0.999949\n",
      "NUM 6 FOR OIS-Reech_CA180132V0100.tif\n",
      "NO GUIMBAL OIS-Reech_CA180132V0100.tif 0.999986\n",
      "NUM 7 FOR OIS-Reech_CA180132V0101.tif\n",
      "NO GUIMBAL OIS-Reech_CA180132V0101.tif 0.999999\n",
      "BEGIN Compensation\n",
      "BEGIN AMD \n",
      "END AMD \n",
      "APPLI APERO, NbUnknown = 56\n",
      "Basc-Residual OIS-Reech_CA180132V0094.tif [79.3729,-16.101,-9.95988]\n",
      "Basc-Residual OIS-Reech_CA180132V0095.tif [-135.267,-27.438,7.10992]\n",
      "Basc-Residual OIS-Reech_CA180132V0096.tif [-57.8009,-13.909,-6.98392]\n",
      "Basc-Residual OIS-Reech_CA180132V0097.tif [102.507,-20.4367,25.6859]\n",
      "Basc-Residual OIS-Reech_CA180132V0098.tif [32.2041,184.946,-43.1864]\n",
      "Basc-Residual OIS-Reech_CA180132V0099.tif [-20.4503,-12.9097,16.0286]\n",
      "Basc-Residual OIS-Reech_CA180132V0100.tif [70.6482,-100.177,50.471]\n",
      "Basc-Residual OIS-Reech_CA180132V0101.tif [-71.214,6.02505,-39.1653]\n",
      "--- End Iter 0 STEP 0\n",
      "\n",
      "\n",
      " *********************************\n",
      " *     A-erotriangulation        *\n",
      " *     P-hotogrammetrique        *\n",
      " *     E-xperimentale            *\n",
      " *     R-elativement             *\n",
      " *     O-perationelle            *\n",
      " *********************************\n",
      "\n",
      "\n",
      "\n",
      "*** There were 16 warnings of 2 different type \n",
      "***  See ./WarnApero.txt for all warn description \n",
      "***  First warn occured \n",
      "\n",
      "8 occurence of warn type [Focal length specified both by xif and NKS-Assoc-STD-FOC]\n",
      "First context message : Cam=./OIS-Reech_CA180132V0094.tif\n",
      "First detected at line :  1085 of File /home/fdahle/micmac/src/util/dates.cpp\n",
      "Com = /home/fdahle/micmac/bin/mm3d Apero /home/fdahle/micmac/include/XML_MicMac/Apero-Center-Bascule.xml  DirectoryChantier=./  +PatternAllIm=\"OIS-.*tif\"  +AeroIn=Relative +AeroOut=Adjusted +BDDC=Nav-Brut-RTL\n",
      "CenterBascule finished successfully.\n"
     ]
    },
    {
     "ename": "TypeError",
     "evalue": "CenterBascule.extract_stats() takes 2 positional arguments but 3 were given",
     "output_type": "error",
     "traceback": [
      "\u001B[0;31m---------------------------------------------------------------------------\u001B[0m",
      "\u001B[0;31mTypeError\u001B[0m                                 Traceback (most recent call last)",
      "Cell \u001B[0;32mIn[13], line 9\u001B[0m\n\u001B[1;32m      5\u001B[0m     micmac_args \u001B[38;5;241m=\u001B[39m json\u001B[38;5;241m.\u001B[39mload(file)\n\u001B[1;32m      7\u001B[0m print_all_output \u001B[38;5;241m=\u001B[39m \u001B[38;5;28;01mTrue\u001B[39;00m\n\u001B[0;32m----> 9\u001B[0m \u001B[43msfmp\u001B[49m\u001B[38;5;241;43m.\u001B[39;49m\u001B[43mstart\u001B[49m\u001B[43m(\u001B[49m\u001B[38;5;124;43m\"\u001B[39;49m\u001B[38;5;124;43mmanual\u001B[39;49m\u001B[38;5;124;43m\"\u001B[39;49m\u001B[43m,\u001B[49m\u001B[43m \u001B[49m\u001B[43m[\u001B[49m\u001B[38;5;124;43m\"\u001B[39;49m\u001B[38;5;124;43mCenterBascule\u001B[39;49m\u001B[38;5;124;43m\"\u001B[39;49m\u001B[43m]\u001B[49m\u001B[43m,\u001B[49m\n\u001B[1;32m     10\u001B[0m \u001B[43m           \u001B[49m\u001B[43mmicmac_args\u001B[49m\u001B[43m,\u001B[49m\n\u001B[1;32m     11\u001B[0m \u001B[43m           \u001B[49m\u001B[43mprint_all_output\u001B[49m\u001B[38;5;241;43m=\u001B[39;49m\u001B[43mprint_all_output\u001B[49m\u001B[43m,\u001B[49m\n\u001B[1;32m     12\u001B[0m \u001B[43m           \u001B[49m\u001B[43msave_stats\u001B[49m\u001B[38;5;241;43m=\u001B[39;49m\u001B[38;5;28;43;01mTrue\u001B[39;49;00m\u001B[43m,\u001B[49m\u001B[43m \u001B[49m\u001B[43msave_raw\u001B[49m\u001B[38;5;241;43m=\u001B[39;49m\u001B[38;5;28;43;01mTrue\u001B[39;49;00m\u001B[43m)\u001B[49m\n",
      "File \u001B[0;32m~/Documents/GitHub/Antarctic_TMA/src/sfm/SFMProject.py:550\u001B[0m, in \u001B[0;36mSFMProject.start\u001B[0;34m(self, mode, commands, micmac_args, print_all_output, save_stats, save_raw)\u001B[0m\n\u001B[1;32m    547\u001B[0m     \u001B[38;5;28;01mraise\u001B[39;00m \u001B[38;5;167;01mException\u001B[39;00m(exc_string)\n\u001B[1;32m    549\u001B[0m \u001B[38;5;66;03m# execute the command\u001B[39;00m\n\u001B[0;32m--> 550\u001B[0m \u001B[38;5;28;43mself\u001B[39;49m\u001B[38;5;241;43m.\u001B[39;49m\u001B[43m_execute_command\u001B[49m\u001B[43m(\u001B[49m\u001B[43mcommand\u001B[49m\u001B[43m,\u001B[49m\u001B[43m \u001B[49m\u001B[43mcommand_name\u001B[49m\u001B[43m,\u001B[49m\n\u001B[1;32m    551\u001B[0m \u001B[43m                      \u001B[49m\u001B[43mcmd_args\u001B[49m\u001B[43m,\u001B[49m\u001B[43m \u001B[49m\u001B[43mprint_all_output\u001B[49m\u001B[43m,\u001B[49m\u001B[43m \u001B[49m\u001B[43msave_stats\u001B[49m\u001B[43m,\u001B[49m\u001B[43m \u001B[49m\u001B[43msave_raw\u001B[49m\u001B[43m)\u001B[49m\n",
      "File \u001B[0;32m~/Documents/GitHub/Antarctic_TMA/src/sfm/SFMProject.py:623\u001B[0m, in \u001B[0;36mSFMProject._execute_command\u001B[0;34m(self, command, command_name, mm_args, print_all_output, save_stats, save_raw)\u001B[0m\n\u001B[1;32m    621\u001B[0m     mm_command\u001B[38;5;241m.\u001B[39mexecute_custom_cmd()\n\u001B[1;32m    622\u001B[0m \u001B[38;5;28;01melse\u001B[39;00m:\n\u001B[0;32m--> 623\u001B[0m     \u001B[43mmm_command\u001B[49m\u001B[38;5;241;43m.\u001B[39;49m\u001B[43mexecute_shell_cmd\u001B[49m\u001B[43m(\u001B[49m\u001B[38;5;28;43mself\u001B[39;49m\u001B[38;5;241;43m.\u001B[39;49m\u001B[43mmicmac_path\u001B[49m\u001B[43m)\u001B[49m\n",
      "File \u001B[0;32m~/Documents/GitHub/Antarctic_TMA/src/sfm/mm_commands/_base_command.py:119\u001B[0m, in \u001B[0;36mBaseCommand.execute_shell_cmd\u001B[0;34m(self, mm_path)\u001B[0m\n\u001B[1;32m    116\u001B[0m     \u001B[38;5;28mprint\u001B[39m(\u001B[38;5;124mf\u001B[39m\u001B[38;5;124m\"\u001B[39m\u001B[38;5;132;01m{\u001B[39;00mkey\u001B[38;5;132;01m}\u001B[39;00m\u001B[38;5;124m finished successfully.\u001B[39m\u001B[38;5;124m\"\u001B[39m)\n\u001B[1;32m    118\u001B[0m \u001B[38;5;28;01mif\u001B[39;00m \u001B[38;5;28mself\u001B[39m\u001B[38;5;241m.\u001B[39msave_stats:\n\u001B[0;32m--> 119\u001B[0m     \u001B[38;5;28;43mself\u001B[39;49m\u001B[38;5;241;43m.\u001B[39;49m\u001B[43mextract_stats\u001B[49m\u001B[43m(\u001B[49m\u001B[38;5;28;43mself\u001B[39;49m\u001B[38;5;241;43m.\u001B[39;49m\u001B[43mcommand_name\u001B[49m\u001B[43m,\u001B[49m\u001B[43m \u001B[49m\u001B[43mraw_output\u001B[49m\u001B[43m)\u001B[49m\n\u001B[1;32m    121\u001B[0m \u001B[38;5;28;01mif\u001B[39;00m \u001B[38;5;28mself\u001B[39m\u001B[38;5;241m.\u001B[39mprint_all_output:\n\u001B[1;32m    122\u001B[0m     \u001B[38;5;28mprint\u001B[39m(\u001B[38;5;124m\"\u001B[39m\u001B[38;5;124m********\u001B[39m\u001B[38;5;124m\"\u001B[39m)\n",
      "\u001B[0;31mTypeError\u001B[0m: CenterBascule.extract_stats() takes 2 positional arguments but 3 were given"
     ]
    }
   ],
   "source": [
    "import json\n",
    "\n",
    "json_path = \"/home/fdahle/Documents/GitHub/Antarctic_TMA/tests/sfm/project_args.json\"\n",
    "with open(json_path, 'r') as file:\n",
    "    micmac_args = json.load(file)\n",
    "\n",
    "print_all_output = True\n",
    "\n",
    "sfmp.start(\"manual\", [\"CenterBascule\"],\n",
    "           micmac_args,\n",
    "           print_all_output=print_all_output,\n",
    "           save_stats=True, save_raw=True)"
   ],
   "metadata": {
    "collapsed": false
   }
  },
  {
   "cell_type": "markdown",
   "source": [],
   "metadata": {
    "collapsed": false
   }
  },
  {
   "cell_type": "code",
   "execution_count": null,
   "outputs": [],
   "source": [],
   "metadata": {
    "collapsed": false
   }
  }
 ],
 "metadata": {
  "kernelspec": {
   "display_name": "Python 3",
   "language": "python",
   "name": "python3"
  },
  "language_info": {
   "codemirror_mode": {
    "name": "ipython",
    "version": 2
   },
   "file_extension": ".py",
   "mimetype": "text/x-python",
   "name": "python",
   "nbconvert_exporter": "python",
   "pygments_lexer": "ipython2",
   "version": "2.7.6"
  }
 },
 "nbformat": 4,
 "nbformat_minor": 5
}
