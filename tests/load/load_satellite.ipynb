{
 "cells": [
  {
   "cell_type": "code",
   "id": "initial_id",
   "metadata": {
    "collapsed": true,
    "ExecuteTime": {
     "end_time": "2024-07-29T08:10:04.107423Z",
     "start_time": "2024-07-29T08:10:04.091544Z"
    }
   },
   "source": [
    "%load_ext autoreload\n",
    "%autoreload 2"
   ],
   "outputs": [],
   "execution_count": 1
  },
  {
   "metadata": {
    "ExecuteTime": {
     "end_time": "2024-07-29T08:25:33.794248Z",
     "start_time": "2024-07-29T08:25:33.739960Z"
    }
   },
   "cell_type": "code",
   "source": [
    "import src.base.connect_to_database as ctd\n",
    "import shapely\n",
    "\n",
    "image_id='CA135232V0214'\n",
    "\n",
    "conn = ctd.establish_connection()\n",
    "\n",
    "# get month\n",
    "sql_string = f\"SELECT date_month from images WHERE image_id='{image_id}'\"\n",
    "data = ctd.execute_sql(sql_string, conn)\n",
    "month = data['date_month'].iloc[0]\n",
    "\n",
    "# get footprint\n",
    "sql_string = f\"SELECT st_astext(footprint_approx) AS footprint_approx FROM images_extracted WHERE image_id='{image_id}'\"\n",
    "data = ctd.execute_sql(sql_string, conn)\n",
    "footprint = data['footprint_approx'].iloc[0]\n",
    "footprint = shapely.from_wkt(footprint)\n"
   ],
   "id": "aca45ea84d2a6976",
   "outputs": [],
   "execution_count": 11
  },
  {
   "metadata": {
    "ExecuteTime": {
     "end_time": "2024-07-29T09:05:54.351567Z",
     "start_time": "2024-07-29T09:05:46.920404Z"
    }
   },
   "cell_type": "code",
   "source": [
    "import src.load.load_satellite as ls\n",
    "\n",
    "sat, _ = ls.load_satellite(footprint, month=month)"
   ],
   "id": "6aa4d6358f7f88e6",
   "outputs": [
    {
     "name": "stdout",
     "output_type": "stream",
     "text": [
      "LS None\n"
     ]
    }
   ],
   "execution_count": 14
  },
  {
   "metadata": {
    "ExecuteTime": {
     "end_time": "2024-07-29T08:25:41.924778Z",
     "start_time": "2024-07-29T08:25:39.714968Z"
    }
   },
   "cell_type": "code",
   "source": [
    "import src.display.display_images as di\n",
    "\n",
    "di.display_images(sat)"
   ],
   "id": "c3416dc14bfb2735",
   "outputs": [],
   "execution_count": 13
  },
  {
   "metadata": {},
   "cell_type": "code",
   "outputs": [],
   "execution_count": null,
   "source": "",
   "id": "7fc39c3ea2cf5cdb"
  }
 ],
 "metadata": {
  "kernelspec": {
   "display_name": "Python 3",
   "language": "python",
   "name": "python3"
  },
  "language_info": {
   "codemirror_mode": {
    "name": "ipython",
    "version": 2
   },
   "file_extension": ".py",
   "mimetype": "text/x-python",
   "name": "python",
   "nbconvert_exporter": "python",
   "pygments_lexer": "ipython2",
   "version": "2.7.6"
  }
 },
 "nbformat": 4,
 "nbformat_minor": 5
}
