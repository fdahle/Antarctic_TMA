{
 "cells": [
  {
   "cell_type": "code",
   "execution_count": 1,
   "metadata": {
    "collapsed": true
   },
   "outputs": [
    {
     "name": "stderr",
     "output_type": "stream",
     "text": [
      "License activated\n"
     ]
    }
   ],
   "source": [
    "import os\n",
    "os.environ['KMP_WARNINGS'] = '0'\n",
    "import Metashape\n",
    "\n",
    "import src.base.load_credentials as lc\n",
    "\n",
    "# get the license key\n",
    "licence_key = lc.load_credentials(\"agisoft\")['licence']\n",
    "\n",
    "# Activate the license\n",
    "Metashape.License().activate(licence_key)"
   ]
  },
  {
   "cell_type": "code",
   "execution_count": 2,
   "outputs": [],
   "source": [
    "image_ids = [\"CA180132V0094\", \"CA180132V0095\", \"CA180132V0096\", \"CA180132V0097\"]\n",
    "\n",
    "path_image_folder = \"/data_1/ATM/data_1/aerial/TMA/downloaded\"\n",
    "\n",
    "# create lst with absolute paths\n",
    "images = [os.path.join(path_image_folder, image + \".tif\") for image in image_ids]"
   ],
   "metadata": {
    "collapsed": false
   }
  },
  {
   "cell_type": "code",
   "execution_count": 3,
   "outputs": [
    {
     "name": "stdout",
     "output_type": "stream",
     "text": [
      "SaveProject: path = /data_1/ATM/data_1/sfm/agi_projects/fid_test/fid_test.psx\n",
      "saved project in 0.018377 sec\n",
      "LoadProject: path = /data_1/ATM/data_1/sfm/agi_projects/fid_test/fid_test.psx\n",
      "loaded project in 0.00085 sec\n",
      "AddPhotos\n"
     ]
    }
   ],
   "source": [
    "import shutil\n",
    "\n",
    "project_fld = \"/data_1/ATM/data_1/sfm/agi_projects/fid_test\"\n",
    "project_file_path = os.path.join(project_fld, \"fid_test.psx\")\n",
    "\n",
    "if os.path.exists(project_fld):\n",
    "    shutil.rmtree(project_fld)\n",
    "\n",
    "# create a metashape project object\n",
    "doc = Metashape.Document(read_only=False)\n",
    "\n",
    "# save the project with file path so that later steps can be resumed\n",
    "doc.save(project_file_path)\n",
    "\n",
    "# add chunk\n",
    "chunk = doc.addChunk()\n",
    "\n",
    "# add camera group\n",
    "group = chunk.addCameraGroup()\n",
    "group.type = Metashape.CameraGroup.Type.Folder\n",
    "# add cameras\n",
    "chunk.addPhotos(images)\n",
    "\n",
    "for camera in chunk.cameras:\n",
    "    camera.group = group\n",
    "    camera.sensor.film_camera = True\n",
    "    camera.sensor.fixed_calibration = True\n",
    "    camera.sensor.focal_length = 151.982\n"
   ],
   "metadata": {
    "collapsed": false
   }
  },
  {
   "cell_type": "code",
   "execution_count": 4,
   "outputs": [
    {
     "name": "stdout",
     "output_type": "stream",
     "text": [
      "DetectFiducials: generate_masks = on, mask_dark_pixels = on, generic_detector = off, frame_detector = on, fiducials_position_corners = off\n",
      "Processing camera CA180132V0094\n",
      "Detecting frame edges\n",
      "Found good frame.\n",
      "Detected frame edges in 3.9067 seconds\n",
      "Detecting background\n",
      "Detected in 1.97134 seconds\n",
      "Detecting fiducials \n",
      "Detected 4 fiducials in 5e-06 seconds\n",
      "Processing camera CA180132V0095\n",
      "Detecting frame edges\n",
      "Found good frame.\n",
      "Detected frame edges in 2.75778 seconds\n",
      "Detecting background\n",
      "Detected in 1.96667 seconds\n",
      "Detecting fiducials \n",
      "Detected 4 fiducials in 4e-06 seconds\n",
      "Processing camera CA180132V0096\n",
      "Detecting frame edges\n",
      "Found good frame.\n",
      "Detected frame edges in 2.08882 seconds\n",
      "Detecting background\n",
      "Detected in 2.03634 seconds\n",
      "Detecting fiducials \n",
      "Detected 4 fiducials in 5e-06 seconds\n",
      "Processing camera CA180132V0097\n",
      "Detecting frame edges\n",
      "Found good frame.\n",
      "Detected frame edges in 1.64261 seconds\n",
      "Detecting background\n",
      "Detected in 2.17132 seconds\n",
      "Detecting fiducials \n",
      "Detected 4 fiducials in 5e-06 seconds\n",
      "SaveProject: path = /data_1/ATM/data_1/sfm/agi_projects/fid_test/fid_test.psx\n",
      "saved project in 0.006699 sec\n"
     ]
    }
   ],
   "source": [
    "# create list for cameras of [0, 1, 2, ..]\n",
    "camera_nrs = list(range(len(chunk.cameras)))\n",
    "\n",
    "# de\n",
    "chunk.detectFiducials(generate_masks=True, generic_detector=False, frame_detector=True, fiducials_position_corners=False)\n",
    "\n",
    "doc.save()"
   ],
   "metadata": {
    "collapsed": false
   }
  },
  {
   "cell_type": "code",
   "execution_count": 5,
   "outputs": [
    {
     "name": "stdout",
     "output_type": "stream",
     "text": [
      "SaveProject: path = /data_1/ATM/data_1/sfm/agi_projects/fid_test/fid_test.psx\n",
      "saved project in 0.01115 sec\n"
     ]
    }
   ],
   "source": [
    "for camera in chunk.cameras:\n",
    "    camera.sensor.calibrateFiducials(0.025)\n",
    "doc.save()"
   ],
   "metadata": {
    "collapsed": false
   }
  },
  {
   "cell_type": "code",
   "execution_count": null,
   "outputs": [],
   "source": [],
   "metadata": {
    "collapsed": false
   }
  },
  {
   "cell_type": "code",
   "execution_count": null,
   "outputs": [],
   "source": [],
   "metadata": {
    "collapsed": false
   }
  }
 ],
 "metadata": {
  "kernelspec": {
   "display_name": "Python 3",
   "language": "python",
   "name": "python3"
  },
  "language_info": {
   "codemirror_mode": {
    "name": "ipython",
    "version": 2
   },
   "file_extension": ".py",
   "mimetype": "text/x-python",
   "name": "python",
   "nbconvert_exporter": "python",
   "pygments_lexer": "ipython2",
   "version": "2.7.6"
  }
 },
 "nbformat": 4,
 "nbformat_minor": 0
}
