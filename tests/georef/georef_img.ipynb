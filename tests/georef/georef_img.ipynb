{
 "cells": [
  {
   "cell_type": "code",
   "execution_count": 1,
   "id": "initial_id",
   "metadata": {
    "collapsed": true
   },
   "outputs": [],
   "source": [
    "%load_ext autoreload\n",
    "%autoreload 2"
   ]
  },
  {
   "cell_type": "code",
   "outputs": [],
   "source": [
    "img_id=\"\""
   ],
   "metadata": {
    "collapsed": false
   },
   "id": "7e84610c883b7762",
   "execution_count": 2
  },
  {
   "cell_type": "code",
   "outputs": [],
   "source": [
    "import src.load.load_image as ld\n",
    "\n",
    "#path_data_fld = \"C:/Users/Felix/Documents/GitHub/Antarctic_TMA/data\"\n",
    "path_data_fld = \"/data_1/ATM/data_1/aerial/TMA/downloaded\"\n",
    "\n",
    "# load image to geo-reference\n",
    "image = ld.load_image(path_data_fld + f\"/{img_id}.tif\")\n",
    "print(image.shape)"
   ],
   "metadata": {
    "collapsed": false
   },
   "id": "2766e00ae25e017f"
  },
  {
   "cell_type": "code",
   "outputs": [],
   "source": [
    "import numpy as np\n",
    "\n",
    "mask = np.ones_like(image)\n",
    "pad_width = 500\n",
    "\n",
    "mask[:pad_width, :] = 0  # Top edge\n",
    "mask[-pad_width:, :] = 0  # Bottom edge\n",
    "mask[:, :pad_width] = 0  # Left edge\n",
    "mask[:, -pad_width:] = 0  # Right edge"
   ],
   "metadata": {
    "collapsed": false
   },
   "id": "3ab2a2cf2d829b71"
  },
  {
   "cell_type": "code",
   "outputs": [],
   "source": [
    "import src.georef.georef_img as gi\n",
    "\n",
    "georefImg = gi.GeorefImage(enhance_image=True, enhance_georef_images=True)\n",
    "\n",
    "georefImg.georeference(image, georeferenced_images, georeferenced_transforms)\n"
   ],
   "metadata": {
    "collapsed": false
   },
   "id": "b86c1f9ebeac96b8"
  }
 ],
 "metadata": {
  "kernelspec": {
   "display_name": "Python 3",
   "language": "python",
   "name": "python3"
  },
  "language_info": {
   "codemirror_mode": {
    "name": "ipython",
    "version": 2
   },
   "file_extension": ".py",
   "mimetype": "text/x-python",
   "name": "python",
   "nbconvert_exporter": "python",
   "pygments_lexer": "ipython2",
   "version": "2.7.6"
  }
 },
 "nbformat": 4,
 "nbformat_minor": 5
}
