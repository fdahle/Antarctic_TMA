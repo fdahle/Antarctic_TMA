{
 "cells": [
  {
   "cell_type": "code",
   "execution_count": 1,
   "outputs": [],
   "source": [
    "%load_ext autoreload\n",
    "%autoreload 2"
   ],
   "metadata": {
    "collapsed": false
   }
  },
  {
   "cell_type": "code",
   "execution_count": 2,
   "outputs": [],
   "source": [
    "img_id = \"CA184632V0333\"\n",
    "calc_types = [\"sat\", \"img\"]\n",
    "overwrite = False\n",
    "\n",
    "output_fld = \"/data/ATM/data_1/georef\""
   ],
   "metadata": {
    "collapsed": false
   }
  },
  {
   "cell_type": "code",
   "execution_count": 3,
   "outputs": [],
   "source": [
    "# load the image\n",
    "import src.load.load_image as li\n",
    "image = li.load_image(img_id)"
   ],
   "metadata": {
    "collapsed": false
   }
  },
  {
   "cell_type": "code",
   "execution_count": 4,
   "outputs": [],
   "source": [
    "import src.base.connect_to_database as ctd\n",
    "\n",
    "sql_string = f\"SELECT * FROM images WHERE image_id='{img_id}'\"\n",
    "conn = ctd.establish_connection()\n",
    "data = ctd.execute_sql(sql_string, conn)\n",
    "\n",
    "month = data.iloc[0]['date_month']\n"
   ],
   "metadata": {
    "collapsed": false
   }
  },
  {
   "cell_type": "markdown",
   "source": [
    "<h4>Load the shapefiles with the georeferenced images</h4>"
   ],
   "metadata": {
    "collapsed": false
   }
  },
  {
   "cell_type": "code",
   "execution_count": 5,
   "outputs": [],
   "source": [
    "import src.display.display_shapes as ds\n",
    "\n",
    "import src.load.load_shape_data as lsd\n",
    "\n",
    "path_sat_shapefile = \"/data/ATM/data_1/georef/sat.shp\"\n",
    "\n",
    "# load the shapefile with the images\n",
    "georef_shape_data = lsd.load_shape_data(path_sat_shapefile)\n",
    "\n",
    "# get the geometry\n",
    "georef_shapes = georef_shape_data.geometry\n",
    "\n",
    "# get the unique ids from the shapes\n",
    "georef_ids = georef_shape_data['image_id'].tolist()"
   ],
   "metadata": {
    "collapsed": false
   }
  },
  {
   "cell_type": "code",
   "execution_count": 6,
   "outputs": [],
   "source": [
    "# Filter out geo-referenced images and footprints that don't match the flight path\n",
    "filtered_georef_ids = []\n",
    "filtered_georef_shapes = []\n",
    "for i, geo_id in enumerate(georef_ids):\n",
    "    if geo_id[2:6] == img_id[2:6]:\n",
    "        filtered_georef_ids.append(geo_id)\n",
    "        filtered_georef_shapes.append(georef_shapes[i])\n",
    "\n",
    "# Replace the original lists with the filtered lists\n",
    "georef_ids = filtered_georef_ids\n",
    "georef_shapes = filtered_georef_shapes"
   ],
   "metadata": {
    "collapsed": false
   }
  },
  {
   "cell_type": "code",
   "execution_count": 9,
   "outputs": [],
   "source": [
    "import src.georef.georef_calc as gc\n",
    "\n",
    "GCalc = gc.GeorefCalc()\n",
    "\n",
    "transform, residuals, tps, conf = GCalc.georeference(image, img_id, georef_ids, georef_shapes)"
   ],
   "metadata": {
    "collapsed": false
   }
  },
  {
   "cell_type": "markdown",
   "source": [
    "<h4>Verify the image geometry and position</h4>"
   ],
   "metadata": {
    "collapsed": false
   }
  },
  {
   "cell_type": "code",
   "execution_count": 8,
   "outputs": [
    {
     "name": "stdout",
     "output_type": "stream",
     "text": [
      "True\n"
     ]
    }
   ],
   "source": [
    "import src.georef.snippets.verify_image_geometry as vig\n",
    "import src.georef.snippets.verify_image_position as vip\n",
    "\n",
    "# check if the geometry of the image is valid\n",
    "valid_geometry, reason = vig.verify_image_geometry(image, transform)\n",
    "\n",
    "# check if the image fits in the position of the other images\n",
    "#valid_position, reason = vip.verify_image_position(image, transform, georef_shapes)\n",
    "\n",
    "print(valid_geometry)\n"
   ],
   "metadata": {
    "collapsed": false
   }
  },
  {
   "cell_type": "markdown",
   "source": [
    "<h4>Save the data</h4>"
   ],
   "metadata": {
    "collapsed": false
   }
  },
  {
   "cell_type": "code",
   "execution_count": 43,
   "outputs": [
    {
     "name": "stdout",
     "output_type": "stream",
     "text": [
      "CA184632V0333 successfully saved\n"
     ]
    }
   ],
   "source": [
    "import numpy as np\n",
    "import pandas as pd\n",
    "\n",
    "import src.georef.snippets.apply_transform as af\n",
    "import src.georef.snippets.convert_image_to_footprint as citf\n",
    "\n",
    "import src.export.export_geometry as eg\n",
    "\n",
    "# merge tps and conf\n",
    "tps_conf = np.concatenate([tps, conf.reshape(-1, 1)], axis=1)\n",
    "\n",
    "# define path to shape file\n",
    "path_shp_file = f\"{output_fld}/calc.shp\"\n",
    "\n",
    "# apply the transform and save geo-referenced tiff\n",
    "af.apply_transform(image, transform, f\"{output_fld}/calc/{img_id}.tif\")\n",
    "\n",
    "# save transform and points\n",
    "np.savetxt(f\"{output_fld}/calc/{img_id}_transform.txt\", transform, fmt='%.5f')\n",
    "np.savetxt(f\"{output_fld}/calc/{img_id}_points.txt\", tps_conf, fmt=['%i', '%i', '%.2f', '%.2f', '%.3f'])\n",
    "\n",
    "# create a footprint for this image\n",
    "footprint = citf.convert_image_to_footprint(image, transform)\n",
    "\n",
    "# define attributes\n",
    "attributes = {\n",
    "    'image_id': img_id,\n",
    "    'month': month,\n",
    "    'num_tps': tps.shape[0],\n",
    "    'avg_conf': round(np.mean(conf), 3),\n",
    "    'avg_resi': round(np.mean(residuals), 3),\n",
    "}\n",
    "\n",
    "attributes = pd.DataFrame.from_dict(attributes, orient='index').T\n",
    "\n",
    "# save footprint to shp file\n",
    "eg.export_geometry(footprint, path_shp_file,\n",
    "                   attributes=attributes, key_field=\"image_id\",\n",
    "                   overwrite_file=False,\n",
    "                   overwrite_entry=True, attach=True)\n",
    "\n",
    "print(f\"{img_id} successfully saved\")\n"
   ],
   "metadata": {
    "collapsed": false
   }
  },
  {
   "cell_type": "code",
   "execution_count": null,
   "outputs": [],
   "source": [],
   "metadata": {
    "collapsed": false
   }
  }
 ],
 "metadata": {
  "kernelspec": {
   "display_name": "Python 3",
   "language": "python",
   "name": "python3"
  },
  "language_info": {
   "codemirror_mode": {
    "name": "ipython",
    "version": 2
   },
   "file_extension": ".py",
   "mimetype": "text/x-python",
   "name": "python",
   "nbconvert_exporter": "python",
   "pygments_lexer": "ipython2",
   "version": "2.7.6"
  }
 },
 "nbformat": 4,
 "nbformat_minor": 5
}
