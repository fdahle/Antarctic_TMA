{
 "cells": [
  {
   "cell_type": "code",
   "execution_count": 1,
   "id": "initial_id",
   "metadata": {
    "collapsed": true
   },
   "outputs": [],
   "source": [
    "%load_ext autoreload\n",
    "%autoreload 2"
   ]
  },
  {
   "cell_type": "code",
   "execution_count": 2,
   "outputs": [],
   "source": [
    "project_name = \"EGU2\"\n",
    "project_folder = \"/data_1/ATM/data_1/sfm/projects\"\n",
    "\n",
    "image_ids=[\"CA180132V0094\", \"CA180132V0095\", \"CA180132V0096\", \"CA180132V0097\",\n",
    "           \"CA180132V0098\", \"CA180132V0099\", \"CA180132V0100\", \"CA180132V0101\"]\n",
    "\n",
    "#image_ids = [\"CA214232V0160\", \"CA214232V0161\", \"CA214232V0162\", \"CA214232V0163\", \"CA214232V0164\", \"CA214232V0165\", \"CA214232V0166\"]\n",
    "\n",
    "#image_ids = [\"CA216432V0214\", \"CA216432V0215\", \"CA216432V0216\", \"CA216432V0217\", \"CA216432V0218\", \"CA216432V0219\"]\n",
    "#image_ids = [\"CA184632V0341\",\"CA184632V0342\", \"CA184632V0343\", \"CA184632V0344\"]\n",
    "#image_ids = [\"CA214732V0027\", \"CA214732V0028\", \"CA214732V0029\", \"CA214732V0030\", #\"CA214732V0031\", \"CA214732V0032\", \"CA214732V0033\", \"CA214732V0034\",\"CA214732V0035\"]"
   ],
   "metadata": {
    "collapsed": false
   }
  },
  {
   "cell_type": "code",
   "execution_count": 3,
   "outputs": [
    {
     "name": "stdout",
     "output_type": "stream",
     "text": [
      "Resume: True ; Overwrite: False\n",
      "Resuming project at /data_1/ATM/data_1/sfm/projects/EGU2\n",
      "Copy images - finished\n",
      "Copy masks - finished\n",
      "Copy XML files - finished\n"
     ]
    }
   ],
   "source": [
    "import src.sfm.SFMProject as sfmp\n",
    "\n",
    "sfmp = sfmp.SFMProject(project_name, project_folder, micmac_path=\"/home/fdahle/micmac/bin/mm3d\",\n",
    "                       resume=True, debug=True)\n",
    "\n",
    "sfmp.prepare_files(image_ids,\n",
    "                copy_masks=True,\n",
    "                copy_resampled=False,\n",
    "                copy_resampled_masks=False,\n",
    "                copy_xml=True,\n",
    "                copy_transform=False,\n",
    "                ignore_missing=True)\n",
    "sfmp.set_camera(\"1983\")"
   ],
   "metadata": {
    "collapsed": false
   }
  },
  {
   "cell_type": "code",
   "execution_count": 4,
   "outputs": [
    {
     "name": "stdout",
     "output_type": "stream",
     "text": [
      "Copy transform filesMissing transform files for the following images:  ['CA180132V0098']\n",
      "Copy transform files - finished\n"
     ]
    }
   ],
   "source": [
    "sfmp.set_transforms()"
   ],
   "metadata": {
    "collapsed": false
   }
  },
  {
   "cell_type": "code",
   "execution_count": 5,
   "outputs": [],
   "source": [
    "import json\n",
    "\n",
    "json_path = \"/home/fdahle/Documents/GitHub/Antarctic_TMA/tests/sfm/project_args.json\"\n",
    "with open(json_path, 'r') as file:\n",
    "    micmac_args = json.load(file)\n",
    "\n",
    "print_all_output = True\n",
    "\n",
    "#sfmp.start(\"manual\", [\"GCPBascule\"],\n",
    "#           micmac_args,\n",
    "#           print_all_output=print_all_output,\n",
    "#           save_stats=True, save_raw=True)"
   ],
   "metadata": {
    "collapsed": false
   }
  },
  {
   "cell_type": "markdown",
   "source": [],
   "metadata": {
    "collapsed": false
   }
  },
  {
   "cell_type": "code",
   "execution_count": null,
   "outputs": [],
   "source": [
    "sfmp.start(\"manual\", [\"Campari\"],\n",
    "           micmac_args,\n",
    "           print_all_output=print_all_output,\n",
    "           save_stats=True, save_raw=True)"
   ],
   "metadata": {
    "collapsed": false
   }
  },
  {
   "cell_type": "code",
   "execution_count": 18,
   "outputs": [
    {
     "name": "stdout",
     "output_type": "stream",
     "text": [
      "/home/fdahle/micmac/bin/mm3d Malt Ortho \"OIS*.*tif\" Final NbVI=2 ZoomF=4 DefCor=0 CostTrans=1 EZA=1\n",
      "********\n",
      "\"OIS*.*tif\": 8 matches.\n",
      "\"OIS*.*tif\": 8 matches.\n",
      "make: 'all' is up to date.\n",
      "/home/fdahle/micmac/bin/mm3d TestLib  XmlXif ./OIS-Reech_CA180132V0094.tif ./Tmp-MM-Dir/OIS-Reech_CA180132V0094.tif-MDT-4227.xml\n",
      "/home/fdahle/micmac/bin/mm3d TestLib  XmlXif ./OIS-Reech_CA180132V0095.tif ./Tmp-MM-Dir/OIS-Reech_CA180132V0095.tif-MDT-4227.xml\n",
      "/home/fdahle/micmac/bin/mm3d TestLib  XmlXif ./OIS-Reech_CA180132V0096.tif ./Tmp-MM-Dir/OIS-Reech_CA180132V0096.tif-MDT-4227.xml\n",
      "/home/fdahle/micmac/bin/mm3d TestLib  XmlXif ./OIS-Reech_CA180132V0097.tif ./Tmp-MM-Dir/OIS-Reech_CA180132V0097.tif-MDT-4227.xml\n",
      "/home/fdahle/micmac/bin/mm3d TestLib  XmlXif ./OIS-Reech_CA180132V0098.tif ./Tmp-MM-Dir/OIS-Reech_CA180132V0098.tif-MDT-4227.xml\n",
      "/home/fdahle/micmac/bin/mm3d TestLib  XmlXif ./OIS-Reech_CA180132V0099.tif ./Tmp-MM-Dir/OIS-Reech_CA180132V0099.tif-MDT-4227.xml\n",
      "/home/fdahle/micmac/bin/mm3d TestLib  XmlXif ./OIS-Reech_CA180132V0100.tif ./Tmp-MM-Dir/OIS-Reech_CA180132V0100.tif-MDT-4227.xml\n",
      "/home/fdahle/micmac/bin/mm3d TestLib  XmlXif ./OIS-Reech_CA180132V0101.tif ./Tmp-MM-Dir/OIS-Reech_CA180132V0101.tif-MDT-4227.xml\n",
      "6\n",
      "============= PARAMS ========== \n",
      " -  SzWindow 2  (i.e. : 5x5)\n",
      " -  Regul 0.05\n",
      " -  Final Zoom 4\n",
      " -  Initial Zoom 32\n",
      " -  Use TA as Mask   No\n",
      " -  Z Step : 0.4\n",
      " -  Nb Min Visible Images : 2\n",
      "================================ \n",
      "\"/home/fdahle/micmac/bin/mm3d\" MICMAC \"/home/fdahle/micmac/include/XML_MicMac/MM-Malt.xml\" WorkDir=./ +ImPat=\"OIS*.*tif\" +DirMEC=MEC-Malt/ +DirPyram=Pyram/ +ZoomFinal=4 +Ori=Final +ResolRelOrhto=0.250000 +NbProc=20 +DirTA=TA +DirOrthoF=Ortho-MEC-Malt/ +ZRegul=0.050000 +SzW=2 +ZoomInit=32 +FileMasqT=EmptyXML.xml +ZPas=0.400000 +DbleZPas=0.800000 +DemiZPas=0.200000 +NbMinIV=2 +FileOthoF=MM-Malt-OrthoFinal.xml +FileOthoQ=MM-Malt-OrthoQuick.xml +FileUnAnam=EmptyXML.xml +Purge=true +MkFPC=true +DoMEC=true +UseGpu=false +ZIncCalc=0.300000 +NbEtapeQuant=6 +DefCor=0.000000 +CostTrans=1.000000 +Geom=eGeomMNTEuclid +UseArgMaskAuto=1 +RSRT=0 +ModeOriIm=eGeomImageOri  +FileZ4PC=EmptyXML.xml +EZA=1 +FileZMoy=File-ZMoy.xml +ZMoy=-1111.192473\n",
      "FAIL IN : \n",
      "\"/home/fdahle/micmac/bin/mm3d\" MICMAC \"/home/fdahle/micmac/include/XML_MicMac/MM-Malt.xml\" WorkDir=./ +ImPat=\"OIS*.*tif\" +DirMEC=MEC-Malt/ +DirPyram=Pyram/ +ZoomFinal=4 +Ori=Final +ResolRelOrhto=0.250000 +NbProc=20 +DirTA=TA +DirOrthoF=Ortho-MEC-Malt/ +ZRegul=0.050000 +SzW=2 +ZoomInit=32 +FileMasqT=EmptyXML.xml +ZPas=0.400000 +DbleZPas=0.800000 +DemiZPas=0.200000 +NbMinIV=2 +FileOthoF=MM-Malt-OrthoFinal.xml +FileOthoQ=MM-Malt-OrthoQuick.xml +FileUnAnam=EmptyXML.xml +Purge=true +MkFPC=true +DoMEC=true +UseGpu=false +ZIncCalc=0.300000 +NbEtapeQuant=6 +DefCor=0.000000 +CostTrans=1.000000 +Geom=eGeomMNTEuclid +UseArgMaskAuto=1 +RSRT=0 +ModeOriIm=eGeomImageOri  +FileZ4PC=EmptyXML.xml +EZA=1 +FileZMoy=File-ZMoy.xml +ZMoy=-1111.192473\n",
      "Malt finished successfully.\n",
      "********\n"
     ]
    },
    {
     "name": "stderr",
     "output_type": "stream",
     "text": [
      "terminate called after throwing an instance of 'std::bad_alloc'\n",
      "  what():  std::bad_alloc\n",
      "Aborted (core dumped)\n"
     ]
    }
   ],
   "source": [
    "import json\n",
    "\n",
    "json_path = \"/home/fdahle/Documents/GitHub/Antarctic_TMA/tests/sfm/project_args.json\"\n",
    "with open(json_path, 'r') as file:\n",
    "    micmac_args = json.load(file)\n",
    "\n",
    "print_all_output = True\n",
    "\n",
    "sfmp.start(\"manual\", [\"Malt\"],\n",
    "           micmac_args,\n",
    "           print_all_output=print_all_output,\n",
    "           save_stats=True, save_raw=True)\n"
   ],
   "metadata": {
    "collapsed": false
   }
  },
  {
   "cell_type": "code",
   "execution_count": 17,
   "outputs": [
    {
     "name": "stdout",
     "output_type": "stream",
     "text": [
      "/home/fdahle/micmac/bin/mm3d Tawny Ortho Out=Orthophotomosaic.tif\n",
      "********\n",
      "\"NKS-Set-OfPattern@^Ort_(.*)\\.tif\": 0 matches.\n",
      "For required file [Ortho/MTDOrtho.xml]\n",
      "------------------------------------------------------------\n",
      "|   Sorry, the following FATAL ERROR happened               \n",
      "|                                                           \n",
      "|    Cannot open\n",
      "|                                                           \n",
      "------------------------------------------------------------\n",
      "-------------------------------------------------------------\n",
      "|       (Elise's)  LOCATION :                                \n",
      "|                                                            \n",
      "| Error was detected\n",
      "|          at line : 417\n",
      "|          of file : /home/fdahle/micmac/src/util/stringifie.cpp\n",
      "-------------------------------------------------------------\n",
      "Bye  (press enter)\n",
      "/home/fdahle/micmac/bin/mm3d Porto /home/fdahle/micmac/include/XML_MicMac/Param-Tawny.xml  %WD=Ortho/ +DR1X=1 +DR1Y=1 +DR0X=-1 +DR0Y=-1 +DegRapX=0 +DegRapY=0 +RapGlobPhys=1 +DynGlob=1.000000 +NameOrtho=Orthophotomosaic.tif +ImPrio=\".*\" +DoL1Filter=false \n",
      "FAIL IN : \n",
      "/home/fdahle/micmac/bin/mm3d Porto /home/fdahle/micmac/include/XML_MicMac/Param-Tawny.xml  %WD=Ortho/ +DR1X=1 +DR1Y=1 +DR0X=-1 +DR0Y=-1 +DegRapX=0 +DegRapY=0 +RapGlobPhys=1 +DynGlob=1.000000 +NameOrtho=Orthophotomosaic.tif +ImPrio=\".*\" +DoL1Filter=false \n",
      "Unexpected exception formatting exception. Falling back to standard exception\n"
     ]
    },
    {
     "name": "stderr",
     "output_type": "stream",
     "text": [
      "Traceback (most recent call last):\n",
      "  File \"/home/fdahle/miniconda3/envs/tma_env/lib/python3.11/site-packages/IPython/core/interactiveshell.py\", line 3553, in run_code\n",
      "    exec(code_obj, self.user_global_ns, self.user_ns)\n",
      "  File \"/tmp/ipykernel_1359041/3196091069.py\", line 9, in <module>\n",
      "    sfmp.start(\"manual\", [\"Tawny\"],\n",
      "  File \"/home/fdahle/Documents/GitHub/Antarctic_TMA/src/sfm/SFMProject.py\", line 541, in start\n",
      "    self._execute_command(command, command_name,\n",
      "  File \"/home/fdahle/Documents/GitHub/Antarctic_TMA/src/sfm/SFMProject.py\", line 614, in _execute_command\n",
      "    mm_command.execute_shell_cmd(self.micmac_path)\n",
      "  File \"/home/fdahle/Documents/GitHub/Antarctic_TMA/src/sfm/mm_commands/_base_command.py\", line 113, in execute_shell_cmd\n",
      "    raise MicMacError(key, error_obj)\n",
      "src.sfm.mm_commands._base_command.MicMacError: Tawny failed with the following error: 'Unknown error'. (An unknown error occurred. Please check the raw output for more details). \n",
      "\n",
      "During handling of the above exception, another exception occurred:\n",
      "\n",
      "Traceback (most recent call last):\n",
      "  File \"/home/fdahle/miniconda3/envs/tma_env/lib/python3.11/site-packages/IPython/core/interactiveshell.py\", line 2144, in showtraceback\n",
      "    stb = self.InteractiveTB.structured_traceback(\n",
      "          ^^^^^^^^^^^^^^^^^^^^^^^^^^^^^^^^^^^^^^^^\n",
      "  File \"/home/fdahle/miniconda3/envs/tma_env/lib/python3.11/site-packages/IPython/core/ultratb.py\", line 1435, in structured_traceback\n",
      "    return FormattedTB.structured_traceback(\n",
      "           ^^^^^^^^^^^^^^^^^^^^^^^^^^^^^^^^^\n",
      "  File \"/home/fdahle/miniconda3/envs/tma_env/lib/python3.11/site-packages/IPython/core/ultratb.py\", line 1326, in structured_traceback\n",
      "    return VerboseTB.structured_traceback(\n",
      "           ^^^^^^^^^^^^^^^^^^^^^^^^^^^^^^^\n",
      "  File \"/home/fdahle/miniconda3/envs/tma_env/lib/python3.11/site-packages/IPython/core/ultratb.py\", line 1173, in structured_traceback\n",
      "    formatted_exception = self.format_exception_as_a_whole(etype, evalue, etb, number_of_lines_of_context,\n",
      "                          ^^^^^^^^^^^^^^^^^^^^^^^^^^^^^^^^^^^^^^^^^^^^^^^^^^^^^^^^^^^^^^^^^^^^^^^^^^^^^^^^\n",
      "  File \"/home/fdahle/miniconda3/envs/tma_env/lib/python3.11/site-packages/IPython/core/ultratb.py\", line 1088, in format_exception_as_a_whole\n",
      "    frames.append(self.format_record(record))\n",
      "                  ^^^^^^^^^^^^^^^^^^^^^^^^^^\n",
      "  File \"/home/fdahle/miniconda3/envs/tma_env/lib/python3.11/site-packages/IPython/core/ultratb.py\", line 970, in format_record\n",
      "    frame_info.lines, Colors, self.has_colors, lvals\n",
      "    ^^^^^^^^^^^^^^^^\n",
      "  File \"/home/fdahle/miniconda3/envs/tma_env/lib/python3.11/site-packages/IPython/core/ultratb.py\", line 792, in lines\n",
      "    return self._sd.lines\n",
      "           ^^^^^^^^^^^^^^\n",
      "  File \"/home/fdahle/miniconda3/envs/tma_env/lib/python3.11/site-packages/stack_data/utils.py\", line 145, in cached_property_wrapper\n",
      "    value = obj.__dict__[self.func.__name__] = self.func(obj)\n",
      "                                               ^^^^^^^^^^^^^^\n",
      "  File \"/home/fdahle/miniconda3/envs/tma_env/lib/python3.11/site-packages/stack_data/core.py\", line 698, in lines\n",
      "    pieces = self.included_pieces\n",
      "             ^^^^^^^^^^^^^^^^^^^^\n",
      "  File \"/home/fdahle/miniconda3/envs/tma_env/lib/python3.11/site-packages/stack_data/utils.py\", line 145, in cached_property_wrapper\n",
      "    value = obj.__dict__[self.func.__name__] = self.func(obj)\n",
      "                                               ^^^^^^^^^^^^^^\n",
      "  File \"/home/fdahle/miniconda3/envs/tma_env/lib/python3.11/site-packages/stack_data/core.py\", line 649, in included_pieces\n",
      "    pos = scope_pieces.index(self.executing_piece)\n",
      "                             ^^^^^^^^^^^^^^^^^^^^\n",
      "  File \"/home/fdahle/miniconda3/envs/tma_env/lib/python3.11/site-packages/stack_data/utils.py\", line 145, in cached_property_wrapper\n",
      "    value = obj.__dict__[self.func.__name__] = self.func(obj)\n",
      "                                               ^^^^^^^^^^^^^^\n",
      "  File \"/home/fdahle/miniconda3/envs/tma_env/lib/python3.11/site-packages/stack_data/core.py\", line 628, in executing_piece\n",
      "    return only(\n",
      "           ^^^^^\n",
      "  File \"/home/fdahle/miniconda3/envs/tma_env/lib/python3.11/site-packages/executing/executing.py\", line 164, in only\n",
      "    raise NotOneValueFound('Expected one value, found 0')\n",
      "executing.executing.NotOneValueFound: Expected one value, found 0\n"
     ]
    }
   ],
   "source": [
    "import json\n",
    "\n",
    "json_path = \"/home/fdahle/Documents/GitHub/Antarctic_TMA/tests/sfm/project_args.json\"\n",
    "with open(json_path, 'r') as file:\n",
    "    micmac_args = json.load(file)\n",
    "\n",
    "print_all_output = True\n",
    "\n",
    "sfmp.start(\"manual\", [\"Malt\"],\n",
    "           micmac_args,\n",
    "           print_all_output=print_all_output,\n",
    "           save_stats=True, save_raw=True)\n"
   ],
   "metadata": {
    "collapsed": false
   }
  },
  {
   "cell_type": "code",
   "execution_count": null,
   "outputs": [],
   "source": [],
   "metadata": {
    "collapsed": false
   }
  }
 ],
 "metadata": {
  "kernelspec": {
   "display_name": "Python 3",
   "language": "python",
   "name": "python3"
  },
  "language_info": {
   "codemirror_mode": {
    "name": "ipython",
    "version": 2
   },
   "file_extension": ".py",
   "mimetype": "text/x-python",
   "name": "python",
   "nbconvert_exporter": "python",
   "pygments_lexer": "ipython2",
   "version": "2.7.6"
  }
 },
 "nbformat": 4,
 "nbformat_minor": 5
}
