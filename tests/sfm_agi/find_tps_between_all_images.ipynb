{
 "cells": [
  {
   "cell_type": "code",
   "id": "initial_id",
   "metadata": {
    "collapsed": true,
    "ExecuteTime": {
     "end_time": "2024-08-19T11:55:16.991260Z",
     "start_time": "2024-08-19T11:55:16.977489Z"
    }
   },
   "source": [
    "%load_ext autoreload\n",
    "%autoreload 2"
   ],
   "outputs": [],
   "execution_count": 1
  },
  {
   "metadata": {
    "ExecuteTime": {
     "end_time": "2024-08-19T11:55:17.520102Z",
     "start_time": "2024-08-19T11:55:17.498768Z"
    }
   },
   "cell_type": "code",
   "source": [
    "image_id1 = \"CA215232V0361\"\n",
    "image_id2 = \"CA215331L0392\""
   ],
   "id": "16f621a75e15f71",
   "outputs": [],
   "execution_count": 2
  },
  {
   "metadata": {},
   "cell_type": "code",
   "source": [
    "\"\"\"\n",
    "import src.load.load_image as li\n",
    "import src.display.display_images as di\n",
    "\n",
    "image_id_left = image_id1.replace('32V', '31L')\n",
    "image_id_right = image_id1.replace('32V', '33R')\n",
    "\n",
    "image = li.load_image(image_id1)\n",
    "image_left = li.load_image(image_id_left)\n",
    "image_right = li.load_image(image_id_right)\n",
    "\n",
    "di.display_images([image_left, image, image_right])\n",
    "\"\"\""
   ],
   "id": "d0cd984187357913",
   "outputs": [],
   "execution_count": null
  },
  {
   "metadata": {},
   "cell_type": "code",
   "source": [
    "import src.base.rotate_image as ri\n",
    "import src.load.load_image as li\n",
    "import src.display.display_images as di\n",
    "import src.base.create_mask as cm\n",
    "\n",
    "image1 = li.load_image(image_id1)\n",
    "image2 = li.load_image(image_id2)\n",
    "\n",
    "print(image_id1, image_id2)\n",
    "\n",
    "mask1 = cm.create_mask(image1, use_database=True, image_id=image_id1)\n",
    "mask2 = cm.create_mask(image2, use_database=True, image_id=image_id2)\n",
    "\n",
    "image1 = ri.rotate_image(image1, 180)\n",
    "\n",
    "import src.base.find_tie_points as ftp\n",
    "tpd = ftp.TiePointDetector(\"lightglue\", min_conf_value=0.7)\n",
    "tps, conf = tpd.find_tie_points(image1, image2, mask1=mask1, mask2=mask2)\n",
    "\n",
    "di.display_images([image1, image2], tie_points=tps, tie_points_conf=conf)\n",
    "\n"
   ],
   "id": "dd66c54330ad3b9b",
   "outputs": [],
   "execution_count": null
  },
  {
   "metadata": {},
   "cell_type": "code",
   "source": "",
   "id": "ccee644b64dd0a64",
   "outputs": [],
   "execution_count": null
  }
 ],
 "metadata": {
  "kernelspec": {
   "display_name": "Python 3",
   "language": "python",
   "name": "python3"
  },
  "language_info": {
   "codemirror_mode": {
    "name": "ipython",
    "version": 2
   },
   "file_extension": ".py",
   "mimetype": "text/x-python",
   "name": "python",
   "nbconvert_exporter": "python",
   "pygments_lexer": "ipython2",
   "version": "2.7.6"
  }
 },
 "nbformat": 4,
 "nbformat_minor": 5
}
