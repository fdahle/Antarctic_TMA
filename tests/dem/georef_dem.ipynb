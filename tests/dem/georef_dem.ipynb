{
 "cells": [
  {
   "cell_type": "code",
   "execution_count": 1,
   "metadata": {
    "collapsed": true
   },
   "outputs": [],
   "source": [
    "%load_ext autoreload\n",
    "%autoreload 2"
   ]
  },
  {
   "cell_type": "code",
   "execution_count": 2,
   "outputs": [],
   "source": [
    "path_unref_dem = \"/data_1/ATM/data_1/DEM/sfm/dem.tif\""
   ],
   "metadata": {
    "collapsed": false
   }
  },
  {
   "cell_type": "code",
   "execution_count": 55,
   "outputs": [
    {
     "name": "stdout",
     "output_type": "stream",
     "text": [
      "Check Tile:  (0, 0)\n",
      "Check Tile:  (-16, -16)\n",
      "Check Tile:  (-16, 0)\n",
      "Check Tile:  (-16, 16)\n",
      "Check Tile:  (0, -16)\n",
      "Check Tile:  (0, 16)\n",
      "Check Tile:  (16, -16)\n",
      "Check Tile:  (16, 0)\n",
      "Check Tile:  (16, 16)\n",
      "Check Tile:  (-32, -32)\n",
      "Check Tile:  (-32, -16)\n",
      "Check Tile:  (-32, 0)\n",
      "Check Tile:  (-32, 16)\n",
      "Check Tile:  (-32, 32)\n",
      "Check Tile:  (-16, -32)\n",
      "Check Tile:  (-16, 32)\n",
      "Check Tile:  (0, -32)\n",
      "Check Tile:  (0, 32)\n",
      "Check Tile:  (16, -32)\n",
      "Check Tile:  (16, 32)\n",
      "Check Tile:  (32, -32)\n",
      "Check Tile:  (32, -16)\n",
      "Check Tile:  (32, 0)\n",
      "Check Tile:  (32, 16)\n",
      "Check Tile:  (32, 32)\n",
      "Check Tile:  (-48, -48)\n",
      "Check Tile:  (-48, -32)\n",
      "Check Tile:  (-48, -16)\n",
      "Check Tile:  (-48, 0)\n",
      "Check Tile:  (-48, 16)\n",
      "Check Tile:  (-48, 32)\n",
      "Check Tile:  (-48, 48)\n",
      "Check Tile:  (-32, -48)\n",
      "Check Tile:  (-32, 48)\n",
      "Check Tile:  (-16, -48)\n",
      "Check Tile:  (-16, 48)\n",
      "Check Tile:  (0, -48)\n",
      "Check Tile:  (0, 48)\n",
      "Check Tile:  (16, -48)\n",
      "Check Tile:  (16, 48)\n",
      "Check Tile:  (32, -48)\n",
      "Check Tile:  (32, 48)\n",
      "Check Tile:  (48, -48)\n",
      "Check Tile:  (48, -32)\n",
      "Check Tile:  (48, -16)\n",
      "Check Tile:  (48, 0)\n",
      "Check Tile:  (48, 16)\n",
      "Check Tile:  (48, 32)\n",
      "Check Tile:  (48, 48)\n",
      "Best tile:  (-48, 48)  with difference:  217.077\n"
     ]
    }
   ],
   "source": [
    "import numpy as np\n",
    "\n",
    "import src.load.load_image as li\n",
    "import src.dem.georef_dem as gd\n",
    "\n",
    "# load the unref dem\n",
    "dem_unref, transform_unref = li.load_image(path_unref_dem, return_transform=True)\n",
    "\n",
    "gd.georef_dem(dem_unref, transform_unref)"
   ],
   "metadata": {
    "collapsed": false
   }
  },
  {
   "cell_type": "code",
   "execution_count": null,
   "outputs": [],
   "source": [],
   "metadata": {
    "collapsed": false,
    "pycharm": {
     "is_executing": true
    }
   }
  },
  {
   "cell_type": "code",
   "execution_count": 50,
   "outputs": [],
   "source": [],
   "metadata": {
    "collapsed": false
   }
  }
 ],
 "metadata": {
  "kernelspec": {
   "display_name": "Python 3",
   "language": "python",
   "name": "python3"
  },
  "language_info": {
   "codemirror_mode": {
    "name": "ipython",
    "version": 2
   },
   "file_extension": ".py",
   "mimetype": "text/x-python",
   "name": "python",
   "nbconvert_exporter": "python",
   "pygments_lexer": "ipython2",
   "version": "2.7.6"
  }
 },
 "nbformat": 4,
 "nbformat_minor": 0
}
