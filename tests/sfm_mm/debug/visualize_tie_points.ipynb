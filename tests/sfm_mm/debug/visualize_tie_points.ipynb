{
 "cells": [
  {
   "cell_type": "code",
   "execution_count": 1,
   "metadata": {
    "collapsed": true
   },
   "outputs": [],
   "source": [
    "project = \"src_test2\"\n",
    "img1 = \"CA214732V0027\"\n",
    "img2 = \"CA214732V0028\"\n",
    "fld = \"Homol_mini\"\n",
    "\n",
    "# create image path\n",
    "img1_path = f\"/data/ATM/data_1/sfm/projects/{project}/images/OIS-Reech_{img1}.tif\"\n",
    "img2_path = f\"/data/ATM/data_1/sfm/projects/{project}/images/OIS-Reech_{img2}.tif\"\n",
    "\n",
    "# create tie-points path\n",
    "tp_path = f\"/data/ATM/data_1/sfm/projects/{project}/{fld}/PastisOIS-Reech_{img1}.tif/OIS-Reech_{img2}.tif\"\n"
   ]
  },
  {
   "cell_type": "code",
   "execution_count": 2,
   "outputs": [
    {
     "ename": "FileNotFoundError",
     "evalue": "No image could be found at /data/ATM/data_1/sfm/projects/src_test2/images/OIS-Reech_.tif",
     "output_type": "error",
     "traceback": [
      "\u001B[0;31m---------------------------------------------------------------------------\u001B[0m",
      "\u001B[0;31mFileNotFoundError\u001B[0m                         Traceback (most recent call last)",
      "Cell \u001B[0;32mIn[2], line 3\u001B[0m\n\u001B[1;32m      1\u001B[0m \u001B[38;5;28;01mimport\u001B[39;00m \u001B[38;5;21;01msrc\u001B[39;00m\u001B[38;5;21;01m.\u001B[39;00m\u001B[38;5;21;01mload\u001B[39;00m\u001B[38;5;21;01m.\u001B[39;00m\u001B[38;5;21;01mload_image\u001B[39;00m \u001B[38;5;28;01mas\u001B[39;00m \u001B[38;5;21;01mli\u001B[39;00m\n\u001B[0;32m----> 3\u001B[0m img1 \u001B[38;5;241m=\u001B[39m \u001B[43mli\u001B[49m\u001B[38;5;241;43m.\u001B[39;49m\u001B[43mload_image\u001B[49m\u001B[43m(\u001B[49m\u001B[43mimg1_path\u001B[49m\u001B[43m)\u001B[49m\n\u001B[1;32m      4\u001B[0m img2 \u001B[38;5;241m=\u001B[39m li\u001B[38;5;241m.\u001B[39mload_image(img2_path)\n",
      "File \u001B[0;32m~/Documents/GitHub/Antarctic_TMA/src/load/load_image.py:44\u001B[0m, in \u001B[0;36mload_image\u001B[0;34m(image_id, image_path, image_type, driver, return_transform)\u001B[0m\n\u001B[1;32m     41\u001B[0m \u001B[38;5;66;03m# ignore warnings of files not being geo-referenced\u001B[39;00m\n\u001B[1;32m     42\u001B[0m warnings\u001B[38;5;241m.\u001B[39mfilterwarnings(\u001B[38;5;124m\"\u001B[39m\u001B[38;5;124mignore\u001B[39m\u001B[38;5;124m\"\u001B[39m, category\u001B[38;5;241m=\u001B[39mrasterio\u001B[38;5;241m.\u001B[39merrors\u001B[38;5;241m.\u001B[39mNotGeoreferencedWarning)\n\u001B[0;32m---> 44\u001B[0m absolute_image_path \u001B[38;5;241m=\u001B[39m \u001B[43m_create_absolute_path\u001B[49m\u001B[43m(\u001B[49m\u001B[43mimage_id\u001B[49m\u001B[43m,\u001B[49m\u001B[43m \u001B[49m\u001B[43mimage_path\u001B[49m\u001B[43m,\u001B[49m\u001B[43m \u001B[49m\u001B[43mimage_type\u001B[49m\u001B[43m)\u001B[49m\n\u001B[1;32m     46\u001B[0m img, transform \u001B[38;5;241m=\u001B[39m _read_image(absolute_image_path, driver)\n\u001B[1;32m     48\u001B[0m \u001B[38;5;28;01mreturn\u001B[39;00m (img, transform) \u001B[38;5;28;01mif\u001B[39;00m return_transform \u001B[38;5;28;01melse\u001B[39;00m img\n",
      "File \u001B[0;32m~/Documents/GitHub/Antarctic_TMA/src/load/load_image.py:61\u001B[0m, in \u001B[0;36m_create_absolute_path\u001B[0;34m(image_id, fld, filetype)\u001B[0m\n\u001B[1;32m     59\u001B[0m \u001B[38;5;28;01mif\u001B[39;00m \u001B[38;5;124m\"\u001B[39m\u001B[38;5;124m/\u001B[39m\u001B[38;5;124m\"\u001B[39m \u001B[38;5;129;01min\u001B[39;00m image_id:\n\u001B[1;32m     60\u001B[0m     \u001B[38;5;28;01mif\u001B[39;00m os\u001B[38;5;241m.\u001B[39mpath\u001B[38;5;241m.\u001B[39misfile(image_id) \u001B[38;5;129;01mis\u001B[39;00m \u001B[38;5;28;01mFalse\u001B[39;00m:\n\u001B[0;32m---> 61\u001B[0m         \u001B[38;5;28;01mraise\u001B[39;00m \u001B[38;5;167;01mFileNotFoundError\u001B[39;00m(\u001B[38;5;124mf\u001B[39m\u001B[38;5;124m\"\u001B[39m\u001B[38;5;124mNo image could be found at \u001B[39m\u001B[38;5;132;01m{\u001B[39;00mimage_id\u001B[38;5;132;01m}\u001B[39;00m\u001B[38;5;124m\"\u001B[39m)\n\u001B[1;32m     63\u001B[0m \u001B[38;5;66;03m# check image id and fld\u001B[39;00m\n\u001B[1;32m     64\u001B[0m image_id \u001B[38;5;241m=\u001B[39m \u001B[38;5;124mf\u001B[39m\u001B[38;5;124m\"\u001B[39m\u001B[38;5;132;01m{\u001B[39;00mimage_id\u001B[38;5;132;01m}\u001B[39;00m\u001B[38;5;124m.\u001B[39m\u001B[38;5;132;01m{\u001B[39;00mfiletype\u001B[38;5;132;01m}\u001B[39;00m\u001B[38;5;124m\"\u001B[39m \u001B[38;5;28;01mif\u001B[39;00m \u001B[38;5;124m\"\u001B[39m\u001B[38;5;124m.\u001B[39m\u001B[38;5;124m\"\u001B[39m \u001B[38;5;129;01mnot\u001B[39;00m \u001B[38;5;129;01min\u001B[39;00m image_id \u001B[38;5;28;01melse\u001B[39;00m image_id\n",
      "\u001B[0;31mFileNotFoundError\u001B[0m: No image could be found at /data/ATM/data_1/sfm/projects/src_test2/images/OIS-Reech_.tif"
     ]
    }
   ],
   "source": [
    "import numpy as np\n",
    "\n",
    "import src.load.load_image as li\n",
    "\n",
    "img1 = li.load_image(img1_path)\n",
    "img2 = li.load_image(img2_path)\n",
    "\n",
    "tps = np.\n"
   ],
   "metadata": {
    "collapsed": false
   }
  },
  {
   "cell_type": "code",
   "execution_count": null,
   "outputs": [],
   "source": [
    "import src.display.display_images as di\n",
    "\n",
    "di.display_images([img1, img2])"
   ],
   "metadata": {
    "collapsed": false
   }
  },
  {
   "cell_type": "code",
   "execution_count": null,
   "outputs": [],
   "source": [],
   "metadata": {
    "collapsed": false
   }
  }
 ],
 "metadata": {
  "kernelspec": {
   "display_name": "Python 3",
   "language": "python",
   "name": "python3"
  },
  "language_info": {
   "codemirror_mode": {
    "name": "ipython",
    "version": 2
   },
   "file_extension": ".py",
   "mimetype": "text/x-python",
   "name": "python",
   "nbconvert_exporter": "python",
   "pygments_lexer": "ipython2",
   "version": "2.7.6"
  }
 },
 "nbformat": 4,
 "nbformat_minor": 0
}
