{
 "cells": [
  {
   "cell_type": "code",
   "execution_count": null,
   "id": "initial_id",
   "metadata": {
    "collapsed": true
   },
   "outputs": [],
   "source": [
    "img_id = \"CA184632V0341\""
   ]
  },
  {
   "cell_type": "code",
   "outputs": [],
   "source": [
    "import src.load.load_image as li\n",
    "\n",
    "# load the image\n",
    "img = li.load_image()"
   ],
   "metadata": {
    "collapsed": false
   },
   "id": "9b318989a3fd394d"
  }
 ],
 "metadata": {
  "kernelspec": {
   "display_name": "Python 3",
   "language": "python",
   "name": "python3"
  },
  "language_info": {
   "codemirror_mode": {
    "name": "ipython",
    "version": 2
   },
   "file_extension": ".py",
   "mimetype": "text/x-python",
   "name": "python",
   "nbconvert_exporter": "python",
   "pygments_lexer": "ipython2",
   "version": "2.7.6"
  }
 },
 "nbformat": 4,
 "nbformat_minor": 5
}
