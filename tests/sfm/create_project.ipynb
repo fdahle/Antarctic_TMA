{
 "cells": [
  {
   "cell_type": "code",
   "execution_count": 17,
   "id": "initial_id",
   "metadata": {
    "collapsed": true
   },
   "outputs": [
    {
     "name": "stdout",
     "output_type": "stream",
     "text": [
      "The autoreload extension is already loaded. To reload it, use:\n",
      "  %reload_ext autoreload\n"
     ]
    }
   ],
   "source": [
    "%load_ext autoreload\n",
    "%autoreload 2"
   ]
  },
  {
   "cell_type": "code",
   "execution_count": 71,
   "outputs": [],
   "source": [
    "project_name = \"src_test\"\n",
    "project_folder = \"/data_1/ATM/data_1/sfm/projects\"\n",
    "\n",
    "image_ids = [\"CA184632V0341\",\"CA184632V0342\", \"CA184632V0343\", \"CA184632V0344\"]\n"
   ],
   "metadata": {
    "collapsed": false
   }
  },
  {
   "cell_type": "code",
   "execution_count": 72,
   "outputs": [
    {
     "name": "stdout",
     "output_type": "stream",
     "text": [
      "Resume: True ; Overwrite: False\n",
      "Resuming project at /data_1/ATM/data_1/sfm/projects/src_test\n",
      "Set images with ['CA184632V0341', 'CA184632V0342', 'CA184632V0343', 'CA184632V0344']\n",
      "/data_1/ATM/data_1/sfm/xml/images/MeasuresIm-CA184632V0341.tif.xml /data_1/ATM/data_1/sfm/projects/src_test/Ori-InterneScan/MeasuresIm-CA184632V0341.tif.xml\n",
      "/data_1/ATM/data_1/sfm/xml/images/MeasuresIm-CA184632V0342.tif.xml /data_1/ATM/data_1/sfm/projects/src_test/Ori-InterneScan/MeasuresIm-CA184632V0342.tif.xml\n",
      "/data_1/ATM/data_1/sfm/xml/images/MeasuresIm-CA184632V0343.tif.xml /data_1/ATM/data_1/sfm/projects/src_test/Ori-InterneScan/MeasuresIm-CA184632V0343.tif.xml\n",
      "/data_1/ATM/data_1/sfm/xml/images/MeasuresIm-CA184632V0344.tif.xml /data_1/ATM/data_1/sfm/projects/src_test/Ori-InterneScan/MeasuresIm-CA184632V0344.tif.xml\n"
     ]
    }
   ],
   "source": [
    "import src.sfm.SFMProject as Sfmp\n",
    "\n",
    "sfmp = Sfmp.SFMProject(project_name, project_folder,micmac_path=\"/home/fdahle/micmac/bin/mm3d\",resume=True, debug=True)\n",
    "\n",
    "sfmp.set_images(image_ids, copy_masks=True, copy_resampled=True, copy_xml=True)\n",
    "sfmp.set_camera(\"1983\")"
   ],
   "metadata": {
    "collapsed": false
   }
  },
  {
   "cell_type": "code",
   "execution_count": 76,
   "outputs": [
    {
     "name": "stdout",
     "output_type": "stream",
     "text": [
      "/home/fdahle/micmac/bin/mm3d ReSampFid *.*tif 0.025\n",
      "ReSampFid finished\n"
     ]
    }
   ],
   "source": [
    "sfmp.start(\"manual\", [\"ReSampFid\"], use_custom_matching=True)"
   ],
   "metadata": {
    "collapsed": false
   }
  },
  {
   "cell_type": "code",
   "execution_count": null,
   "outputs": [],
   "source": [],
   "metadata": {
    "collapsed": false
   }
  }
 ],
 "metadata": {
  "kernelspec": {
   "display_name": "Python 3",
   "language": "python",
   "name": "python3"
  },
  "language_info": {
   "codemirror_mode": {
    "name": "ipython",
    "version": 2
   },
   "file_extension": ".py",
   "mimetype": "text/x-python",
   "name": "python",
   "nbconvert_exporter": "python",
   "pygments_lexer": "ipython2",
   "version": "2.7.6"
  }
 },
 "nbformat": 4,
 "nbformat_minor": 5
}
