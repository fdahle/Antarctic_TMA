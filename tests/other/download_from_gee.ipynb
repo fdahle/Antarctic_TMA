{
 "cells": [
  {
   "cell_type": "markdown",
   "source": [
    "<h4>Import all required libraries & packages</h4>"
   ],
   "metadata": {
    "collapsed": false
   }
  },
  {
   "cell_type": "code",
   "execution_count": null,
   "outputs": [],
   "source": [
    "import ee\n",
    "import os\n",
    "import shutil\n",
    "import time\n",
    "\n",
    "from datetime import datetime\n",
    "from oauth2client.service_account import ServiceAccountCredentials\n",
    "from pydrive.auth import GoogleAuth\n",
    "from pydrive.drive import GoogleDrive\n"
   ],
   "metadata": {
    "collapsed": false
   }
  },
  {
   "cell_type": "markdown",
   "source": [
    "<h4>Authenticate at Google</h4>\n",
    "\n",
    "(See [here](https://developers.google.com/earth-engine/guides/service_account) for how to authenticate)"
   ],
   "metadata": {
    "collapsed": false
   }
  },
  {
   "cell_type": "code",
   "execution_count": null,
   "metadata": {
    "collapsed": true
   },
   "outputs": [],
   "source": [
    "service_account = \"<Your Service account email>\"\n",
    "path_private_key = \"<path to your private key (json)\"\n",
    "\n",
    "# get the credentials\n",
    "credentials = ee.ServiceAccountCredentials(service_account, path_private_key)\n",
    "\n",
    "# authenticate and initialize Google Earth Engine\n",
    "ee.Initialize(credentials)"
   ]
  },
  {
   "cell_type": "markdown",
   "source": [
    "<h4>Specify the parameters</h4>"
   ],
   "metadata": {
    "collapsed": false
   }
  },
  {
   "cell_type": "code",
   "execution_count": null,
   "outputs": [],
   "source": [
    "satellite_type = \"S2\"  # typ of satellite, currently only Sentinel-2\n",
    "epsg_code = 3031  # epsg code for the crs\n",
    "start_date  = \"YYYY-MM-DD\"  # must be in YYYY-MM-DD\n",
    "end_date = \"YYYY-MM-DD\"  # must be in YYYY-MM-DD\n",
    "month = 0 # specify the month of the composite, if 0 all months are used\n",
    "\n",
    "filter_clouds = True\n",
    "cloud_filter = 50  # Maximum image cloud cover percent allowed in image collection\n",
    "\n",
    "output_folder = \"<Specify path to output folder>\"\n",
    "output_name = \"<Output name>\"  # without the ending\n",
    "\n",
    "min_x = 0\n",
    "max_x = 0\n",
    "min_y = 0\n",
    "max_y = 0"
   ],
   "metadata": {
    "collapsed": false
   }
  },
  {
   "cell_type": "markdown",
   "source": [
    "<h4>Function to mask cloud pixels</h4>"
   ],
   "metadata": {
    "collapsed": false
   }
  },
  {
   "cell_type": "code",
   "execution_count": null,
   "outputs": [],
   "source": [
    "def mask_s2_clouds(image):\n",
    "    qa = image.select('QA60')\n",
    "\n",
    "    # left shift operator\n",
    "    cloud_bit_mask = 1 << 10\n",
    "    cirrus_bit_mask = 1 << 11\n",
    "\n",
    "    # create mask\n",
    "    cloud_mask = qa.bitwiseAnd(cloud_bit_mask).eq(0)\n",
    "    cirrus_mask = qa.bitwiseAnd(cirrus_bit_mask).eq(0)\n",
    "\n",
    "    # combine masks\n",
    "    mask = cloud_mask.And(cirrus_mask)\n",
    "\n",
    "    # Return the masked and scaled data, without the QA bands.\n",
    "    return image.updateMask(mask).divide(10000).multiply(255)"
   ],
   "metadata": {
    "collapsed": false
   }
  },
  {
   "cell_type": "code",
   "execution_count": null,
   "outputs": [],
   "source": [
    "# specify collection for satellites\n",
    "if satellite_type == \"S2\":\n",
    "    collection_link = \"COPERNICUS/S2\"\n",
    "else:\n",
    "    collection_link = None  # noqa\n",
    "    raise NotImplementedError\n",
    "\n",
    "# create aoi\n",
    "polygon_ee = [[[min_x, min_y], [max_x, min_y], [max_x, max_y], [min_x, max_y], [min_x, min_y]]]\n",
    "aoi = ee.Geometry.Polygon(polygon_ee, f\"EPSG:{epsg_code}\", evenOdd=False)\n",
    "\n",
    "# build a collection and filter based on AOI, date,\n",
    "collection = (ee.ImageCollection(collection_link)\n",
    "              .filterBounds(aoi)\n",
    "              .filterDate(start_date, end_date))\n",
    "\n",
    "# filter for month\n",
    "if month > 0:\n",
    "    collection = collection.filter(ee.Filter.calendarRange(month, month, 'month'))  # noqa\n",
    "\n",
    "# filter for clouds if filter_clouds is true\n",
    "if filter_clouds:\n",
    "    collection = collection.filter(ee.Filter.lte('CLOUDY_PIXEL_PERCENTAGE', cloud_filter)).map(mask_s2_clouds)\n",
    "\n",
    "# keep only certain bands\n",
    "collection = collection.select(['B2', 'B3', 'B4'])\n",
    "\n",
    "# Map the function over one year of data and take the median.\n",
    "composite = collection.median()\n",
    "\n",
    "# clip to region of interest\n",
    "composite = composite.clip(aoi)"
   ],
   "metadata": {
    "collapsed": false
   }
  },
  {
   "cell_type": "markdown",
   "source": [
    "<h4>Export the file to the Gdrive of the Service account</h4>\n",
    "\n",
    "(the only way to store files over 32MB)"
   ],
   "metadata": {
    "collapsed": false
   }
  },
  {
   "cell_type": "code",
   "execution_count": null,
   "outputs": [],
   "source": [
    "# options for export\n",
    "export_config = {\n",
    "    'scale': 10,\n",
    "    'region': aoi,\n",
    "    'crs': \"EPSG:\" + str(epsg_code),\n",
    "    'maxPixels': 26549123161\n",
    "}\n",
    "\n",
    "task = ee.batch.Export.image.toDrive(composite, output_name, **export_config)\n",
    "task.start()\n",
    "\n",
    "print(\"Start exporting image to Google Drive\")\n",
    "\n",
    "# get start time of task\n",
    "start = datetime.now()\n",
    "\n",
    "# Monitor the task to wait until the data is downloaded.\n",
    "while task.status()['state'] in ['READY', 'RUNNING']:  # still running\n",
    "\n",
    "    # wait for x seconds\n",
    "    time.sleep(30)\n",
    "\n",
    "    # get time difference\n",
    "    now = datetime.now()\n",
    "    diff = now - start\n",
    "    days, seconds = diff.days, diff.seconds\n",
    "    hours = days * 24 + seconds // 3600\n",
    "    minutes = (seconds % 3600) // 60\n",
    "    seconds = seconds % 60\n",
    "\n",
    "    print(f\"Task is still running ({hours}:{minutes}:{seconds})\")\n",
    "\n",
    "# if the exporting is finished\n",
    "else:\n",
    "    if task.status()['state'] == 'FAILED':\n",
    "        print(\"The export failed. Please try again\")\n",
    "        print(task.status()[\"error_message\"])\n",
    "        exit()\n",
    "    else:\n",
    "        print(\"File exported successfully\")"
   ],
   "metadata": {
    "collapsed": false
   }
  },
  {
   "cell_type": "markdown",
   "source": [
    "<h4>Get the files from the Gdrive</h4>"
   ],
   "metadata": {
    "collapsed": false
   }
  },
  {
   "cell_type": "code",
   "execution_count": null,
   "outputs": [],
   "source": [
    "# authenticate to Drive\n",
    "g_auth = GoogleAuth()\n",
    "g_auth.credentials = ServiceAccountCredentials\n",
    "\n",
    "# save drive connection as variable\n",
    "drive = GoogleDrive(g_auth)\n",
    "\n",
    "# get all non deleted files in the drive\n",
    "file_list = drive.ListFile({'q': \"'root' in parents and trashed=false\"}).GetList()\n",
    "\n",
    "# iterate all these files\n",
    "for file in file_list:\n",
    "\n",
    "    # get filename\n",
    "    file_name = file['title']\n",
    "\n",
    "    # download file into working dir\n",
    "    file.GetContentFile(file_name, mimetype=\"image/tiff\")\n",
    "\n",
    "    # delete file on Gdrive\n",
    "    file.Delete()\n",
    "\n",
    "    # get current location of file\n",
    "    source_path = os.getcwd() + \"/\" + file_name\n",
    "\n",
    "    # get new path\n",
    "    destination_path = output_folder + \"/\" + file_name\n",
    "\n",
    "    # copy file to final destination folder\n",
    "    shutil.move(source_path, destination_path)\n",
    "\n",
    "    print(f\"Satellite image successfully exported to {destination_path}\")"
   ],
   "metadata": {
    "collapsed": false
   }
  }
 ],
 "metadata": {
  "kernelspec": {
   "display_name": "Python 3",
   "language": "python",
   "name": "python3"
  },
  "language_info": {
   "codemirror_mode": {
    "name": "ipython",
    "version": 2
   },
   "file_extension": ".py",
   "mimetype": "text/x-python",
   "name": "python",
   "nbconvert_exporter": "python",
   "pygments_lexer": "ipython2",
   "version": "2.7.6"
  }
 },
 "nbformat": 4,
 "nbformat_minor": 0
}
