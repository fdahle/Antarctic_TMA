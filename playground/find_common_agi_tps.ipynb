{
 "cells": [
  {
   "cell_type": "code",
   "id": "initial_id",
   "metadata": {
    "collapsed": true,
    "ExecuteTime": {
     "end_time": "2024-10-14T08:47:20.478002Z",
     "start_time": "2024-10-14T08:47:20.472863Z"
    }
   },
   "source": [
    "project_name = \"agi_agi\"\n",
    "path_tps_file = f\"/data/ATM/data_1/sfm/agi_projects/{project_name}/debug/tie_points.csv\""
   ],
   "outputs": [],
   "execution_count": 35
  },
  {
   "metadata": {
    "ExecuteTime": {
     "end_time": "2024-10-14T08:47:20.681648Z",
     "start_time": "2024-10-14T08:47:20.670059Z"
    }
   },
   "cell_type": "code",
   "source": [
    "import pandas as pd\n",
    "df = pd.read_csv(path_tps_file)\n",
    "\n",
    "print(df.columns)"
   ],
   "id": "7a577e95cefe67a4",
   "outputs": [
    {
     "name": "stdout",
     "output_type": "stream",
     "text": [
      "Index(['tp_id', 'x_left', 'x_right', 'y_left', 'y_right', 'size_left',\n",
      "       'size_right', 'keypoint_left', 'keypoint_right', 'image_id_left',\n",
      "       'image_id_right', 'track_id'],\n",
      "      dtype='object')\n"
     ]
    }
   ],
   "execution_count": 36
  },
  {
   "metadata": {
    "ExecuteTime": {
     "end_time": "2024-10-14T08:47:20.886406Z",
     "start_time": "2024-10-14T08:47:20.865202Z"
    }
   },
   "cell_type": "code",
   "source": [
    "# round the x and y coordinates to 1 decimal place\n",
    "df['x_left'] = df['x_left'].round(1)\n",
    "df['y_left'] = df['y_left'].round(1)\n",
    "df['x_right'] = df['x_right'].round(1)\n",
    "df['y_right'] = df['y_right'].round(1)\n",
    "\n",
    "# Create separate dataframes for left and right\n",
    "left_columns = ['tp_id', 'x_left', 'y_left', 'size_left', 'keypoint_left', 'image_id_left', 'track_id']\n",
    "right_columns = ['tp_id', 'x_right', 'y_right', 'size_right', 'keypoint_right', 'image_id_right', 'track_id']\n",
    "\n",
    "# Rename left and right columns\n",
    "df_left = df[left_columns].rename(columns={\n",
    "    'x_left': 'x', 'y_left': 'y', 'size_left': 'size', 'keypoint_left': 'keypoint', 'image_id_left': 'image_id'\n",
    "})\n",
    "df_right = df[right_columns].rename(columns={\n",
    "    'x_right': 'x', 'y_right': 'y', 'size_right': 'size', 'keypoint_right': 'keypoint', 'image_id_right': 'image_id'\n",
    "})\n",
    "\n",
    "\n",
    "# Concatenate the left and right dataframes\n",
    "df_combined = pd.concat([df_left, df_right])\n",
    "# Concatenate left and right data\n",
    "df_combined = pd.concat([df_left, df_right])\n",
    "\n",
    "# Create a dictionary where the keys are image_id and the values are individual DataFrames\n",
    "dfs_per_image_id = {image_id: df_combined[df_combined['image_id'] == image_id] for image_id in df_combined['image_id'].unique()}\n"
   ],
   "id": "79c018218d4240ed",
   "outputs": [],
   "execution_count": 37
  },
  {
   "metadata": {
    "ExecuteTime": {
     "end_time": "2024-10-14T08:47:58.679429Z",
     "start_time": "2024-10-14T08:47:58.492389Z"
    }
   },
   "cell_type": "code",
   "source": [
    "import numpy as np\n",
    "from scipy.spatial import distance_matrix\n",
    "\n",
    "tolerance = 1\n",
    "\n",
    "for key in dfs_per_image_id.keys():\n",
    "    df = dfs_per_image_id[key]\n",
    "    coordinates = df[['x', 'y']].values\n",
    "\n",
    "    # Compute the distance matrix (pairwise Euclidean distances)\n",
    "    dist_matrix = distance_matrix(coordinates, coordinates)\n",
    "    \n",
    "    # Find pairs of points where the distance is less than or equal to the tolerance (excluding self-pairs)\n",
    "    common_points = np.where((dist_matrix <= tolerance) & (dist_matrix > 0))\n",
    "    \n",
    "        # Create a DataFrame to show pairs of common points\n",
    "    common_df = pd.DataFrame({\n",
    "        'tp_id_1': df.iloc[common_points[0]]['tp_id'].values,\n",
    "        'tp_id_2': df.iloc[common_points[1]]['tp_id'].values,\n",
    "        'x_1': df.iloc[common_points[0]]['x'].values,\n",
    "        'y_1': df.iloc[common_points[0]]['y'].values,\n",
    "        'x_2': df.iloc[common_points[1]]['x'].values,\n",
    "        'y_2': df.iloc[common_points[1]]['y'].values,\n",
    "        'image_id': df.iloc[common_points[0]]['image_id'].values,\n",
    "        'distance': dist_matrix[common_points]\n",
    "    })\n",
    "    print(\"KEY\", key)\n",
    "    print(common_df)\n",
    "    "
   ],
   "id": "5f74a4763d94c63b",
   "outputs": [
    {
     "name": "stdout",
     "output_type": "stream",
     "text": [
      "KEY 0.0\n",
      "Empty DataFrame\n",
      "Columns: [tp_id_1, tp_id_2, x_1, y_1, x_2, y_2, image_id, distance]\n",
      "Index: []\n",
      "KEY 1.0\n",
      "Empty DataFrame\n",
      "Columns: [tp_id_1, tp_id_2, x_1, y_1, x_2, y_2, image_id, distance]\n",
      "Index: []\n",
      "KEY 2.0\n",
      "   tp_id_1  tp_id_2     x_1     y_1     x_2     y_2  image_id  distance\n",
      "0   1899.0    831.0  5290.2  2882.5  5290.3  2883.0       2.0  0.509902\n",
      "1    831.0   1899.0  5290.3  2883.0  5290.2  2882.5       2.0  0.509902\n",
      "KEY 3.0\n",
      "   tp_id_1  tp_id_2     x_1     y_1     x_2     y_2  image_id  distance\n",
      "0   1727.0   1971.0  1645.1  4117.8  1644.8  4118.0       3.0  0.360555\n",
      "1   1971.0   1727.0  1644.8  4118.0  1645.1  4117.8       3.0  0.360555\n"
     ]
    }
   ],
   "execution_count": 40
  },
  {
   "metadata": {
    "ExecuteTime": {
     "end_time": "2024-10-14T08:24:53.077763Z",
     "start_time": "2024-10-14T08:24:53.075011Z"
    }
   },
   "cell_type": "code",
   "source": "",
   "id": "6736b2d3a35a2c06",
   "outputs": [],
   "execution_count": 12
  },
  {
   "metadata": {},
   "cell_type": "code",
   "outputs": [],
   "execution_count": null,
   "source": "",
   "id": "c886c2709c7f78ed"
  }
 ],
 "metadata": {
  "kernelspec": {
   "display_name": "Python 3",
   "language": "python",
   "name": "python3"
  },
  "language_info": {
   "codemirror_mode": {
    "name": "ipython",
    "version": 2
   },
   "file_extension": ".py",
   "mimetype": "text/x-python",
   "name": "python",
   "nbconvert_exporter": "python",
   "pygments_lexer": "ipython2",
   "version": "2.7.6"
  }
 },
 "nbformat": 4,
 "nbformat_minor": 5
}
