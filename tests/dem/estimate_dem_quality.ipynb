{
 "cells": [
  {
   "cell_type": "code",
   "id": "initial_id",
   "metadata": {
    "collapsed": true,
    "ExecuteTime": {
     "end_time": "2024-08-05T14:13:31.757573Z",
     "start_time": "2024-08-05T14:13:31.743157Z"
    }
   },
   "source": [
    "%load_ext autoreload\n",
    "%autoreload 2"
   ],
   "outputs": [],
   "execution_count": 1
  },
  {
   "metadata": {
    "ExecuteTime": {
     "end_time": "2024-08-05T14:13:31.801928Z",
     "start_time": "2024-08-05T14:13:31.785162Z"
    }
   },
   "cell_type": "code",
   "source": "path_new_dem = \"/data/ATM/data_1/sfm/agi_projects/test_gcps8/output/test_gcps8_dem_absolute.tif\"",
   "id": "45d9a324c43c0137",
   "outputs": [],
   "execution_count": 2
  },
  {
   "metadata": {
    "ExecuteTime": {
     "end_time": "2024-08-05T14:13:31.962860Z",
     "start_time": "2024-08-05T14:13:31.850416Z"
    }
   },
   "cell_type": "code",
   "source": [
    "import numpy as np\n",
    "def calculate_bounds(transform_matrix, width, height):\n",
    "    \n",
    "    transform_matrix = np.asarray(transform_matrix).reshape(3,3)\n",
    "        \n",
    "    # Define the four corners of the image in Cartesian coordinates\n",
    "    corners = np.array([\n",
    "        [0, 0],  # Top-left corner\n",
    "        [width, 0],  # Top-right corner\n",
    "        [width, height],  # Bottom-right corner\n",
    "        [0, height]  # Bottom-left corner\n",
    "    ])\n",
    "\n",
    "    # Convert corners to homogeneous coordinates by adding a row of ones\n",
    "    corners_homogeneous = np.vstack((corners.T, np.ones((1, corners.shape[0]))))\n",
    "\n",
    "    # Apply the transformation matrix to the corners\n",
    "    transformed_corners_homogeneous = transform_matrix @ corners_homogeneous\n",
    "\n",
    "    # Convert back to Cartesian coordinates by dividing by the last row\n",
    "    transformed_corners_cartesian = transformed_corners_homogeneous[:2, :] / transformed_corners_homogeneous[2, :]\n",
    "\n",
    "    # Calculate the min/max bounds for x and y\n",
    "    min_x, max_x = np.min(transformed_corners_cartesian[0, :]), np.max(transformed_corners_cartesian[0, :])\n",
    "    min_y, max_y = np.min(transformed_corners_cartesian[1, :]), np.max(transformed_corners_cartesian[1, :])\n",
    "\n",
    "    return min_x, min_y, max_x, max_y\n"
   ],
   "id": "6e8d3fd578ba6475",
   "outputs": [],
   "execution_count": 3
  },
  {
   "metadata": {
    "ExecuteTime": {
     "end_time": "2024-08-05T14:13:32.635663Z",
     "start_time": "2024-08-05T14:13:31.963960Z"
    }
   },
   "cell_type": "code",
   "source": [
    "import src.load.load_image as li\n",
    "\n",
    "new_dem, new_transform = li.load_image(path_new_dem, return_transform=True)\n",
    "\n",
    "\n",
    "new_dem[new_dem == -9999] = np.nan\n",
    "\n",
    "print(np.nanmin(new_dem), np.nanmax(new_dem))\n",
    "\n",
    "# get bounds\n",
    "new_bounds = calculate_bounds(new_transform, new_dem.shape[1], new_dem.shape[0])\n",
    "print(new_bounds)"
   ],
   "id": "60f2dd5e2a215765",
   "outputs": [
    {
     "name": "stdout",
     "output_type": "stream",
     "text": [
      "132.68611 1320.6384\n",
      "(-2002172.5958528647, 724012.9429729865, -1982520.1492790317, 729795.1460498965)\n"
     ]
    }
   ],
   "execution_count": 4
  },
  {
   "metadata": {
    "ExecuteTime": {
     "end_time": "2024-08-05T14:52:35.568902Z",
     "start_time": "2024-08-05T14:52:25.806542Z"
    }
   },
   "cell_type": "code",
   "source": [
    "import src.dem.estimate_dem_quality_old as edq\n",
    "\n",
    "qd = edq.estimate_dem_quality(new_dem, modern_source=\"REMA10\", historic_bounds=new_bounds, use_rock_mask=True)"
   ],
   "id": "8059b1ef912ab694",
   "outputs": [],
   "execution_count": 18
  },
  {
   "metadata": {
    "ExecuteTime": {
     "end_time": "2024-08-05T14:52:36.358260Z",
     "start_time": "2024-08-05T14:52:36.324146Z"
    }
   },
   "cell_type": "code",
   "source": [
    "for key, value in qd.items():\n",
    "    print(key, value)"
   ],
   "id": "aef93528197d94bf",
   "outputs": [
    {
     "name": "stdout",
     "output_type": "stream",
     "text": [
      "all_mean_difference -0.28371793\n",
      "all_std_difference 193.1377\n",
      "all_mean_difference_abs 157.33104\n",
      "all_difference_abs_std 112.02312\n",
      "all_rmse 193.13788\n",
      "all_mae 157.33104\n",
      "all_mad 140.42903\n",
      "all_correlation 0.8318514795651736\n",
      "rock_mean_difference 11.861684\n",
      "rock_std_difference 165.83163\n",
      "rock_mean_difference_abs 133.12477\n",
      "rock_difference_abs_std 99.59234\n",
      "rock_rmse 166.25536\n",
      "rock_mae 133.12477\n",
      "rock_mad 125.91882\n",
      "rock_correlation 0.7320582814170166\n"
     ]
    }
   ],
   "execution_count": 19
  },
  {
   "metadata": {},
   "cell_type": "code",
   "outputs": [],
   "execution_count": null,
   "source": "",
   "id": "d0015c9b56bc03a4"
  }
 ],
 "metadata": {
  "kernelspec": {
   "display_name": "Python 3",
   "language": "python",
   "name": "python3"
  },
  "language_info": {
   "codemirror_mode": {
    "name": "ipython",
    "version": 2
   },
   "file_extension": ".py",
   "mimetype": "text/x-python",
   "name": "python",
   "nbconvert_exporter": "python",
   "pygments_lexer": "ipython2",
   "version": "2.7.6"
  }
 },
 "nbformat": 4,
 "nbformat_minor": 5
}
