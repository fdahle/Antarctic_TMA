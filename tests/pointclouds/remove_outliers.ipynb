{
 "cells": [
  {
   "cell_type": "code",
   "metadata": {
    "collapsed": true,
    "ExecuteTime": {
     "end_time": "2024-11-08T09:29:26.149977Z",
     "start_time": "2024-11-08T09:29:26.128651Z"
    }
   },
   "source": [
    "%load_ext autoreload\n",
    "%autoreload 2"
   ],
   "outputs": [
    {
     "name": "stdout",
     "output_type": "stream",
     "text": [
      "The autoreload extension is already loaded. To reload it, use:\n",
      "  %reload_ext autoreload\n"
     ]
    }
   ],
   "execution_count": 11
  },
  {
   "cell_type": "code",
   "source": [
    "input_path_pointcloud = '/data/ATM/data_1/sfm/agi_projects/new_tst8/output/new_tst8_pointcloud_relative.ply'\n",
    "output_path_pointcloud = '/data/ATM/data_1/sfm/agi_projects/new_tst8/output/new_tst8_pointcloud_relative_no_outliers.ply'"
   ],
   "metadata": {
    "collapsed": false,
    "ExecuteTime": {
     "end_time": "2024-11-08T10:13:18.091343Z",
     "start_time": "2024-11-08T10:13:18.051649Z"
    }
   },
   "outputs": [],
   "execution_count": 27
  },
  {
   "metadata": {
    "ExecuteTime": {
     "end_time": "2024-11-08T10:13:23.118947Z",
     "start_time": "2024-11-08T10:13:19.261596Z"
    }
   },
   "cell_type": "code",
   "source": [
    "import src.load.load_pointcloud as lp\n",
    "\n",
    "# load pointcloud\n",
    "pointcloud = lp.load_point_cloud(input_path_pointcloud)\n",
    "\n",
    "print(type(pointcloud))"
   ],
   "outputs": [
    {
     "name": "stdout",
     "output_type": "stream",
     "text": [
      "<class 'open3d.cuda.pybind.geometry.PointCloud'>\n"
     ]
    }
   ],
   "execution_count": 28
  },
  {
   "cell_type": "code",
   "source": [
    "import src.pointclouds.remove_outliers as ro\n",
    "\n",
    "# remove outliers\n",
    "pointcloud = ro.remove_outliers(pointcloud)\n"
   ],
   "metadata": {
    "collapsed": false,
    "ExecuteTime": {
     "end_time": "2024-11-08T10:13:30.628067Z",
     "start_time": "2024-11-08T10:13:23.957019Z"
    }
   },
   "outputs": [
    {
     "name": "stdout",
     "output_type": "stream",
     "text": [
      "Removed 113834 outliers from the point cloud\n",
      "Time taken to remove outliers: 6.59 seconds\n"
     ]
    }
   ],
   "execution_count": 29
  },
  {
   "cell_type": "code",
   "source": [
    "import src.export.export_pointcloud as ep\n",
    "\n",
    "# export pointcloud\n",
    "ep.export_pointcloud(pointcloud, output_path_pointcloud)"
   ],
   "metadata": {
    "collapsed": false,
    "ExecuteTime": {
     "end_time": "2024-11-08T10:14:09.171771Z",
     "start_time": "2024-11-08T10:13:32.308120Z"
    }
   },
   "outputs": [],
   "execution_count": 30
  },
  {
   "metadata": {},
   "cell_type": "code",
   "outputs": [],
   "execution_count": null,
   "source": ""
  }
 ],
 "metadata": {
  "kernelspec": {
   "display_name": "Python 3",
   "language": "python",
   "name": "python3"
  },
  "language_info": {
   "codemirror_mode": {
    "name": "ipython",
    "version": 2
   },
   "file_extension": ".py",
   "mimetype": "text/x-python",
   "name": "python",
   "nbconvert_exporter": "python",
   "pygments_lexer": "ipython2",
   "version": "2.7.6"
  }
 },
 "nbformat": 4,
 "nbformat_minor": 0
}
