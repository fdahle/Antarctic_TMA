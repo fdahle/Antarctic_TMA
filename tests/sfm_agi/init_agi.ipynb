{
 "cells": [
  {
   "cell_type": "code",
   "execution_count": 23,
   "metadata": {
    "collapsed": true
   },
   "outputs": [
    {
     "name": "stdout",
     "output_type": "stream",
     "text": [
      "The autoreload extension is already loaded. To reload it, use:\n",
      "  %reload_ext autoreload\n"
     ]
    }
   ],
   "source": [
    "%load_ext autoreload\n",
    "%autoreload 2"
   ]
  },
  {
   "cell_type": "code",
   "execution_count": 24,
   "outputs": [],
   "source": [
    "project_name = \"test_1801\""
   ],
   "metadata": {
    "collapsed": false
   }
  },
  {
   "cell_type": "code",
   "execution_count": 25,
   "outputs": [
    {
     "name": "stdout",
     "output_type": "stream",
     "text": [
      "{'CA180132V0096': 151.982, 'CA180132V0095': 151.982, 'CA180132V0094': 151.982, 'CA180132V0097': 151.982}\n"
     ]
    }
   ],
   "source": [
    "# Library imports\n",
    "import os\n",
    "\n",
    "# Local imports\n",
    "import src.base.connect_to_database as ctd\n",
    "\n",
    "# define the image ids\n",
    "image_ids = [\"CA180132V0094\", \"CA180132V0095\", \"CA180132V0096\", \"CA180132V0097\"]\n",
    "\n",
    "# get only the first 3 images\n",
    "#image_ids = image_ids[:3]\n",
    "\n",
    "# define the path to the image folder\n",
    "path_image_folder = \"/data_1/ATM/data_1/aerial/TMA/downloaded\"\n",
    "\n",
    "# create lst with absolute paths\n",
    "images = [os.path.join(path_image_folder, image + \".tif\") for image in image_ids]\n",
    "\n",
    "# create sql list string for image_ids\n",
    "image_ids_string = \"','\".join(image_ids)\n",
    "image_ids_string = \"('\" + image_ids_string + \"')\"\n",
    "\n",
    "# create conn to the database\n",
    "conn = ctd.establish_connection()\n",
    "\n",
    "# create a dict with the focal lengths\n",
    "sql_string = f\"SELECT image_id, focal_length FROM images_extracted WHERE image_id in {image_ids_string}\"\n",
    "focal_length_data = ctd.execute_sql(sql_string, conn)\n",
    "focal_length_dict = focal_length_data.set_index('image_id')['focal_length'].to_dict()\n",
    "\n",
    "print(focal_length_dict)"
   ],
   "metadata": {
    "collapsed": false
   }
  },
  {
   "cell_type": "code",
   "execution_count": 26,
   "outputs": [
    {
     "name": "stdout",
     "output_type": "stream",
     "text": [
      "None\n"
     ]
    },
    {
     "ename": "NameError",
     "evalue": "name 'exit' is not defined",
     "output_type": "error",
     "traceback": [
      "\u001B[0;31m---------------------------------------------------------------------------\u001B[0m",
      "\u001B[0;31mNameError\u001B[0m                                 Traceback (most recent call last)",
      "Cell \u001B[0;32mIn[26], line 5\u001B[0m\n\u001B[1;32m      2\u001B[0m \u001B[38;5;28;01mimport\u001B[39;00m \u001B[38;5;21;01msrc\u001B[39;00m\u001B[38;5;21;01m.\u001B[39;00m\u001B[38;5;21;01msfm_agi\u001B[39;00m\u001B[38;5;21;01m.\u001B[39;00m\u001B[38;5;21;01minit_agi\u001B[39;00m \u001B[38;5;28;01mas\u001B[39;00m \u001B[38;5;21;01mia\u001B[39;00m\n\u001B[1;32m      4\u001B[0m \u001B[38;5;66;03m# init the agisoft project\u001B[39;00m\n\u001B[0;32m----> 5\u001B[0m \u001B[43mia\u001B[49m\u001B[38;5;241;43m.\u001B[39;49m\u001B[43minit_agi\u001B[49m\u001B[43m(\u001B[49m\u001B[43mproject_name\u001B[49m\u001B[43m,\u001B[49m\u001B[43m \u001B[49m\u001B[43mimages\u001B[49m\u001B[43m,\u001B[49m\u001B[43m \u001B[49m\u001B[43mfocal_lengths\u001B[49m\u001B[38;5;241;43m=\u001B[39;49m\u001B[43mfocal_length_dict\u001B[49m\u001B[43m)\u001B[49m\n",
      "File \u001B[0;32m~/Documents/GitHub/Antarctic_TMA/src/sfm_agi/init_agi.py:44\u001B[0m, in \u001B[0;36minit_agi\u001B[0;34m(project_name, images, camera_positions, camera_accuracies, focal_lengths)\u001B[0m\n\u001B[1;32m     39\u001B[0m \u001B[38;5;28;01mdef\u001B[39;00m \u001B[38;5;21minit_agi\u001B[39m(project_name, images,\n\u001B[1;32m     40\u001B[0m              camera_positions\u001B[38;5;241m=\u001B[39m\u001B[38;5;28;01mNone\u001B[39;00m, camera_accuracies\u001B[38;5;241m=\u001B[39m\u001B[38;5;28;01mNone\u001B[39;00m,\n\u001B[1;32m     41\u001B[0m              focal_lengths\u001B[38;5;241m=\u001B[39m\u001B[38;5;28;01mNone\u001B[39;00m):\n\u001B[1;32m     43\u001B[0m     \u001B[38;5;28mprint\u001B[39m(Metashape\u001B[38;5;241m.\u001B[39mapp\u001B[38;5;241m.\u001B[39msettings\u001B[38;5;241m.\u001B[39mvalue(\u001B[38;5;124m\"\u001B[39m\u001B[38;5;124mteak_name\u001B[39m\u001B[38;5;124m\"\u001B[39m))\n\u001B[0;32m---> 44\u001B[0m     \u001B[43mexit\u001B[49m()\n\u001B[1;32m     46\u001B[0m     \u001B[38;5;66;03m# Metashape.app.cpu_enable = True\u001B[39;00m\n\u001B[1;32m     48\u001B[0m     \u001B[38;5;28;01mif\u001B[39;00m RESUME \u001B[38;5;129;01mand\u001B[39;00m OVERWRITE:\n",
      "\u001B[0;31mNameError\u001B[0m: name 'exit' is not defined"
     ]
    }
   ],
   "source": [
    "# Local imports\n",
    "import src.sfm_agi.init_agi as ia\n",
    "\n",
    "# init the agisoft project\n",
    "ia.init_agi(project_name, images, focal_lengths=focal_length_dict)"
   ],
   "metadata": {
    "collapsed": false
   }
  },
  {
   "cell_type": "markdown",
   "source": [],
   "metadata": {
    "collapsed": false
   }
  }
 ],
 "metadata": {
  "kernelspec": {
   "display_name": "Python 3",
   "language": "python",
   "name": "python3"
  },
  "language_info": {
   "codemirror_mode": {
    "name": "ipython",
    "version": 2
   },
   "file_extension": ".py",
   "mimetype": "text/x-python",
   "name": "python",
   "nbconvert_exporter": "python",
   "pygments_lexer": "ipython2",
   "version": "2.7.6"
  }
 },
 "nbformat": 4,
 "nbformat_minor": 0
}
