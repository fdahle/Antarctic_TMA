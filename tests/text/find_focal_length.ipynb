{
 "cells": [
  {
   "cell_type": "code",
   "execution_count": 1,
   "metadata": {
    "collapsed": true
   },
   "outputs": [],
   "source": [
    "%load_ext autoreload\n",
    "%autoreload 2"
   ]
  },
  {
   "cell_type": "code",
   "execution_count": 2,
   "outputs": [],
   "source": [
    "mode = \"random\"  # can be 'random' or 'id'\n",
    "image_id = \"\""
   ],
   "metadata": {
    "collapsed": false
   }
  },
  {
   "cell_type": "code",
   "execution_count": 7,
   "outputs": [
    {
     "name": "stdout",
     "output_type": "stream",
     "text": [
      "Find Focal length for CA216332V0157 with following text:\n",
      "5;F32U3NG3T171 i 39 PENINSULA TMA 2163 0157;8 10 12 L.F.L. 46mm 0:25 T-1I SER.NO 4224 54-658 MISSION=\n",
      "Focal length: None\n",
      "\n",
      "Find Focal length for CA181931L0018 with following text:\n",
      "PALMER LAND TMA 1819 F31R11C0216NOV66;0018;54-648 461 SSER.NO. KC-1 084 776mm AEEL 12 OF B. 6 4 2 24\n",
      "Focal length: None\n",
      "\n",
      "Find Focal length for CA512032V0018 with following text:\n",
      "1-24-47;10,000;GETZ iCE SHEIF;153.8 TMA5120 R-5;;F-32;;F-32;TMA5120 R;44 48;10.000;18\n",
      "Focal length: None\n",
      "\n",
      "Find Focal length for CA183232V0047 with following text:\n",
      "TMA 1832 PALMER LAND F32 M5120B 18DEC66;0047;8 29.9 298;8 16 8 14 CAL.F.L 52.004mm;0062 LENSSER.NO 539 SER.BU-93 NO. IS9ION M 005 2-18-66 F32;22 20\n",
      "Focal length: None\n",
      "\n",
      "Find Focal length for CA135331L0302 with following text:\n",
      "KODAK AERECON SAFETYFIL;KODAK AERECON SAFETYFIL;NS SER.NO F2230;U31R1-1-4 9/26/6415000152.72MM ANTPEN TMA1353 30ZTMA 1353 LEF\n",
      "Focal length: 152.72\n",
      "\n"
     ]
    }
   ],
   "source": [
    "import src.base.connect_to_database as ctd\n",
    "import src.text.find_focal_length as ffl\n",
    "\n",
    "# create connection to database\n",
    "conn = ctd.establish_connection()\n",
    "\n",
    "max_tries = 100\n",
    "\n",
    "# if random mode, get random image id\n",
    "if mode == \"random\":\n",
    "    sql_string = \"SELECT image_id FROM images_extracted \" \\\n",
    "                 \"WHERE text_content is NOT NULL \" \\\n",
    "                 f\"ORDER BY RANDOM() LIMIT {max_tries}\"\n",
    "    image_ids = ctd.execute_sql(sql_string, conn)['image_id']\n",
    "\n",
    "for image_id in image_ids:\n",
    "\n",
    "    # get the text content\n",
    "    sql_string = f\"SELECT text_content FROM images_extracted \" \\\n",
    "                 f\"WHERE image_id='{image_id}'\"\n",
    "    text_content = ctd.execute_sql(sql_string, conn)['text_content'].iloc[0]\n",
    "\n",
    "    print(f\"Find Focal length for {image_id} with following text:\")\n",
    "    print(text_content)\n",
    "\n",
    "    focal_length = ffl.find_focal_length(text_content)\n",
    "    print(\"Focal length:\", focal_length)\n",
    "    print(\"\")\n",
    "\n",
    "    if focal_length is not None:\n",
    "        break"
   ],
   "metadata": {
    "collapsed": false
   }
  },
  {
   "cell_type": "code",
   "execution_count": null,
   "outputs": [],
   "source": [],
   "metadata": {
    "collapsed": false,
    "pycharm": {
     "is_executing": true
    }
   }
  },
  {
   "cell_type": "code",
   "execution_count": 4,
   "outputs": [],
   "source": [],
   "metadata": {
    "collapsed": false
   }
  }
 ],
 "metadata": {
  "kernelspec": {
   "display_name": "Python 3",
   "language": "python",
   "name": "python3"
  },
  "language_info": {
   "codemirror_mode": {
    "name": "ipython",
    "version": 2
   },
   "file_extension": ".py",
   "mimetype": "text/x-python",
   "name": "python",
   "nbconvert_exporter": "python",
   "pygments_lexer": "ipython2",
   "version": "2.7.6"
  }
 },
 "nbformat": 4,
 "nbformat_minor": 0
}
