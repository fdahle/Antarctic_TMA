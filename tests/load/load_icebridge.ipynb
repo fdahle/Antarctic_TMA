{
 "cells": [
  {
   "cell_type": "code",
   "execution_count": 1,
   "metadata": {
    "collapsed": true
   },
   "outputs": [],
   "source": [
    "%load_ext autoreload\n",
    "%autoreload 2"
   ]
  },
  {
   "cell_type": "code",
   "execution_count": 15,
   "outputs": [],
   "source": [
    "download_fld = \"/data/ATM/data_1/aerial/icebridge\"\n",
    "\n",
    "min_x = -66.0000\n",
    "max_x = -67.0000\n",
    "min_y = -70.0000\n",
    "max_y = -68.0000\n",
    "\n",
    "bbox = f\"{min_x},{min_y},{max_x},{max_y}\""
   ],
   "metadata": {
    "collapsed": false
   }
  },
  {
   "cell_type": "code",
   "execution_count": 16,
   "outputs": [
    {
     "name": "stdout",
     "output_type": "stream",
     "text": [
      "https://cmr.earthdata.nasa.gov/search/granules.json?provider=NSIDC_ECS&sort_key[]=start_date&sort_key[]=producer_granule_id&scroll=true&page_size=2000&short_name=IODMS1B&version=001&temporal=2009-10-16T00%3A00%3A00Z%2C2018-04-19T23%3A59%3A59Z&bounding_box=-66.0%2C-70.0%2C-67.0%2C-68.0\n",
      "[]\n"
     ]
    }
   ],
   "source": [
    "import src.load.load_ice_bridge as lib\n",
    "\n",
    "lib.load_ice_bridge(bbox, download_fld)"
   ],
   "metadata": {
    "collapsed": false
   }
  },
  {
   "cell_type": "code",
   "execution_count": null,
   "outputs": [],
   "source": [],
   "metadata": {
    "collapsed": false
   }
  }
 ],
 "metadata": {
  "kernelspec": {
   "display_name": "Python 3",
   "language": "python",
   "name": "python3"
  },
  "language_info": {
   "codemirror_mode": {
    "name": "ipython",
    "version": 2
   },
   "file_extension": ".py",
   "mimetype": "text/x-python",
   "name": "python",
   "nbconvert_exporter": "python",
   "pygments_lexer": "ipython2",
   "version": "2.7.6"
  }
 },
 "nbformat": 4,
 "nbformat_minor": 0
}
