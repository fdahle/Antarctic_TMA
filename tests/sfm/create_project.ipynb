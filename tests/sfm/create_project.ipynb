{
 "cells": [
  {
   "cell_type": "code",
   "execution_count": 1,
   "id": "initial_id",
   "metadata": {
    "collapsed": true
   },
   "outputs": [],
   "source": [
    "%load_ext autoreload\n",
    "%autoreload 2"
   ]
  },
  {
   "cell_type": "code",
   "execution_count": 2,
   "outputs": [],
   "source": [
    "project_name = \"EGU\"\n",
    "project_folder = \"/data_1/ATM/data_1/sfm/projects\"\n",
    "\n",
    "#image_ids = [\"CA214232V0160\", \"CA214232V0161\", \"CA214232V0162\", \"CA214232V0163\", \"CA214232V0164\", \"CA214232V0165\", \"CA214232V0166\"]\n",
    "\n",
    "#image_ids = [\"CA216432V0214\", \"CA216432V0215\", \"CA216432V0216\", \"CA216432V0217\", \"CA216432V0218\", \"CA216432V0219\"]\n",
    "#image_ids = [\"CA184632V0341\",\"CA184632V0342\", \"CA184632V0343\", \"CA184632V0344\"]\n",
    "image_ids = [\"CA214732V0027\", \"CA214732V0028\", \"CA214732V0029\", \"CA214732V0030\", \"CA214732V0031\", \"CA214732V0032\", \"CA214732V0033\", \"CA214732V0034\",\"CA214732V0035\"]"
   ],
   "metadata": {
    "collapsed": false
   }
  },
  {
   "cell_type": "code",
   "execution_count": 3,
   "outputs": [
    {
     "name": "stdout",
     "output_type": "stream",
     "text": [
      "Resume: True ; Overwrite: False\n",
      "Resuming project at /data_1/ATM/data_1/sfm/projects/EGU\n",
      "Copy images - finished\n",
      "Copy masks - finished\n",
      "Copy XML files - finished\n"
     ]
    }
   ],
   "source": [
    "import src.sfm.SFMProject as sfmp\n",
    "\n",
    "sfmp = sfmp.SFMProject(project_name, project_folder, micmac_path=\"/home/fdahle/micmac/bin/mm3d\",\n",
    "                       resume=True, debug=True)\n",
    "\n",
    "sfmp.set_images(image_ids,\n",
    "                copy_masks=True,\n",
    "                copy_resampled=False,\n",
    "                copy_resampled_masks=False,\n",
    "                copy_xml=True,\n",
    "                copy_transform=False,\n",
    "                ignore_missing=True)\n",
    "sfmp.set_camera(\"1983\")"
   ],
   "metadata": {
    "collapsed": false
   }
  },
  {
   "cell_type": "code",
   "execution_count": 21,
   "outputs": [
    {
     "ename": "FileNotFoundError",
     "evalue": "No transform files found in '/data_1/ATM/data_1/sfm/projects/EGU/transforms'.",
     "output_type": "error",
     "traceback": [
      "\u001B[0;31m---------------------------------------------------------------------------\u001B[0m",
      "\u001B[0;31mFileNotFoundError\u001B[0m                         Traceback (most recent call last)",
      "Cell \u001B[0;32mIn[21], line 9\u001B[0m\n\u001B[1;32m      5\u001B[0m     micmac_args \u001B[38;5;241m=\u001B[39m json\u001B[38;5;241m.\u001B[39mload(file)\n\u001B[1;32m      7\u001B[0m print_all_output \u001B[38;5;241m=\u001B[39m \u001B[38;5;28;01mTrue\u001B[39;00m\n\u001B[0;32m----> 9\u001B[0m sfmp\u001B[38;5;241m.\u001B[39mstart(\u001B[38;5;124m\"\u001B[39m\u001B[38;5;124mmanual\u001B[39m\u001B[38;5;124m\"\u001B[39m, [\u001B[38;5;124m\"\u001B[39m\u001B[38;5;124mGCPCustom\u001B[39m\u001B[38;5;124m\"\u001B[39m],\n\u001B[1;32m     10\u001B[0m            micmac_args,\n\u001B[1;32m     11\u001B[0m            print_all_output\u001B[38;5;241m=\u001B[39mprint_all_output,\n\u001B[1;32m     12\u001B[0m            save_stats\u001B[38;5;241m=\u001B[39m\u001B[38;5;28;01mTrue\u001B[39;00m, save_raw\u001B[38;5;241m=\u001B[39m\u001B[38;5;28;01mTrue\u001B[39;00m)\n",
      "File \u001B[0;32m~/Documents/GitHub/Antarctic_TMA/src/sfm/SFMProject.py:499\u001B[0m, in \u001B[0;36mSFMProject.start\u001B[0;34m(self, mode, commands, micmac_args, print_all_output, save_stats, save_raw)\u001B[0m\n\u001B[1;32m    496\u001B[0m     \u001B[38;5;28;01mraise\u001B[39;00m \u001B[38;5;167;01mException\u001B[39;00m(\u001B[38;5;124mf\u001B[39m\u001B[38;5;124m\"\u001B[39m\u001B[38;5;124mCommand \u001B[39m\u001B[38;5;124m'\u001B[39m\u001B[38;5;132;01m{\u001B[39;00mcommand\u001B[38;5;132;01m}\u001B[39;00m\u001B[38;5;124m'\u001B[39m\u001B[38;5;124m is not supported\u001B[39m\u001B[38;5;124m\"\u001B[39m)\n\u001B[1;32m    498\u001B[0m \u001B[38;5;66;03m# execute the command\u001B[39;00m\n\u001B[0;32m--> 499\u001B[0m \u001B[38;5;28mself\u001B[39m\u001B[38;5;241m.\u001B[39m_execute_command(command, micmac_args, print_all_output, save_stats, save_raw)\n",
      "File \u001B[0;32m~/Documents/GitHub/Antarctic_TMA/src/sfm/SFMProject.py:574\u001B[0m, in \u001B[0;36mSFMProject._execute_command\u001B[0;34m(self, command_name, micmac_args, print_all_output, save_stats, save_raw)\u001B[0m\n\u001B[1;32m    571\u001B[0m         \u001B[38;5;28;01mraise\u001B[39;00m e\n\u001B[1;32m    573\u001B[0m \u001B[38;5;28;01mif\u001B[39;00m command_name\u001B[38;5;241m.\u001B[39mendswith(\u001B[38;5;124m\"\u001B[39m\u001B[38;5;124mCustom\u001B[39m\u001B[38;5;124m\"\u001B[39m):\n\u001B[0;32m--> 574\u001B[0m     mm_command\u001B[38;5;241m.\u001B[39mexecute_custom_cmd()\n\u001B[1;32m    575\u001B[0m \u001B[38;5;28;01melse\u001B[39;00m:\n\u001B[1;32m    576\u001B[0m     mm_command\u001B[38;5;241m.\u001B[39mexecute_shell_cmd(\u001B[38;5;28mself\u001B[39m\u001B[38;5;241m.\u001B[39mmicmac_path)\n",
      "File \u001B[0;32m~/Documents/GitHub/Antarctic_TMA/src/sfm/mm_commands/GCPCustom.py:45\u001B[0m, in \u001B[0;36mGCPCustom.execute_custom_cmd\u001B[0;34m(self)\u001B[0m\n\u001B[1;32m     42\u001B[0m \u001B[38;5;28;01mdef\u001B[39;00m \u001B[38;5;21mexecute_custom_cmd\u001B[39m(\u001B[38;5;28mself\u001B[39m):\n\u001B[1;32m     43\u001B[0m \n\u001B[1;32m     44\u001B[0m     \u001B[38;5;66;03m# validate the required files\u001B[39;00m\n\u001B[0;32m---> 45\u001B[0m     \u001B[38;5;28mself\u001B[39m\u001B[38;5;241m.\u001B[39mvalidate_required_files(\u001B[38;5;28mself\u001B[39m\u001B[38;5;241m.\u001B[39mmm_args[\u001B[38;5;124m\"\u001B[39m\u001B[38;5;124mALLTransformsReq\u001B[39m\u001B[38;5;124m\"\u001B[39m])\n\u001B[1;32m     47\u001B[0m     \u001B[38;5;66;03m# get the gcps\u001B[39;00m\n\u001B[1;32m     48\u001B[0m     gcp_dict \u001B[38;5;241m=\u001B[39m \u001B[38;5;28mself\u001B[39m\u001B[38;5;241m.\u001B[39m_get_gcps()\n",
      "File \u001B[0;32m~/Documents/GitHub/Antarctic_TMA/src/sfm/mm_commands/GCPCustom.py:80\u001B[0m, in \u001B[0;36mGCPCustom.validate_required_files\u001B[0;34m(self, all_transforms_req)\u001B[0m\n\u001B[1;32m     77\u001B[0m         missing_transforms\u001B[38;5;241m.\u001B[39mappend(image_id)\n\u001B[1;32m     79\u001B[0m \u001B[38;5;28;01mif\u001B[39;00m \u001B[38;5;28mlen\u001B[39m(missing_transforms) \u001B[38;5;241m==\u001B[39m \u001B[38;5;28mlen\u001B[39m(images):\n\u001B[0;32m---> 80\u001B[0m     \u001B[38;5;28;01mraise\u001B[39;00m \u001B[38;5;167;01mFileNotFoundError\u001B[39;00m(\u001B[38;5;124mf\u001B[39m\u001B[38;5;124m\"\u001B[39m\u001B[38;5;124mNo transform files found in \u001B[39m\u001B[38;5;124m'\u001B[39m\u001B[38;5;132;01m{\u001B[39;00m\u001B[38;5;28mself\u001B[39m\u001B[38;5;241m.\u001B[39mproject_folder\u001B[38;5;132;01m}\u001B[39;00m\u001B[38;5;124m/transforms\u001B[39m\u001B[38;5;124m'\u001B[39m\u001B[38;5;124m.\u001B[39m\u001B[38;5;124m\"\u001B[39m)\n\u001B[1;32m     82\u001B[0m \u001B[38;5;66;03m# in this case we need all transforms\u001B[39;00m\n\u001B[1;32m     83\u001B[0m \u001B[38;5;28;01mif\u001B[39;00m all_transforms_req \u001B[38;5;129;01mand\u001B[39;00m \u001B[38;5;28mlen\u001B[39m(missing_transforms) \u001B[38;5;241m>\u001B[39m \u001B[38;5;241m0\u001B[39m:\n",
      "\u001B[0;31mFileNotFoundError\u001B[0m: No transform files found in '/data_1/ATM/data_1/sfm/projects/EGU/transforms'."
     ]
    }
   ],
   "source": [
    "import json\n",
    "\n",
    "json_path = \"/home/fdahle/Documents/GitHub/Antarctic_TMA/tests/sfm/project_args.json\"\n",
    "with open(json_path, 'r') as file:\n",
    "    micmac_args = json.load(file)\n",
    "\n",
    "print_all_output = True\n",
    "\n",
    "sfmp.start(\"manual\", [\"GCPCustom\"],\n",
    "           micmac_args,\n",
    "           print_all_output=print_all_output,\n",
    "           save_stats=True, save_raw=True)"
   ],
   "metadata": {
    "collapsed": false
   }
  },
  {
   "cell_type": "markdown",
   "source": [],
   "metadata": {
    "collapsed": false
   }
  },
  {
   "cell_type": "code",
   "execution_count": null,
   "outputs": [],
   "source": [],
   "metadata": {
    "collapsed": false
   }
  }
 ],
 "metadata": {
  "kernelspec": {
   "display_name": "Python 3",
   "language": "python",
   "name": "python3"
  },
  "language_info": {
   "codemirror_mode": {
    "name": "ipython",
    "version": 2
   },
   "file_extension": ".py",
   "mimetype": "text/x-python",
   "name": "python",
   "nbconvert_exporter": "python",
   "pygments_lexer": "ipython2",
   "version": "2.7.6"
  }
 },
 "nbformat": 4,
 "nbformat_minor": 5
}
