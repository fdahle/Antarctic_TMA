{
 "cells": [
  {
   "metadata": {
    "ExecuteTime": {
     "end_time": "2024-08-09T12:25:06.373986Z",
     "start_time": "2024-08-09T12:25:06.361472Z"
    }
   },
   "cell_type": "code",
   "source": [
    "%load_ext autoreload\n",
    "%autoreload 2"
   ],
   "id": "358224ee09e74343",
   "outputs": [],
   "execution_count": 1
  },
  {
   "cell_type": "code",
   "id": "initial_id",
   "metadata": {
    "collapsed": true,
    "ExecuteTime": {
     "end_time": "2024-08-09T12:25:06.400460Z",
     "start_time": "2024-08-09T12:25:06.386523Z"
    }
   },
   "source": [
    "min_x = -2358616.2502435083\n",
    "min_y = 1128594.5941433292\n",
    "max_x = -2399188.311136363\n",
    "max_y = 1293414.1377820491\n",
    "\n",
    "\n",
    "zoom_level = 10\n",
    "\n",
    "bounds = [min_x, min_y, max_x, max_y]"
   ],
   "outputs": [],
   "execution_count": 2
  },
  {
   "metadata": {
    "ExecuteTime": {
     "end_time": "2024-08-09T12:51:41.879334Z",
     "start_time": "2024-08-09T12:25:16.371956Z"
    }
   },
   "cell_type": "code",
   "source": [
    "import src.load.load_rema as lr\n",
    "\n",
    "dem, transform = lr.load_rema(bounds, zoom_level=zoom_level, auto_download=True)\n",
    "\n",
    "print(transform)\n",
    "print(dem.shape)"
   ],
   "id": "ad871dd093e8d6a5",
   "outputs": [
    {
     "name": "stdout",
     "output_type": "stream",
     "text": [
      "Start: download_rema_data (42_07)\n",
      "Downloading: 100% [932729180 / 932729180] bytesFinished: download_rema_data (42_07)\n",
      "Start: download_rema_data (43_07)\n",
      "Downloading: 100% [795006268 / 795006268] bytesFinished: download_rema_data (43_07)\n",
      "| 10.00, 0.00,-2399190.00|\n",
      "| 0.00,-10.00, 1293420.00|\n",
      "| 0.00, 0.00, 1.00|\n",
      "(16483, 4058)\n"
     ]
    }
   ],
   "execution_count": 4
  },
  {
   "metadata": {},
   "cell_type": "code",
   "outputs": [],
   "execution_count": null,
   "source": "",
   "id": "818af9755fb902f9"
  }
 ],
 "metadata": {
  "kernelspec": {
   "display_name": "Python 3",
   "language": "python",
   "name": "python3"
  },
  "language_info": {
   "codemirror_mode": {
    "name": "ipython",
    "version": 2
   },
   "file_extension": ".py",
   "mimetype": "text/x-python",
   "name": "python",
   "nbconvert_exporter": "python",
   "pygments_lexer": "ipython2",
   "version": "2.7.6"
  }
 },
 "nbformat": 4,
 "nbformat_minor": 5
}
