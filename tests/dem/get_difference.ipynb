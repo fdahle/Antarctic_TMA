{
 "cells": [
  {
   "metadata": {
    "ExecuteTime": {
     "end_time": "2024-07-15T13:03:50.321961Z",
     "start_time": "2024-07-15T13:03:50.307629Z"
    }
   },
   "cell_type": "code",
   "source": [
    "%load_ext autoreload\n",
    "%autoreload 2"
   ],
   "id": "7716c1fa537716fa",
   "outputs": [],
   "execution_count": 1
  },
  {
   "cell_type": "code",
   "id": "initial_id",
   "metadata": {
    "collapsed": true,
    "ExecuteTime": {
     "end_time": "2024-07-15T13:03:50.799367Z",
     "start_time": "2024-07-15T13:03:50.791579Z"
    }
   },
   "source": [
    "path_dem1 = \"/data/ATM/data_1/sfm/agi_projects/test_gcps7/output/test_gcps7_dem_absolute.tif\"\n",
    "path_dem2 = \"/data/ATM/data_1/DEM/REMA/mosaic/10m/38_11_10m.tif\"\n"
   ],
   "outputs": [],
   "execution_count": 2
  },
  {
   "metadata": {
    "ExecuteTime": {
     "end_time": "2024-07-15T13:03:53.894256Z",
     "start_time": "2024-07-15T13:03:51.239687Z"
    }
   },
   "cell_type": "code",
   "source": [
    "import src.load.load_image as li\n",
    "\n",
    "dem1, transform1 = li.load_image(path_dem1, return_transform=True)\n",
    "dem2, transform2 = li.load_image(path_dem2, return_transform=True)\n",
    "\n",
    "print(dem1.shape)\n",
    "print(transform1)\n",
    "\n",
    "print(dem2.shape)\n",
    "print(transform2)"
   ],
   "id": "a55fe33582428a86",
   "outputs": [
    {
     "name": "stdout",
     "output_type": "stream",
     "text": [
      "(2836, 9435)\n",
      "| 2.07, 0.00,-2002099.09|\n",
      "| 0.00,-2.07, 729878.81|\n",
      "| 0.00, 0.00, 1.00|\n",
      "(10020, 10020)\n",
      "| 10.00, 0.00,-2000100.00|\n",
      "| 0.00,-10.00, 800100.00|\n",
      "| 0.00, 0.00, 1.00|\n"
     ]
    }
   ],
   "execution_count": 3
  },
  {
   "metadata": {
    "ExecuteTime": {
     "end_time": "2024-07-15T13:43:04.072600Z",
     "start_time": "2024-07-15T13:42:56.640252Z"
    }
   },
   "cell_type": "code",
   "source": [
    "import src.dem.get_difference as gd\n",
    "import src.display.display_images as di\n",
    "\n",
    "difference = gd.get_difference(dem1, dem2, transform1, transform2)\n",
    "\n",
    "di.display_images(difference)"
   ],
   "id": "ab591e06f1133d99",
   "outputs": [],
   "execution_count": 7
  },
  {
   "metadata": {
    "ExecuteTime": {
     "end_time": "2024-07-15T13:48:49.242130Z",
     "start_time": "2024-07-15T13:48:49.102752Z"
    }
   },
   "cell_type": "code",
   "source": [
    "import src.export.export_tiff as et\n",
    "\n",
    "et.export_tiff(difference, \"/data/ATM/data_1/sfm/agi_projects/test_gcps7/output/difference.tif\", transform=transform1, )\n"
   ],
   "id": "80bc0baf757f5297",
   "outputs": [
    {
     "name": "stdout",
     "output_type": "stream",
     "text": [
      "/data/ATM/data_1/sfm/agi_projects/test_gcps7/output/difference.tif\n",
      "(2836, 9435)\n",
      "Image successfully exported to /data/ATM/data_1/sfm/agi_projects/test_gcps7/output/difference.tif.\n"
     ]
    }
   ],
   "execution_count": 9
  },
  {
   "metadata": {},
   "cell_type": "code",
   "outputs": [],
   "execution_count": null,
   "source": "",
   "id": "2480e25b73ea99f8"
  }
 ],
 "metadata": {
  "kernelspec": {
   "display_name": "Python 3",
   "language": "python",
   "name": "python3"
  },
  "language_info": {
   "codemirror_mode": {
    "name": "ipython",
    "version": 2
   },
   "file_extension": ".py",
   "mimetype": "text/x-python",
   "name": "python",
   "nbconvert_exporter": "python",
   "pygments_lexer": "ipython2",
   "version": "2.7.6"
  }
 },
 "nbformat": 4,
 "nbformat_minor": 5
}
