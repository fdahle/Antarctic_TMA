{
 "cells": [
  {
   "cell_type": "code",
   "execution_count": 1,
   "outputs": [],
   "source": [
    "%load_ext autoreload\n",
    "%autoreload 2"
   ],
   "metadata": {
    "collapsed": false
   },
   "id": "7aa5dd78b3114b43"
  },
  {
   "cell_type": "code",
   "execution_count": 10,
   "id": "initial_id",
   "metadata": {
    "collapsed": true
   },
   "outputs": [],
   "source": [
    "img_id = \"CA184632V0342\""
   ]
  },
  {
   "cell_type": "code",
   "outputs": [
    {
     "name": "stdout",
     "output_type": "stream",
     "text": [
      "(9522, 10140)\n"
     ]
    }
   ],
   "source": [
    "import src.load.load_image as ld\n",
    "\n",
    "#path_data_fld = \"C:/Users/Felix/Documents/GitHub/Antarctic_TMA/data\"\n",
    "path_data_fld = \"/data_1/ATM/data_1/aerial/TMA/downloaded\"\n",
    "\n",
    "# load image to geo-reference\n",
    "image = ld.load_image(path_data_fld + f\"/{img_id}.tif\")\n",
    "\n",
    "print(image.shape)"
   ],
   "metadata": {
    "collapsed": false
   },
   "id": "9b318989a3fd394d",
   "execution_count": 11
  },
  {
   "cell_type": "code",
   "outputs": [
    {
     "name": "stdout",
     "output_type": "stream",
     "text": [
      "338.8565 12\n",
      "POLYGON((-1916347.9352607953 745784.3927205991,-1919432.997279401 737807.3052607954,-1927410.0847392047 740892.3672794009,-1924325.022720599 748869.4547392046,-1916347.9352607953 745784.3927205991))\n"
     ]
    }
   ],
   "source": [
    "import src.base.connect_to_database as ctd\n",
    "\n",
    "sql_string = f\"SELECT * FROM images WHERE image_id='{img_id}'\"\n",
    "conn = ctd.establish_connection()\n",
    "data = ctd.execute_sql(sql_string, conn)\n",
    "\n",
    "azimuth = data.iloc[0]['azimuth']\n",
    "month = data.iloc[0]['date_month']\n",
    "\n",
    "azimuth = 360 - azimuth + 90\n",
    "\n",
    "print(azimuth, month)\n",
    "\n",
    "sql_string_approx = f\"SELECT ST_AsText(footprint_approx) AS footprint_approx FROM images_extracted WHERE image_id='{img_id}'\"\n",
    "data_approx = ctd.execute_sql(sql_string_approx, conn)\n",
    "footprint_approx = data_approx.iloc[0]['footprint_approx']\n",
    "print(footprint_approx)"
   ],
   "metadata": {
    "collapsed": false
   },
   "id": "937eb40f9717a45e",
   "execution_count": 12
  },
  {
   "cell_type": "code",
   "execution_count": 13,
   "outputs": [],
   "source": [
    "import numpy as np\n",
    "mask = np.ones_like(image)\n",
    "pad_width = 500\n",
    "\n",
    "mask[:pad_width, :] = 0  # Top edge\n",
    "mask[-pad_width:, :] = 0  # Bottom edge\n",
    "mask[:, :pad_width] = 0  # Left edge\n",
    "mask[:, -pad_width:] = 0  # Right edge"
   ],
   "metadata": {
    "collapsed": false
   },
   "id": "9e495b60f07b88d5"
  },
  {
   "cell_type": "code",
   "execution_count": 14,
   "outputs": [
    {
     "name": "stdout",
     "output_type": "stream",
     "text": [
      "Geo-reference image by satellite\n",
      "Adjusted image resolution with zoom-factor (0.0883, 0.0859)\n",
      "Adjusted image resolution with zoom-factor (0.0883, 0.0859)\n",
      "Locate image position\n",
      "  Check tile 1 (Coords: [-7380, -7386], Order 1)\n",
      "  0 points were found in this tile.\n",
      "  Check tile 2 (Coords: [-7380, 0], Order 1)\n",
      "  0 points were found in this tile.\n",
      "  Check tile 3 (Coords: [-7380, 7386], Order 1)\n",
      "  206 points were found in this tile.\n",
      "  Check tile 4 (Coords: [0, -7386], Order 1)\n",
      "  0 points were found in this tile.\n",
      "  Check tile 5 (Coords: [0, 7386], Order 1)\n",
      "  93 points were found in this tile.\n",
      "  Check tile 6 (Coords: [7380, -7386], Order 1)\n",
      "  0 points were found in this tile.\n",
      "  Check tile 7 (Coords: [7380, 0], Order 1)\n",
      "  0 points were found in this tile.\n",
      "  Check tile 8 (Coords: [7380, 7386], Order 1)\n",
      "  2 points were found in this tile.\n",
      "  Check tile 9 (Coords: [-14760, -14772], Order 2)\n",
      "  6 points were found in this tile.\n",
      "  Check tile 10 (Coords: [-14760, -7386], Order 2)\n",
      "  4 points were found in this tile.\n",
      "  Check tile 11 (Coords: [-14760, 0], Order 2)\n",
      "  0 points were found in this tile.\n",
      "  Check tile 12 (Coords: [-14760, 7386], Order 2)\n",
      "  10 points were found in this tile.\n",
      "  Check tile 13 (Coords: [-14760, 14772], Order 2)\n",
      "  0 points were found in this tile.\n",
      "  Check tile 14 (Coords: [-7380, -14772], Order 2)\n",
      "  0 points were found in this tile.\n",
      "  Check tile 15 (Coords: [-7380, 14772], Order 2)\n",
      "  0 points were found in this tile.\n",
      "  Check tile 16 (Coords: [0, -14772], Order 2)\n",
      "  0 points were found in this tile.\n",
      "  Check tile 17 (Coords: [0, 14772], Order 2)\n",
      "  8 points were found in this tile.\n",
      "  Check tile 18 (Coords: [7380, -14772], Order 2)\n",
      "  0 points were found in this tile.\n",
      "  Check tile 19 (Coords: [7380, 14772], Order 2)\n",
      "  7 points were found in this tile.\n",
      "  Check tile 20 (Coords: [14760, -14772], Order 2)\n",
      "  0 points were found in this tile.\n",
      "  Check tile 21 (Coords: [14760, -7386], Order 2)\n",
      "  0 points were found in this tile.\n",
      "  Check tile 22 (Coords: [14760, 0], Order 2)\n",
      "  0 points were found in this tile.\n",
      "  Check tile 23 (Coords: [14760, 7386], Order 2)\n",
      "  0 points were found in this tile.\n",
      "  Check tile 24 (Coords: [14760, 14772], Order 2)\n",
      "  0 points were found in this tile.\n",
      "Best tile is [-7380, 7386] with 206 tie-points (0.347)\n",
      "Tweak image position\n",
      "  Tweak image (1/10) with (473, 1250)\n",
      "  214 points found in tweak 1 of 10\n",
      "  Tweak image (2/10) with (502, 817)\n",
      "  220 points found in tweak 2 of 10\n",
      "  Tweak image (3/10) with (90, 454)\n",
      "  214 points found in tweak 3 of 10\n",
      "  Points going down (214 < 220)\n",
      "  Tweak image (4/10) with (163, 280)\n",
      "  230 points found in tweak 4 of 10\n",
      "  Tweak image (5/10) with (-239, 152)\n",
      "  215 points found in tweak 5 of 10\n",
      "  Points going down (215 < 230)\n",
      "  Tweak image (6/10) with (110, -5)\n",
      "  164 points found in tweak 6 of 10\n",
      "  Points going down (164 < 230)\n",
      "  Break the loop\n",
      "Tweaking finished with 230 tie-points\n",
      "78 outliers removed with RANSAC\n"
     ]
    }
   ],
   "source": [
    "import src.georef.georef_sat as gs\n",
    "\n",
    "georefSat = gs.GeorefSatellite(min_tps_final=25,\n",
    "                               enhance_image=False, locate_image=True, tweak_image=True,filter_outliers=True)\n",
    "\n",
    "transform, residuals, tps, conf = georefSat.georeference(image, footprint_approx, mask, azimuth, month)\n"
   ],
   "metadata": {
    "collapsed": false
   },
   "id": "6d54e4dbfca57325"
  },
  {
   "cell_type": "code",
   "execution_count": 15,
   "outputs": [],
   "source": [
    "import src.georef.snippets.apply_transform as af\n",
    "\n",
    "output_fld = \"/data_1/ATM/data_1/georef/sat\"\n",
    "\n",
    "af.apply_transform(image, transform, f\"{output_fld}/{img_id}.tif\")\n",
    "\n",
    "np.savetxt(f\"{output_fld}/{img_id}_transform.txt\", transform)\n",
    "np.savetxt(f\"{output_fld}/{img_id}_points.txt\", tps)"
   ],
   "metadata": {
    "collapsed": false
   },
   "id": "3bb3481393df9b76"
  },
  {
   "cell_type": "code",
   "execution_count": null,
   "outputs": [],
   "source": [],
   "metadata": {
    "collapsed": false
   },
   "id": "d8c660670bafbb87"
  }
 ],
 "metadata": {
  "kernelspec": {
   "display_name": "Python 3",
   "language": "python",
   "name": "python3"
  },
  "language_info": {
   "codemirror_mode": {
    "name": "ipython",
    "version": 2
   },
   "file_extension": ".py",
   "mimetype": "text/x-python",
   "name": "python",
   "nbconvert_exporter": "python",
   "pygments_lexer": "ipython2",
   "version": "2.7.6"
  }
 },
 "nbformat": 4,
 "nbformat_minor": 5
}
