{
 "cells": [
  {
   "cell_type": "code",
   "id": "initial_id",
   "metadata": {
    "collapsed": true,
    "ExecuteTime": {
     "end_time": "2024-11-01T08:50:25.162382Z",
     "start_time": "2024-11-01T08:50:25.139045Z"
    }
   },
   "source": [
    "from playground.find_tps_oblique import style_config\n",
    "from tests.sfm_agi.start_agi import azimuth\n",
    "%load_ext autoreload\n",
    "%autoreload 2"
   ],
   "outputs": [],
   "execution_count": 2
  },
  {
   "metadata": {
    "ExecuteTime": {
     "end_time": "2024-11-01T09:34:51.905763Z",
     "start_time": "2024-11-01T09:34:51.770924Z"
    }
   },
   "cell_type": "code",
   "source": [
    "import src.base.connect_to_database as ctd\n",
    " \n",
    "# get connection to db\n",
    "conn = ctd.establish_connection()\n",
    " \n",
    "# get the necessary data\n",
    "sql_string = (\"SELECT image_id, height, azimuth_exact, focal_length, \\\n",
    "              ST_ASTEXT(footprint_exact) AS footprint_exact, \\\n",
    "              ST_ASTEXT(position_exact) AS position_exact \\\n",
    "              FROM images_extracted\")\n",
    "data = ctd.execute_sql(sql_string, conn)\n",
    "print(data.shape)"
   ],
   "id": "6a3b94c266a21ad9",
   "outputs": [
    {
     "name": "stdout",
     "output_type": "stream",
     "text": [
      "(28174, 6)\n"
     ]
    }
   ],
   "execution_count": 18
  },
  {
   "metadata": {},
   "cell_type": "code",
   "outputs": [],
   "execution_count": null,
   "source": [
    "\n",
    "PATH_GEOREF_FLD = \"/data/ATM/data_1/georef/\"\n",
    "\n",
    "# load the shapefile with center data\n",
    "path_center_shp = os.path.join(PATH_GEOREF_FLD, \"centers\",\n",
    "                               georef_type + \"_centers.shp\")\n",
    "center_shp_data = gpd.read_file(path_center_shp)\n"
   ],
   "id": "1de0d0165eec3e35"
  },
  {
   "metadata": {
    "ExecuteTime": {
     "end_time": "2024-11-01T13:02:05.231738Z",
     "start_time": "2024-11-01T10:03:48.719194Z"
    }
   },
   "cell_type": "code",
   "source": [
    "import shapely\n",
    "import pandas as pd\n",
    "import src.display.display_shapes as ds\n",
    "import src.georef.snippets.calc_oblique_footprint as cof\n",
    "import src.georef.snippets.calc_azimuth as ca\n",
    "\n",
    "# shuffle the data\n",
    "data = data.sample(frac=1).reset_index(drop=True)\n",
    "\n",
    "# iterate over the data\n",
    "for row in data.iterrows():\n",
    "        \n",
    "    # get the row\n",
    "    row = row[1]\n",
    "    \n",
    "    image_id = row['image_id']\n",
    "    \n",
    "    # skip vertical images\n",
    "    if \"V\" in row['image_id']:\n",
    "        continue\n",
    "    \n",
    "    # get the oblique footprint    \n",
    "    oblique_wkt = row['footprint_exact']\n",
    "    oblique_footprint = shapely.from_wkt(oblique_wkt)\n",
    "    \n",
    "    # get the oblique center\n",
    "    oblique_center_wkt = row['position_exact']\n",
    "    if oblique_center_wkt is None:\n",
    "        continue\n",
    "    oblique_center = shapely.from_wkt(oblique_center_wkt)\n",
    "    \n",
    "    if \"31L\" in row['image_id']:\n",
    "        direction = \"L\"\n",
    "    elif \"33R\" in row['image_id']:\n",
    "        direction = \"R\"\n",
    "    else:\n",
    "        raise ValueError(\"Direction not found\")\n",
    "    \n",
    "    azimuth = ca.calc_azimuth(image_id)\n",
    "    \n",
    "    azimuth = row['azimuth_exact']\n",
    "    azimuth = azimuth + 90\n",
    "    azimuth = azimuth % 360\n",
    "    \n",
    "    if pd.isna(azimuth):\n",
    "        continue\n",
    "    \n",
    "    # get the vertical image for this oblique image\n",
    "    vertical_id = row['image_id'].replace('31L', \"32V\")\n",
    "    vertical_id = vertical_id.replace('33R', \"32V\")\n",
    "    \n",
    "    # get other attributes of the image\n",
    "    focal_length = row['focal_length']\n",
    "    altitude = row['height']\n",
    "    if pd.isna(altitude):\n",
    "        continue\n",
    "    \n",
    "    # get the vertical footprint\n",
    "    vertical_wkt= data[data['image_id'] == vertical_id]['footprint_exact'].values[0]\n",
    "    vertical_footprint = shapely.from_wkt(vertical_wkt)\n",
    "    \n",
    "    print(oblique_center)\n",
    "    print(direction)\n",
    "    print(focal_length)\n",
    "    print(altitude)\n",
    "    print(azimuth)\n",
    "    \n",
    "    \n",
    "    # calculate the new footprint\n",
    "    oblique_footprint_new = cof.calc_oblique_footprint(\n",
    "        center=oblique_center, direction=direction, focal_length=focal_length, altitude=altitude, azimuth=azimuth\n",
    "    )\n",
    "    \n",
    "    style_config={\n",
    "        \"title\": vertical_id,\n",
    "        \"colors\": [\"blue\", \"red\", \"green\"]\n",
    "    }\n",
    "    ds.display_shapes([vertical_footprint, oblique_footprint, oblique_footprint_new], style_config=style_config)\n",
    "        \n",
    "    print(f\"Calc footprint for {row['image_id']}\")\n",
    "    "
   ],
   "id": "e20225d8c75083bf",
   "outputs": [
    {
     "name": "stdout",
     "output_type": "stream",
     "text": [
      "POINT (-1721560.0648188668 924570.9905799346)\n",
      "L\n",
      "151.776\n",
      "24000.0\n",
      "328.34000000000003\n",
      "Start: download_rema_data (40_13)\n",
      "Downloading: 100% [923572203 / 923572203] bytesFinished: download_rema_data (40_13)\n",
      "Calc footprint for CA174731L0185\n",
      "POINT (-1680797.0085900004 913566.8584600003)\n",
      "L\n",
      "155.18\n",
      "25000.0\n",
      "62.120000000000005\n",
      "Start: download_rema_data (40_14)\n",
      "Downloading: 3% [19103744 / 607617190] bytes"
     ]
    },
    {
     "name": "stderr",
     "output_type": "stream",
     "text": [
      "\n",
      "KeyboardInterrupt\n",
      "\n"
     ]
    }
   ],
   "execution_count": 41
  },
  {
   "metadata": {},
   "cell_type": "code",
   "outputs": [],
   "execution_count": null,
   "source": "",
   "id": "fa34c337f8e4ca7b"
  }
 ],
 "metadata": {
  "kernelspec": {
   "display_name": "Python 3",
   "language": "python",
   "name": "python3"
  },
  "language_info": {
   "codemirror_mode": {
    "name": "ipython",
    "version": 2
   },
   "file_extension": ".py",
   "mimetype": "text/x-python",
   "name": "python",
   "nbconvert_exporter": "python",
   "pygments_lexer": "ipython2",
   "version": "2.7.6"
  }
 },
 "nbformat": 4,
 "nbformat_minor": 5
}
