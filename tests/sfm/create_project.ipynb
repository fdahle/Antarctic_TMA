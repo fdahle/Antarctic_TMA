{
 "cells": [
  {
   "cell_type": "code",
   "execution_count": 16,
   "id": "initial_id",
   "metadata": {
    "collapsed": true
   },
   "outputs": [
    {
     "name": "stdout",
     "output_type": "stream",
     "text": [
      "The autoreload extension is already loaded. To reload it, use:\n",
      "  %reload_ext autoreload\n"
     ]
    }
   ],
   "source": [
    "%load_ext autoreload\n",
    "%autoreload 2"
   ]
  },
  {
   "cell_type": "code",
   "execution_count": 17,
   "outputs": [],
   "source": [
    "project_name = \"Malay2\"\n",
    "project_folder = \"/data_1/ATM/data_1/sfm/projects\"\n",
    "\n",
    "image_ids = [\"CA214232V0160\", \"CA214232V0161\", \"CA214232V0162\", \"CA214232V0163\", \"CA214232V0164\", \"CA214232V0165\", \"CA214232V0166\"]\n",
    "\n",
    "#image_ids = [\"CA216432V0214\", \"CA216432V0215\", \"CA216432V0216\", \"CA216432V0217\", \"CA216432V0218\", \"CA216432V0219\"]\n",
    "#image_ids = [\"CA184632V0341\",\"CA184632V0342\", \"CA184632V0343\", \"CA184632V0344\"]\n",
    "#image_ids = [\"CA214732V0027\", \"CA214732V0028\", \"CA214732V0029\",\n",
    "#                \"CA214732V0030\", \"CA214732V0031\", \"CA214732V0032\",\n",
    "#                \"CA214732V0033\", \"CA214732V0034\",\"CA214732V0035\"]"
   ],
   "metadata": {
    "collapsed": false
   }
  },
  {
   "cell_type": "code",
   "execution_count": 18,
   "outputs": [
    {
     "name": "stdout",
     "output_type": "stream",
     "text": [
      "Resume: False ; Overwrite: False\n",
      "Project folder created at /data_1/ATM/data_1/sfm/projects/Malay2\n",
      "Copy ['CA214232V0160', 'CA214232V0161', 'CA214232V0162', 'CA214232V0163', 'CA214232V0164', 'CA214232V0165', 'CA214232V0166']\n",
      "No resampled image found at /data_1/ATM/data_1/aerial/TMA/downloaded_resampled/OIS-Reech_CA214232V0160.tif\n",
      "No XML file found at /data_1/ATM/data_1/sfm/xml/images/MeasuresIm-CA214232V0160.tif.xml\n",
      "No resampled image found at /data_1/ATM/data_1/aerial/TMA/downloaded_resampled/OIS-Reech_CA214232V0161.tif\n",
      "No resampled image found at /data_1/ATM/data_1/aerial/TMA/downloaded_resampled/OIS-Reech_CA214232V0162.tif\n",
      "No resampled image found at /data_1/ATM/data_1/aerial/TMA/downloaded_resampled/OIS-Reech_CA214232V0163.tif\n",
      "No XML file found at /data_1/ATM/data_1/sfm/xml/images/MeasuresIm-CA214232V0163.tif.xml\n",
      "No resampled image found at /data_1/ATM/data_1/aerial/TMA/downloaded_resampled/OIS-Reech_CA214232V0164.tif\n",
      "No XML file found at /data_1/ATM/data_1/sfm/xml/images/MeasuresIm-CA214232V0164.tif.xml\n",
      "No resampled image found at /data_1/ATM/data_1/aerial/TMA/downloaded_resampled/OIS-Reech_CA214232V0165.tif\n",
      "No XML file found at /data_1/ATM/data_1/sfm/xml/images/MeasuresIm-CA214232V0165.tif.xml\n",
      "No resampled image found at /data_1/ATM/data_1/aerial/TMA/downloaded_resampled/OIS-Reech_CA214232V0166.tif\n",
      "No XML file found at /data_1/ATM/data_1/sfm/xml/images/MeasuresIm-CA214232V0166.tif.xml\n"
     ]
    }
   ],
   "source": [
    "import src.sfm.SFMProject as Sfmp\n",
    "\n",
    "sfmp = Sfmp.SFMProject(project_name, project_folder, micmac_path=\"/home/fdahle/micmac/bin/mm3d\",\n",
    "                       resume=False, debug=True)\n",
    "\n",
    "sfmp.set_images(image_ids, copy_masks=True, copy_resampled=True, copy_xml=True, skip_missing=True)\n",
    "sfmp.set_camera(\"1983\")"
   ],
   "metadata": {
    "collapsed": false
   }
  },
  {
   "cell_type": "code",
   "execution_count": 15,
   "outputs": [
    {
     "name": "stdout",
     "output_type": "stream",
     "text": [
      "('/data_1/ATM/data_1/sfm/projects/src_test2',) {'mm_args': {'ALLTransformsReq': False}, 'print_all_output': True, 'save_stats': True, 'save_raw': True}\n"
     ]
    },
    {
     "ename": "FileNotFoundError",
     "evalue": "No transformation matrix could be found at /data_1/ATM/data_1/sfm/projects/src_test2/transforms/CA214732V0033.txt",
     "output_type": "error",
     "traceback": [
      "\u001B[0;31m---------------------------------------------------------------------------\u001B[0m",
      "\u001B[0;31mFileNotFoundError\u001B[0m                         Traceback (most recent call last)",
      "Cell \u001B[0;32mIn[15], line 9\u001B[0m\n\u001B[1;32m      5\u001B[0m     micmac_args \u001B[38;5;241m=\u001B[39m json\u001B[38;5;241m.\u001B[39mload(file)\n\u001B[1;32m      7\u001B[0m print_all_output \u001B[38;5;241m=\u001B[39m \u001B[38;5;28;01mTrue\u001B[39;00m\n\u001B[0;32m----> 9\u001B[0m sfmp\u001B[38;5;241m.\u001B[39mstart(\u001B[38;5;124m\"\u001B[39m\u001B[38;5;124mmanual\u001B[39m\u001B[38;5;124m\"\u001B[39m, [\u001B[38;5;124m\"\u001B[39m\u001B[38;5;124mGCPCustom\u001B[39m\u001B[38;5;124m\"\u001B[39m],\n\u001B[1;32m     10\u001B[0m            micmac_args,\n\u001B[1;32m     11\u001B[0m            print_all_output\u001B[38;5;241m=\u001B[39mprint_all_output,\n\u001B[1;32m     12\u001B[0m            save_stats\u001B[38;5;241m=\u001B[39m\u001B[38;5;28;01mTrue\u001B[39;00m, save_raw\u001B[38;5;241m=\u001B[39m\u001B[38;5;28;01mTrue\u001B[39;00m)\n",
      "File \u001B[0;32m~/Documents/GitHub/Antarctic_TMA/src/sfm/SFMProject.py:381\u001B[0m, in \u001B[0;36mSFMProject.start\u001B[0;34m(self, mode, commands, micmac_args, print_all_output, save_stats, save_raw)\u001B[0m\n\u001B[1;32m    378\u001B[0m     \u001B[38;5;28;01mraise\u001B[39;00m \u001B[38;5;167;01mException\u001B[39;00m(\u001B[38;5;124mf\u001B[39m\u001B[38;5;124m\"\u001B[39m\u001B[38;5;124mCommand \u001B[39m\u001B[38;5;124m'\u001B[39m\u001B[38;5;132;01m{\u001B[39;00mcommand\u001B[38;5;132;01m}\u001B[39;00m\u001B[38;5;124m'\u001B[39m\u001B[38;5;124m is not supported\u001B[39m\u001B[38;5;124m\"\u001B[39m)\n\u001B[1;32m    380\u001B[0m \u001B[38;5;66;03m# execute the command\u001B[39;00m\n\u001B[0;32m--> 381\u001B[0m \u001B[38;5;28mself\u001B[39m\u001B[38;5;241m.\u001B[39m_execute_command(command, micmac_args, print_all_output, save_stats, save_raw)\n",
      "File \u001B[0;32m~/Documents/GitHub/Antarctic_TMA/src/sfm/SFMProject.py:455\u001B[0m, in \u001B[0;36mSFMProject._execute_command\u001B[0;34m(self, command_name, micmac_args, print_all_output, save_stats, save_raw)\u001B[0m\n\u001B[1;32m    452\u001B[0m         \u001B[38;5;28;01mraise\u001B[39;00m e\n\u001B[1;32m    454\u001B[0m \u001B[38;5;28;01mif\u001B[39;00m command_name\u001B[38;5;241m.\u001B[39mendswith(\u001B[38;5;124m\"\u001B[39m\u001B[38;5;124mCustom\u001B[39m\u001B[38;5;124m\"\u001B[39m):\n\u001B[0;32m--> 455\u001B[0m     mm_command\u001B[38;5;241m.\u001B[39mexecute_custom_cmd()\n\u001B[1;32m    456\u001B[0m \u001B[38;5;28;01melse\u001B[39;00m:\n\u001B[1;32m    457\u001B[0m     mm_command\u001B[38;5;241m.\u001B[39mexecute_shell_cmd(\u001B[38;5;28mself\u001B[39m\u001B[38;5;241m.\u001B[39mmicmac_path)\n",
      "File \u001B[0;32m~/Documents/GitHub/Antarctic_TMA/src/sfm/mm_commands/GCPCustom.py:40\u001B[0m, in \u001B[0;36mGCPCustom.execute_custom_cmd\u001B[0;34m(self)\u001B[0m\n\u001B[1;32m     37\u001B[0m \u001B[38;5;28mself\u001B[39m\u001B[38;5;241m.\u001B[39mvalidate_required_files()\n\u001B[1;32m     39\u001B[0m \u001B[38;5;66;03m# get the gcps\u001B[39;00m\n\u001B[0;32m---> 40\u001B[0m gcp_dict \u001B[38;5;241m=\u001B[39m \u001B[38;5;28mself\u001B[39m\u001B[38;5;241m.\u001B[39m_get_gcps()\n\u001B[1;32m     42\u001B[0m \u001B[38;5;66;03m# resample the gcps\u001B[39;00m\n\u001B[1;32m     43\u001B[0m gcp_dict \u001B[38;5;241m=\u001B[39m \u001B[38;5;28mself\u001B[39m\u001B[38;5;241m.\u001B[39m_resample_gcps(gcp_dict)\n",
      "File \u001B[0;32m~/Documents/GitHub/Antarctic_TMA/src/sfm/mm_commands/GCPCustom.py:70\u001B[0m, in \u001B[0;36mGCPCustom._get_gcps\u001B[0;34m(self)\u001B[0m\n\u001B[1;32m     68\u001B[0m transforms \u001B[38;5;241m=\u001B[39m []\n\u001B[1;32m     69\u001B[0m \u001B[38;5;28;01mfor\u001B[39;00m image_id \u001B[38;5;129;01min\u001B[39;00m image_ids:\n\u001B[0;32m---> 70\u001B[0m     transform \u001B[38;5;241m=\u001B[39m lt\u001B[38;5;241m.\u001B[39mload_transform(image_id, \u001B[38;5;28mself\u001B[39m\u001B[38;5;241m.\u001B[39mproject_folder \u001B[38;5;241m+\u001B[39m \u001B[38;5;124m\"\u001B[39m\u001B[38;5;124m/transforms\u001B[39m\u001B[38;5;124m\"\u001B[39m)\n\u001B[1;32m     71\u001B[0m     transforms\u001B[38;5;241m.\u001B[39mappend(transform)\n\u001B[1;32m     73\u001B[0m \u001B[38;5;66;03m# get identical gcps for the images\u001B[39;00m\n",
      "File \u001B[0;32m~/Documents/GitHub/Antarctic_TMA/src/load/load_transform.py:21\u001B[0m, in \u001B[0;36mload_transform\u001B[0;34m(transform_id, transform_fld)\u001B[0m\n\u001B[1;32m     10\u001B[0m \u001B[38;5;250m\u001B[39m\u001B[38;5;124;03m\"\"\"\u001B[39;00m\n\u001B[1;32m     11\u001B[0m \u001B[38;5;124;03mLoads a transformation matrix from a specified file.\u001B[39;00m\n\u001B[1;32m     12\u001B[0m \u001B[38;5;124;03mArgs:\u001B[39;00m\n\u001B[0;32m   (...)\u001B[0m\n\u001B[1;32m     17\u001B[0m \u001B[38;5;124;03m    A 3x3 numpy array representing the transformation matrix.\u001B[39;00m\n\u001B[1;32m     18\u001B[0m \u001B[38;5;124;03m\"\"\"\u001B[39;00m\n\u001B[1;32m     20\u001B[0m \u001B[38;5;66;03m# define the absolute path to the transform file\u001B[39;00m\n\u001B[0;32m---> 21\u001B[0m absolute_transform_path \u001B[38;5;241m=\u001B[39m _create_absolute_path(transform_id, transform_fld)\n\u001B[1;32m     23\u001B[0m \u001B[38;5;66;03m# load the matrix\u001B[39;00m\n\u001B[1;32m     24\u001B[0m data_arr \u001B[38;5;241m=\u001B[39m np\u001B[38;5;241m.\u001B[39mloadtxt(absolute_transform_path)\n",
      "File \u001B[0;32m~/Documents/GitHub/Antarctic_TMA/src/load/load_transform.py:63\u001B[0m, in \u001B[0;36m_create_absolute_path\u001B[0;34m(transform_id, fld)\u001B[0m\n\u001B[1;32m     61\u001B[0m \u001B[38;5;66;03m# check if the path is valid\u001B[39;00m\n\u001B[1;32m     62\u001B[0m \u001B[38;5;28;01mif\u001B[39;00m os\u001B[38;5;241m.\u001B[39mpath\u001B[38;5;241m.\u001B[39misfile(absolute_transform_path) \u001B[38;5;129;01mis\u001B[39;00m \u001B[38;5;28;01mFalse\u001B[39;00m:\n\u001B[0;32m---> 63\u001B[0m     \u001B[38;5;28;01mraise\u001B[39;00m \u001B[38;5;167;01mFileNotFoundError\u001B[39;00m(\u001B[38;5;124mf\u001B[39m\u001B[38;5;124m\"\u001B[39m\u001B[38;5;124mNo transformation matrix could be found at \u001B[39m\u001B[38;5;132;01m{\u001B[39;00mabsolute_transform_path\u001B[38;5;132;01m}\u001B[39;00m\u001B[38;5;124m\"\u001B[39m)\n\u001B[1;32m     65\u001B[0m \u001B[38;5;28;01mreturn\u001B[39;00m absolute_transform_path\n",
      "\u001B[0;31mFileNotFoundError\u001B[0m: No transformation matrix could be found at /data_1/ATM/data_1/sfm/projects/src_test2/transforms/CA214732V0033.txt"
     ]
    }
   ],
   "source": [
    "import json\n",
    "\n",
    "json_path = \"/home/fdahle/Documents/GitHub/Antarctic_TMA/tests/sfm/project_args.json\"\n",
    "with open(json_path, 'r') as file:\n",
    "    micmac_args = json.load(file)\n",
    "\n",
    "print_all_output = True\n",
    "\n",
    "sfmp.start(\"manual\", [\"GCPCustom\"],\n",
    "           micmac_args,\n",
    "           print_all_output=print_all_output,\n",
    "           save_stats=True, save_raw=True)"
   ],
   "metadata": {
    "collapsed": false
   }
  },
  {
   "cell_type": "markdown",
   "source": [],
   "metadata": {
    "collapsed": false
   }
  },
  {
   "cell_type": "code",
   "execution_count": null,
   "outputs": [],
   "source": [],
   "metadata": {
    "collapsed": false
   }
  }
 ],
 "metadata": {
  "kernelspec": {
   "display_name": "Python 3",
   "language": "python",
   "name": "python3"
  },
  "language_info": {
   "codemirror_mode": {
    "name": "ipython",
    "version": 2
   },
   "file_extension": ".py",
   "mimetype": "text/x-python",
   "name": "python",
   "nbconvert_exporter": "python",
   "pygments_lexer": "ipython2",
   "version": "2.7.6"
  }
 },
 "nbformat": 4,
 "nbformat_minor": 5
}
