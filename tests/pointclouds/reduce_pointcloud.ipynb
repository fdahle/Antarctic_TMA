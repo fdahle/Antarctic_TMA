{
 "cells": [
  {
   "cell_type": "code",
   "execution_count": 2,
   "metadata": {
    "collapsed": true
   },
   "outputs": [
    {
     "name": "stdout",
     "output_type": "stream",
     "text": [
      "The autoreload extension is already loaded. To reload it, use:\n",
      "  %reload_ext autoreload\n"
     ]
    }
   ],
   "source": [
    "%load_ext autoreload\n",
    "%autoreload 2"
   ]
  },
  {
   "cell_type": "code",
   "execution_count": 17,
   "outputs": [],
   "source": [
    "input_path = \"/home/fdahle/Desktop/pointclouds/pointcloud.obj\"\n",
    "output_path = \"/home/fdahle/Desktop/pointclouds/pointcloud_reduced.ply\""
   ],
   "metadata": {
    "collapsed": false
   }
  },
  {
   "cell_type": "code",
   "execution_count": 25,
   "outputs": [
    {
     "name": "stdout",
     "output_type": "stream",
     "text": [
      "Load point cloud\n"
     ]
    },
    {
     "name": "stderr",
     "output_type": "stream",
     "text": [
      "25895626it [00:22, 1152038.55it/s]\n"
     ]
    },
    {
     "name": "stdout",
     "output_type": "stream",
     "text": [
      "(12947813, 3)\n",
      "Reduce point cloud\n",
      "Export point cloud\n"
     ]
    }
   ],
   "source": [
    "import src.load.load_pointcloud as lp\n",
    "import src.pointclouds.reduce_pointcloud as rp\n",
    "import src.export.export_pointcloud as ep\n",
    "\n",
    "# load the point cloud\n",
    "print(\"Load point cloud\")\n",
    "pointcloud = lp.load_pointcloud(input_path)\n",
    "\n",
    "import numpy as np\n",
    "print(np.asarray(pointcloud.points).shape)\n",
    "\n",
    "# reduce the point cloud\n",
    "print(\"Reduce point cloud\")\n",
    "reduced_pointcloud = rp.reduce_pointcloud(pointcloud)\n",
    "\n",
    "# export the point cloud\n",
    "print(\"Export point cloud\")\n",
    "ep.export_pointcloud(reduced_pointcloud, output_path)"
   ],
   "metadata": {
    "collapsed": false
   }
  },
  {
   "cell_type": "code",
   "execution_count": null,
   "outputs": [],
   "source": [],
   "metadata": {
    "collapsed": false
   }
  }
 ],
 "metadata": {
  "kernelspec": {
   "display_name": "Python 3",
   "language": "python",
   "name": "python3"
  },
  "language_info": {
   "codemirror_mode": {
    "name": "ipython",
    "version": 2
   },
   "file_extension": ".py",
   "mimetype": "text/x-python",
   "name": "python",
   "nbconvert_exporter": "python",
   "pygments_lexer": "ipython2",
   "version": "2.7.6"
  }
 },
 "nbformat": 4,
 "nbformat_minor": 0
}
