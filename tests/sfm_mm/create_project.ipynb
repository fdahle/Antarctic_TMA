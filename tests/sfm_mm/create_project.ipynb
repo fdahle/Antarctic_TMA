{
 "cells": [
  {
   "cell_type": "code",
   "execution_count": 4,
   "id": "initial_id",
   "metadata": {
    "collapsed": true
   },
   "outputs": [],
   "source": [
    "%load_ext autoreload\n",
    "%autoreload 2"
   ]
  },
  {
   "cell_type": "code",
   "execution_count": 5,
   "outputs": [],
   "source": [
    "project_name = \"test_project\"\n",
    "project_folder = \"/data/ATM/data_1/sfm/mm_projects\"\n",
    "\n",
    "image_ids=[\"CA180132V0094\", \"CA180132V0095\", \"CA180132V0096\", \"CA180132V0097\"]\n",
    "           #\"CA180132V0098\", \"CA180132V0099\", \"CA180132V0100\", \"CA180132V0101\"]\n",
    "\n",
    "#image_ids = [\"CA214232V0160\", \"CA214232V0161\", \"CA214232V0162\", \"CA214232V0163\", \"CA214232V0164\", \"CA214232V0165\", \"CA214232V0166\"]\n",
    "\n",
    "#image_ids = [\"CA216432V0214\", \"CA216432V0215\", \"CA216432V0216\", \"CA216432V0217\", \"CA216432V0218\", \"CA216432V0219\"]\n",
    "#image_ids = [\"CA184632V0341\",\"CA184632V0342\", \"CA184632V0343\", \"CA184632V0344\"]\n",
    "#image_ids = [\"CA214732V0027\", \"CA214732V0028\", \"CA214732V0029\", \"CA214732V0030\", #\"CA214732V0031\", \"CA214732V0032\", \"CA214732V0033\", \"CA214732V0034\",\"CA214732V0035\"]"
   ],
   "metadata": {
    "collapsed": false
   }
  },
  {
   "cell_type": "code",
   "execution_count": 6,
   "outputs": [
    {
     "name": "stdout",
     "output_type": "stream",
     "text": [
      "Resume: True ; Overwrite: False\n",
      "Resuming project at /data/ATM/data_1/sfm/mm_projects/test_project\n"
     ]
    }
   ],
   "source": [
    "import src.sfm_mm.SFMProject as sfmp\n",
    "\n",
    "sfmp = sfmp.SFMProject(project_name, project_folder, micmac_path=\"/home/fdahle/micmac/bin/mm3d\",\n",
    "                       resume=True, debug=True)"
   ],
   "metadata": {
    "collapsed": false
   }
  },
  {
   "cell_type": "code",
   "execution_count": 7,
   "outputs": [
    {
     "name": "stdout",
     "output_type": "stream",
     "text": [
      "Copy images - finished\n",
      "Copy masks - finished\n",
      "Copy XML files - finished\n",
      "Copy transform files - finished\n"
     ]
    }
   ],
   "source": [
    "sfmp.prepare_files(image_ids,\n",
    "                copy_masks=True,\n",
    "                copy_resampled=False,\n",
    "                copy_resampled_masks=False,\n",
    "                copy_xml=True,\n",
    "                copy_transform=True,\n",
    "                ignore_missing=True)\n",
    "sfmp.set_camera(\"1983\")"
   ],
   "metadata": {
    "collapsed": false
   }
  },
  {
   "cell_type": "code",
   "execution_count": 14,
   "outputs": [
    {
     "name": "stdout",
     "output_type": "stream",
     "text": [
      "Execute command: Malt\n",
      "/data/ATM/data_1/sfm/mm_projects/test_project/MEC-Malt/Z_Num*MALT.tif\n",
      "['/data/ATM/data_1/sfm/mm_projects/test_project/MEC-Malt/Z_Num5_DeZoom4_STD-MALT.tif', '/data/ATM/data_1/sfm/mm_projects/test_project/MEC-Malt/Z_Num7_DeZoom4_STD-MALT.tif', '/data/ATM/data_1/sfm/mm_projects/test_project/MEC-Malt/Z_Num1_DeZoom32_STD-MALT.tif', '/data/ATM/data_1/sfm/mm_projects/test_project/MEC-Malt/Z_Num2_DeZoom32_STD-MALT.tif', '/data/ATM/data_1/sfm/mm_projects/test_project/MEC-Malt/Z_Num4_DeZoom8_STD-MALT.tif', '/data/ATM/data_1/sfm/mm_projects/test_project/MEC-Malt/Z_Num3_DeZoom16_STD-MALT.tif', '/data/ATM/data_1/sfm/mm_projects/test_project/MEC-Malt/Z_Num6_DeZoom4_STD-MALT.tif']\n",
      "/data/ATM/data_1/sfm/mm_projects/test_project/MEC-Malt/NuageImProf_STD*.xml\n",
      "['/data/ATM/data_1/sfm/mm_projects/test_project/MEC-Malt/NuageImProf_STD-MALT_Etape_3.xml', '/data/ATM/data_1/sfm/mm_projects/test_project/MEC-Malt/NuageImProf_STD-MALT_Etape_4.xml', '/data/ATM/data_1/sfm/mm_projects/test_project/MEC-Malt/NuageImProf_STD-MALT_Etape_2.xml', '/data/ATM/data_1/sfm/mm_projects/test_project/MEC-Malt/NuageImProf_STD-MALT_Etape_7.xml', '/data/ATM/data_1/sfm/mm_projects/test_project/MEC-Malt/NuageImProf_STD-MALT_Etape_5.xml', '/data/ATM/data_1/sfm/mm_projects/test_project/MEC-Malt/NuageImProf_STD-MALT_Etape_1.xml', '/data/ATM/data_1/sfm/mm_projects/test_project/MEC-Malt/NuageImProf_STD-MALT_Etape_6.xml']\n",
      "Malt: Output exported to /data/ATM/data_1/sfm/mm_projects/test_project/output\n"
     ]
    }
   ],
   "source": [
    "import json\n",
    "\n",
    "json_path = \"/home/fdahle/Documents/GitHub/Antarctic_TMA/tests/sfm/project_args.json\"\n",
    "with open(json_path, 'r') as file:\n",
    "    micmac_args = json.load(file)\n",
    "\n",
    "print_all_output = True\n",
    "\n",
    "sfmp.start(\"manual\", [\"Malt\"],\n",
    "           micmac_args,\n",
    "           print_all_output=print_all_output,\n",
    "           save_stats=True, save_raw=True)"
   ],
   "metadata": {
    "collapsed": false
   }
  },
  {
   "cell_type": "code",
   "execution_count": null,
   "outputs": [],
   "source": [],
   "metadata": {
    "collapsed": false
   }
  },
  {
   "cell_type": "markdown",
   "source": [],
   "metadata": {
    "collapsed": false
   }
  },
  {
   "cell_type": "code",
   "execution_count": null,
   "outputs": [],
   "source": [],
   "metadata": {
    "collapsed": false
   }
  }
 ],
 "metadata": {
  "kernelspec": {
   "display_name": "Python 3",
   "language": "python",
   "name": "python3"
  },
  "language_info": {
   "codemirror_mode": {
    "name": "ipython",
    "version": 2
   },
   "file_extension": ".py",
   "mimetype": "text/x-python",
   "name": "python",
   "nbconvert_exporter": "python",
   "pygments_lexer": "ipython2",
   "version": "2.7.6"
  }
 },
 "nbformat": 4,
 "nbformat_minor": 5
}
