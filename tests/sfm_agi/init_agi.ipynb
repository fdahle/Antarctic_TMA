{
 "cells": [
  {
   "cell_type": "code",
   "execution_count": 5,
   "metadata": {
    "collapsed": true
   },
   "outputs": [],
   "source": [
    "%load_ext autoreload\n",
    "%autoreload 2"
   ]
  },
  {
   "cell_type": "code",
   "execution_count": 6,
   "outputs": [],
   "source": [
    "project_name = \"test_1801_extended\""
   ],
   "metadata": {
    "collapsed": false
   }
  },
  {
   "cell_type": "code",
   "execution_count": 7,
   "outputs": [],
   "source": [
    "# Library imports\n",
    "import os\n",
    "\n",
    "# Local imports\n",
    "import src.base.connect_to_database as ctd\n",
    "\n",
    "# define the image ids\n",
    "image_ids = [\"CA180132V0094\", \"CA180132V0095\", \"CA180132V0096\", \"CA180132V0097\",\n",
    "             \"CA180132V0098\", \"CA180132V0099\", \"CA180132V0100\", \"CA180132V00101\"]\n",
    "\n",
    "# get only the first 3 images\n",
    "#image_ids = image_ids[:3]\n",
    "\n",
    "# define the path to the image folder\n",
    "path_image_folder = \"/data/ATM/data_1/aerial/TMA/downloaded\"\n",
    "\n",
    "# create lst with absolute paths\n",
    "images = [os.path.join(path_image_folder, image + \".tif\") for image in image_ids]\n",
    "\n",
    "# create sql list string for image_ids\n",
    "image_ids_string = \"','\".join(image_ids)\n",
    "image_ids_string = \"('\" + image_ids_string + \"')\"\n",
    "\n",
    "# create conn to the database\n",
    "conn = ctd.establish_connection()\n",
    "\n",
    "# create a dict with the focal lengths\n",
    "sql_string = f\"SELECT image_id, focal_length FROM images_extracted WHERE image_id in {image_ids_string}\"\n",
    "focal_length_data = ctd.execute_sql(sql_string, conn)\n",
    "focal_length_dict = focal_length_data.set_index('image_id')['focal_length'].to_dict()\n",
    "\n",
    "print(focal_length_dict)"
   ],
   "metadata": {
    "collapsed": false
   }
  },
  {
   "cell_type": "code",
   "execution_count": 15,
   "outputs": [
    {
     "ename": "NameError",
     "evalue": "name 'exit' is not defined",
     "output_type": "error",
     "traceback": [
      "\u001B[0;31m---------------------------------------------------------------------------\u001B[0m",
      "\u001B[0;31mNameError\u001B[0m                                 Traceback (most recent call last)",
      "Cell \u001B[0;32mIn[15], line 5\u001B[0m\n\u001B[1;32m      2\u001B[0m \u001B[38;5;28;01mimport\u001B[39;00m \u001B[38;5;21;01msrc\u001B[39;00m\u001B[38;5;21;01m.\u001B[39;00m\u001B[38;5;21;01msfm_agi\u001B[39;00m\u001B[38;5;21;01m.\u001B[39;00m\u001B[38;5;21;01minit_agi\u001B[39;00m \u001B[38;5;28;01mas\u001B[39;00m \u001B[38;5;21;01mia\u001B[39;00m\n\u001B[1;32m      4\u001B[0m \u001B[38;5;66;03m# init the agisoft project\u001B[39;00m\n\u001B[0;32m----> 5\u001B[0m \u001B[43mia\u001B[49m\u001B[38;5;241;43m.\u001B[39;49m\u001B[43minit_agi\u001B[49m\u001B[43m(\u001B[49m\u001B[43mproject_name\u001B[49m\u001B[43m,\u001B[49m\u001B[43m \u001B[49m\u001B[43mimages\u001B[49m\u001B[43m,\u001B[49m\u001B[43m \u001B[49m\u001B[43mfocal_lengths\u001B[49m\u001B[38;5;241;43m=\u001B[39;49m\u001B[43mfocal_length_dict\u001B[49m\u001B[43m)\u001B[49m\n",
      "File \u001B[0;32m~/Documents/GitHub/Antarctic_TMA/src/sfm_agi/init_agi.py:119\u001B[0m, in \u001B[0;36minit_agi\u001B[0;34m(project_name, images, camera_positions, camera_accuracies, focal_lengths)\u001B[0m\n\u001B[1;32m    117\u001B[0m \u001B[38;5;28mprint\u001B[39m(\u001B[38;5;124m\"\u001B[39m\u001B[38;5;124mTEST\u001B[39m\u001B[38;5;124m\"\u001B[39m)\n\u001B[1;32m    118\u001B[0m sys\u001B[38;5;241m.\u001B[39mstdout\u001B[38;5;241m.\u001B[39mflush()  \u001B[38;5;66;03m# This will flush the handlers of the stdout logger\u001B[39;00m\n\u001B[0;32m--> 119\u001B[0m \u001B[43mexit\u001B[49m()\n\u001B[1;32m    121\u001B[0m \u001B[38;5;66;03m# create a metashape project object\u001B[39;00m\n\u001B[1;32m    122\u001B[0m doc \u001B[38;5;241m=\u001B[39m Metashape\u001B[38;5;241m.\u001B[39mDocument(read_only\u001B[38;5;241m=\u001B[39m\u001B[38;5;28;01mFalse\u001B[39;00m)\n",
      "\u001B[0;31mNameError\u001B[0m: name 'exit' is not defined"
     ]
    }
   ],
   "source": [
    "# Local imports\n",
    "import src.sfm_agi.init_agi as ia\n",
    "\n",
    "# init the agisoft project\n",
    "ia.init_agi(project_name, images, focal_lengths=focal_length_dict)"
   ],
   "metadata": {
    "collapsed": false
   }
  },
  {
   "cell_type": "markdown",
   "source": [],
   "metadata": {
    "collapsed": false
   }
  }
 ],
 "metadata": {
  "kernelspec": {
   "display_name": "Python 3",
   "language": "python",
   "name": "python3"
  },
  "language_info": {
   "codemirror_mode": {
    "name": "ipython",
    "version": 2
   },
   "file_extension": ".py",
   "mimetype": "text/x-python",
   "name": "python",
   "nbconvert_exporter": "python",
   "pygments_lexer": "ipython2",
   "version": "2.7.6"
  }
 },
 "nbformat": 4,
 "nbformat_minor": 0
}
