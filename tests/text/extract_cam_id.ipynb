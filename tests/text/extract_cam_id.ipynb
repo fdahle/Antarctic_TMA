{
 "cells": [
  {
   "cell_type": "code",
   "execution_count": 2,
   "metadata": {
    "collapsed": true
   },
   "outputs": [],
   "source": [
    "%load_ext autoreload\n",
    "%autoreload 2"
   ]
  },
  {
   "cell_type": "code",
   "execution_count": 3,
   "outputs": [],
   "source": [
    "mode = \"random\"  # can be 'random' or 'id'\n",
    "image_id = \"\""
   ],
   "metadata": {
    "collapsed": false
   }
  },
  {
   "cell_type": "code",
   "execution_count": 5,
   "outputs": [
    {
     "name": "stdout",
     "output_type": "stream",
     "text": [
      "Find cam id for CA214331L0256 with following text:\n",
      "F31USNGS T112112263 PENINSULA TMA2143 0256;AL.F.L. .396mm 032 CA-14 R.NO. RF901 R 54-284\n",
      "Cam id: 54-284\n",
      "\n"
     ]
    }
   ],
   "source": [
    "import src.base.connect_to_database as ctd\n",
    "import src.text.find_cam_id as fci\n",
    "\n",
    "# create connection to database\n",
    "conn = ctd.establish_connection()\n",
    "\n",
    "max_tries = 100\n",
    "\n",
    "# if random mode, get random image id\n",
    "if mode == \"random\":\n",
    "    sql_string = \"SELECT image_id FROM images_extracted \" \\\n",
    "                 \"WHERE text_content is NOT NULL \" \\\n",
    "                 f\"ORDER BY RANDOM() LIMIT {max_tries}\"\n",
    "    image_ids = ctd.execute_sql(sql_string, conn)['image_id']\n",
    "\n",
    "for image_id in image_ids:\n",
    "\n",
    "    # get the text content\n",
    "    sql_string = f\"SELECT text_content FROM images_extracted \" \\\n",
    "                 f\"WHERE image_id='{image_id}'\"\n",
    "    text_content = ctd.execute_sql(sql_string, conn)['text_content'].iloc[0]\n",
    "\n",
    "    print(f\"Find cam id for {image_id} with following text:\")\n",
    "    print(text_content)\n",
    "\n",
    "    cam_id = fci.find_cam_id(text_content)\n",
    "    print(\"Cam id:\", cam_id)\n",
    "    print(\"\")\n",
    "\n",
    "    if cam_id is not None:\n",
    "        break\n"
   ],
   "metadata": {
    "collapsed": false
   }
  },
  {
   "cell_type": "code",
   "execution_count": null,
   "outputs": [],
   "source": [],
   "metadata": {
    "collapsed": false
   }
  }
 ],
 "metadata": {
  "kernelspec": {
   "display_name": "Python 3",
   "language": "python",
   "name": "python3"
  },
  "language_info": {
   "codemirror_mode": {
    "name": "ipython",
    "version": 2
   },
   "file_extension": ".py",
   "mimetype": "text/x-python",
   "name": "python",
   "nbconvert_exporter": "python",
   "pygments_lexer": "ipython2",
   "version": "2.7.6"
  }
 },
 "nbformat": 4,
 "nbformat_minor": 0
}
