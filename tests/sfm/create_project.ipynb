{
 "cells": [
  {
   "cell_type": "code",
   "execution_count": 12,
   "id": "initial_id",
   "metadata": {
    "collapsed": true
   },
   "outputs": [
    {
     "name": "stdout",
     "output_type": "stream",
     "text": [
      "The autoreload extension is already loaded. To reload it, use:\n",
      "  %reload_ext autoreload\n"
     ]
    }
   ],
   "source": [
    "%load_ext autoreload\n",
    "%autoreload 2"
   ]
  },
  {
   "cell_type": "code",
   "execution_count": 25,
   "outputs": [],
   "source": [
    "project_name = \"src_test2\"\n",
    "project_folder = \"/data_1/ATM/data_1/sfm/projects\"\n",
    "\n",
    "#image_ids = [\"CA216432V0214\", \"CA216432V0215\", \"CA216432V0216\", \"CA216432V0217\", \"CA216432V0218\", \"CA216432V0219\"]\n",
    "#image_ids = [\"CA184632V0341\",\"CA184632V0342\", \"CA184632V0343\", \"CA184632V0344\"]\n",
    "image_ids = [\"CA214732V0027\", \"CA214732V0028\", \"CA214732V0029\",\n",
    "                \"CA214732V0030\", \"CA214732V0031\", \"CA214732V0032\",\n",
    "                \"CA214732V0033\", \"CA214732V0034\",\"CA214732V0035\"]"
   ],
   "metadata": {
    "collapsed": false
   }
  },
  {
   "cell_type": "code",
   "execution_count": 26,
   "outputs": [
    {
     "name": "stdout",
     "output_type": "stream",
     "text": [
      "Resume: True ; Overwrite: False\n",
      "Resuming project at /data_1/ATM/data_1/sfm/projects/src_test2\n",
      "Copy ['CA214732V0027', 'CA214732V0028', 'CA214732V0029', 'CA214732V0030', 'CA214732V0031', 'CA214732V0032', 'CA214732V0033', 'CA214732V0034', 'CA214732V0035']\n",
      "No resampled image found at /data_1/ATM/data_1/aerial/TMA/downloaded_resampled/OIS-Reech_CA214732V0027.tif\n",
      "No resampled image found at /data_1/ATM/data_1/aerial/TMA/downloaded_resampled/OIS-Reech_CA214732V0028.tif\n",
      "No resampled image found at /data_1/ATM/data_1/aerial/TMA/downloaded_resampled/OIS-Reech_CA214732V0029.tif\n",
      "No resampled image found at /data_1/ATM/data_1/aerial/TMA/downloaded_resampled/OIS-Reech_CA214732V0030.tif\n",
      "No resampled image found at /data_1/ATM/data_1/aerial/TMA/downloaded_resampled/OIS-Reech_CA214732V0031.tif\n",
      "No resampled image found at /data_1/ATM/data_1/aerial/TMA/downloaded_resampled/OIS-Reech_CA214732V0032.tif\n",
      "No resampled image found at /data_1/ATM/data_1/aerial/TMA/downloaded_resampled/OIS-Reech_CA214732V0033.tif\n",
      "No resampled image found at /data_1/ATM/data_1/aerial/TMA/downloaded_resampled/OIS-Reech_CA214732V0034.tif\n",
      "No resampled image found at /data_1/ATM/data_1/aerial/TMA/downloaded_resampled/OIS-Reech_CA214732V0035.tif\n"
     ]
    }
   ],
   "source": [
    "import src.sfm.SFMProject as Sfmp\n",
    "\n",
    "sfmp = Sfmp.SFMProject(project_name, project_folder, micmac_path=\"/home/fdahle/micmac/bin/mm3d\",\n",
    "                       resume=True, debug=True)\n",
    "\n",
    "sfmp.set_images(image_ids, copy_masks=True, copy_resampled=True, copy_xml=True, skip_missing=True)\n",
    "sfmp.set_camera(\"1983\")"
   ],
   "metadata": {
    "collapsed": false
   }
  },
  {
   "cell_type": "code",
   "execution_count": 33,
   "outputs": [
    {
     "name": "stdout",
     "output_type": "stream",
     "text": [
      "/data_1/ATM/data_1/sfm/projects/src_test2\n",
      "/home/fdahle/micmac/bin/mm3d Schnaps \"OIS.*tif\" ExpTxt=1\n",
      "********\n",
      "Schnaps : reduction of homologue points in image geometry\n",
      "S trict           \n",
      "C hoice of        \n",
      "H omologous       \n",
      "N eglecting       \n",
      "A ccumulations on \n",
      "P articular       \n",
      "S pots\n",
      "Number of searching windows: 1000\n",
      "Working dir: ./\n",
      "Images pattern: OIS.*tif\n",
      "\"OIS.*tif\": 9 matches.\n",
      "Found 9 pictures.\n",
      "All sizes: \n",
      "  * [8800,8800] => [32,32] windows of [275,275] pixels\n",
      "Read packs of homol points:\n",
      " Picture OIS-Reech_CA214732V0027.tif: Found 2 homol files and 14950 raw homol couples.\n",
      " Picture OIS-Reech_CA214732V0028.tif: Found 3 homol files and 28190 raw homol couples.\n",
      " Picture OIS-Reech_CA214732V0029.tif: Found 4 homol files and 39367 raw homol couples.\n",
      " Picture OIS-Reech_CA214732V0030.tif: Found 4 homol files and 41227 raw homol couples.\n",
      " Picture OIS-Reech_CA214732V0031.tif: Found 4 homol files and 48451 raw homol couples.\n",
      " Picture OIS-Reech_CA214732V0032.tif: Found 4 homol files and 38311 raw homol couples.\n",
      " Picture OIS-Reech_CA214732V0033.tif: Found 4 homol files and 46720 raw homol couples.\n",
      " Picture OIS-Reech_CA214732V0034.tif: Found 3 homol files and 43031 raw homol couples.\n",
      " Picture OIS-Reech_CA214732V0035.tif: Found 2 homol files and 31247 raw homol couples.\n",
      "Found 208001 Homol points (incl. 40582 bad ones): 19% bad!\n",
      "Create new homol...........Done!\n",
      "Write new Packs:\n",
      " - OIS-Reech_CA214732V0027.tif: 56.8359% of the picture covered (544 points)\n",
      " - OIS-Reech_CA214732V0028.tif: 90.5273% of the picture covered (828 points)\n",
      " - OIS-Reech_CA214732V0029.tif: 89.9414% of the picture covered (852 points)\n",
      " - OIS-Reech_CA214732V0030.tif: 91.1133% of the picture covered (840 points)\n",
      " - OIS-Reech_CA214732V0031.tif: 92.5781% of the picture covered (899 points)\n",
      " - OIS-Reech_CA214732V0032.tif: 91.7969% of the picture covered (845 points)\n",
      " - OIS-Reech_CA214732V0033.tif: 93.5547% of the picture covered (877 points)\n",
      " - OIS-Reech_CA214732V0034.tif: 91.6016% of the picture covered (842 points)\n",
      " - OIS-Reech_CA214732V0035.tif: 61.6211% of the picture covered (602 points)\n",
      "0 pictures rejected.\n",
      "\n",
      "You can look at \"Schnaps_poubelle.txt\" for a list of suspicious pictures.\n",
      "Quit\n",
      "Schnaps finished successfully.\n"
     ]
    }
   ],
   "source": [
    "import json\n",
    "\n",
    "json_path = \"/home/fdahle/Documents/GitHub/Antarctic_TMA/tests/sfm/project_args.json\"\n",
    "with open(json_path, 'r') as file:\n",
    "    micmac_args = json.load(file)\n",
    "\n",
    "\n",
    "print_all_output = True\n",
    "\n",
    "sfmp.start(\"manual\", [\"Schnaps\"],\n",
    "           micmac_args,\n",
    "           print_all_output=print_all_output,\n",
    "           save_stats=True, save_raw=True)"
   ],
   "metadata": {
    "collapsed": false
   }
  },
  {
   "cell_type": "markdown",
   "source": [],
   "metadata": {
    "collapsed": false
   }
  },
  {
   "cell_type": "code",
   "execution_count": null,
   "outputs": [],
   "source": [],
   "metadata": {
    "collapsed": false
   }
  }
 ],
 "metadata": {
  "kernelspec": {
   "display_name": "Python 3",
   "language": "python",
   "name": "python3"
  },
  "language_info": {
   "codemirror_mode": {
    "name": "ipython",
    "version": 2
   },
   "file_extension": ".py",
   "mimetype": "text/x-python",
   "name": "python",
   "nbconvert_exporter": "python",
   "pygments_lexer": "ipython2",
   "version": "2.7.6"
  }
 },
 "nbformat": 4,
 "nbformat_minor": 5
}
