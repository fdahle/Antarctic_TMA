{
 "cells": [
  {
   "cell_type": "code",
   "execution_count": 1,
   "outputs": [],
   "source": [
    "%load_ext autoreload\n",
    "%autoreload 2"
   ],
   "metadata": {
    "collapsed": false
   }
  },
  {
   "cell_type": "code",
   "execution_count": 2,
   "outputs": [],
   "source": [
    "import src.load.load_shape_data as lsd\n",
    "path_sat_shapefile = \"/data_1/ATM/data_1/georef/sat.shp\"\n",
    "\n",
    "# load the shapefile with the images\n",
    "georef_shape_data = lsd.load_shape_data(path_sat_shapefile)\n",
    "\n",
    "# get the geometry\n",
    "georef_shapes = georef_shape_data.geometry\n",
    "\n",
    "# get the unique ids from the shapes\n",
    "georef_ids = georef_shape_data['image_id'].tolist()\n"
   ],
   "metadata": {
    "collapsed": false
   }
  },
  {
   "cell_type": "code",
   "execution_count": 5,
   "metadata": {
    "collapsed": true
   },
   "outputs": [
    {
     "name": "stdout",
     "output_type": "stream",
     "text": [
      "georef CA181332V0172\n"
     ]
    }
   ],
   "source": [
    "import src.base.connect_to_database as ctd\n",
    "import src.load.load_image as li\n",
    "\n",
    "conn = ctd.establish_connection()\n",
    "\n",
    "import src.georef.georef_calc as gc\n",
    "\n",
    "GCalc = gc.GeorefCalc()\n",
    "\n",
    "while True:\n",
    "    sql_string = \"SELECT * FROM images WHERE image_id LIKE '%V%' ORDER BY RANDOM() LIMIT 1\"\n",
    "    image_data = ctd.execute_sql(sql_string, conn)\n",
    "\n",
    "    image_id = image_data.iloc[0]['image_id']\n",
    "    month = image_data.iloc[0]['date_month']\n",
    "\n",
    "    image = li.load_image(image_id)\n",
    "\n",
    "    # Filter out geo-referenced images and footprints that don't match the flight path\n",
    "    filtered_georef_ids = []\n",
    "    filtered_georef_shapes = []\n",
    "    for i, geo_id in enumerate(georef_ids):\n",
    "        if geo_id[2:6] == image_id[2:6]:\n",
    "            filtered_georef_ids.append(geo_id)\n",
    "            filtered_georef_shapes.append(georef_shapes[i])\n",
    "\n",
    "    print(\"georef\", image_id)\n",
    "\n",
    "    if len(filtered_georef_ids) < 3:\n",
    "        print(\"Not enough georef images\")\n",
    "        continue\n",
    "\n",
    "    transform, residuals, tps, conf = GCalc.georeference(image, image_id, filtered_georef_ids, filtered_georef_shapes)\n",
    "\n",
    "    break"
   ]
  },
  {
   "cell_type": "code",
   "execution_count": null,
   "outputs": [],
   "source": [],
   "metadata": {
    "collapsed": false
   }
  }
 ],
 "metadata": {
  "kernelspec": {
   "display_name": "Python 3",
   "language": "python",
   "name": "python3"
  },
  "language_info": {
   "codemirror_mode": {
    "name": "ipython",
    "version": 2
   },
   "file_extension": ".py",
   "mimetype": "text/x-python",
   "name": "python",
   "nbconvert_exporter": "python",
   "pygments_lexer": "ipython2",
   "version": "2.7.6"
  }
 },
 "nbformat": 4,
 "nbformat_minor": 0
}
