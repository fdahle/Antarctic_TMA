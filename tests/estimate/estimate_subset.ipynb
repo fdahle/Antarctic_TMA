{
 "cells": [
  {
   "cell_type": "code",
   "execution_count": 29,
   "metadata": {
    "collapsed": true
   },
   "outputs": [
    {
     "name": "stdout",
     "output_type": "stream",
     "text": [
      "The autoreload extension is already loaded. To reload it, use:\n",
      "  %reload_ext autoreload\n"
     ]
    }
   ],
   "source": [
    "%load_ext autoreload\n",
    "%autoreload 2"
   ]
  },
  {
   "cell_type": "code",
   "execution_count": 35,
   "outputs": [],
   "source": [
    "mode = \"random\"  # can be 'random' or 'id'\n",
    "image_id = \"CA214331L0344\""
   ],
   "metadata": {
    "collapsed": false
   }
  },
  {
   "cell_type": "code",
   "execution_count": 36,
   "outputs": [],
   "source": [
    "import src.base.connect_to_database as ctd\n",
    "\n",
    "# create connection to the database\n",
    "conn = ctd.establish_connection()\n",
    "\n",
    "# if mode is 'random', get a random image id\n",
    "if mode == \"random\":\n",
    "    sql_string = \"SELECT image_id FROM images_fid_points WHERE \"\\\n",
    "                 \"subset_n_x is NULL or subset_n_y is NULL OR \" \\\n",
    "                 \"subset_e_x is NULL or subset_e_y is NULL OR \" \\\n",
    "                 \"subset_s_x is NULL or subset_s_y is NULL OR \" \\\n",
    "                 \"subset_w_x is NULL or subset_w_y is NULL \" \\\n",
    "                 \"ORDER BY RANDOM() LIMIT 1\"\n",
    "    image_id = ctd.execute_sql(sql_string, conn).iloc[0]['image_id']"
   ],
   "metadata": {
    "collapsed": false
   }
  },
  {
   "cell_type": "code",
   "execution_count": 37,
   "outputs": [
    {
     "name": "stdout",
     "output_type": "stream",
     "text": [
      "Estimate subsets for CA185332V0340\n"
     ]
    }
   ],
   "source": [
    "import src.estimate.estimate_subset as es\n",
    "\n",
    "print(f\"Estimate subsets for {image_id}\")\n",
    "\n",
    "subset_width = 250\n",
    "subset_height = 250\n",
    "\n",
    "bounding_boxes = []\n",
    "for key in [\"n\", \"e\", \"s\", \"w\"]:\n",
    "    subset = es.estimate_subset(image_id, key, conn)\n",
    "    bbox = [subset[0], subset[1], subset[0] + subset_width, subset[1] + subset_height]\n",
    "    bounding_boxes.append(bbox)\n"
   ],
   "metadata": {
    "collapsed": false
   }
  },
  {
   "cell_type": "code",
   "execution_count": 38,
   "outputs": [],
   "source": [
    "import src.display.display_images as di\n",
    "import src.load.load_image as li\n",
    "\n",
    "image = li.load_image(image_id)\n",
    "\n",
    "di.display_images(image, bounding_boxes=[bounding_boxes])"
   ],
   "metadata": {
    "collapsed": false
   }
  },
  {
   "cell_type": "code",
   "execution_count": null,
   "outputs": [],
   "source": [],
   "metadata": {
    "collapsed": false
   }
  }
 ],
 "metadata": {
  "kernelspec": {
   "display_name": "Python 3",
   "language": "python",
   "name": "python3"
  },
  "language_info": {
   "codemirror_mode": {
    "name": "ipython",
    "version": 2
   },
   "file_extension": ".py",
   "mimetype": "text/x-python",
   "name": "python",
   "nbconvert_exporter": "python",
   "pygments_lexer": "ipython2",
   "version": "2.7.6"
  }
 },
 "nbformat": 4,
 "nbformat_minor": 0
}
