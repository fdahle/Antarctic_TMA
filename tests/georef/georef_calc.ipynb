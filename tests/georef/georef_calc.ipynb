{
 "cells": [
  {
   "cell_type": "code",
   "source": [
    "%load_ext autoreload\n",
    "%autoreload 2"
   ],
   "metadata": {
    "collapsed": false,
    "ExecuteTime": {
     "end_time": "2024-08-05T12:39:49.657408Z",
     "start_time": "2024-08-05T12:39:49.639925Z"
    }
   },
   "id": "974558836d048587",
   "outputs": [
    {
     "name": "stdout",
     "output_type": "stream",
     "text": [
      "The autoreload extension is already loaded. To reload it, use:\n",
      "  %reload_ext autoreload\n"
     ]
    }
   ],
   "execution_count": 55
  },
  {
   "cell_type": "code",
   "source": [
    "img_id = \"CA213732V0033\"\n",
    "img_id = \"CA214732V0016\"\n",
    "TEST 1533!!\n",
    "calc_types = [\"sat\"]\n",
    "overwrite = False\n",
    "\n",
    "output_fld = \"/data/ATM/data_1/georef\""
   ],
   "metadata": {
    "collapsed": false,
    "ExecuteTime": {
     "end_time": "2024-08-05T12:53:35.028813Z",
     "start_time": "2024-08-05T12:53:34.999203Z"
    }
   },
   "id": "836e3e8c396e223f",
   "outputs": [],
   "execution_count": 96
  },
  {
   "cell_type": "code",
   "source": [
    "# load the image\n",
    "import src.load.load_image as li\n",
    "image = li.load_image(img_id)"
   ],
   "metadata": {
    "collapsed": false,
    "ExecuteTime": {
     "end_time": "2024-08-05T12:53:36.216680Z",
     "start_time": "2024-08-05T12:53:35.521195Z"
    }
   },
   "id": "dbd8a7db0df9794",
   "outputs": [],
   "execution_count": 97
  },
  {
   "cell_type": "code",
   "source": [
    "import src.base.connect_to_database as ctd\n",
    "\n",
    "sql_string = f\"SELECT * FROM images WHERE image_id='{img_id}'\"\n",
    "conn = ctd.establish_connection()\n",
    "data = ctd.execute_sql(sql_string, conn)\n",
    "\n",
    "month = data.iloc[0]['date_month']\n"
   ],
   "metadata": {
    "collapsed": false,
    "ExecuteTime": {
     "end_time": "2024-08-05T12:53:37.184184Z",
     "start_time": "2024-08-05T12:53:37.148428Z"
    }
   },
   "id": "6147b23cc70ed0f2",
   "outputs": [],
   "execution_count": 98
  },
  {
   "metadata": {},
   "cell_type": "raw",
   "source": "Load the shapefiles with the georeferenced images",
   "id": "5e7666b0350989fd"
  },
  {
   "cell_type": "code",
   "source": [
    "import src.display.display_shapes as ds\n",
    "\n",
    "import src.load.load_shape_data as lsd\n",
    "\n",
    "path_sat_shapefile = \"/data/ATM/data_1/georef/sat.shp\"\n",
    "\n",
    "# load the shapefile with the images\n",
    "georef_shape_data = lsd.load_shape_data(path_sat_shapefile)\n",
    "\n",
    "# get the geometry\n",
    "georef_shapes = georef_shape_data.geometry\n",
    "\n",
    "# get the unique ids from the shapes\n",
    "georef_ids = georef_shape_data['image_id'].tolist()"
   ],
   "metadata": {
    "collapsed": false,
    "ExecuteTime": {
     "end_time": "2024-08-05T12:53:37.224933Z",
     "start_time": "2024-08-05T12:53:37.186125Z"
    }
   },
   "id": "40e3c4c888627615",
   "outputs": [],
   "execution_count": 99
  },
  {
   "cell_type": "code",
   "source": [
    "# Filter out geo-referenced images and footprints that don't match the flight path\n",
    "filtered_georef_ids = []\n",
    "filtered_georef_shapes = []\n",
    "for i, geo_id in enumerate(georef_ids):\n",
    "    if geo_id[2:6] == img_id[2:6]:\n",
    "        filtered_georef_ids.append(geo_id)\n",
    "        filtered_georef_shapes.append(georef_shapes[i])\n",
    "\n",
    "# Replace the original lists with the filtered lists\n",
    "georef_ids = filtered_georef_ids\n",
    "georef_shapes = filtered_georef_shapes"
   ],
   "metadata": {
    "collapsed": false,
    "ExecuteTime": {
     "end_time": "2024-08-05T12:53:38.000414Z",
     "start_time": "2024-08-05T12:53:37.964485Z"
    }
   },
   "id": "deae8b5f6958c8fa",
   "outputs": [],
   "execution_count": 100
  },
  {
   "cell_type": "code",
   "source": [
    "import src.georef.georef_calc as gc\n",
    "\n",
    "GCalc = gc.GeorefCalc()\n",
    "\n",
    "transform, residuals, tps, conf = GCalc.georeference(image, img_id, georef_ids, georef_shapes)"
   ],
   "metadata": {
    "collapsed": false,
    "ExecuteTime": {
     "end_time": "2024-08-05T12:53:41.634897Z",
     "start_time": "2024-08-05T12:53:38.690954Z"
    }
   },
   "id": "e8ce966124e5d5dc",
   "outputs": [
    {
     "name": "stdout",
     "output_type": "stream",
     "text": [
      "Georeferenced ids:\n",
      "['CA214732V0031', 'CA214732V0032', 'CA214732V0033', 'CA214732V0039', 'CA214732V0050']\n",
      "Image_nr: 16\n",
      "Georef_numbers: [31, 32, 33, 39, 50]\n",
      "distances_adjusted:\n",
      "[2335.8569435384097, 2879.3131593151156, 2839.567666672717, 3006.3218594998393]\n",
      "Average distance adjusted: 2765.2649072565205\n",
      "Position index: 0\n",
      "Prev point: None ID: None\n",
      "Next point: POINT (-2419217.3944499996 1280797.9703600002) ID: 32\n",
      "pos at 0\n",
      "ref id 32\n",
      "x0 smaller x1\n",
      "direction -1\n",
      "diff ids:  16\n",
      "Distance adjustment 44244.23851610433\n",
      "New Coords: [-2463461.6329661  1236553.7318439]\n"
     ]
    }
   ],
   "execution_count": 101
  },
  {
   "cell_type": "markdown",
   "source": [
    "<h4>Verify the image geometry and position</h4>"
   ],
   "metadata": {
    "collapsed": false
   },
   "id": "e525c0c4afd360e7"
  },
  {
   "cell_type": "code",
   "source": [
    "import src.georef.snippets.verify_image_geometry as vig\n",
    "import src.georef.snippets.verify_image_position as vip\n",
    "\n",
    "# check if the geometry of the image is valid\n",
    "valid_geometry, reason = vig.verify_image_geometry(image, transform)\n",
    "\n",
    "# check if the image fits in the position of the other images\n",
    "#valid_position, reason = vip.verify_image_position(image, transform, georef_shapes)\n",
    "\n",
    "print(valid_geometry)\n"
   ],
   "metadata": {
    "collapsed": false,
    "ExecuteTime": {
     "end_time": "2024-08-05T11:20:51.692896Z",
     "start_time": "2024-08-05T11:20:51.675779Z"
    }
   },
   "id": "67dca49fd87a351b",
   "outputs": [
    {
     "name": "stdout",
     "output_type": "stream",
     "text": [
      "True\n"
     ]
    }
   ],
   "execution_count": 27
  },
  {
   "cell_type": "markdown",
   "source": [
    "<h4>Save the data</h4>"
   ],
   "metadata": {
    "collapsed": false
   },
   "id": "afdde155a8eee695"
  },
  {
   "cell_type": "code",
   "execution_count": 43,
   "outputs": [
    {
     "name": "stdout",
     "output_type": "stream",
     "text": [
      "CA184632V0333 successfully saved\n"
     ]
    }
   ],
   "source": [
    "import numpy as np\n",
    "import pandas as pd\n",
    "\n",
    "import src.georef.snippets.apply_transform as af\n",
    "import src.georef.snippets.convert_image_to_footprint as citf\n",
    "\n",
    "import src.export.export_geometry as eg\n",
    "\n",
    "# merge tps and conf\n",
    "tps_conf = np.concatenate([tps, conf.reshape(-1, 1)], axis=1)\n",
    "\n",
    "# define path to shape file\n",
    "path_shp_file = f\"{output_fld}/calc.shp\"\n",
    "\n",
    "# apply the transform and save geo-referenced tiff\n",
    "af.apply_transform(image, transform, f\"{output_fld}/calc/{img_id}.tif\")\n",
    "\n",
    "# save transform and points\n",
    "np.savetxt(f\"{output_fld}/calc/{img_id}_transform.txt\", transform, fmt='%.5f')\n",
    "np.savetxt(f\"{output_fld}/calc/{img_id}_points.txt\", tps_conf, fmt=['%i', '%i', '%.2f', '%.2f', '%.3f'])\n",
    "\n",
    "# create a footprint for this image\n",
    "footprint = citf.convert_image_to_footprint(image, transform)\n",
    "\n",
    "# define attributes\n",
    "attributes = {\n",
    "    'image_id': img_id,\n",
    "    'month': month,\n",
    "    'num_tps': tps.shape[0],\n",
    "    'avg_conf': round(np.mean(conf), 3),\n",
    "    'avg_resi': round(np.mean(residuals), 3),\n",
    "}\n",
    "\n",
    "attributes = pd.DataFrame.from_dict(attributes, orient='index').T\n",
    "\n",
    "# save footprint to shp file\n",
    "eg.export_geometry(footprint, path_shp_file,\n",
    "                   attributes=attributes, key_field=\"image_id\",\n",
    "                   overwrite_file=False,\n",
    "                   overwrite_entry=True, attach=True)\n",
    "\n",
    "print(f\"{img_id} successfully saved\")\n"
   ],
   "metadata": {
    "collapsed": false
   },
   "id": "c6598005b01ccadc"
  },
  {
   "cell_type": "code",
   "execution_count": null,
   "outputs": [],
   "source": [],
   "metadata": {
    "collapsed": false
   },
   "id": "3a12047cf77ca980"
  }
 ],
 "metadata": {
  "kernelspec": {
   "display_name": "Python 3",
   "language": "python",
   "name": "python3"
  },
  "language_info": {
   "codemirror_mode": {
    "name": "ipython",
    "version": 2
   },
   "file_extension": ".py",
   "mimetype": "text/x-python",
   "name": "python",
   "nbconvert_exporter": "python",
   "pygments_lexer": "ipython2",
   "version": "2.7.6"
  }
 },
 "nbformat": 4,
 "nbformat_minor": 5
}
