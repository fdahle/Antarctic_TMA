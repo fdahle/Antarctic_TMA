{
 "cells": [
  {
   "cell_type": "code",
   "execution_count": 14,
   "metadata": {
    "collapsed": true
   },
   "outputs": [
    {
     "name": "stdout",
     "output_type": "stream",
     "text": [
      "The autoreload extension is already loaded. To reload it, use:\n",
      "  %reload_ext autoreload\n"
     ]
    }
   ],
   "source": [
    "%load_ext autoreload\n",
    "%autoreload 2"
   ]
  },
  {
   "cell_type": "code",
   "execution_count": 15,
   "outputs": [],
   "source": [
    "image_ids = [\"CA180132V0094\", \"CA180132V0095\", \"CA180132V0096\", \"CA180132V0097\",\n",
    "                 \"CA180132V0098\", \"CA180132V0099\", \"CA180132V0100\", \"CA180132V0101\"]\n",
    "project_folder = \"/data_1/ATM/data_1/sfm/projects/EGU2\""
   ],
   "metadata": {
    "collapsed": false
   }
  },
  {
   "cell_type": "code",
   "execution_count": 32,
   "outputs": [
    {
     "name": "stdout",
     "output_type": "stream",
     "text": [
      "                      image_id  azimuth_exact height             x  \\\n",
      "0  OIS-Reech_CA180132V0098.tif         337.76   None -1.974661e+06   \n",
      "1  OIS-Reech_CA180132V0096.tif         337.76   None -1.978697e+06   \n",
      "2  OIS-Reech_CA180132V0100.tif         337.76   None -1.970107e+06   \n",
      "3  OIS-Reech_CA180132V0095.tif         337.76   None -1.980876e+06   \n",
      "4  OIS-Reech_CA180132V0097.tif         337.76   None -1.976523e+06   \n",
      "5  OIS-Reech_CA180132V0101.tif         337.76   None -1.967744e+06   \n",
      "6  OIS-Reech_CA180132V0094.tif         337.76   None -1.983158e+06   \n",
      "7  OIS-Reech_CA180132V0099.tif         337.76   None -1.972393e+06   \n",
      "\n",
      "               y  \n",
      "0  763912.018523  \n",
      "1  765505.188830  \n",
      "2  762186.638840  \n",
      "3  766291.212295  \n",
      "4  764807.739195  \n",
      "5  761003.816185  \n",
      "6  767386.569890  \n",
      "7  763018.896675  \n"
     ]
    }
   ],
   "source": [
    "import src.sfm_mm.snippets.create_camera_csv as ccc\n",
    "\n",
    "csv_path = project_folder + \"/cameras.csv\"\n",
    "\n",
    "ccc.create_camera_csv(image_ids, csv_path, prefix=\"OIS-Reech_\", output_epsg=3031)"
   ],
   "metadata": {
    "collapsed": false
   }
  },
  {
   "cell_type": "code",
   "execution_count": null,
   "outputs": [],
   "source": [],
   "metadata": {
    "collapsed": false
   }
  }
 ],
 "metadata": {
  "kernelspec": {
   "display_name": "Python 3",
   "language": "python",
   "name": "python3"
  },
  "language_info": {
   "codemirror_mode": {
    "name": "ipython",
    "version": 2
   },
   "file_extension": ".py",
   "mimetype": "text/x-python",
   "name": "python",
   "nbconvert_exporter": "python",
   "pygments_lexer": "ipython2",
   "version": "2.7.6"
  }
 },
 "nbformat": 4,
 "nbformat_minor": 0
}
