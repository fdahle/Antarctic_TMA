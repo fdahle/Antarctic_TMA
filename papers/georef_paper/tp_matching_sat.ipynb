{
 "cells": [
  {
   "cell_type": "code",
   "id": "initial_id",
   "metadata": {
    "collapsed": true,
    "ExecuteTime": {
     "end_time": "2024-07-24T09:19:58.031048Z",
     "start_time": "2024-07-24T09:19:57.990828Z"
    }
   },
   "source": [
    "import shapely\n",
    "%load_ext autoreload\n",
    "%autoreload 2"
   ],
   "outputs": [
    {
     "name": "stdout",
     "output_type": "stream",
     "text": [
      "The autoreload extension is already loaded. To reload it, use:\n",
      "  %reload_ext autoreload\n"
     ]
    }
   ],
   "execution_count": 15
  },
  {
   "metadata": {
    "ExecuteTime": {
     "end_time": "2024-07-24T09:21:03.006513Z",
     "start_time": "2024-07-24T09:21:02.146275Z"
    }
   },
   "cell_type": "code",
   "source": [
    "import src.base.find_tie_points as ftp\n",
    "import src.base.create_mask as cm\n",
    "import src.display.display_images as di\n",
    "\n",
    "import src.load.load_image as li\n",
    "\n",
    "import numpy as np\n",
    "\n",
    "image_id = \"CA181632V0113\"\n",
    "\n",
    "img = li.load_image(image_id)\n",
    "\n",
    "#mask1 = cm.create_mask(img1, use_default_fiducials=True, \n",
    "#default_fid_position=750)\n",
    "mask = cm.create_mask(img, use_default_fiducials=True, default_fid_position=750)\n"
   ],
   "id": "ee56302b50584981",
   "outputs": [],
   "execution_count": 19
  },
  {
   "metadata": {
    "ExecuteTime": {
     "end_time": "2024-07-24T09:21:06.560069Z",
     "start_time": "2024-07-24T09:21:03.785211Z"
    }
   },
   "cell_type": "code",
   "source": [
    "import shapely\n",
    "import src.base.connect_to_database as ctd\n",
    "import src.load.load_satellite as lsd\n",
    "conn = ctd.establish_connection()\n",
    "\n",
    "sql_string = f\"SELECT ST_AsText(footprint_exact) as footprint_exact FROM images_georef WHERE image_id='{image_id}'\"\n",
    "data = ctd.execute_sql(sql_string, conn)\n",
    "footprint = data.iloc[0]['footprint_exact']\n",
    "footprint = shapely.from_wkt(footprint)\n",
    "\n",
    "sat, _ = lsd.load_satellite(footprint.bounds)\n",
    "\n",
    "print(sat.shape)"
   ],
   "id": "2d1acea55e4abbeb",
   "outputs": [
    {
     "name": "stdout",
     "output_type": "stream",
     "text": [
      "(3, 730, 745)\n"
     ]
    }
   ],
   "execution_count": 20
  },
  {
   "metadata": {},
   "cell_type": "raw",
   "source": "Initial matching",
   "id": "ff079c34c883f1ca"
  },
  {
   "metadata": {
    "ExecuteTime": {
     "end_time": "2024-07-24T09:21:22.091230Z",
     "start_time": "2024-07-24T09:21:06.561623Z"
    }
   },
   "cell_type": "code",
   "source": [
    "tpd_basic = ftp.TiePointDetector('lightglue', matching_additional=True, matching_extra=True, display=False, catch=False)\n",
    "\n",
    "tps, conf = tpd_basic.find_tie_points(sat, img, mask1=None, mask2=mask)\n",
    "\n",
    "print(tps.shape)\n",
    "\n",
    "di.display_images([sat, img], tie_points=tps, tie_points_conf=conf)"
   ],
   "id": "7c50453ccb67bf0a",
   "outputs": [
    {
     "name": "stdout",
     "output_type": "stream",
     "text": [
      "(107, 4)\n"
     ]
    }
   ],
   "execution_count": 21
  },
  {
   "metadata": {},
   "cell_type": "code",
   "source": [
    "import src.base.resize_image as ri\n",
    "img1_resized = li.load_image(\"/data/ATM/papers/georef_paper/revision/resized_img1.tif\")\n",
    "img2_resized = li.load_image(\"/data/ATM/papers/georef_paper/revision/resized_img2.tif\")\n",
    "mask1_resized = ri.resize_image(mask1, img1_resized.shape)\n",
    "mask2_resized = ri.resize_image(mask2, img2_resized.shape)\n",
    "\n",
    "tps_resized = np.load(\"/data/ATM/papers/georef_paper/revision/resized_tps.npy\")\n",
    "conf_resized = np.load(\"/data/ATM/papers/georef_paper/revision/resized_conf.npy\")\n",
    "mask_indices_resized = np.load(\"/data/ATM/papers/georef_paper/revision/resized_mask_indices.npy\")\n",
    "\n",
    "conf_masked_resized = np.array(mask_indices_resized, dtype=int)\n",
    "\n",
    "style_config = {'axis_marker': False,\n",
    "                'line_width': 0.4,\n",
    "                'overlay_alpha': 0.3,\n",
    "                }\n",
    "\n",
    "print(tps_resized.shape)\n",
    "print(np.sum(mask_indices_resized))\n",
    "\n",
    "di.display_images([img1_resized, img2_resized], \n",
    "                  overlays=[mask1_resized, mask2_resized], tie_points=tps_resized, tie_points_conf=conf_masked_resized, style_config=style_config)\n"
   ],
   "id": "38483e6f22a23709",
   "outputs": [],
   "execution_count": null
  },
  {
   "metadata": {},
   "cell_type": "raw",
   "source": "Additional matching",
   "id": "cec4a3bfb9726674"
  },
  {
   "metadata": {},
   "cell_type": "code",
   "source": [
    "tpd_additional = ftp.TiePointDetector('lightglue', matching_additional=True, matching_extra=False, keep_resized_points=False, display=False, catch=False)\n",
    "\n",
    "_, _ = tpd_additional.find_tie_points(img1, img2, mask1=mask1, mask2=mask2)\n"
   ],
   "id": "e5e109a5157d8a29",
   "outputs": [],
   "execution_count": null
  },
  {
   "metadata": {},
   "cell_type": "code",
   "source": [
    "from shapely.geometry import Polygon\n",
    "\n",
    "\n",
    "tps_initial = np.load(\"/data/ATM/papers/georef_paper/revision/initial_tps.npy\")\n",
    "conf_initial = np.load(\"/data/ATM/papers/georef_paper/revision/initial_conf.npy\")\n",
    "\n",
    "img1_additional = li.load_image(\"/data/ATM/papers/georef_paper/revision/additional_img1.tif\")\n",
    "img2_additional = li.load_image(\"/data/ATM/papers/georef_paper/revision/additional_img2.tif\")\n",
    "\n",
    "print(img1_additional.shape)\n",
    "print(img2_additional.shape)\n",
    "\n",
    "tps_additional = np.load(\"/data/ATM/papers/georef_paper/revision/additional_tps.npy\")\n",
    "conf_additional = np.load(\"/data/ATM/papers/georef_paper/revision/additional_conf.npy\")\n",
    "#mask_indices_additional = np.load(\"/data/ATM/papers/georef_paper/revision/additional_mask_indices.npy\")\n",
    "\n",
    "print(tps_additional.shape)\n",
    "\n",
    "tiles1_additional = np.load(\"/data/ATM/papers/georef_paper/revision/additional_tiles1.npy\")\n",
    "tiles2_additional = np.load(\"/data/ATM/papers/georef_paper/revision/additional_tiles2.npy\")\n",
    "\n",
    "# Convert bounding boxes to a list of Shapely Polygons\n",
    "polygons1_additional = []\n",
    "polygons_color = []\n",
    "for i, bbox in enumerate(tiles1_additional):\n",
    "    min_x, min_y, max_x, max_y = bbox\n",
    "    polygon = Polygon([(min_x, min_y), (max_x, min_y), (max_x, max_y), (min_x, max_y)])\n",
    "    polygons1_additional.append(polygon)\n",
    "polygons2_additional = []\n",
    "for bbox in tiles2_additional:\n",
    "    min_x, min_y, max_x, max_y = bbox\n",
    "    polygon = Polygon([(min_x, min_y), (max_x, min_y), (max_x, max_y), (min_x, max_y)])\n",
    "    polygons2_additional.append(polygon)\n",
    "    if min_x == 0 and max_x == 0:\n",
    "        polygons_color.append((255,0,0))\n",
    "    else:\n",
    "        polygons_color.append((0,255,0))\n",
    "\n",
    "def generate_uppercase_sequence(n):    \n",
    "    def next_sequence(s):\n",
    "        if s == \"\":\n",
    "            return \"A\"\n",
    "        if s[-1] != \"Z\":\n",
    "            return s[:-1] + chr(ord(s[-1]) + 1)\n",
    "        return next_sequence(s[:-1]) + \"A\"\n",
    "    \n",
    "    sequence = []\n",
    "    current = \"\"\n",
    "    for _ in range(n):\n",
    "        current = next_sequence(current)\n",
    "        sequence.append(current)\n",
    "    \n",
    "    return sequence\n",
    "\n",
    "poly_text1 = generate_uppercase_sequence(len(polygons1_additional))\n",
    "poly_text2 = generate_uppercase_sequence(len(polygons2_additional))\n",
    "\n",
    "#conf_masked_additional = np.array(mask_indices_additional, dtype=int)\n",
    "\n",
    "style_config = {'axis_marker': False,\n",
    "                'line_width': 0.05,\n",
    "                'line_color': (0, 255, 0)\n",
    "                }\n",
    "\n",
    "di.display_images([img1_additional, img2_additional], \n",
    "                  tie_points=tps_additional,\n",
    "                  #tie_points_conf=conf_additional,\n",
    "                  polygons=[polygons1_additional, polygons2_additional],polygons_text=[poly_text1, poly_text2],\n",
    "                  polygons_color=polygons_color,\n",
    "                  style_config=style_config)\n"
   ],
   "id": "904c0185848033de",
   "outputs": [],
   "execution_count": null
  },
  {
   "metadata": {},
   "cell_type": "raw",
   "source": "Extra matching",
   "id": "9a2bd2b1223e6b1e",
   "outputs": null,
   "execution_count": null
  },
  {
   "metadata": {},
   "cell_type": "code",
   "source": [
    "tpd_extra = ftp.TiePointDetector('lightglue', matching_additional=True, matching_extra=True, keep_resized_points=False, display=False, catch=False)\n",
    "\n",
    "_, _ = tpd_extra.find_tie_points(img1, img2, mask1=mask1, mask2=mask2)"
   ],
   "id": "808650050a14f5fd",
   "outputs": [],
   "execution_count": null
  },
  {
   "metadata": {},
   "cell_type": "code",
   "source": [
    "from shapely.geometry import Polygon\n",
    "\n",
    "\n",
    "tps_initial = np.load(\"/data/ATM/papers/georef_paper/revision/initial_tps.npy\")\n",
    "conf_initial = np.load(\"/data/ATM/papers/georef_paper/revision/initial_conf.npy\")\n",
    "\n",
    "img1_extra = li.load_image(\"/data/ATM/papers/georef_paper/revision/extra_img1.tif\")\n",
    "img2_extra = li.load_image(\"/data/ATM/papers/georef_paper/revision/extra_img2.tif\")\n",
    "\n",
    "tps_extra = np.load(\"/data/ATM/papers/georef_paper/revision/extra_tps.npy\")\n",
    "conf_extra = np.load(\"/data/ATM/papers/georef_paper/revision/extra_conf.npy\")\n",
    "#mask_indices_extra = np.load(\"/data/ATM/papers/georef_paper/revision/extra_mask_indices.npy\")\n",
    "\n",
    "print(tps_extra.shape)\n",
    "\n",
    "tiles1_extra = np.load(\"/data/ATM/papers/georef_paper/revision/extra_tiles1.npy\")\n",
    "tiles2_extra = np.load(\"/data/ATM/papers/georef_paper/revision/extra_tiles2.npy\")\n",
    "\n",
    "# Convert bounding boxes to a list of Shapely Polygons\n",
    "polygons1_extra = []\n",
    "polygons_color = []\n",
    "for i, bbox in enumerate(tiles1_extra):\n",
    "    min_x, min_y, max_x, max_y = bbox\n",
    "    polygon = Polygon([(min_x, min_y), (max_x, min_y), (max_x, max_y), (min_x, max_y)])\n",
    "    polygons1_extra.append(polygon)\n",
    "polygons2_extra = []\n",
    "for idx, bbox in enumerate(tiles2_extra):\n",
    "    min_x, min_y, max_x, max_y = bbox\n",
    "    polygon = Polygon([(min_x, min_y), (max_x, min_y), (max_x, max_y), (min_x, max_y)])\n",
    "    polygons2_extra.append(polygon)\n",
    "    \n",
    "    if idx in [28, 29]:\n",
    "        polygons_color.append((255,0,0))\n",
    "        polygons2_extra[idx] = Polygon([(0,0), (0,0), (0,0), (0,0)])\n",
    "    elif (min_x == 0 and max_x == 0):\n",
    "        polygons_color.append((255,0,0))\n",
    "    else:\n",
    "        polygons_color.append((0,255,0))\n",
    "\n",
    "def generate_uppercase_sequence(n):    \n",
    "    def next_sequence(s):\n",
    "        if s == \"\":\n",
    "            return \"A\"\n",
    "        if s[-1] != \"Z\":\n",
    "            return s[:-1] + chr(ord(s[-1]) + 1)\n",
    "        return next_sequence(s[:-1]) + \"A\"\n",
    "    \n",
    "    sequence = []\n",
    "    current = \"\"\n",
    "    for _ in range(n):\n",
    "        current = next_sequence(current)\n",
    "        sequence.append(current)\n",
    "    \n",
    "    return sequence\n",
    "\n",
    "poly_text1 = generate_uppercase_sequence(len(polygons1_extra))\n",
    "poly_text2 = generate_uppercase_sequence(len(polygons2_extra))\n",
    "\n",
    "#conf_masked_additional = np.array(mask_indices_additional, dtype=int)\n",
    "\n",
    "style_config = {'axis_marker': False,\n",
    "                'line_width': 0.05,\n",
    "                'line_color': (0, 255, 0)\n",
    "                }\n",
    "\n",
    "di.display_images([img1_extra, img2_extra], \n",
    "                  #tie_points=tps_extra,\n",
    "                  #tie_points_conf=conf_extra,\n",
    "                  polygons=[polygons1_extra, polygons2_extra],polygons_text=[poly_text1, poly_text2],\n",
    "                  polygons_color=polygons_color,\n",
    "                  style_config=style_config)\n"
   ],
   "id": "b068ea2341d7e0ea",
   "outputs": [],
   "execution_count": null
  },
  {
   "metadata": {},
   "cell_type": "code",
   "source": "",
   "id": "26f3949612a9f4e8",
   "outputs": [],
   "execution_count": null
  }
 ],
 "metadata": {
  "kernelspec": {
   "display_name": "Python 3",
   "language": "python",
   "name": "python3"
  },
  "language_info": {
   "codemirror_mode": {
    "name": "ipython",
    "version": 2
   },
   "file_extension": ".py",
   "mimetype": "text/x-python",
   "name": "python",
   "nbconvert_exporter": "python",
   "pygments_lexer": "ipython2",
   "version": "2.7.6"
  }
 },
 "nbformat": 4,
 "nbformat_minor": 5
}
