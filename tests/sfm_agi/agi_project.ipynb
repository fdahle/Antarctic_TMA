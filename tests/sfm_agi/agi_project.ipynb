{
 "cells": [
  {
   "cell_type": "code",
   "execution_count": 1,
   "outputs": [
    {
     "name": "stderr",
     "output_type": "stream",
     "text": [
      "\n",
      "User settings:\n",
      "\n",
      "   KMP_AFFINITY=noverbose\n",
      "   KMP_SETTINGS=1\n",
      "   KMP_WARNINGS=0\n",
      "\n",
      "Effective settings:\n",
      "\n",
      "   KMP_ABORT_DELAY=0\n",
      "   KMP_ADAPTIVE_LOCK_PROPS='1,1024'\n",
      "   KMP_ALIGN_ALLOC=64\n",
      "   KMP_ALL_THREADPRIVATE=128\n",
      "   KMP_ATOMIC_MODE=2\n",
      "   KMP_BLOCKTIME=200\n",
      "   KMP_CPUINFO_FILE: value is not defined\n",
      "   KMP_DETERMINISTIC_REDUCTION=false\n",
      "   KMP_DEVICE_THREAD_LIMIT=2147483647\n",
      "   KMP_DISP_NUM_BUFFERS=7\n",
      "   KMP_DUPLICATE_LIB_OK=false\n",
      "   KMP_ENABLE_TASK_THROTTLING=true\n",
      "   KMP_FORCE_MONOTONIC_DYNAMIC_SCHEDULE=false\n",
      "   KMP_FORCE_REDUCTION: value is not defined\n",
      "   KMP_FOREIGN_THREADS_THREADPRIVATE=true\n",
      "   KMP_FORKJOIN_BARRIER='2,2'\n",
      "   KMP_FORKJOIN_BARRIER_PATTERN='hyper,hyper'\n",
      "   KMP_FORKJOIN_FRAMES=true\n",
      "   KMP_FORKJOIN_FRAMES_MODE=3\n",
      "   KMP_GTID_MODE=3\n",
      "   KMP_HANDLE_SIGNALS=false\n",
      "   KMP_HOT_TEAMS_MAX_LEVEL=1\n",
      "   KMP_HOT_TEAMS_MODE=0\n",
      "   KMP_INIT_AT_FORK=true\n",
      "   KMP_ITT_PREPARE_DELAY=0\n",
      "   KMP_LIBRARY=throughput\n",
      "   KMP_LOCK_KIND=queuing\n",
      "   KMP_MALLOC_POOL_INCR=1M\n",
      "   KMP_MWAIT_HINTS=0\n",
      "   KMP_NESTING_MODE=0\n",
      "   KMP_NUM_LOCKS_IN_BLOCK=1\n",
      "   KMP_PLAIN_BARRIER='2,2'\n",
      "   KMP_PLAIN_BARRIER_PATTERN='hyper,hyper'\n",
      "   KMP_REDUCTION_BARRIER='1,1'\n",
      "   KMP_REDUCTION_BARRIER_PATTERN='hyper,hyper'\n",
      "   KMP_SCHEDULE='static,balanced;guided,iterative'\n",
      "   KMP_SETTINGS=true\n",
      "   KMP_SPIN_BACKOFF_PARAMS='4096,100'\n",
      "   KMP_STACKOFFSET=64\n",
      "   KMP_STACKPAD=0\n",
      "   KMP_STACKSIZE=8M\n",
      "   KMP_STORAGE_MAP=false\n",
      "   KMP_TASKING=2\n",
      "   KMP_TASKLOOP_MIN_TASKS=0\n",
      "   KMP_TASK_STEALING_CONSTRAINT=1\n",
      "   KMP_TEAMS_PROC_BIND=spread\n",
      "   KMP_TEAMS_THREAD_LIMIT=20\n",
      "   KMP_TOPOLOGY_METHOD=all\n",
      "   KMP_TPAUSE=0\n",
      "   KMP_USER_LEVEL_MWAIT=false\n",
      "   KMP_USE_YIELD=1\n",
      "   KMP_VERSION=false\n",
      "   KMP_WARNINGS=false\n",
      "   LIBOMP_NUM_HIDDEN_HELPER_THREADS=8\n",
      "   LIBOMP_USE_HIDDEN_HELPER_TASK=true\n",
      "   OMP_AFFINITY_FORMAT='OMP: pid %P tid %i thread %n bound to OS proc set {%A}'\n",
      "   OMP_ALLOCATOR=omp_default_mem_alloc\n",
      "   OMP_CANCELLATION=false\n",
      "   OMP_DEFAULT_DEVICE=0\n",
      "   OMP_DISPLAY_AFFINITY=false\n",
      "   OMP_DISPLAY_ENV=false\n",
      "   OMP_DYNAMIC=false\n",
      "   OMP_MAX_ACTIVE_LEVELS=1\n",
      "   OMP_MAX_TASK_PRIORITY=0\n",
      "   OMP_NESTED: deprecated; max-active-levels-var=1\n",
      "   OMP_NUM_TEAMS=0\n",
      "   OMP_NUM_THREADS: value is not defined\n",
      "   OMP_PLACES: value is not defined\n",
      "   OMP_PROC_BIND='false'\n",
      "   OMP_SCHEDULE='static'\n",
      "   OMP_STACKSIZE=8M\n",
      "   OMP_TARGET_OFFLOAD=DEFAULT\n",
      "   OMP_TEAMS_THREAD_LIMIT=0\n",
      "   OMP_THREAD_LIMIT=2147483647\n",
      "   OMP_TOOL=enabled\n",
      "   OMP_TOOL_LIBRARIES: value is not defined\n",
      "   OMP_TOOL_VERBOSE_INIT: value is not defined\n",
      "   OMP_WAIT_POLICY=PASSIVE\n",
      "   KMP_AFFINITY='noverbose,warnings,respect,granularity=core,none'\n",
      "\n"
     ]
    }
   ],
   "source": [
    "import os\n",
    "os.environ['KMP_AFFINITY'] = 'noverbose'\n",
    "os.environ['KMP_WARNINGS'] = '0'\n",
    "os.environ['KMP_SETTINGS'] = '1'\n",
    "\n",
    "import Metashape\n",
    "\n",
    "# create conn to the database\n",
    "import src.base.connect_to_database as ctd\n",
    "conn = ctd.establish_connection()"
   ],
   "metadata": {
    "collapsed": false
   }
  },
  {
   "cell_type": "code",
   "execution_count": 2,
   "metadata": {
    "collapsed": true
   },
   "outputs": [],
   "source": [
    "PATH_PROJECT_FOLDERS = \"/data_1/ATM/data_1/sfm/agi_projects\"\n",
    "project_name = \"test2\""
   ]
  },
  {
   "cell_type": "code",
   "execution_count": 3,
   "outputs": [
    {
     "name": "stderr",
     "output_type": "stream",
     "text": [
      "License activated\n"
     ]
    }
   ],
   "source": [
    "import src.base.load_credentials as lc\n",
    "\n",
    "# get the license key\n",
    "licence_key = lc.load_credentials(\"agisoft\")['licence']\n",
    "\n",
    "# Activate the license\n",
    "Metashape.License().activate(licence_key)\n"
   ],
   "metadata": {
    "collapsed": false
   }
  },
  {
   "cell_type": "code",
   "execution_count": 4,
   "outputs": [],
   "source": [
    "image_ids = [\"CA196532V0010\", \"CA196532V0011\"]\n",
    "\n",
    "# get only the first 3 images\n",
    "#image_ids = image_ids[:3]\n",
    "\n",
    "path_image_folder = \"/data_1/ATM/data_1/aerial/TMA/downloaded\"\n",
    "\n",
    "# create lst with absolute paths\n",
    "images_paths = [os.path.join(path_image_folder, image + \".tif\") for image in image_ids]\n",
    "\n",
    "# create sql list string for image_ids\n",
    "image_ids_string = \"','\".join(image_ids)\n",
    "image_ids_string = \"('\" + image_ids_string + \"')\"\n",
    "\n",
    "# create a dict with the focal lengths\n",
    "sql_string = f\"SELECT image_id, focal_length FROM images_extracted WHERE image_id in {image_ids_string}\"\n",
    "focal_length_data = ctd.execute_sql(sql_string, conn)\n",
    "focal_lengths = focal_length_data.set_index('image_id')['focal_length'].to_dict()\n",
    "\n",
    "camera_positions = {}\n",
    "camera_accuracies = {}"
   ],
   "metadata": {
    "collapsed": false
   }
  },
  {
   "cell_type": "code",
   "execution_count": 5,
   "outputs": [
    {
     "data": {
      "text/plain": "'\\nimages = []\\nfor image_path in images_paths:\\n    image = li.load_image(image_path)\\n    images.append(image)\\n\\ndi.display_images(images)\\n'"
     },
     "execution_count": 5,
     "metadata": {},
     "output_type": "execute_result"
    }
   ],
   "source": [
    "import src.load.load_image as li\n",
    "import src.display.display_images as di\n",
    "\n",
    "\"\"\"\n",
    "images = []\n",
    "for image_path in images_paths:\n",
    "    image = li.load_image(image_path)\n",
    "    images.append(image)\n",
    "\n",
    "di.display_images(images)\n",
    "\"\"\""
   ],
   "metadata": {
    "collapsed": false
   }
  },
  {
   "cell_type": "code",
   "execution_count": 6,
   "outputs": [],
   "source": [
    "import os\n",
    "# create path to the project\n",
    "project_fld = os.path.join(PATH_PROJECT_FOLDERS, project_name)\n",
    "\n",
    "# remove the project folder if it exists\n",
    "if os.path.exists(project_fld):\n",
    "    import shutil\n",
    "    shutil.rmtree(project_fld)\n",
    "\n",
    "# create the project folder\n",
    "os.makedirs(project_fld)\n",
    "\n",
    "\n",
    "\n",
    "project_file_path = project_fld + \"/\" +  project_name + \".psx\"\n",
    "\n",
    "# create a new metashape project\n",
    "doc = Metashape.Document()\n",
    "\n",
    "# save the project\n",
    "#doc.save(project_file_path)"
   ],
   "metadata": {
    "collapsed": false
   }
  },
  {
   "cell_type": "code",
   "execution_count": 7,
   "outputs": [
    {
     "name": "stdout",
     "output_type": "stream",
     "text": [
      "AddPhotos\n"
     ]
    }
   ],
   "source": [
    "# add a chunk\n",
    "chunk = doc.addChunk()\n",
    "\n",
    "# set the coordinate system of the chunk\n",
    "chunk.crs = Metashape.CoordinateSystem(\"EPSG::3031\")\n",
    "\n",
    "# add the images to the chunk\n",
    "chunk.addPhotos(images_paths)"
   ],
   "metadata": {
    "collapsed": false
   }
  },
  {
   "cell_type": "code",
   "execution_count": 8,
   "outputs": [],
   "source": [
    "# Set some settings for each camera\n",
    "for camera in chunk.cameras:\n",
    "\n",
    "    # set to film camera\n",
    "    camera.sensor.film_camera = True\n",
    "\n",
    "    # set focal length if given\n",
    "    if camera.label in focal_lengths:\n",
    "        focal_length = focal_lengths[camera.label]\n",
    "        camera.sensor.focal_length = focal_length\n",
    "\n",
    "    # set camera position if given\n",
    "    if camera.label in camera_positions:\n",
    "        x, y, z = camera_positions[camera.label]\n",
    "        camera.reference.location = Metashape.Vector([x, y, z])\n",
    "\n",
    "        # set the accuracy of the position if given\n",
    "        if camera.label in camera_accuracies:\n",
    "            accuracy = camera_accuracies[camera.label]\n",
    "            camera.reference.accuracy = Metashape.Vector([accuracy[0], accuracy[1], accuracy[2]])"
   ],
   "metadata": {
    "collapsed": false
   }
  },
  {
   "cell_type": "code",
   "execution_count": 9,
   "outputs": [
    {
     "name": "stdout",
     "output_type": "stream",
     "text": [
      "DetectFiducials: generate_masks = on, mask_dark_pixels = on, generic_detector = on\n",
      "Processing camera CA196532V0010\n",
      "Detecting frame edges\n",
      "Found good frame.\n",
      "Detected frame edges in 3.84895 seconds\n",
      "Detecting background\n",
      "Detected in 2.02001 seconds\n",
      "Detecting fiducials \n",
      "Detected 4 fiducials in 0.896035 seconds\n",
      "Processing camera CA196532V0011\n",
      "Detecting frame edges\n",
      "Found good frame.\n",
      "Detected frame edges in 2.09626 seconds\n",
      "Detecting background\n",
      "Detected in 2.03667 seconds\n",
      "Detecting fiducials \n",
      "Detected 4 fiducials in 0.807657 seconds\n",
      "Found the following fiducials in the images: \n",
      "__auto_0\n",
      "__auto_1\n",
      "__auto_2\n",
      "__auto_3\n",
      "__auto_4\n",
      "__auto_5\n",
      "__auto_6\n",
      "__auto_7\n"
     ]
    }
   ],
   "source": [
    "chunk.detectFiducials(generate_masks=True, cameras=chunk.cameras)\n",
    "\n",
    "print(\"Found the following fiducials in the images: \")\n",
    "for marker in chunk.markers:\n",
    "    print(marker.label)"
   ],
   "metadata": {
    "collapsed": false
   }
  },
  {
   "cell_type": "code",
   "execution_count": null,
   "outputs": [],
   "source": [
    "# save masks\n",
    "\n",
    "# define the mask folder and create it if it does not exist\n",
    "mask_folder = os.path.join(project_fld, \"masks\")\n",
    "if not os.path.exists(mask_folder):\n",
    "    os.makedirs(mask_folder)\n",
    "\n",
    "# iterate over the cameras\n",
    "for camera in chunk.cameras:\n",
    "\n",
    "    # save the mask\n",
    "    mask_path = os.path.join(mask_folder, f\"{camera.label}_mask.tif\")\n",
    "    camera.mask.image().save(mask_path)"
   ],
   "metadata": {
    "collapsed": false
   }
  },
  {
   "cell_type": "code",
   "execution_count": null,
   "outputs": [],
   "source": [
    "import src.sfm_agi.snippets.create_text_mask as ctm\n",
    "import numpy as np\n",
    "\n",
    "for camera in chunk.cameras:\n",
    "    if camera.enabled and camera.mask:\n",
    "        mask = camera.mask.image()\n",
    "\n",
    "        m_width = mask.width\n",
    "        m_height = mask.height\n",
    "\n",
    "        # convert to np array\n",
    "        mask_bytes = mask.tostring()\n",
    "        existing_mask = np.frombuffer(mask_bytes, dtype=np.uint8).reshape((m_height, m_width))\n",
    "\n",
    "        # get the image id\n",
    "        image_id = camera.label.split(\"_\")[0]\n",
    "\n",
    "        # create a text mask\n",
    "        import numpy as np\n",
    "        text_mask = ctm.create_text_mask(mask.width, mask.height, image_id)\n",
    "        text_mask = text_mask.astype(np.uint8)\n",
    "\n",
    "        new_mask = np.minimum(existing_mask, text_mask)\n",
    "        new_mask = Metashape.Image.fromstring(new_mask, new_mask.shape[1], new_mask.shape[0], ' ', datatype='U8')\n",
    "        mask_obj = Metashape.Mask()\n",
    "        mask_obj.setImage(new_mask)\n",
    "        #mask2.setImage(metashape_image)\n",
    "\n",
    "        camera.mask = mask_obj\n"
   ],
   "metadata": {
    "collapsed": false
   }
  },
  {
   "cell_type": "code",
   "execution_count": null,
   "outputs": [],
   "source": [
    "# define the mask folder and create it if it does not exist\n",
    "mask_folder = os.path.join(project_fld, \"masks\")\n",
    "if not os.path.exists(mask_folder):\n",
    "    os.makedirs(mask_folder)\n",
    "\n",
    "# iterate over the cameras\n",
    "for camera in chunk.cameras:\n",
    "\n",
    "    # save the mask\n",
    "    mask_path = os.path.join(mask_folder, f\"{camera.label}_mask_adapted.tif\")\n",
    "    camera.mask.image().save(mask_path)\n"
   ],
   "metadata": {
    "collapsed": false
   }
  },
  {
   "cell_type": "code",
   "execution_count": null,
   "outputs": [],
   "source": [
    "# match photos\n",
    "chunk.matchPhotos(generic_preselection=True, reference_preselection=False, filter_mask=True)"
   ],
   "metadata": {
    "collapsed": false
   }
  },
  {
   "cell_type": "code",
   "execution_count": null,
   "outputs": [],
   "source": [
    "chunk.alignCameras()"
   ],
   "metadata": {
    "collapsed": false
   }
  },
  {
   "cell_type": "code",
   "execution_count": null,
   "outputs": [],
   "source": [
    "def _save_tps(chunk):\n",
    "\n",
    "\n",
    "    import numpy as np\n",
    "    import src.display.display_images as di\n",
    "    import src.load.load_image as li\n",
    "\n",
    "    # Create a dictionary to map camera labels to file paths\n",
    "    camera_file_paths = {camera.label: camera.photo.path for camera in chunk.cameras}\n",
    "\n",
    "    # Initialize a list to store matches\n",
    "    matches = []\n",
    "\n",
    "    # Iterate through the camera pairs\n",
    "    for i, camera1 in enumerate(chunk.cameras):\n",
    "        for j, camera2 in enumerate(chunk.cameras):\n",
    "            if i < j:  # Ensure unique pairs\n",
    "                matches.append(chunk.point_cloud.get_matches(camera1, camera2))\n",
    "\n",
    "    matches_np = np.array([match.points for match_pair in matches for match in match_pair])\n",
    "\n",
    "    print(matches_np)\n",
    "\n",
    "    for (camera1_label, camera2_label), points in tie_points_dict.items():\n",
    "        image1_path = camera_file_paths[camera1_label]\n",
    "        image2_path = camera_file_paths[camera2_label]\n",
    "        image1 = li.load_image(image1_path)\n",
    "        image2 = li.load_image(image2_path)\n",
    "        print(f\"Tie points between {camera1_label} and {camera2_label}:\")\n",
    "        di.display_images([image1, image2], tie_points=points)\n",
    "\n",
    "_save_tps(chunk)"
   ],
   "metadata": {
    "collapsed": false
   }
  },
  {
   "cell_type": "code",
   "execution_count": null,
   "outputs": [],
   "source": [
    "# match photos\n",
    "chunk.matchPhotos(generic_preselection=True, reference_preselection=False)\n",
    "\n",
    "_save_tps(chunk)\n"
   ],
   "metadata": {
    "collapsed": false
   }
  }
 ],
 "metadata": {
  "kernelspec": {
   "display_name": "Python 3",
   "language": "python",
   "name": "python3"
  },
  "language_info": {
   "codemirror_mode": {
    "name": "ipython",
    "version": 2
   },
   "file_extension": ".py",
   "mimetype": "text/x-python",
   "name": "python",
   "nbconvert_exporter": "python",
   "pygments_lexer": "ipython2",
   "version": "2.7.6"
  }
 },
 "nbformat": 4,
 "nbformat_minor": 0
}
