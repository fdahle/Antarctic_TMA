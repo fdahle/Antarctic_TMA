{
 "cells": [
  {
   "cell_type": "code",
   "execution_count": 1,
   "id": "initial_id",
   "metadata": {
    "collapsed": true
   },
   "outputs": [],
   "source": [
    "%load_ext autoreload\n",
    "%autoreload 2"
   ]
  },
  {
   "cell_type": "code",
   "execution_count": 2,
   "outputs": [],
   "source": [
    "project_name = \"EGU2\"\n",
    "project_folder = \"/data_1/ATM/data_1/sfm/projects\"\n",
    "\n",
    "image_ids=[\"CA180132V0094\", \"CA180132V0095\", \"CA180132V0096\", \"CA180132V0097\",\n",
    "           \"CA180132V0098\", \"CA180132V0099\", \"CA180132V0100\", \"CA180132V0101\"]\n",
    "\n",
    "#image_ids = [\"CA214232V0160\", \"CA214232V0161\", \"CA214232V0162\", \"CA214232V0163\", \"CA214232V0164\", \"CA214232V0165\", \"CA214232V0166\"]\n",
    "\n",
    "#image_ids = [\"CA216432V0214\", \"CA216432V0215\", \"CA216432V0216\", \"CA216432V0217\", \"CA216432V0218\", \"CA216432V0219\"]\n",
    "#image_ids = [\"CA184632V0341\",\"CA184632V0342\", \"CA184632V0343\", \"CA184632V0344\"]\n",
    "#image_ids = [\"CA214732V0027\", \"CA214732V0028\", \"CA214732V0029\", \"CA214732V0030\", #\"CA214732V0031\", \"CA214732V0032\", \"CA214732V0033\", \"CA214732V0034\",\"CA214732V0035\"]"
   ],
   "metadata": {
    "collapsed": false
   }
  },
  {
   "cell_type": "code",
   "execution_count": 3,
   "outputs": [
    {
     "name": "stdout",
     "output_type": "stream",
     "text": [
      "Resume: True ; Overwrite: False\n",
      "Resuming project at /data_1/ATM/data_1/sfm/projects/EGU2\n",
      "Copy images - finished\n",
      "Copy masks - finished\n",
      "Copy XML files - finished\n"
     ]
    }
   ],
   "source": [
    "import src.sfm.SFMProject as sfmp\n",
    "\n",
    "sfmp = sfmp.SFMProject(project_name, project_folder, micmac_path=\"/home/fdahle/micmac/bin/mm3d\",\n",
    "                       resume=True, debug=True)"
   ],
   "metadata": {
    "collapsed": false
   }
  },
  {
   "cell_type": "code",
   "execution_count": 4,
   "outputs": [
    {
     "name": "stdout",
     "output_type": "stream",
     "text": [
      "Copy transform filesMissing transform files for the following images:  ['CA180132V0098']\n",
      "Copy transform files - finished\n"
     ]
    }
   ],
   "source": [
    "sfmp.prepare_files(image_ids,\n",
    "                copy_masks=True,\n",
    "                copy_resampled=False,\n",
    "                copy_resampled_masks=False,\n",
    "                copy_xml=True,\n",
    "                copy_transform=True,\n",
    "                ignore_missing=True)\n",
    "sfmp.set_camera(\"1983\")"
   ],
   "metadata": {
    "collapsed": false
   }
  },
  {
   "cell_type": "code",
   "execution_count": 86,
   "outputs": [
    {
     "name": "stdout",
     "output_type": "stream",
     "text": [
      "/home/fdahle/micmac/bin/mm3d Tarama OIS.*tif Final\n",
      "********\n",
      "\"OIS.*tif\": 8 matches.\n",
      "make: 'all' is up to date.\n",
      "==============================cAppliMICMAC::VerifEtapes \n",
      "aSzClip : [6359,69112] 8\n",
      "TA : OIS-Reech_CA180132V0094.tif\n",
      "TA : OIS-Reech_CA180132V0095.tif\n",
      "TA : OIS-Reech_CA180132V0096.tif\n",
      "TA : OIS-Reech_CA180132V0097.tif\n",
      "TA : OIS-Reech_CA180132V0098.tif\n",
      "TA : OIS-Reech_CA180132V0099.tif\n",
      "TA : OIS-Reech_CA180132V0100.tif\n",
      "TA : OIS-Reech_CA180132V0101.tif\n",
      "cp \"/home/fdahle/micmac/include/XML_MicMac/MM-TA.xml\" \"./TA/param_LeChantier_Ori.xml\"\n",
      "Com = /home/fdahle/micmac/bin/mm3d MICMAC /home/fdahle/micmac/include/XML_MicMac/MM-TA.xml  WorkDir=./  +PatternAllIm=\"OIS.*tif\"  +Zoom=8 +Aero=Final +DirMEC=TA\n",
      "Tarama finished successfully.\n"
     ]
    },
    {
     "ename": "TypeError",
     "evalue": "Tarama.extract_stats() takes 2 positional arguments but 3 were given",
     "output_type": "error",
     "traceback": [
      "\u001B[0;31m---------------------------------------------------------------------------\u001B[0m",
      "\u001B[0;31mTypeError\u001B[0m                                 Traceback (most recent call last)",
      "Cell \u001B[0;32mIn[86], line 9\u001B[0m\n\u001B[1;32m      5\u001B[0m     micmac_args \u001B[38;5;241m=\u001B[39m json\u001B[38;5;241m.\u001B[39mload(file)\n\u001B[1;32m      7\u001B[0m print_all_output \u001B[38;5;241m=\u001B[39m \u001B[38;5;28;01mTrue\u001B[39;00m\n\u001B[0;32m----> 9\u001B[0m \u001B[43msfmp\u001B[49m\u001B[38;5;241;43m.\u001B[39;49m\u001B[43mstart\u001B[49m\u001B[43m(\u001B[49m\u001B[38;5;124;43m\"\u001B[39;49m\u001B[38;5;124;43mmanual\u001B[39;49m\u001B[38;5;124;43m\"\u001B[39;49m\u001B[43m,\u001B[49m\u001B[43m \u001B[49m\u001B[43m[\u001B[49m\u001B[38;5;124;43m\"\u001B[39;49m\u001B[38;5;124;43mTarama\u001B[39;49m\u001B[38;5;124;43m\"\u001B[39;49m\u001B[43m]\u001B[49m\u001B[43m,\u001B[49m\n\u001B[1;32m     10\u001B[0m \u001B[43m           \u001B[49m\u001B[43mmicmac_args\u001B[49m\u001B[43m,\u001B[49m\n\u001B[1;32m     11\u001B[0m \u001B[43m           \u001B[49m\u001B[43mprint_all_output\u001B[49m\u001B[38;5;241;43m=\u001B[39;49m\u001B[43mprint_all_output\u001B[49m\u001B[43m,\u001B[49m\n\u001B[1;32m     12\u001B[0m \u001B[43m           \u001B[49m\u001B[43msave_stats\u001B[49m\u001B[38;5;241;43m=\u001B[39;49m\u001B[38;5;28;43;01mTrue\u001B[39;49;00m\u001B[43m,\u001B[49m\u001B[43m \u001B[49m\u001B[43msave_raw\u001B[49m\u001B[38;5;241;43m=\u001B[39;49m\u001B[38;5;28;43;01mTrue\u001B[39;49;00m\u001B[43m)\u001B[49m\n",
      "File \u001B[0;32m~/Documents/GitHub/Antarctic_TMA/src/sfm/SFMProject.py:541\u001B[0m, in \u001B[0;36mSFMProject.start\u001B[0;34m(self, mode, commands, micmac_args, print_all_output, save_stats, save_raw)\u001B[0m\n\u001B[1;32m    538\u001B[0m     \u001B[38;5;28;01mraise\u001B[39;00m \u001B[38;5;167;01mException\u001B[39;00m(exc_string)\n\u001B[1;32m    540\u001B[0m \u001B[38;5;66;03m# execute the command\u001B[39;00m\n\u001B[0;32m--> 541\u001B[0m \u001B[38;5;28;43mself\u001B[39;49m\u001B[38;5;241;43m.\u001B[39;49m\u001B[43m_execute_command\u001B[49m\u001B[43m(\u001B[49m\u001B[43mcommand\u001B[49m\u001B[43m,\u001B[49m\u001B[43m \u001B[49m\u001B[43mcommand_name\u001B[49m\u001B[43m,\u001B[49m\n\u001B[1;32m    542\u001B[0m \u001B[43m                      \u001B[49m\u001B[43mcmd_args\u001B[49m\u001B[43m,\u001B[49m\u001B[43m \u001B[49m\u001B[43mprint_all_output\u001B[49m\u001B[43m,\u001B[49m\u001B[43m \u001B[49m\u001B[43msave_stats\u001B[49m\u001B[43m,\u001B[49m\u001B[43m \u001B[49m\u001B[43msave_raw\u001B[49m\u001B[43m)\u001B[49m\n",
      "File \u001B[0;32m~/Documents/GitHub/Antarctic_TMA/src/sfm/SFMProject.py:614\u001B[0m, in \u001B[0;36mSFMProject._execute_command\u001B[0;34m(self, command, command_name, mm_args, print_all_output, save_stats, save_raw)\u001B[0m\n\u001B[1;32m    612\u001B[0m     mm_command\u001B[38;5;241m.\u001B[39mexecute_custom_cmd()\n\u001B[1;32m    613\u001B[0m \u001B[38;5;28;01melse\u001B[39;00m:\n\u001B[0;32m--> 614\u001B[0m     \u001B[43mmm_command\u001B[49m\u001B[38;5;241;43m.\u001B[39;49m\u001B[43mexecute_shell_cmd\u001B[49m\u001B[43m(\u001B[49m\u001B[38;5;28;43mself\u001B[39;49m\u001B[38;5;241;43m.\u001B[39;49m\u001B[43mmicmac_path\u001B[49m\u001B[43m)\u001B[49m\n",
      "File \u001B[0;32m~/Documents/GitHub/Antarctic_TMA/src/sfm/mm_commands/_base_command.py:119\u001B[0m, in \u001B[0;36mBaseCommand.execute_shell_cmd\u001B[0;34m(self, mm_path)\u001B[0m\n\u001B[1;32m    116\u001B[0m     \u001B[38;5;28mprint\u001B[39m(\u001B[38;5;124mf\u001B[39m\u001B[38;5;124m\"\u001B[39m\u001B[38;5;132;01m{\u001B[39;00mkey\u001B[38;5;132;01m}\u001B[39;00m\u001B[38;5;124m finished successfully.\u001B[39m\u001B[38;5;124m\"\u001B[39m)\n\u001B[1;32m    118\u001B[0m \u001B[38;5;28;01mif\u001B[39;00m \u001B[38;5;28mself\u001B[39m\u001B[38;5;241m.\u001B[39msave_stats:\n\u001B[0;32m--> 119\u001B[0m     \u001B[38;5;28;43mself\u001B[39;49m\u001B[38;5;241;43m.\u001B[39;49m\u001B[43mextract_stats\u001B[49m\u001B[43m(\u001B[49m\u001B[38;5;28;43mself\u001B[39;49m\u001B[38;5;241;43m.\u001B[39;49m\u001B[43mcommand_name\u001B[49m\u001B[43m,\u001B[49m\u001B[43m \u001B[49m\u001B[43mraw_output\u001B[49m\u001B[43m)\u001B[49m\n\u001B[1;32m    121\u001B[0m \u001B[38;5;28;01mif\u001B[39;00m \u001B[38;5;28mself\u001B[39m\u001B[38;5;241m.\u001B[39mprint_all_output:\n\u001B[1;32m    122\u001B[0m     \u001B[38;5;28mprint\u001B[39m(\u001B[38;5;124m\"\u001B[39m\u001B[38;5;124m********\u001B[39m\u001B[38;5;124m\"\u001B[39m)\n",
      "\u001B[0;31mTypeError\u001B[0m: Tarama.extract_stats() takes 2 positional arguments but 3 were given"
     ]
    }
   ],
   "source": [
    "import json\n",
    "\n",
    "json_path = \"/home/fdahle/Documents/GitHub/Antarctic_TMA/tests/sfm/project_args.json\"\n",
    "with open(json_path, 'r') as file:\n",
    "    micmac_args = json.load(file)\n",
    "\n",
    "print_all_output = True\n",
    "\n",
    "sfmp.start(\"manual\", [\"Tarama\"],\n",
    "           micmac_args,\n",
    "           print_all_output=print_all_output,\n",
    "           save_stats=True, save_raw=True)"
   ],
   "metadata": {
    "collapsed": false
   }
  },
  {
   "cell_type": "markdown",
   "source": [],
   "metadata": {
    "collapsed": false
   }
  },
  {
   "cell_type": "code",
   "execution_count": null,
   "outputs": [],
   "source": [],
   "metadata": {
    "collapsed": false
   }
  }
 ],
 "metadata": {
  "kernelspec": {
   "display_name": "Python 3",
   "language": "python",
   "name": "python3"
  },
  "language_info": {
   "codemirror_mode": {
    "name": "ipython",
    "version": 2
   },
   "file_extension": ".py",
   "mimetype": "text/x-python",
   "name": "python",
   "nbconvert_exporter": "python",
   "pygments_lexer": "ipython2",
   "version": "2.7.6"
  }
 },
 "nbformat": 4,
 "nbformat_minor": 5
}
