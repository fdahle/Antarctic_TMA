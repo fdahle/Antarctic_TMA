{
 "cells": [
  {
   "cell_type": "code",
   "execution_count": 1,
   "metadata": {
    "collapsed": true
   },
   "outputs": [],
   "source": [
    "path_project = \"/data_1/ATM/data_1/sfm/projects/EGU2\""
   ]
  },
  {
   "cell_type": "code",
   "execution_count": 4,
   "outputs": [],
   "source": [
    "path_images_resampled = path_project\n",
    "path_images_orig = path_project + \"/images_orig\"\n",
    "\n",
    "image_id=\"CA180132V0094\""
   ],
   "metadata": {
    "collapsed": false
   }
  },
  {
   "cell_type": "code",
   "execution_count": 5,
   "outputs": [],
   "source": [
    "import src.load.load_image as li\n",
    "path_img_resampled = path_images_resampled + \"/OIS-Reech_\" + image_id + \".tif\"\n",
    "path_img_orig = path_images_orig + \"/\" + image_id + \".tif\"\n",
    "\n",
    "img_resampled = li.load_image(path_img_resampled)\n",
    "img_orig = li.load_image(path_img_orig)"
   ],
   "metadata": {
    "collapsed": false
   }
  },
  {
   "cell_type": "code",
   "execution_count": 6,
   "outputs": [],
   "source": [
    "import src.display.display_images as di\n",
    "di.display_images([img_resampled, img_orig])"
   ],
   "metadata": {
    "collapsed": false
   }
  },
  {
   "cell_type": "code",
   "execution_count": 10,
   "outputs": [
    {
     "name": "stdout",
     "output_type": "stream",
     "text": [
      "[[False False False ... False False False]\n",
      " [False False False ... False False False]\n",
      " [False False  True ... False False False]\n",
      " ...\n",
      " [ True False  True ... False  True  True]\n",
      " [False  True  True ...  True False False]\n",
      " [False  True False ... False  True False]]\n"
     ]
    }
   ],
   "source": [
    "import cv2\n",
    "import src.sfm.snippets.calc_resample_matrix as crm\n",
    "\n",
    "# get the transformation matrix for this image\n",
    "trans_mat = crm.calc_resample_matrix(path_project, image_id)\n",
    "\n",
    "height, width = img_orig.shape[:2]\n",
    "\n",
    "# apply the transformation matrix to the original image\n",
    "img_transformed = cv2.warpAffine(img_orig, trans_mat, (width, height))\n",
    "\n",
    "# cut down image to the size of the resampled image\n",
    "img_transformed = img_transformed[0:img_resampled.shape[0], 0:img_resampled.shape[1]]\n",
    "\n",
    "#di.display_images([img_resampled, img_transformed])\n"
   ],
   "metadata": {
    "collapsed": false
   }
  },
  {
   "cell_type": "code",
   "execution_count": null,
   "outputs": [],
   "source": [],
   "metadata": {
    "collapsed": false
   }
  }
 ],
 "metadata": {
  "kernelspec": {
   "display_name": "Python 3",
   "language": "python",
   "name": "python3"
  },
  "language_info": {
   "codemirror_mode": {
    "name": "ipython",
    "version": 2
   },
   "file_extension": ".py",
   "mimetype": "text/x-python",
   "name": "python",
   "nbconvert_exporter": "python",
   "pygments_lexer": "ipython2",
   "version": "2.7.6"
  }
 },
 "nbformat": 4,
 "nbformat_minor": 0
}
