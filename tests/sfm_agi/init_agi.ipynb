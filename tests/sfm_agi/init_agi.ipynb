{
 "cells": [
  {
   "cell_type": "code",
   "execution_count": null,
   "metadata": {
    "collapsed": true
   },
   "outputs": [],
   "source": [
    "%load_ext autoreload\n",
    "%autoreload 2"
   ]
  },
  {
   "cell_type": "code",
   "execution_count": null,
   "outputs": [],
   "source": [
    "project_name = \"test\""
   ],
   "metadata": {
    "collapsed": false
   }
  },
  {
   "cell_type": "code",
   "execution_count": null,
   "outputs": [],
   "source": [
    "import src.sfm_agi.init_agi as ia\n",
    "\n",
    "image_ids = [\"CA196532V0010\", \"CA196532V0011\", \"CA196532V0012\",\n",
    "             \"CA196532V0013\", \"CA196532V0014\", \"CA196532V0015\",\n",
    "             \"CA196532V0016\", \"CA196532V0017\", \"CA196532V0018\",\n",
    "             \"CA196532V0019\", \"CA196532V0020\"]\n",
    "\n",
    "# get only the first 3 images\n",
    "image_ids = image_ids[:3]\n",
    "\n",
    "path_image_folder = \"/data_1/ATM/data_1/aerial/TMA/downloaded\"\n",
    "\n",
    "# create lst with absolute paths\n",
    "images = [os.path.join(path_image_folder, image + \".tif\") for image in image_ids]\n",
    "\n",
    "# create sql list string for image_ids\n",
    "image_ids_string = \"','\".join(image_ids)\n",
    "image_ids_string = \"('\" + image_ids_string + \"')\"\n",
    "\n",
    "# create conn to the database\n",
    "import src.base.connect_to_database as ctd\n",
    "\n",
    "conn = ctd.establish_connection()\n",
    "\n",
    "# create a dict with the focal lengths\n",
    "sql_string = f\"SELECT image_id, focal_length FROM images_extracted WHERE image_id in {image_ids_string}\"\n",
    "focal_length_data = ctd.execute_sql(sql_string, conn)\n",
    "focal_length_dict = focal_length_data.set_index('image_id')['focal_length'].to_dict()\n",
    "\n",
    "ia.init_agi(project_name, images, focal_lengths=focal_length_dict)"
   ],
   "metadata": {
    "collapsed": false
   }
  }
 ],
 "metadata": {
  "kernelspec": {
   "display_name": "Python 3",
   "language": "python",
   "name": "python3"
  },
  "language_info": {
   "codemirror_mode": {
    "name": "ipython",
    "version": 2
   },
   "file_extension": ".py",
   "mimetype": "text/x-python",
   "name": "python",
   "nbconvert_exporter": "python",
   "pygments_lexer": "ipython2",
   "version": "2.7.6"
  }
 },
 "nbformat": 4,
 "nbformat_minor": 0
}
