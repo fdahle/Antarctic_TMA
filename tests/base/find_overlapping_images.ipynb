{
 "cells": [
  {
   "cell_type": "code",
   "metadata": {
    "collapsed": true,
    "jupyter": {
     "is_executing": true
    }
   },
   "source": [
    "%load_ext autoreload\n",
    "%autoreload 2"
   ],
   "outputs": [],
   "execution_count": null
  },
  {
   "cell_type": "code",
   "execution_count": 2,
   "outputs": [],
   "source": [
    "image_ids = [\"CA214232V0154\", \"CA214232V0155\", \"CA214232V0156\", \"CA214232V0157\", \"CA214232V0158\", \"CA214232V0159\", \"CA214232V0160\", \"CA214232V0161\", \"CA214232V0162\", \"CA214232V0163\", \"CA214232V0164\", \"CA214232V0165\", \"CA214232V0166\", \"CA214232V0167\", \"CA214232V0168\"]\n",
    "\n",
    "path_shp_file = \"/data/ATM/data_1/georef/sat.shp\""
   ],
   "metadata": {
    "collapsed": false
   }
  },
  {
   "cell_type": "code",
   "execution_count": 14,
   "outputs": [
    {
     "name": "stderr",
     "output_type": "stream",
     "text": [
      "/home/fdahle/miniconda3/envs/conda_antarctic/lib/python3.11/site-packages/geopandas/geodataframe.py:1443: SettingWithCopyWarning: \n",
      "A value is trying to be set on a copy of a slice from a DataFrame.\n",
      "Try using .loc[row_indexer,col_indexer] = value instead\n",
      "\n",
      "See the caveats in the documentation: https://pandas.pydata.org/pandas-docs/stable/user_guide/indexing.html#returning-a-view-versus-a-copy\n",
      "  super().__setitem__(key, value)\n"
     ]
    }
   ],
   "source": [
    "# load the footprints of the images\n",
    "import src.load.load_shape_data as lsd\n",
    "shp_data = lsd.load_shape_data(path_shp_file)\n",
    "shp_data_filtered = shp_data.loc[shp_data[\"image_id\"].isin(image_ids)]\n",
    "\n",
    "# Create a dictionary from image_ids for ordering\n",
    "order_dict = {image_id: index for index, image_id in enumerate(image_ids)}\n",
    "\n",
    "# Add an 'order' column to shp_data_filtered based on image_ids order\n",
    "shp_data_filtered['order'] = shp_data_filtered['image_id'].map(order_dict)\n",
    "\n",
    "# Sort shp_data_filtered by this 'order' column\n",
    "shp_data_filtered_sorted = shp_data_filtered.sort_values('order')\n",
    "\n",
    "# Now extract geometries, which will be in the same order as your image_ids list\n",
    "geoms_ordered = shp_data_filtered_sorted['geometry'].tolist()"
   ],
   "metadata": {
    "collapsed": false
   }
  },
  {
   "cell_type": "code",
   "execution_count": 25,
   "outputs": [
    {
     "name": "stdout",
     "output_type": "stream",
     "text": [
      "ids\n",
      "footprints\n",
      "CA214232V0155 ['CA214232V0156', 'CA214232V0157', 'CA214232V0158']\n"
     ]
    }
   ],
   "source": [
    "import src.base.find_overlapping_images as foi\n",
    "overlapping_dict = foi.find_overlapping_images(image_ids, geoms_ordered,\n",
    "                                               max_id_range=2, working_modes=[\"ids\",\"footprints\"], important_id=\"CA214232V0155\")\n",
    "\n",
    "for key, value in overlapping_dict.items():\n",
    "    print(key, value)\n"
   ],
   "metadata": {
    "collapsed": false
   }
  },
  {
   "cell_type": "code",
   "execution_count": null,
   "outputs": [],
   "source": [],
   "metadata": {
    "collapsed": false
   }
  }
 ],
 "metadata": {
  "kernelspec": {
   "display_name": "Python 3",
   "language": "python",
   "name": "python3"
  },
  "language_info": {
   "codemirror_mode": {
    "name": "ipython",
    "version": 2
   },
   "file_extension": ".py",
   "mimetype": "text/x-python",
   "name": "python",
   "nbconvert_exporter": "python",
   "pygments_lexer": "ipython2",
   "version": "2.7.6"
  }
 },
 "nbformat": 4,
 "nbformat_minor": 0
}
