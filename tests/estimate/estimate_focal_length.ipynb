{
 "cells": [
  {
   "cell_type": "code",
   "execution_count": 17,
   "metadata": {
    "collapsed": true
   },
   "outputs": [
    {
     "name": "stdout",
     "output_type": "stream",
     "text": [
      "The autoreload extension is already loaded. To reload it, use:\n",
      "  %reload_ext autoreload\n"
     ]
    }
   ],
   "source": [
    "%load_ext autoreload\n",
    "%autoreload 2"
   ]
  },
  {
   "cell_type": "code",
   "execution_count": 18,
   "outputs": [],
   "source": [
    "mode = \"random\"  # can 'random' or 'id'\n",
    "image_id = None"
   ],
   "metadata": {
    "collapsed": false
   }
  },
  {
   "cell_type": "code",
   "execution_count": 31,
   "outputs": [
    {
     "name": "stdout",
     "output_type": "stream",
     "text": [
      "Estimate focal length for CA195231L0118\n",
      "std 5.754957536315881e-14 0.005\n",
      "153.823\n"
     ]
    }
   ],
   "source": [
    "import src.base.connect_to_database as ctd\n",
    "import src.estimate.estimate_focal_length as efl\n",
    "\n",
    "\n",
    "# create a connection to the database\n",
    "conn = ctd.establish_connection()\n",
    "\n",
    "# if mode is 'random', get a random image id\n",
    "if mode == \"random\":\n",
    "    sql_string = \"SELECT image_id FROM images_extracted WHERE focal_length is NULL \" \\\n",
    "                 \"ORDER BY RANDOM() LIMIT 1\"\n",
    "    image_id = ctd.execute_sql(sql_string, conn).iloc[0]['image_id']\n",
    "\n",
    "print(f\"Estimate focal length for {image_id}\")\n",
    "\n",
    "# estimate the focal length\n",
    "focal_length = efl.estimate_focal_length(image_id, conn)\n",
    "\n",
    "print(focal_length)\n"
   ],
   "metadata": {
    "collapsed": false
   }
  },
  {
   "cell_type": "code",
   "execution_count": null,
   "outputs": [],
   "source": [],
   "metadata": {
    "collapsed": false
   }
  }
 ],
 "metadata": {
  "kernelspec": {
   "display_name": "Python 3",
   "language": "python",
   "name": "python3"
  },
  "language_info": {
   "codemirror_mode": {
    "name": "ipython",
    "version": 2
   },
   "file_extension": ".py",
   "mimetype": "text/x-python",
   "name": "python",
   "nbconvert_exporter": "python",
   "pygments_lexer": "ipython2",
   "version": "2.7.6"
  }
 },
 "nbformat": 4,
 "nbformat_minor": 0
}
