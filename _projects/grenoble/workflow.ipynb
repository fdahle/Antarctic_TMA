{
 "cells": [
  {
   "metadata": {},
   "cell_type": "markdown",
   "source": "load the mask",
   "id": "4bada1558a788e4e"
  },
  {
   "metadata": {
    "ExecuteTime": {
     "end_time": "2025-08-05T21:42:00.407916Z",
     "start_time": "2025-08-05T21:42:00.402271Z"
    }
   },
   "cell_type": "code",
   "source": [
    "# define path to project\n",
    "input_fld = \"/data/ATM/grenoble_project/data/iceland/input/\"\n",
    "work_fld = \"/data/ATM/grenoble_project/data/iceland/intermediate/\"\n",
    "\n",
    "# we use the preprocessed aerial images\n",
    "input_fld = input_fld + \"aerial_images/preprocessed_images/\"\n"
   ],
   "id": "d10d0b74cdbb0bc1",
   "outputs": [],
   "execution_count": 2
  },
  {
   "metadata": {
    "collapsed": true,
    "ExecuteTime": {
     "end_time": "2025-08-05T21:42:06.058853Z",
     "start_time": "2025-08-05T21:42:02.537354Z"
    }
   },
   "cell_type": "code",
   "source": [
    "import src.load.load_image as li\n",
    "import src.display.display_images as di\n",
    "\n",
    "# load the mask\n",
    "mask = li.load_image(input_fld + \"image_mask.tif\")\n",
    "\n",
    "di.display_images(mask)\n"
   ],
   "id": "initial_id",
   "outputs": [],
   "execution_count": 3
  },
  {
   "metadata": {
    "ExecuteTime": {
     "end_time": "2025-08-05T21:42:09.379189Z",
     "start_time": "2025-08-05T21:42:09.374522Z"
    }
   },
   "cell_type": "code",
   "source": [
    "# get all tif tiles in the input folder starting with \"F_\"\n",
    "import glob\n",
    "\n",
    "# get list of image paths and image names\n",
    "lst_image_pth = glob.glob(input_fld + \"F-*.tif\")\n",
    "lst_image_pth.sort()\n",
    "lst_image_nms = [p.split(\"/\")[-1] for p in lst_image_pth]\n",
    "\n",
    "print(lst_image_nms)"
   ],
   "id": "16cde924c4e57561",
   "outputs": [
    {
     "name": "stdout",
     "output_type": "stream",
     "text": [
      "['F-9303.tif', 'F-9304.tif', 'F-9305.tif', 'F-9306.tif', 'F-9307.tif', 'F-9308.tif', 'F-9309.tif', 'F-9310.tif', 'F-9311.tif', 'F-9312.tif', 'F-9313.tif', 'F-9314.tif', 'F-9315.tif', 'F-9316.tif', 'F-9325.tif', 'F-9326.tif', 'F-9327.tif', 'F-9328.tif', 'F-9329.tif', 'F-9330.tif', 'F-9331.tif', 'F-9332.tif', 'F-9333.tif', 'F-9334.tif', 'F-9335.tif', 'F-9336.tif', 'F-9337.tif', 'F-9338.tif', 'F-9339.tif', 'F-9340.tif', 'F-9341.tif', 'F-9342.tif', 'F-9348.tif', 'F-9357.tif', 'F-9366.tif', 'F-9378.tif', 'F-9379.tif', 'F-9380.tif', 'F-9381.tif', 'F-9382.tif', 'F-9383.tif', 'F-9384.tif', 'F-9385.tif', 'F-9386.tif', 'F-9387.tif', 'F-9388.tif', 'F-9389.tif', 'F-9390.tif', 'F-9391.tif', 'F-9392.tif', 'F-9393.tif', 'F-9394.tif', 'F-9395.tif', 'F-9396.tif', 'F-9397.tif', 'F-9398.tif', 'F-9399.tif', 'F-9400.tif', 'F-9401.tif', 'F-9402.tif', 'F-9403.tif', 'F-9404.tif', 'F-9405.tif', 'F-9406.tif', 'F-9407.tif', 'F-9408.tif', 'F-9409.tif', 'F-9410.tif', 'F-9411.tif', 'F-9412.tif', 'F-9413.tif', 'F-9414.tif', 'F-9415.tif', 'F-9416.tif', 'F-9417.tif', 'F-9418.tif', 'F-9419.tif', 'F-9420.tif', 'F-9421.tif', 'F-9422.tif', 'F-9423.tif', 'F-9424.tif', 'F-9425.tif', 'F-9426.tif', 'F-9427.tif', 'F-9428.tif', 'F-9429.tif', 'F-9430.tif', 'F-9431.tif', 'F-9432.tif', 'F-9433.tif', 'F-9434.tif', 'F-9435.tif', 'F-9436.tif', 'F-9437.tif', 'F-9438.tif', 'F-9439.tif', 'F-9440.tif', 'F-9441.tif', 'F-9442.tif', 'F-9443.tif', 'F-9444.tif', 'F-9445.tif', 'F-9446.tif', 'F-9447.tif', 'F-9448.tif', 'F-9449.tif', 'F-9450.tif', 'F-9451.tif', 'F-9452.tif', 'F-9453.tif', 'F-9454.tif', 'F-9455.tif', 'F-9457.tif', 'F-9458.tif', 'F-9459.tif', 'F-9460.tif', 'F-9461.tif', 'F-9462.tif', 'F-9463.tif', 'F-9464.tif', 'F-9465.tif', 'F-9466.tif', 'F-9467.tif', 'F-9468.tif']\n"
     ]
    }
   ],
   "execution_count": 4
  },
  {
   "metadata": {
    "ExecuteTime": {
     "end_time": "2025-08-05T21:42:32.578759Z",
     "start_time": "2025-08-05T21:42:11.810735Z"
    }
   },
   "cell_type": "code",
   "source": [
    "# find tie-points between the images\n",
    "\n",
    "import src.base.find_overlapping_images_geom\n",
    "import src.base.find_tie_points as ftp\n",
    "\n",
    "# find overlapping images\n",
    "\n",
    "tpd = ftp.TiePointDetector(\"lightglue\", min_conf=0.9, catch=False, verbose=True, display=True)\n",
    "\n",
    "img1 = li.load_image(lst_image_pth[1])\n",
    "img2 = li.load_image(lst_image_pth[2])\n",
    "\n",
    "tps, conf = tpd.find_tie_points(img1, img2, mask1=mask, mask2=mask)\n",
    "\n",
    "\n",
    "print(tps.shape)\n",
    "\n",
    "di.display_images([img1, img2], tie_points=tps, tie_points_conf=conf)\n"
   ],
   "id": "4583676e4abc1923",
   "outputs": [
    {
     "name": "stdout",
     "output_type": "stream",
     "text": [
      "(0, 4)\n"
     ]
    }
   ],
   "execution_count": 5
  },
  {
   "metadata": {},
   "cell_type": "code",
   "source": "",
   "id": "79cc16e93c1b237e",
   "outputs": [],
   "execution_count": null
  }
 ],
 "metadata": {
  "kernelspec": {
   "display_name": "Python 3",
   "language": "python",
   "name": "python3"
  },
  "language_info": {
   "codemirror_mode": {
    "name": "ipython",
    "version": 2
   },
   "file_extension": ".py",
   "mimetype": "text/x-python",
   "name": "python",
   "nbconvert_exporter": "python",
   "pygments_lexer": "ipython2",
   "version": "2.7.6"
  }
 },
 "nbformat": 4,
 "nbformat_minor": 5
}
