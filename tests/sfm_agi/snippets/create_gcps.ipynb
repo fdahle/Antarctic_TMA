{
 "cells": [
  {
   "metadata": {
    "ExecuteTime": {
     "end_time": "2024-07-04T12:44:24.501019Z",
     "start_time": "2024-07-04T12:44:24.478465Z"
    }
   },
   "cell_type": "code",
   "source": [
    "%load_ext autoreload\n",
    "%autoreload 2"
   ],
   "id": "a3058dda2c32887d",
   "outputs": [],
   "execution_count": 1
  },
  {
   "metadata": {
    "ExecuteTime": {
     "end_time": "2024-07-04T13:53:33.235994Z",
     "start_time": "2024-07-04T13:53:32.414943Z"
    }
   },
   "cell_type": "code",
   "source": [
    "import src.load.load_image as li\n",
    "import src.base.resize_image as ri\n",
    "import src.base.connect_to_database as ctd\n",
    "from shapely import wkt\n",
    "\n",
    "# set the paths\n",
    "path_dem = \"/home/fdahle/Desktop/agi_test/output2/dem.tif\"\n",
    "path_ortho = \"/home/fdahle/Desktop/agi_test/output2/ortho.tif\"\n",
    "\n",
    "# set image ids\n",
    "image_ids = [\"CA184832V0146\", \"CA184832V0147\", \"CA184832V0148\", \"CA184832V0149\", \"CA184832V0150\"]\n",
    "\n",
    "# load data\n",
    "dem = li.load_image(path_dem)\n",
    "ortho = li.load_image(path_ortho)\n",
    "\n",
    "# resize ortho to same size as dem\n",
    "ortho = ri.resize_image(ortho, dem.shape)\n",
    "\n",
    "# load footprints\n",
    "conn = ctd.establish_connection()\n",
    "image_ids_str = \"','\".join(image_ids)\n",
    "sql_string = (f\"SELECT st_astext(footprint_exact) FROM images_georef \"\n",
    "              f\" WHERE image_id IN ('{image_ids_str}')\")\n",
    "data = ctd.execute_sql(sql_string, conn)\n",
    "footprints = data['st_astext'].tolist()\n",
    "footprints = [wkt.loads(footprint) for footprint in footprints]"
   ],
   "id": "initial_id",
   "outputs": [],
   "execution_count": 11
  },
  {
   "metadata": {
    "ExecuteTime": {
     "end_time": "2024-07-04T13:57:05.578956Z",
     "start_time": "2024-07-04T13:56:59.349431Z"
    }
   },
   "cell_type": "code",
   "source": [
    "import src.sfm_agi.snippets.create_gcps as cg\n",
    "\n",
    "print(dem.shape, ortho.shape)\n",
    "\n",
    "output_path = \"/home/fdahle/Desktop/agi_test/markers.csv\"\n",
    "\n",
    "cg.create_gcps(dem, ortho, footprints, output_path)"
   ],
   "id": "11759d0453fad42f",
   "outputs": [
    {
     "name": "stdout",
     "output_type": "stream",
     "text": [
      "(2243, 4073) (2243, 4073)\n",
      "(300, 2)\n",
      "       GCP             x              y\n",
      "0    gcp_1 -1.996584e+06  731511.935034\n",
      "1    gcp_2 -1.996359e+06  731348.054765\n",
      "2    gcp_3 -1.994796e+06  731172.460800\n",
      "3    gcp_4 -1.992668e+06  730652.427212\n",
      "4    gcp_5 -1.992384e+06  730245.869099\n",
      "..     ...           ...            ...\n",
      "86  gcp_87 -1.992257e+06  723597.030979\n",
      "87  gcp_88 -1.990835e+06  723496.364188\n",
      "88  gcp_89 -1.990082e+06  723238.485336\n",
      "89  gcp_90 -1.988088e+06  722508.301346\n",
      "90  gcp_91 -1.987623e+06  722675.173074\n",
      "\n",
      "[91 rows x 3 columns]\n"
     ]
    },
    {
     "name": "stderr",
     "output_type": "stream",
     "text": [
      "/home/fdahle/Documents/Github/Antarctic_TMA/src/dem/find_peaks_in_DEM.py:42: PeakPropertyWarning: some peaks have a prominence of 0\n",
      "  peak_prominences_vals, left_bases, right_bases = peak_prominences(dem.flatten(), peak_indices)\n"
     ]
    }
   ],
   "execution_count": 17
  },
  {
   "metadata": {},
   "cell_type": "code",
   "source": "",
   "id": "48dcc5875222c4dc",
   "outputs": [],
   "execution_count": null
  }
 ],
 "metadata": {
  "kernelspec": {
   "display_name": "Python 3",
   "language": "python",
   "name": "python3"
  },
  "language_info": {
   "codemirror_mode": {
    "name": "ipython",
    "version": 2
   },
   "file_extension": ".py",
   "mimetype": "text/x-python",
   "name": "python",
   "nbconvert_exporter": "python",
   "pygments_lexer": "ipython2",
   "version": "2.7.6"
  }
 },
 "nbformat": 4,
 "nbformat_minor": 5
}
