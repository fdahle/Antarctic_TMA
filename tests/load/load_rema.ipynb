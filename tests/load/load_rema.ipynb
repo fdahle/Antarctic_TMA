{
 "cells": [
  {
   "cell_type": "code",
   "id": "initial_id",
   "metadata": {
    "collapsed": true,
    "ExecuteTime": {
     "end_time": "2024-07-15T09:28:59.695968Z",
     "start_time": "2024-07-15T09:28:59.690126Z"
    }
   },
   "source": [
    "min_x = -1985547\n",
    "min_y = 766194\n",
    "max_x = -1968456\n",
    "max_y = 763546\n",
    "\n",
    "\n",
    "zoom_level = 2\n",
    "\n",
    "bounds = [min_x, min_y, max_x, max_y]"
   ],
   "outputs": [],
   "execution_count": 5
  },
  {
   "metadata": {
    "ExecuteTime": {
     "end_time": "2024-07-15T09:29:00.340510Z",
     "start_time": "2024-07-15T09:29:00.076314Z"
    }
   },
   "cell_type": "code",
   "source": [
    "import src.load.load_rema as lr\n",
    "\n",
    "dem, transform = lr.load_rema(bounds, zoom_level=zoom_level)\n",
    "\n",
    "print(transform)\n",
    "print(dem.shape)"
   ],
   "id": "ad871dd093e8d6a5",
   "outputs": [
    {
     "ename": "RasterioIOError",
     "evalue": "/data/ATM/data_1/DEM/REMA/mosaic/2m/38_11_2m.tif: No such file or directory",
     "output_type": "error",
     "traceback": [
      "\u001B[0;31m---------------------------------------------------------------------------\u001B[0m",
      "\u001B[0;31mCPLE_OpenFailedError\u001B[0m                      Traceback (most recent call last)",
      "File \u001B[0;32mrasterio/_base.pyx:310\u001B[0m, in \u001B[0;36mrasterio._base.DatasetBase.__init__\u001B[0;34m()\u001B[0m\n",
      "File \u001B[0;32mrasterio/_base.pyx:221\u001B[0m, in \u001B[0;36mrasterio._base.open_dataset\u001B[0;34m()\u001B[0m\n",
      "File \u001B[0;32mrasterio/_err.pyx:221\u001B[0m, in \u001B[0;36mrasterio._err.exc_wrap_pointer\u001B[0;34m()\u001B[0m\n",
      "\u001B[0;31mCPLE_OpenFailedError\u001B[0m: /data/ATM/data_1/DEM/REMA/mosaic/2m/38_11_2m.tif: No such file or directory",
      "\nDuring handling of the above exception, another exception occurred:\n",
      "\u001B[0;31mRasterioIOError\u001B[0m                           Traceback (most recent call last)",
      "Cell \u001B[0;32mIn[6], line 3\u001B[0m\n\u001B[1;32m      1\u001B[0m \u001B[38;5;28;01mimport\u001B[39;00m \u001B[38;5;21;01msrc\u001B[39;00m\u001B[38;5;21;01m.\u001B[39;00m\u001B[38;5;21;01mload\u001B[39;00m\u001B[38;5;21;01m.\u001B[39;00m\u001B[38;5;21;01mload_rema\u001B[39;00m \u001B[38;5;28;01mas\u001B[39;00m \u001B[38;5;21;01mlr\u001B[39;00m\n\u001B[0;32m----> 3\u001B[0m dem, transform \u001B[38;5;241m=\u001B[39m lr\u001B[38;5;241m.\u001B[39mload_rema(bounds, zoom_level\u001B[38;5;241m=\u001B[39mzoom_level)\n\u001B[1;32m      5\u001B[0m \u001B[38;5;28mprint\u001B[39m(transform)\n\u001B[1;32m      6\u001B[0m \u001B[38;5;28mprint\u001B[39m(dem\u001B[38;5;241m.\u001B[39mshape)\n",
      "File \u001B[0;32m~/Documents/GitHub/Antarctic_TMA/src/load/load_rema.py:78\u001B[0m, in \u001B[0;36mload_rema\u001B[0;34m(bounds, rema_shape_file, rema_folder, zoom_level, return_empty_rema)\u001B[0m\n\u001B[1;32m     75\u001B[0m # create the file path\n\u001B[1;32m     76\u001B[0m rema_tile_path = zoom_rema_folder + \"/\" + tile + \"_\" + str(zoom_level) + \"m.tif\"\n\u001B[0;32m---> 78\u001B[0m # open the image file\n\u001B[1;32m     79\u001B[0m src = rasterio.open(rema_tile_path)\n\u001B[1;32m     81\u001B[0m # add the file to the list\n",
      "File \u001B[0;32m~/miniconda3/envs/tma_env/lib/python3.12/site-packages/rasterio/env.py:451\u001B[0m, in \u001B[0;36mensure_env_with_credentials.<locals>.wrapper\u001B[0;34m(*args, **kwds)\u001B[0m\n\u001B[1;32m    448\u001B[0m     session \u001B[38;5;241m=\u001B[39m DummySession()\n\u001B[1;32m    450\u001B[0m \u001B[38;5;28;01mwith\u001B[39;00m env_ctor(session\u001B[38;5;241m=\u001B[39msession):\n\u001B[0;32m--> 451\u001B[0m     \u001B[38;5;28;01mreturn\u001B[39;00m f(\u001B[38;5;241m*\u001B[39margs, \u001B[38;5;241m*\u001B[39m\u001B[38;5;241m*\u001B[39mkwds)\n",
      "File \u001B[0;32m~/miniconda3/envs/tma_env/lib/python3.12/site-packages/rasterio/__init__.py:304\u001B[0m, in \u001B[0;36mopen\u001B[0;34m(fp, mode, driver, width, height, count, crs, transform, dtype, nodata, sharing, **kwargs)\u001B[0m\n\u001B[1;32m    301\u001B[0m path \u001B[38;5;241m=\u001B[39m _parse_path(raw_dataset_path)\n\u001B[1;32m    303\u001B[0m \u001B[38;5;28;01mif\u001B[39;00m mode \u001B[38;5;241m==\u001B[39m \u001B[38;5;124m\"\u001B[39m\u001B[38;5;124mr\u001B[39m\u001B[38;5;124m\"\u001B[39m:\n\u001B[0;32m--> 304\u001B[0m     dataset \u001B[38;5;241m=\u001B[39m DatasetReader(path, driver\u001B[38;5;241m=\u001B[39mdriver, sharing\u001B[38;5;241m=\u001B[39msharing, \u001B[38;5;241m*\u001B[39m\u001B[38;5;241m*\u001B[39mkwargs)\n\u001B[1;32m    305\u001B[0m \u001B[38;5;28;01melif\u001B[39;00m mode \u001B[38;5;241m==\u001B[39m \u001B[38;5;124m\"\u001B[39m\u001B[38;5;124mr+\u001B[39m\u001B[38;5;124m\"\u001B[39m:\n\u001B[1;32m    306\u001B[0m     dataset \u001B[38;5;241m=\u001B[39m get_writer_for_path(path, driver\u001B[38;5;241m=\u001B[39mdriver)(\n\u001B[1;32m    307\u001B[0m         path, mode, driver\u001B[38;5;241m=\u001B[39mdriver, sharing\u001B[38;5;241m=\u001B[39msharing, \u001B[38;5;241m*\u001B[39m\u001B[38;5;241m*\u001B[39mkwargs\n\u001B[1;32m    308\u001B[0m     )\n",
      "File \u001B[0;32mrasterio/_base.pyx:312\u001B[0m, in \u001B[0;36mrasterio._base.DatasetBase.__init__\u001B[0;34m()\u001B[0m\n",
      "\u001B[0;31mRasterioIOError\u001B[0m: /data/ATM/data_1/DEM/REMA/mosaic/2m/38_11_2m.tif: No such file or directory"
     ]
    }
   ],
   "execution_count": 6
  },
  {
   "metadata": {},
   "cell_type": "code",
   "outputs": [],
   "execution_count": null,
   "source": "",
   "id": "818af9755fb902f9"
  }
 ],
 "metadata": {
  "kernelspec": {
   "display_name": "Python 3",
   "language": "python",
   "name": "python3"
  },
  "language_info": {
   "codemirror_mode": {
    "name": "ipython",
    "version": 2
   },
   "file_extension": ".py",
   "mimetype": "text/x-python",
   "name": "python",
   "nbconvert_exporter": "python",
   "pygments_lexer": "ipython2",
   "version": "2.7.6"
  }
 },
 "nbformat": 4,
 "nbformat_minor": 5
}
