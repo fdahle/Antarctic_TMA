{
 "cells": [
  {
   "cell_type": "code",
   "execution_count": 1,
   "id": "initial_id",
   "metadata": {
    "collapsed": true
   },
   "outputs": [],
   "source": [
    "%load_ext autoreload\n",
    "%autoreload 2"
   ]
  },
  {
   "cell_type": "code",
   "outputs": [],
   "source": [
    "img_id = \"CA184632V0343\"\n",
    "overwrite = False\n",
    "\n",
    "output_fld = \"/data_1/ATM/data_1/georef\"\n"
   ],
   "metadata": {
    "collapsed": false
   },
   "id": "7e84610c883b7762",
   "execution_count": 2
  },
  {
   "cell_type": "markdown",
   "source": [
    "<h4>Check if the image is already geo-referenced</h4>\n"
   ],
   "metadata": {
    "collapsed": false
   }
  },
  {
   "cell_type": "code",
   "execution_count": 3,
   "outputs": [],
   "source": [
    "import pandas as pd\n",
    "\n",
    "# define the path to processed images\n",
    "csv_path = output_fld + \"/img_processed_images.csv\"\n",
    "\n",
    "# load processed images as dict\n",
    "processed_images = pd.read_csv(csv_path, delimiter=\";\")\n",
    "processed_images.set_index('id', inplace=True)\n",
    "processed_images = processed_images.to_dict(orient='index')\n",
    "\n",
    "# check if image is already geo-referenced\n",
    "if processed_images.get(img_id, {}).get('status') == \"georeferenced\" and not overwrite:\n",
    "    print(f\"{img_id} already processed\")\n",
    "    exit()"
   ],
   "metadata": {
    "collapsed": false
   }
  },
  {
   "cell_type": "markdown",
   "source": [
    "<h4>Find overlapping images</h4>"
   ],
   "metadata": {
    "collapsed": false
   }
  },
  {
   "cell_type": "code",
   "execution_count": 4,
   "outputs": [
    {
     "name": "stdout",
     "output_type": "stream",
     "text": [
      "1846 2142\n",
      "1846 1833\n",
      "1846 1817\n",
      "1846 1833\n",
      "1846 1821\n",
      "1846 1816\n",
      "1846 1816\n",
      "1846 1833\n",
      "1846 1833\n",
      "1846 1821\n",
      "1846 1817\n",
      "1846 1833\n",
      "1846 1833\n",
      "1846 1745\n",
      "1846 1833\n",
      "1846 1846\n",
      "1846 2142\n",
      "1846 1846\n",
      "1846 2141\n",
      "1846 2124\n",
      "1846 1833\n",
      "1846 1816\n",
      "1846 1846\n",
      "1846 2142\n",
      "1846 2124\n",
      "1846 1822\n",
      "1846 1843\n",
      "1846 1817\n",
      "1846 1833\n",
      "1846 1833\n",
      "1846 1818\n",
      "1846 1818\n",
      "1846 1818\n",
      "1846 1833\n",
      "1846 1818\n",
      "1846 1812\n",
      "1846 1821\n",
      "1846 1833\n",
      "1846 2142\n",
      "1846 1821\n",
      "1846 1818\n",
      "1846 1816\n",
      "1846 1821\n",
      "1846 1821\n",
      "1846 1821\n",
      "1846 1833\n",
      "1846 1833\n",
      "1846 1817\n",
      "1846 2073\n",
      "1846 1812\n",
      "1846 1833\n",
      "1846 2142\n",
      "1846 1825\n",
      "1846 1812\n",
      "1846 1843\n",
      "1846 1816\n",
      "1846 1821\n",
      "1846 2142\n",
      "1846 1846\n",
      "1846 1846\n",
      "1846 2142\n",
      "1846 2142\n",
      "1846 1821\n",
      "1846 1644\n",
      "1846 2142\n",
      "1846 2142\n",
      "1846 1821\n",
      "1846 1848\n",
      "1846 2141\n",
      "1846 1846\n",
      "1846 1833\n",
      "1846 1813\n",
      "1846 1846\n",
      "1846 1833\n",
      "1846 1833\n",
      "1846 2142\n",
      "1846 1833\n",
      "1846 2167\n",
      "1846 1812\n",
      "1846 1816\n",
      "1846 2142\n",
      "1846 1821\n",
      "1846 1812\n",
      "1846 1833\n",
      "1846 1816\n",
      "1846 1833\n",
      "1846 1833\n",
      "1846 1821\n",
      "1846 1821\n",
      "1846 1966\n",
      "1846 2147\n",
      "1846 1821\n",
      "1846 1813\n",
      "1846 2141\n",
      "1846 1813\n",
      "1846 1821\n",
      "1846 1833\n",
      "1846 1833\n",
      "1846 1644\n",
      "1846 2141\n",
      "1846 1825\n",
      "1846 1833\n",
      "1846 1816\n",
      "1846 1817\n",
      "1846 1821\n",
      "1846 1833\n",
      "1846 1833\n",
      "1846 1816\n",
      "1846 2123\n",
      "1846 1816\n",
      "1846 1817\n",
      "1846 2142\n",
      "1846 1833\n",
      "1846 2141\n",
      "1846 1833\n",
      "1846 1812\n",
      "1846 1966\n",
      "1846 1824\n",
      "1846 1821\n",
      "1846 1801\n",
      "1846 1833\n",
      "1846 1816\n",
      "1846 2142\n",
      "1846 1812\n",
      "1846 1846\n",
      "1846 2142\n",
      "1846 2141\n",
      "1846 1821\n",
      "1846 1817\n",
      "1846 1833\n",
      "1846 2121\n",
      "1846 1821\n",
      "1846 1823\n",
      "1846 1644\n",
      "1846 1824\n",
      "1846 1812\n",
      "1846 1833\n",
      "1846 2164\n",
      "1846 1816\n",
      "1846 1812\n",
      "1846 1812\n",
      "1846 1817\n",
      "1846 2147\n",
      "1846 1835\n",
      "1846 1833\n",
      "1846 1833\n",
      "1846 1818\n",
      "1846 1818\n",
      "1846 1818\n",
      "1846 1833\n",
      "1846 1801\n",
      "1846 2142\n",
      "1846 1644\n",
      "1846 1816\n",
      "1846 1846\n",
      "1846 2142\n",
      "1846 1846\n",
      "1846 1644\n",
      "1846 1817\n",
      "1846 1812\n",
      "1846 1833\n",
      "1846 1818\n",
      "1846 1818\n",
      "1846 1821\n",
      "1846 1833\n",
      "1846 2123\n",
      "1846 1817\n",
      "1846 1833\n",
      "1846 1812\n",
      "1846 1833\n",
      "1846 2141\n",
      "1846 1746\n",
      "1846 1833\n",
      "1846 1818\n",
      "1846 1824\n",
      "1846 2123\n",
      "1846 1833\n",
      "1846 2141\n",
      "1846 1821\n",
      "1846 1821\n",
      "1846 1801\n",
      "1846 1812\n",
      "1846 1816\n",
      "1846 1816\n",
      "1846 1833\n",
      "1846 1821\n",
      "1846 1813\n",
      "1846 2124\n",
      "1846 2164\n",
      "1846 1818\n",
      "1846 1833\n",
      "1846 1817\n",
      "1846 1833\n",
      "1846 1812\n",
      "1846 1812\n",
      "1846 1821\n",
      "1846 1818\n",
      "1846 1746\n",
      "1846 2142\n",
      "1846 2142\n",
      "1846 1833\n",
      "1846 2163\n",
      "1846 1818\n",
      "1846 2142\n",
      "1846 1833\n",
      "1846 1833\n",
      "1846 2124\n",
      "1846 1821\n",
      "1846 2124\n",
      "1846 1822\n",
      "1846 1833\n",
      "1846 1817\n",
      "1846 1846\n",
      "1846 1833\n",
      "1846 1817\n",
      "1846 1833\n",
      "1846 1813\n",
      "1846 1818\n",
      "1846 1833\n",
      "1846 1824\n",
      "1846 1644\n",
      "1846 1968\n",
      "1846 1833\n",
      "1846 1812\n",
      "1846 2164\n",
      "1846 1833\n",
      "1846 1821\n",
      "{'CA184632V0343': ['CA184632V0342', 'CA184632V0341']}\n"
     ]
    }
   ],
   "source": [
    "import os\n",
    "import glob\n",
    "import src.base.find_overlapping_images as foi\n",
    "\n",
    "# define path to the already geo-referenced images\n",
    "path_satellite_fld = \"/data_1/ATM/data_1/georef/sat\"\n",
    "\n",
    "# get the filenames of all tiffs in this folder\n",
    "# List all .tif files in the folder\n",
    "tif_files = glob.glob(os.path.join(path_satellite_fld, '*.tif'))\n",
    "tif_files = [os.path.splitext(os.path.basename(file))[0] for file in tif_files]\n",
    "\n",
    "# add the image_id to the list of tif_files\n",
    "tif_files.append(img_id)\n",
    "\n",
    "# find overlapping images for the image to geo-reference just based on the image id\n",
    "overlapping_images = foi.find_overlapping_images(tif_files, working_modes=[\"ids\"], important_id=img_id)\n",
    "\n",
    "print(overlapping_images)"
   ],
   "metadata": {
    "collapsed": false
   }
  },
  {
   "cell_type": "markdown",
   "source": [
    "<h4>Load the images</h4>"
   ],
   "metadata": {
    "collapsed": false
   }
  },
  {
   "cell_type": "code",
   "execution_count": 6,
   "outputs": [],
   "source": [
    "import src.load.load_image as ld\n",
    "\n",
    "# load image to geo-reference\n",
    "image = ld.load_image(img_id)\n",
    "\n",
    "# list of already geo-referenced images\n",
    "georeferenced_images = []\n",
    "\n",
    "# iterate through overlapping images\n",
    "for g_img_id in overlapping_images[img_id]:\n",
    "\n",
    "    # load the geo-referenced image\n",
    "    georef_img = ld.load_image(g_img_id)\n",
    "    georeferenced_images.append(georef_img)"
   ],
   "metadata": {
    "collapsed": false
   }
  },
  {
   "cell_type": "markdown",
   "source": [
    "<h4>Load the transforms</h4>"
   ],
   "metadata": {
    "collapsed": false
   }
  },
  {
   "cell_type": "code",
   "execution_count": null,
   "outputs": [],
   "source": [
    "import src.load.load_transform as lt"
   ],
   "metadata": {
    "collapsed": false
   }
  },
  {
   "cell_type": "markdown",
   "source": [
    "<h4>Create masks</h4>"
   ],
   "metadata": {
    "collapsed": false
   }
  },
  {
   "cell_type": "code",
   "outputs": [],
   "source": [
    "import src.base.connect_to_database as ctd\n",
    "import src.base.create_mask as cm\n",
    "\n",
    "conn = ctd.establish_connection()\n",
    "\n",
    "sql_string_fid_marks = f\"SELECT * FROM images_fid_points WHERE image_id='{img_id}'\"\n",
    "data_fid_marks = ctd.execute_sql(sql_string_fid_marks, conn)\n",
    "\n",
    "ids = [img_id] + overlapping_images[img_id]\n",
    "\n",
    "georeferenced_masks = []\n",
    "\n",
    "for i, _id in reversed(list(enumerate(ids))):\n",
    "\n",
    "    sql_string_fid_marks = f\"SELECT * FROM images_fid_points WHERE image_id='{_id}'\"\n",
    "    data_fid_marks = ctd.execute_sql(sql_string_fid_marks, conn)\n",
    "\n",
    "    sql_string_extracted = f\"SELECT * FROM images_extracted WHERE image_id='{_id}'\"\n",
    "    data_extracted = ctd.execute_sql(sql_string_extracted, conn)\n",
    "\n",
    "    # Get the fid marks for the specific image_id\n",
    "    fid_marks_row = data_fid_marks.loc[data_fid_marks['image_id'] == _id].squeeze()\n",
    "\n",
    "    # Create fid mark dict using dictionary comprehension\n",
    "    fid_dict = {i: (fid_marks_row[f'fid_mark_{i}_x'], fid_marks_row[f'fid_mark_{i}_y']) for i in range(1, 5)}\n",
    "\n",
    "    # get the text boxes of the image\n",
    "    text_string = data_extracted.loc[data_extracted['image_id'] == _id]['text_bbox'].iloc[0]\n",
    "\n",
    "    if len(text_string) > 0 and \"[\" not in text_string:\n",
    "        text_string = \"[\" + text_string + \"]\"\n",
    "\n",
    "    # create text-boxes list\n",
    "    text_boxes = [list(group) for group in eval(text_string.replace(\";\", \",\"))]\n",
    "\n",
    "    # load the mask\n",
    "    mask = cm.create_mask(image, fid_dict, text_boxes)\n",
    "\n",
    "    if i > 0:\n",
    "        georeferenced_masks.append(mask)"
   ],
   "metadata": {
    "collapsed": false
   },
   "id": "3ab2a2cf2d829b71",
   "execution_count": 10
  },
  {
   "cell_type": "code",
   "outputs": [],
   "source": [
    "import src.georef.georef_img as gi\n",
    "\n",
    "georefImg = gi.GeorefImage(enhance_image=True, enhance_georef_images=True)\n",
    "\n",
    "georefImg.georeference(image, georeferenced_images, georeferenced_transforms,\n",
    "                       mask=mask, georeferenced_masks=georeferenced_masks)\n"
   ],
   "metadata": {
    "collapsed": false
   },
   "id": "b86c1f9ebeac96b8"
  }
 ],
 "metadata": {
  "kernelspec": {
   "display_name": "Python 3",
   "language": "python",
   "name": "python3"
  },
  "language_info": {
   "codemirror_mode": {
    "name": "ipython",
    "version": 2
   },
   "file_extension": ".py",
   "mimetype": "text/x-python",
   "name": "python",
   "nbconvert_exporter": "python",
   "pygments_lexer": "ipython2",
   "version": "2.7.6"
  }
 },
 "nbformat": 4,
 "nbformat_minor": 5
}
