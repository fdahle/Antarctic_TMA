{
 "cells": [
  {
   "cell_type": "code",
   "outputs": [],
   "source": [
    "%load_ext autoreload\n",
    "%autoreload 2"
   ],
   "metadata": {
    "collapsed": false,
    "ExecuteTime": {
     "end_time": "2024-02-22T12:12:54.409147100Z",
     "start_time": "2024-02-22T12:12:54.383222400Z"
    }
   },
   "id": "3bed8b3622142887",
   "execution_count": 1
  },
  {
   "cell_type": "code",
   "outputs": [],
   "source": [
    "project_name = \"Test_with_class\"\n",
    "project_fld = \"\""
   ],
   "metadata": {
    "collapsed": false,
    "ExecuteTime": {
     "end_time": "2024-02-22T12:12:55.240540Z",
     "start_time": "2024-02-22T12:12:54.864773Z"
    }
   },
   "id": "b0e3763e5242345c",
   "execution_count": 2
  },
  {
   "cell_type": "code",
   "execution_count": 5,
   "id": "initial_id",
   "metadata": {
    "collapsed": true,
    "ExecuteTime": {
     "end_time": "2024-02-22T12:13:34.447507Z",
     "start_time": "2024-02-22T12:13:34.391540500Z"
    }
   },
   "outputs": [
    {
     "ename": "Exception",
     "evalue": "Path to project folder is invalid",
     "output_type": "error",
     "traceback": [
      "\u001B[1;31m---------------------------------------------------------------------------\u001B[0m",
      "\u001B[1;31mException\u001B[0m                                 Traceback (most recent call last)",
      "Cell \u001B[1;32mIn[5], line 4\u001B[0m\n\u001B[0;32m      1\u001B[0m \u001B[38;5;28;01mimport\u001B[39;00m \u001B[38;5;21;01msrc\u001B[39;00m\u001B[38;5;21;01m.\u001B[39;00m\u001B[38;5;21;01msfm\u001B[39;00m\u001B[38;5;21;01m.\u001B[39;00m\u001B[38;5;21;01mSFMProject\u001B[39;00m \u001B[38;5;28;01mas\u001B[39;00m \u001B[38;5;21;01mSFMProject\u001B[39;00m\n\u001B[0;32m      3\u001B[0m \u001B[38;5;66;03m# init the classe\u001B[39;00m\n\u001B[1;32m----> 4\u001B[0m sfm \u001B[38;5;241m=\u001B[39m \u001B[43mSFMProject\u001B[49m\u001B[38;5;241;43m.\u001B[39;49m\u001B[43mSFMProject\u001B[49m\u001B[43m(\u001B[49m\u001B[43mproject_name\u001B[49m\u001B[43m,\u001B[49m\u001B[43m \u001B[49m\u001B[43mproject_fld\u001B[49m\u001B[43m)\u001B[49m\n",
      "File \u001B[1;32m~\\Documents\\GitHub\\Antarctic_TMA\\src\\sfm\\SFMProject.py:40\u001B[0m, in \u001B[0;36mSFMProject.__init__\u001B[1;34m(self, project_name, fld, resume, overwrite)\u001B[0m\n\u001B[0;32m     38\u001B[0m     \u001B[38;5;28;01mraise\u001B[39;00m \u001B[38;5;167;01mException\u001B[39;00m(\u001B[38;5;124m\"\u001B[39m\u001B[38;5;124mProject name cannot be empty\u001B[39m\u001B[38;5;124m\"\u001B[39m)\n\u001B[0;32m     39\u001B[0m \u001B[38;5;28;01mif\u001B[39;00m os\u001B[38;5;241m.\u001B[39mpath\u001B[38;5;241m.\u001B[39misdir(fld) \u001B[38;5;129;01mis\u001B[39;00m \u001B[38;5;28;01mFalse\u001B[39;00m:\n\u001B[1;32m---> 40\u001B[0m     \u001B[38;5;28;01mraise\u001B[39;00m \u001B[38;5;167;01mException\u001B[39;00m(\u001B[38;5;124m\"\u001B[39m\u001B[38;5;124mPath to project folder is invalid\u001B[39m\u001B[38;5;124m\"\u001B[39m)\n\u001B[0;32m     42\u001B[0m \u001B[38;5;66;03m# check resume and overwrite\u001B[39;00m\n\u001B[0;32m     43\u001B[0m \u001B[38;5;28;01mif\u001B[39;00m resume \u001B[38;5;129;01mand\u001B[39;00m overwrite:\n",
      "\u001B[1;31mException\u001B[0m: Path to project folder is invalid"
     ]
    }
   ],
   "source": [
    "import src.sfm.SFMProject as SFMProject\n",
    "\n",
    "# init the classe\n",
    "sfm = SFMProject.SFMProject(project_name, project_fld)"
   ]
  },
  {
   "cell_type": "markdown",
   "source": [],
   "metadata": {
    "collapsed": false
   },
   "id": "c5f89fed30099bad"
  }
 ],
 "metadata": {
  "kernelspec": {
   "display_name": "Python 3",
   "language": "python",
   "name": "python3"
  },
  "language_info": {
   "codemirror_mode": {
    "name": "ipython",
    "version": 2
   },
   "file_extension": ".py",
   "mimetype": "text/x-python",
   "name": "python",
   "nbconvert_exporter": "python",
   "pygments_lexer": "ipython2",
   "version": "2.7.6"
  }
 },
 "nbformat": 4,
 "nbformat_minor": 5
}
