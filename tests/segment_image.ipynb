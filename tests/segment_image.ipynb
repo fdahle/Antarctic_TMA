{
 "cells": [
  {
   "cell_type": "code",
   "id": "initial_id",
   "metadata": {
    "collapsed": true,
    "ExecuteTime": {
     "end_time": "2024-07-25T09:08:47.449212Z",
     "start_time": "2024-07-25T09:08:47.420934Z"
    }
   },
   "source": [
    "%load_ext autoreload\n",
    "%autoreload 2"
   ],
   "outputs": [
    {
     "name": "stdout",
     "output_type": "stream",
     "text": [
      "The autoreload extension is already loaded. To reload it, use:\n",
      "  %reload_ext autoreload\n"
     ]
    }
   ],
   "execution_count": 25
  },
  {
   "metadata": {
    "ExecuteTime": {
     "end_time": "2024-07-25T09:09:05.588903Z",
     "start_time": "2024-07-25T09:09:04.941282Z"
    }
   },
   "cell_type": "code",
   "source": [
    "import src.load.load_image as li\n",
    "import src.base.resize_image as ri\n",
    "\n",
    "image_id = 'CA180132V0094'\n",
    "\n",
    "img = li.load_image(image_id)\n",
    "img = ri.resize_image(img, (2400,2400))"
   ],
   "id": "651a9cd55195362d",
   "outputs": [],
   "execution_count": 30
  },
  {
   "metadata": {
    "ExecuteTime": {
     "end_time": "2024-07-25T09:18:54.581953Z",
     "start_time": "2024-07-25T09:18:48.525053Z"
    }
   },
   "cell_type": "code",
   "source": [
    "import numpy as np\n",
    "import src.segment.segment_image as si\n",
    "\n",
    "probabilities = si.segment_image(img)\n",
    "\n",
    "# per pixel the class with the highest prob\n",
    "pred = np.argmax(probabilities, axis=0)\n",
    "\n",
    "# pred to u int 8 to save some memory\n",
    "pred = pred.astype(np.uint8)\n",
    "\n",
    "# add 1 to make the classes start at 1\n",
    "pred = pred + 1\n",
    "\n",
    "import src.display.display_images as di\n",
    "di.display_images([pred], image_types=['segmented'])\n"
   ],
   "id": "dda0002c5cfd3761",
   "outputs": [],
   "execution_count": 40
  },
  {
   "metadata": {},
   "cell_type": "code",
   "source": "",
   "id": "99d5270d8cab3808",
   "outputs": [],
   "execution_count": null
  }
 ],
 "metadata": {
  "kernelspec": {
   "display_name": "Python 3",
   "language": "python",
   "name": "python3"
  },
  "language_info": {
   "codemirror_mode": {
    "name": "ipython",
    "version": 2
   },
   "file_extension": ".py",
   "mimetype": "text/x-python",
   "name": "python",
   "nbconvert_exporter": "python",
   "pygments_lexer": "ipython2",
   "version": "2.7.6"
  }
 },
 "nbformat": 4,
 "nbformat_minor": 5
}
