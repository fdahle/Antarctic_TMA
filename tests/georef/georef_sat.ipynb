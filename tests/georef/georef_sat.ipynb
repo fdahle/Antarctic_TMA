{
 "cells": [
  {
   "cell_type": "code",
   "execution_count": 2,
   "outputs": [
    {
     "name": "stdout",
     "output_type": "stream",
     "text": [
      "The autoreload extension is already loaded. To reload it, use:\n",
      "  %reload_ext autoreload\n"
     ]
    }
   ],
   "source": [
    "import numpy as np\n",
    "%load_ext autoreload\n",
    "%autoreload 2"
   ],
   "metadata": {
    "collapsed": false
   }
  },
  {
   "cell_type": "code",
   "execution_count": 109,
   "id": "initial_id",
   "metadata": {
    "collapsed": true
   },
   "outputs": [],
   "source": [
    "img_id = \"CA184632V0340\""
   ]
  },
  {
   "cell_type": "code",
   "outputs": [
    {
     "name": "stdout",
     "output_type": "stream",
     "text": [
      "(9522, 10140)\n"
     ]
    }
   ],
   "source": [
    "import src.load.load_image as ld\n",
    "\n",
    "#path_data_fld = \"C:/Users/Felix/Documents/GitHub/Antarctic_TMA/data\"\n",
    "path_data_fld = \"/data_1/ATM/data_1/aerial/TMA/downloaded\"\n",
    "\n",
    "# load image to geo-reference\n",
    "image = ld.load_image(path_data_fld + f\"/{img_id}.tif\")\n",
    "\n",
    "print(image.shape)"
   ],
   "metadata": {
    "collapsed": false
   },
   "id": "9b318989a3fd394d",
   "execution_count": 110
  },
  {
   "cell_type": "code",
   "outputs": [
    {
     "name": "stdout",
     "output_type": "stream",
     "text": [
      "338.8565 12\n",
      "POLYGON((-1922134.7450523146 748024.2434102389,-1925221.0565897613 740043.9250523145,-1933201.3749476855 743130.2365897611,-1930115.0634102388 751110.5549476855,-1922134.7450523146 748024.2434102389))\n"
     ]
    }
   ],
   "source": [
    "import src.base.connect_to_database as ctd\n",
    "\n",
    "sql_string = f\"SELECT * FROM images WHERE image_id='{img_id}'\"\n",
    "conn = ctd.establish_connection()\n",
    "data = ctd.execute_sql(sql_string, conn)\n",
    "\n",
    "azimuth = data.iloc[0]['azimuth']\n",
    "month = data.iloc[0]['date_month']\n",
    "\n",
    "azimuth = 360 - azimuth + 90\n",
    "\n",
    "print(azimuth, month)\n",
    "\n",
    "sql_string_approx = f\"SELECT ST_AsText(footprint_approx) AS footprint_approx FROM images_extracted WHERE image_id='{img_id}'\"\n",
    "data_approx = ctd.execute_sql(sql_string_approx, conn)\n",
    "footprint_approx = data_approx.iloc[0]['footprint_approx']\n",
    "print(footprint_approx)"
   ],
   "metadata": {
    "collapsed": false
   },
   "id": "937eb40f9717a45e",
   "execution_count": 111
  },
  {
   "cell_type": "code",
   "execution_count": 112,
   "outputs": [],
   "source": [
    "mask = np.ones_like(image)\n",
    "pad_width = 500\n",
    "\n",
    "mask[:pad_width, :] = 0  # Top edge\n",
    "mask[-pad_width:, :] = 0  # Bottom edge\n",
    "mask[:, :pad_width] = 0  # Left edge\n",
    "mask[:, -pad_width:] = 0  # Right edge"
   ],
   "metadata": {
    "collapsed": false
   }
  },
  {
   "cell_type": "code",
   "execution_count": 114,
   "outputs": [
    {
     "name": "stdout",
     "output_type": "stream",
     "text": [
      "Geo-reference image by satellite\n",
      "Adjusted image resolution with zoom-factor (0.0884, 0.0859)\n",
      "Adjusted image resolution with zoom-factor (0.0884, 0.0859)\n",
      "Locate image position\n",
      "  Check tile 1 (Coords: [0, -7386], Order 1)\n",
      "  0 points were found in this tile.\n",
      "  Check tile 2 (Coords: [0, 7386], Order 1)\n",
      "  21 points were found in this tile.\n",
      "  Check tile 3 (Coords: [0, -14772], Order 2)\n",
      "  0 points were found in this tile.\n",
      "  Check tile 4 (Coords: [0, 14772], Order 2)\n",
      "  0 points were found in this tile.\n",
      "Best tile is [0, 7386] with 21 tie-points (0.226)\n",
      "Tweak image position\n",
      "  Tweak image (1/10) with (773, -59)\n",
      "  7 points found in tweak 1 of 10\n",
      "  Points going down (7 < 21)\n",
      "  Tweak image (2/10) with (-1250, -892)\n",
      "  14 points found in tweak 2 of 10\n",
      "  Points going down (14 < 21)\n",
      "  Break the loop\n",
      "Tweaking finished with 21 tie-points\n",
      "9 outliers removed with RANSAC\n"
     ]
    }
   ],
   "source": [
    "import src.georef.georef_sat as gs\n",
    "\n",
    "georefSat = gs.GeorefSatellite(min_tps_final=25,\n",
    "                               enhance_image=True, locate_image=True, tweak_image=True,filter_outliers=True)\n",
    "\n",
    "transform, residuals, tps, conf =  georefSat.georeference(image, footprint_approx, mask, azimuth, month)\n"
   ],
   "metadata": {
    "collapsed": false
   }
  },
  {
   "cell_type": "code",
   "execution_count": 115,
   "outputs": [],
   "source": [
    "import src.georef.apply_transform as af\n",
    "import src.export.export_shape as es\n",
    "\n",
    "af.apply_transform(image, transform, f\"/data_1/ATM/temp/{img_id}_georeferenced.tif\")"
   ],
   "metadata": {
    "collapsed": false
   }
  },
  {
   "cell_type": "code",
   "execution_count": null,
   "outputs": [],
   "source": [],
   "metadata": {
    "collapsed": false
   }
  }
 ],
 "metadata": {
  "kernelspec": {
   "display_name": "Python 3",
   "language": "python",
   "name": "python3"
  },
  "language_info": {
   "codemirror_mode": {
    "name": "ipython",
    "version": 2
   },
   "file_extension": ".py",
   "mimetype": "text/x-python",
   "name": "python",
   "nbconvert_exporter": "python",
   "pygments_lexer": "ipython2",
   "version": "2.7.6"
  }
 },
 "nbformat": 4,
 "nbformat_minor": 5
}
