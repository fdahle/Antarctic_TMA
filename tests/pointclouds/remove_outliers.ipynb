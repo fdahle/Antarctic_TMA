{
 "cells": [
  {
   "cell_type": "code",
   "execution_count": 1,
   "metadata": {
    "collapsed": true
   },
   "outputs": [],
   "source": [
    "%load_ext autoreload\n",
    "%autoreload 2"
   ]
  },
  {
   "cell_type": "code",
   "execution_count": 2,
   "outputs": [],
   "source": [
    "input_path_pointcloud = '/home/fdahle/Desktop/pointclouds/AperiCloud_Final__mini.ply'\n",
    "output_path_pointcloud = '/home/fdahle/Desktop/pointclouds/AperiCloud_Final_small.ply'"
   ],
   "metadata": {
    "collapsed": false
   }
  },
  {
   "cell_type": "code",
   "execution_count": 4,
   "outputs": [
    {
     "name": "stdout",
     "output_type": "stream",
     "text": [
      "PointCloud with 18983 points.\n",
      "Showing cleaned point cloud\n",
      "PointCloud with 18977 points.\n"
     ]
    }
   ],
   "source": [
    "import src.export.export_pointcloud as ep\n",
    "import src.load.load_pointcloud as lp\n",
    "import src.pointclouds.remove_outliers as ro\n",
    "\n",
    "# load pointcloud\n",
    "pointcloud = lp.load_pointcloud(input_path_pointcloud)\n",
    "\n",
    "print(pointcloud)\n",
    "\n",
    "# remove outliers\n",
    "pointcloud = ro.remove_outliers(pointcloud)\n",
    "\n",
    "print(pointcloud)\n",
    "\n",
    "# save pointcloud\n",
    "ep.export_pointcloud(pointcloud, output_path_pointcloud)"
   ],
   "metadata": {
    "collapsed": false
   }
  },
  {
   "cell_type": "code",
   "execution_count": null,
   "outputs": [],
   "source": [],
   "metadata": {
    "collapsed": false
   }
  }
 ],
 "metadata": {
  "kernelspec": {
   "display_name": "Python 3",
   "language": "python",
   "name": "python3"
  },
  "language_info": {
   "codemirror_mode": {
    "name": "ipython",
    "version": 2
   },
   "file_extension": ".py",
   "mimetype": "text/x-python",
   "name": "python",
   "nbconvert_exporter": "python",
   "pygments_lexer": "ipython2",
   "version": "2.7.6"
  }
 },
 "nbformat": 4,
 "nbformat_minor": 0
}
